{
  "nbformat": 4,
  "nbformat_minor": 0,
  "metadata": {
    "colab": {
      "name": "DS Lab 6.ipynb",
      "provenance": [],
      "collapsed_sections": [
        "nWc1OkJMOOpL"
      ],
      "include_colab_link": true
    },
    "kernelspec": {
      "name": "ir",
      "display_name": "R"
    }
  },
  "cells": [
    {
      "cell_type": "markdown",
      "metadata": {
        "id": "view-in-github",
        "colab_type": "text"
      },
      "source": [
        "<a href=\"https://colab.research.google.com/github/Jin0331/TA/blob/master/DS_Lab_6.ipynb\" target=\"_parent\"><img src=\"https://colab.research.google.com/assets/colab-badge.svg\" alt=\"Open In Colab\"/></a>"
      ]
    },
    {
      "cell_type": "markdown",
      "metadata": {
        "id": "NqwIc2xhQqLu",
        "colab_type": "text"
      },
      "source": [
        "# *6주차 실습*\n",
        "\n",
        "- - -\n",
        "\n",
        "## ``dpylr`` library (1)"
      ]
    },
    {
      "cell_type": "markdown",
      "metadata": {
        "id": "08l5SO7QQyf_",
        "colab_type": "text"
      },
      "source": [
        "## 1. tibble\n"
      ]
    },
    {
      "cell_type": "markdown",
      "metadata": {
        "id": "YiA_bPzETLrz",
        "colab_type": "text"
      },
      "source": [
        "* Tibbles은 data.frame을 현대적으로 재구성한 것으로 ``Simple Data Frames``이라고 생각할 수 있다. \n",
        "\n",
        "* Tibbles은 data.frame을 만드는 좋은 방법이며, ``데이터를 간략하게 표현이 가능하여 대용량 데이터 세트를 다루는데 보다 용이``\n",
        "\n",
        "* data.frame의 문자로 구성된 변수가 factor요인으로 인식되는 경우를 종종 볼 수 있다. ``Tibbles은 이 점을 보완하여 입력의 유형이 변경되지 않아 chracter변수를 이용하는데 보다 편함.``\n"
      ]
    },
    {
      "cell_type": "markdown",
      "metadata": {
        "id": "U_x0UJyUJEsd",
        "colab_type": "text"
      },
      "source": [
        "* tibble 공식 소개글 \n",
        "\n",
        "``Tibbles are data frames``, but they tweak some older behaviours to make life a little easier. R is an old language, and some things that were useful 10 or 20 years ago now get in your way. It’s difficult to change base R without breaking existing code, so most innovation occurs in packages. Here we will describe the tibble package, which provides opinionated data frames that make working in the tidyverse a little easier. In most places, I’ll use the term tibble and data frame interchangeably; when I want to draw particular attention to R’s built-in data frame, I’ll call them data.frames.\n",
        "\n",
        "``you might enjoy vignette(\"tibble\").``"
      ]
    },
    {
      "cell_type": "code",
      "metadata": {
        "id": "j3UYjfSYRyei",
        "colab_type": "code",
        "colab": {}
      },
      "source": [
        "# In this chapter we’ll explore the tibble package, part of the core tidyverse.\n",
        "#install.package(\"tidyverse\")\n",
        "library(tidyverse)"
      ],
      "execution_count": null,
      "outputs": []
    },
    {
      "cell_type": "markdown",
      "metadata": {
        "id": "4VIEICldMfwi",
        "colab_type": "text"
      },
      "source": [
        "### Creating tibbles"
      ]
    },
    {
      "cell_type": "code",
      "metadata": {
        "id": "VJYHw4hURXFB",
        "colab_type": "code",
        "colab": {
          "base_uri": "https://localhost:8080/",
          "height": 51
        },
        "outputId": "1c7e4422-2756-4a25-ae7b-3176c0710806"
      },
      "source": [
        "# Most other R packages use regular data frames, so you might want to coerce a data frame to a tibble. You can do that with as_tibble():\n",
        "class(as_tibble(iris))\n",
        "class(iris)"
      ],
      "execution_count": null,
      "outputs": [
        {
          "output_type": "display_data",
          "data": {
            "text/plain": [
              "[1] \"tbl_df\"     \"tbl\"        \"data.frame\""
            ],
            "text/latex": "\\begin{enumerate*}\n\\item 'tbl\\_df'\n\\item 'tbl'\n\\item 'data.frame'\n\\end{enumerate*}\n",
            "text/markdown": "1. 'tbl_df'\n2. 'tbl'\n3. 'data.frame'\n\n\n",
            "text/html": [
              "<style>\n",
              ".list-inline {list-style: none; margin:0; padding: 0}\n",
              ".list-inline>li {display: inline-block}\n",
              ".list-inline>li:not(:last-child)::after {content: \"\\00b7\"; padding: 0 .5ex}\n",
              "</style>\n",
              "<ol class=list-inline><li>'tbl_df'</li><li>'tbl'</li><li>'data.frame'</li></ol>\n"
            ]
          },
          "metadata": {
            "tags": []
          }
        },
        {
          "output_type": "display_data",
          "data": {
            "text/plain": [
              "[1] \"data.frame\""
            ],
            "text/latex": "'data.frame'",
            "text/markdown": "'data.frame'",
            "text/html": [
              "'data.frame'"
            ]
          },
          "metadata": {
            "tags": []
          }
        }
      ]
    },
    {
      "cell_type": "code",
      "metadata": {
        "id": "0PpXVXwqMuPI",
        "colab_type": "code",
        "colab": {}
      },
      "source": [
        "tibble(\n",
        "  x = 1:5, \n",
        "  y = 1, \n",
        "  z = x ^ 2 + y\n",
        ")"
      ],
      "execution_count": null,
      "outputs": []
    },
    {
      "cell_type": "code",
      "metadata": {
        "id": "oFWarMYoMusU",
        "colab_type": "code",
        "colab": {}
      },
      "source": [
        "tribble(\n",
        "  ~x, ~y, ~z,\n",
        "  #--|--|----\n",
        "  \"a\", 2, 3.6,\n",
        "  \"b\", 1, 8.5\n",
        ")"
      ],
      "execution_count": null,
      "outputs": []
    },
    {
      "cell_type": "markdown",
      "metadata": {
        "id": "5LzWYRBONHLr",
        "colab_type": "text"
      },
      "source": [
        "### Subseting\n",
        "\n",
        "So far all the tools you’ve learned have worked with complete data frames. If you want to pull out a single variable, you need some new tools, ``$`` and ``[[``. ``[[`` can extract by name or position; ``$`` only extracts by name but is a little less typing."
      ]
    },
    {
      "cell_type": "code",
      "metadata": {
        "id": "j89DplcENWuj",
        "colab_type": "code",
        "colab": {}
      },
      "source": [
        "df <- tibble(\n",
        "  x = runif(5), # 0 ~ 1까지의 균일분포\n",
        "  y = rnorm(5)  # 정규분포\n",
        ")"
      ],
      "execution_count": null,
      "outputs": []
    },
    {
      "cell_type": "code",
      "metadata": {
        "id": "EptBPByOC_Ex",
        "colab_type": "code",
        "colab": {}
      },
      "source": [
        "df %>% show() # google colab or jupyter notebook을 사용하는 경우에는 %>% show() 붙여줘야 요약된 정보가 추출됨"
      ],
      "execution_count": null,
      "outputs": []
    },
    {
      "cell_type": "code",
      "metadata": {
        "id": "YNVuNG0aNZWA",
        "colab_type": "code",
        "colab": {}
      },
      "source": [
        "# Extract by name, return vector\n",
        "df$x\n",
        "df[[\"x\"]]"
      ],
      "execution_count": null,
      "outputs": []
    },
    {
      "cell_type": "code",
      "metadata": {
        "id": "dCckTtvMD3_6",
        "colab_type": "code",
        "colab": {}
      },
      "source": [
        "# Extract by position, return vecotr\n",
        "df[[1]]"
      ],
      "execution_count": null,
      "outputs": []
    },
    {
      "cell_type": "code",
      "metadata": {
        "id": "c6fZrG30D4HB",
        "colab_type": "code",
        "colab": {}
      },
      "source": [
        "# column, return tibble\n",
        "df[\"x\"]\n",
        "df[1]"
      ],
      "execution_count": null,
      "outputs": []
    },
    {
      "cell_type": "code",
      "metadata": {
        "id": "asYkXP1JNgsn",
        "colab_type": "code",
        "colab": {}
      },
      "source": [
        "df %>% .$x\n",
        "\n",
        "df %>% .[[\"x\"]]"
      ],
      "execution_count": null,
      "outputs": []
    },
    {
      "cell_type": "markdown",
      "metadata": {
        "id": "nWc1OkJMOOpL",
        "colab_type": "text"
      },
      "source": [
        "##2. dplyr - select, filter, groupby, summarize, %>%\n",
        "\n",
        "- - -\n",
        "\n",
        "dplyr 패키지는 Hadley Wickham가 작성한 데이터 처리에 특화된 R 패키지입니다. 이 분이 지금까지 작성한 유명한 R 패키지로는 ggplot2, plyr, reshape2등이 있으며 이미 많은 분들이 사용하고 있으리라 생각합니다.\n",
        "\n",
        "데이터 처리에 특화된 유용한 패키지로는 역시 Hadley Wickham이 만든 plyr이라는 패키지가 있었습니다. 그러나 ``plyr은 편리하긴 했지만 모든 함수가 R로 작성되어서 처리 속도가 느리다는 단점``이 있었습니다. 이에 반해 ``dplyr은 C++로 작성되어 불필요한 함수를 불러오지 않기 때문에 매우 빠른 처리 속도를 자랑``합니다.\n",
        "\n",
        "dplyr 패키지는 데이터 프레임을 처리하는 함수군으로 구성되어 있습니다. 하지만 그 밖에도 다음 형식의 데이터를 이용할 수 있습니다.\n",
        "\n",
        "* data.table : data.table 패키지와 사용\n",
        "* 각종 데이터베이스 : 현재 MySQL, PostgreSQL, SQLite, BigQuery를 지원\n",
        "* 데이터 큐브 : dplyr 패키지 내부에 실험적으로 내장됨"
      ]
    },
    {
      "cell_type": "code",
      "metadata": {
        "id": "9IJu91upOV_v",
        "colab_type": "code",
        "colab": {
          "base_uri": "https://localhost:8080/"
        },
        "outputId": "75435b69-faca-4dea-ca2c-8c821e98e476"
      },
      "source": [
        "install.packages(\"data.table\")\n",
        "library(dplyr) # or library(tidyverse)\n",
        "library(data.table)"
      ],
      "execution_count": null,
      "outputs": [
        {
          "output_type": "stream",
          "text": [
            "Installing package into ‘/usr/local/lib/R/site-library’\n",
            "(as ‘lib’ is unspecified)\n",
            "\n"
          ],
          "name": "stderr"
        }
      ]
    },
    {
      "cell_type": "code",
      "metadata": {
        "id": "FQAGRujvYZD9",
        "colab_type": "code",
        "colab": {}
      },
      "source": [
        "# 실습 데이터 다운로드!!\n",
        "DF <- fread(\"ftp://210.115.229.94/2020_datascience/6th_data/Pre_Season_Batter.csv\", header = T, encoding = \"UTF-8\") %>%\n",
        "  as_tibble()\n",
        "\n",
        "# DF <- as_tibble(DF)를 %>%으로 간소화"
      ],
      "execution_count": null,
      "outputs": []
    },
    {
      "cell_type": "code",
      "metadata": {
        "id": "7ZVUzDyHZLfd",
        "colab_type": "code",
        "colab": {}
      },
      "source": [
        "DF %>% show() # Rstudio에서는 tibble 변수(DF)만 입력해도 됨."
      ],
      "execution_count": null,
      "outputs": []
    },
    {
      "cell_type": "markdown",
      "metadata": {
        "id": "z1o0mV3dYWIO",
        "colab_type": "text"
      },
      "source": [
        "* select"
      ]
    },
    {
      "cell_type": "code",
      "metadata": {
        "id": "nEwNYt1IZNcq",
        "colab_type": "code",
        "colab": {}
      },
      "source": [
        "# base R\n",
        "DF[, c(\"batter_name\", \"team\")] %>% show()"
      ],
      "execution_count": null,
      "outputs": []
    },
    {
      "cell_type": "code",
      "metadata": {
        "id": "1i7XycuFad7M",
        "colab_type": "code",
        "colab": {}
      },
      "source": [
        "# dplyr\n",
        "DF %>% select(., batter_name, team) %>% show()"
      ],
      "execution_count": null,
      "outputs": []
    },
    {
      "cell_type": "code",
      "metadata": {
        "id": "qwAt20hJccRV",
        "colab_type": "code",
        "colab": {}
      },
      "source": [
        "DF %>% select(., -batter_name, -team) %>% show()"
      ],
      "execution_count": null,
      "outputs": []
    },
    {
      "cell_type": "code",
      "metadata": {
        "id": "F7NFRVs2amN2",
        "colab_type": "code",
        "colab": {}
      },
      "source": [
        "DF %>% select(., 이름 = batter_name, 팀 = team) %>% show()"
      ],
      "execution_count": null,
      "outputs": []
    },
    {
      "cell_type": "code",
      "metadata": {
        "id": "NIuxPcuYcwVd",
        "colab_type": "code",
        "colab": {}
      },
      "source": [
        "DF %>% select(., batter_name1 = batter_name, batter_name2 = batter_name, batter_name3 = batter_name) %>% show()"
      ],
      "execution_count": null,
      "outputs": []
    },
    {
      "cell_type": "code",
      "metadata": {
        "id": "Ct4xzjT1bSmf",
        "colab_type": "code",
        "colab": {}
      },
      "source": [
        "DF %>% select(., 이름 = batter_name, 팀 = team, `R/G` = R/G) %>% show()"
      ],
      "execution_count": null,
      "outputs": []
    },
    {
      "cell_type": "code",
      "metadata": {
        "id": "wHFv5lJcVdsg",
        "colab_type": "code",
        "colab": {}
      },
      "source": [
        "DF %>% show()"
      ],
      "execution_count": null,
      "outputs": []
    },
    {
      "cell_type": "code",
      "metadata": {
        "id": "grNPGqp8biF6",
        "colab_type": "code",
        "colab": {}
      },
      "source": [
        "# %>%의 마지막 단계가 지정된 변수에 저장된다.\n",
        "DF %>% show()\n",
        "DF_2 <- DF %>% select(., 이름 = batter_name, 팀 = team, `R/G` = R/G) \n",
        "DF_2 %>% show()"
      ],
      "execution_count": null,
      "outputs": []
    },
    {
      "cell_type": "markdown",
      "metadata": {
        "id": "crvXVsrMdRuJ",
        "colab_type": "text"
      },
      "source": [
        "* filter --> `Extract rows that meet logical\n",
        "criteria`"
      ]
    },
    {
      "cell_type": "code",
      "metadata": {
        "id": "CbueMBl7cFx4",
        "colab_type": "code",
        "colab": {}
      },
      "source": [
        "# base R\n",
        "DF[DF$team == \"한화\", c(\"team\",\"batter_name\")] %>% show()"
      ],
      "execution_count": null,
      "outputs": []
    },
    {
      "cell_type": "code",
      "metadata": {
        "id": "EyjxakwjegnA",
        "colab_type": "code",
        "colab": {}
      },
      "source": [
        "DF[DF$team == \"한화\" & (DF$G >= 5 | DF$AB >= 15), c(\"team\",\"batter_name\", \"G\", \"AB\")] %>% unique() %>% show()"
      ],
      "execution_count": null,
      "outputs": []
    },
    {
      "cell_type": "code",
      "metadata": {
        "id": "nzfmJALdglbO",
        "colab_type": "code",
        "colab": {}
      },
      "source": [
        "# dplyr\n",
        "DF %>% filter(., team == \"한화\" & (G >=5 | AB >= 15)) %>% show()"
      ],
      "execution_count": null,
      "outputs": []
    },
    {
      "cell_type": "code",
      "metadata": {
        "id": "6JkH_jWKnsSt",
        "colab_type": "code",
        "colab": {}
      },
      "source": [
        "DF %>% filter(., team == \"한화\" & (G >=5 | AB >= 15)) %>% select(., team, batter_name, G, AB) %>% unique() %>% show()"
      ],
      "execution_count": null,
      "outputs": []
    },
    {
      "cell_type": "markdown",
      "metadata": {
        "id": "Uf3747YDxKbq",
        "colab_type": "text"
      },
      "source": [
        "\n",
        "* groupby, summarise\n",
        "\n",
        "``https://dplyr.tidyverse.org/reference/group_by.html``\n",
        "\n",
        "![대체 텍스트](https://img1.daumcdn.net/thumb/R800x0/?scode=mtistory2&fname=https%3A%2F%2Ft1.daumcdn.net%2Fcfile%2Ftistory%2F9978503F5B8264490F))"
      ]
    },
    {
      "cell_type": "code",
      "metadata": {
        "id": "oERtM4qwxL9-",
        "colab_type": "code",
        "colab": {}
      },
      "source": [
        "DF %>% group_by(team) %>% show()"
      ],
      "execution_count": null,
      "outputs": []
    },
    {
      "cell_type": "code",
      "metadata": {
        "id": "BsT0gH8f0waO",
        "colab_type": "code",
        "colab": {}
      },
      "source": [
        "DF %>% group_by(team) %>% summarise(., G_AVG = mean(G), AB_A = mean(AB), R_SUM = sum(R)) %>% show()"
      ],
      "execution_count": null,
      "outputs": []
    },
    {
      "cell_type": "code",
      "metadata": {
        "id": "ojEPWRVU3r8f",
        "colab_type": "code",
        "colab": {}
      },
      "source": [
        "DF %>% group_by(team, batter_name) %>% summarise(., G_AVG = mean(G), AB_AVG = mean(AB), R_AVG = mean(R))"
      ],
      "execution_count": null,
      "outputs": []
    },
    {
      "cell_type": "markdown",
      "metadata": {
        "id": "1zrxlsY7YIWs",
        "colab_type": "text"
      },
      "source": [
        ""
      ]
    }
  ]
}