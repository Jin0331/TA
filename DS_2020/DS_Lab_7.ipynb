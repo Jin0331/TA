{
  "nbformat": 4,
  "nbformat_minor": 0,
  "metadata": {
    "colab": {
      "name": "DS Lab 7.ipynb",
      "provenance": [],
      "collapsed_sections": [
        "08l5SO7QQyf_"
      ],
      "include_colab_link": true
    },
    "kernelspec": {
      "name": "ir",
      "display_name": "R"
    }
  },
  "cells": [
    {
      "cell_type": "markdown",
      "metadata": {
        "id": "view-in-github",
        "colab_type": "text"
      },
      "source": [
        "<a href=\"https://colab.research.google.com/github/Jin0331/TA/blob/master/DS_Lab_7.ipynb\" target=\"_parent\"><img src=\"https://colab.research.google.com/assets/colab-badge.svg\" alt=\"Open In Colab\"/></a>"
      ]
    },
    {
      "cell_type": "markdown",
      "metadata": {
        "id": "NqwIc2xhQqLu",
        "colab_type": "text"
      },
      "source": [
        "# *7주차 실습*\n",
        "\n",
        "- - -\n",
        "\n",
        "## ``dpylr(2), tidyr`` library "
      ]
    },
    {
      "cell_type": "markdown",
      "metadata": {
        "id": "08l5SO7QQyf_",
        "colab_type": "text"
      },
      "source": [
        "## 1. 데이터사이언스 프로세스 과정\n"
      ]
    },
    {
      "cell_type": "markdown",
      "metadata": {
        "id": "YiA_bPzETLrz",
        "colab_type": "text"
      },
      "source": [
        "``\"R for Data Science\" 책 내용 중 中``\n",
        "\n",
        "<br>\n",
        "\n",
        "![대체 텍스트](https://wikidocs.net/images/page/53137/data-science-explore.png)\n",
        "\n",
        "<br>\n",
        "\n",
        "``첫째, \"데이터 불러오기 (Import)\"``. 데이터를 불러오는 방법은 굉장히 다양하다. CSV파일부터 API를 활용한 방법까지 매우 다양하다. 그런데, 입문자들에게는 데이터를 불러오고 내보내는 것조차 어려울 수 있다. 특히, 여러개의 엑셀파일을 한꺼번에 불러오는 것이 실무에서는 많이 필요한데, 이러한 내용을 다루는 과정이 많이 없어서 예제와 함께 다룰 예정이다.\n",
        "\n",
        "``둘째, \"데이터 가공하기 (Tidy)\"``. 데이터를 가공하는 뜻은 원래 데이터에서 결측치, 이상치, 지저분한 데이터, 변수의 변환 등을 다룬다. 여기에서는 깊게 다루지는 않을 예정이다. 이유는 간단하다. 재미없고 지루하다. 날짜 데이터 처리, 정규표현식 등을 입문자들에게 먼저 알려준다면, 대부분의 사람들은 쉽게 포기하고 말 것이다. (사실, 필자도 어렵고 매번 실무에서는 힘들다!)\n",
        "\n",
        "``셋째, \"데이터 변형하기 (Transform)\"``. 필자가 주로 쓰는 표현으로는 분석테이블 만들기이다. 행이 1억개, 열이 1만개 있다고 해서, 우리가 모든 것을 시각화하고 분석할 수는 없다. 행과 열을 추출해야 하며, 중간중간 필요에 따라 요약도 해야 한다. 데이터를 변형하는 과정이 데이터 과학자 업무에 있어서 가장 중요한 역량이라 생각하며, 또한 반드시 중요한 부분이다. R과 Python은 데이터 변형에 특화된 패키지를 보유하고 있다. R은 dplyr 패키지를, Python은 Pandas 모듈이 유명하기 때문에, 본 책에서는 이를 기반으로 심도 깊게 다룰 예정이다. 또한, 속도를 중시하는 업계의 특성상, R의 data.table 패키지를 소개하며, 각 동일한 내용을 요약하는데 각 패키지별 속도 비교도 할 예정이다.\n",
        "\n",
        "``넷째, \"데이터 시각화하기\"``. 데이터 시각화는 분석테이블를 기본 데이터로 활용하여 진행하는 것이다. 입문자들이 실수하는 것 중의 하나가 데이터 가공과 변형을 생략한채, 데이터 수집 이후 곧바로 시각화를 진행하는 경우다. 이는 반드시 지양해야 하며, 꼭 가공과 변형 과정을 거친 후 진행하기를 바란다. 시각화의 방법은 여러가지가 있으나, 디테일한 설명보다는 실무적으로 즉시 사용 가능한 예제를 중심으로 준비하였다. 동적 시각화보다는 정적 시각화 위주로 준비하였고, R은 ggplot2 패키지를 Python은 seaborn 모듈을 활용한 예제를 준비하였다.\n",
        "\n",
        "이제 ``\"데이터 모형 만들기\"와 \"외부와 소통하기\"``가 남아 있다. 데이터 모델 만들기는 통계, 머신러닝, 딥러닝 모형과 연관있는 주제이며, 외부와 소통하기는 보통 보고서, 웹앱 개발과 연관이 되어 있다. 각 분야는 실질적으로 도메인 지식 + IT 지식과 필수적으로 연계가 되어야 하는 매우 큰 주제이기 때문에 본 책에서는 다루지 않는다. 다만, 부록으로 샘플코드만 제공할 예정이다. 이 부분은 가볍게 보기를 바란다."
      ]
    },
    {
      "cell_type": "markdown",
      "metadata": {
        "id": "nWc1OkJMOOpL",
        "colab_type": "text"
      },
      "source": [
        "##2. dplyr(``arrange,rename,sample_frac/n, join``), tidyr(``gather, spread``)\n",
        "\n",
        "- - -"
      ]
    },
    {
      "cell_type": "code",
      "metadata": {
        "id": "9IJu91upOV_v",
        "colab_type": "code",
        "colab": {
          "base_uri": "https://localhost:8080/",
          "height": 306
        },
        "outputId": "f37fe847-2c10-45c3-958b-a3f4db05f717"
      },
      "source": [
        "install.packages(c(\"tidyverse\", \"data.table\"))\n",
        "library(tidyverse);library(data.table)"
      ],
      "execution_count": null,
      "outputs": [
        {
          "output_type": "stream",
          "text": [
            "Installing packages into ‘/usr/local/lib/R/site-library’\n",
            "(as ‘lib’ is unspecified)\n",
            "\n",
            "\n",
            "Attaching package: ‘data.table’\n",
            "\n",
            "\n",
            "The following objects are masked from ‘package:dplyr’:\n",
            "\n",
            "    between, first, last\n",
            "\n",
            "\n",
            "The following object is masked from ‘package:purrr’:\n",
            "\n",
            "    transpose\n",
            "\n",
            "\n"
          ],
          "name": "stderr"
        }
      ]
    },
    {
      "cell_type": "code",
      "metadata": {
        "id": "FQAGRujvYZD9",
        "colab_type": "code",
        "colab": {}
      },
      "source": [
        "# 실습 데이터 다운로드!!\n",
        "DF <- fread(\"ftp://210.115.229.94/2020_datascience/6th_data/Pre_Season_Batter.csv\", header = T, encoding = \"UTF-8\") %>%\n",
        "  as_tibble()"
      ],
      "execution_count": null,
      "outputs": []
    },
    {
      "cell_type": "code",
      "metadata": {
        "id": "7ZVUzDyHZLfd",
        "colab_type": "code",
        "colab": {
          "base_uri": "https://localhost:8080/",
          "height": 306
        },
        "outputId": "6f48c82e-3819-494b-a5a1-872c93b293d9"
      },
      "source": [
        "DF %>% show() # Rstudio에서는 tibble 변수(DF)만 입력해도 됨."
      ],
      "execution_count": null,
      "outputs": [
        {
          "output_type": "stream",
          "text": [
            "\u001b[90m# A tibble: 1,393 x 29\u001b[39m\n",
            "   batter_id batter_name  year team  avg       G    AB     R     H  `2B`  `3B`\n",
            "       \u001b[3m\u001b[90m<int>\u001b[39m\u001b[23m \u001b[3m\u001b[90m<chr>\u001b[39m\u001b[23m       \u001b[3m\u001b[90m<int>\u001b[39m\u001b[23m \u001b[3m\u001b[90m<chr>\u001b[39m\u001b[23m \u001b[3m\u001b[90m<chr>\u001b[39m\u001b[23m \u001b[3m\u001b[90m<int>\u001b[39m\u001b[23m \u001b[3m\u001b[90m<int>\u001b[39m\u001b[23m \u001b[3m\u001b[90m<int>\u001b[39m\u001b[23m \u001b[3m\u001b[90m<int>\u001b[39m\u001b[23m \u001b[3m\u001b[90m<int>\u001b[39m\u001b[23m \u001b[3m\u001b[90m<int>\u001b[39m\u001b[23m\n",
            "\u001b[90m 1\u001b[39m         0 가르시아     \u001b[4m2\u001b[24m018 LG    0.350     7    20     1     7     1     0\n",
            "\u001b[90m 2\u001b[39m         1 강경학       \u001b[4m2\u001b[24m011 한화  0.000     4     2     2     0     0     0\n",
            "\u001b[90m 3\u001b[39m         1 강경학       \u001b[4m2\u001b[24m014 한화  -         4     0     2     0     0     0\n",
            "\u001b[90m 4\u001b[39m         1 강경학       \u001b[4m2\u001b[24m015 한화  0.130    10    23     3     3     0     0\n",
            "\u001b[90m 5\u001b[39m         1 강경학       \u001b[4m2\u001b[24m016 한화  0.188    14    32     4     6     1     1\n",
            "\u001b[90m 6\u001b[39m         1 강경학       \u001b[4m2\u001b[24m017 한화  0.222    11    36    10     8     0     0\n",
            "\u001b[90m 7\u001b[39m         2 강구성       \u001b[4m2\u001b[24m013 NC    0.000     3     4     0     0     0     0\n",
            "\u001b[90m 8\u001b[39m         2 강구성       \u001b[4m2\u001b[24m016 NC    0.000     3     1     0     0     0     0\n",
            "\u001b[90m 9\u001b[39m         2 강구성       \u001b[4m2\u001b[24m017 NC    1.000     2     1     0     1     0     0\n",
            "\u001b[90m10\u001b[39m        69 김태완       \u001b[4m2\u001b[24m006 한화  0.200    10    15     0     3     0     0\n",
            "\u001b[90m# … with 1,383 more rows, and 18 more variables: HR \u001b[3m\u001b[90m<int>\u001b[90m\u001b[23m, TB \u001b[3m\u001b[90m<int>\u001b[90m\u001b[23m, RBI \u001b[3m\u001b[90m<int>\u001b[90m\u001b[23m,\u001b[39m\n",
            "\u001b[90m#   SB \u001b[3m\u001b[90m<int>\u001b[90m\u001b[23m, CS \u001b[3m\u001b[90m<int>\u001b[90m\u001b[23m, BB \u001b[3m\u001b[90m<int>\u001b[90m\u001b[23m, HBP \u001b[3m\u001b[90m<int>\u001b[90m\u001b[23m, SO \u001b[3m\u001b[90m<int>\u001b[90m\u001b[23m, GDP \u001b[3m\u001b[90m<int>\u001b[90m\u001b[23m, SLG \u001b[3m\u001b[90m<dbl>\u001b[90m\u001b[23m,\u001b[39m\n",
            "\u001b[90m#   OBP \u001b[3m\u001b[90m<dbl>\u001b[90m\u001b[23m, E \u001b[3m\u001b[90m<int>\u001b[90m\u001b[23m, `height/weight` \u001b[3m\u001b[90m<chr>\u001b[90m\u001b[23m, year_born \u001b[3m\u001b[90m<chr>\u001b[90m\u001b[23m, position \u001b[3m\u001b[90m<chr>\u001b[90m\u001b[23m,\u001b[39m\n",
            "\u001b[90m#   career \u001b[3m\u001b[90m<chr>\u001b[90m\u001b[23m, starting_salary \u001b[3m\u001b[90m<chr>\u001b[90m\u001b[23m, OPS \u001b[3m\u001b[90m<dbl>\u001b[90m\u001b[23m\u001b[39m\n"
          ],
          "name": "stdout"
        }
      ]
    },
    {
      "cell_type": "code",
      "metadata": {
        "id": "8s9tD3whdOOV",
        "colab_type": "code",
        "colab": {
          "base_uri": "https://localhost:8080/",
          "height": 544
        },
        "outputId": "46d8a671-7dee-43fa-cce7-f2d1af622cb9"
      },
      "source": [
        "DF %>% str()"
      ],
      "execution_count": null,
      "outputs": [
        {
          "output_type": "stream",
          "text": [
            "tibble [1,393 × 29] (S3: tbl_df/tbl/data.frame)\n",
            " $ batter_id      : int [1:1393] 0 1 1 1 1 1 2 2 2 69 ...\n",
            " $ batter_name    : chr [1:1393] \"가르시아\" \"강경학\" \"강경학\" \"강경학\" ...\n",
            " $ year           : int [1:1393] 2018 2011 2014 2015 2016 2017 2013 2016 2017 2006 ...\n",
            " $ team           : chr [1:1393] \"LG\" \"한화\" \"한화\" \"한화\" ...\n",
            " $ avg            : chr [1:1393] \"0.350\" \"0.000\" \"-\" \"0.130\" ...\n",
            " $ G              : int [1:1393] 7 4 4 10 14 11 3 3 2 10 ...\n",
            " $ AB             : int [1:1393] 20 2 0 23 32 36 4 1 1 15 ...\n",
            " $ R              : int [1:1393] 1 2 2 3 4 10 0 0 0 0 ...\n",
            " $ H              : int [1:1393] 7 0 0 3 6 8 0 0 1 3 ...\n",
            " $ 2B             : int [1:1393] 1 0 0 0 1 0 0 0 0 0 ...\n",
            " $ 3B             : int [1:1393] 0 0 0 0 1 0 0 0 0 0 ...\n",
            " $ HR             : int [1:1393] 1 0 0 0 0 2 0 0 0 0 ...\n",
            " $ TB             : int [1:1393] 11 0 0 3 9 14 0 0 1 3 ...\n",
            " $ RBI            : int [1:1393] 5 1 0 1 2 4 0 0 0 3 ...\n",
            " $ SB             : int [1:1393] 0 0 0 3 1 0 0 1 0 0 ...\n",
            " $ CS             : int [1:1393] 0 1 0 0 2 0 0 0 0 0 ...\n",
            " $ BB             : int [1:1393] 2 0 0 4 0 3 0 1 0 1 ...\n",
            " $ HBP            : int [1:1393] 0 2 0 1 1 0 0 0 0 1 ...\n",
            " $ SO             : int [1:1393] 3 1 0 9 10 10 0 0 0 5 ...\n",
            " $ GDP            : int [1:1393] 1 0 0 0 0 0 1 1 0 1 ...\n",
            " $ SLG            : num [1:1393] 0.55 0 NA 0.13 0.281 0.389 0 0 1 0.2 ...\n",
            " $ OBP            : num [1:1393] 0.409 0.5 NA 0.286 0.212 0.282 0 0.5 1 0.278 ...\n",
            " $ E              : int [1:1393] 1 0 0 2 0 1 0 0 0 0 ...\n",
            " $ height/weight  : chr [1:1393] \"177cm/93kg\" \"180cm/72kg\" \"180cm/72kg\" \"180cm/72kg\" ...\n",
            " $ year_born      : chr [1:1393] \"1985년 04월 12일\" \"1992년 08월 11일\" \"1992년 08월 11일\" \"1992년 08월 11일\" ...\n",
            " $ position       : chr [1:1393] \"내야수(우투우타)\" \"내야수(우투좌타)\" \"내야수(우투좌타)\" \"내야수(우투좌타)\" ...\n",
            " $ career         : chr [1:1393] \"쿠바 Ciego de Avila Maximo Gomez Baez(대)\" \"광주대성초-광주동성중-광주동성고\" \"광주대성초-광주동성중-광주동성고\" \"광주대성초-광주동성중-광주동성고\" ...\n",
            " $ starting_salary: chr [1:1393] \"\" \"10000만원\" \"10000만원\" \"10000만원\" ...\n",
            " $ OPS            : num [1:1393] 0.959 0.5 NA 0.416 0.493 0.671 0 0.5 2 0.478 ...\n",
            " - attr(*, \".internal.selfref\")=<externalptr> \n"
          ],
          "name": "stdout"
        }
      ]
    },
    {
      "cell_type": "markdown",
      "metadata": {
        "id": "z1o0mV3dYWIO",
        "colab_type": "text"
      },
      "source": [
        "* ``arrange``\n",
        "  1. 지정한 열을 기준으로 작은 값으로부터 큰 값의 순으로 데이터를 정렬. 역순 정렬 ``desc()``\n",
        "  2. Unlike base sorting with sort(), NA are:\n",
        "\n",
        "    * always sorted to the end for local data, even when wrapped with desc().\n",
        "  3. arrange_all"
      ]
    },
    {
      "cell_type": "code",
      "metadata": {
        "id": "ojEPWRVU3r8f",
        "colab_type": "code",
        "colab": {
          "base_uri": "https://localhost:8080/",
          "height": 306
        },
        "outputId": "afd95975-4238-4d54-9c97-aa5c8bd15826"
      },
      "source": [
        "DF %>% arrange(year) %>% show()"
      ],
      "execution_count": null,
      "outputs": [
        {
          "output_type": "stream",
          "text": [
            "\u001b[90m# A tibble: 1,393 x 29\u001b[39m\n",
            "   batter_id batter_name  year team  avg       G    AB     R     H  `2B`  `3B`\n",
            "       \u001b[3m\u001b[90m<int>\u001b[39m\u001b[23m \u001b[3m\u001b[90m<chr>\u001b[39m\u001b[23m       \u001b[3m\u001b[90m<int>\u001b[39m\u001b[23m \u001b[3m\u001b[90m<chr>\u001b[39m\u001b[23m \u001b[3m\u001b[90m<chr>\u001b[39m\u001b[23m \u001b[3m\u001b[90m<int>\u001b[39m\u001b[23m \u001b[3m\u001b[90m<int>\u001b[39m\u001b[23m \u001b[3m\u001b[90m<int>\u001b[39m\u001b[23m \u001b[3m\u001b[90m<int>\u001b[39m\u001b[23m \u001b[3m\u001b[90m<int>\u001b[39m\u001b[23m \u001b[3m\u001b[90m<int>\u001b[39m\u001b[23m\n",
            "\u001b[90m 1\u001b[39m        62 김주찬       \u001b[4m2\u001b[24m002 롯데  0.107     9    28     2     3     0     0\n",
            "\u001b[90m 2\u001b[39m        67 김태균       \u001b[4m2\u001b[24m002 한화  0.235    11    34     7     8     5     0\n",
            "\u001b[90m 3\u001b[39m       109 박기혁       \u001b[4m2\u001b[24m002 롯데  0.000     8     5     1     0     0     0\n",
            "\u001b[90m 4\u001b[39m       119 박용택       \u001b[4m2\u001b[24m002 LG    -         1     0     0     0     0     0\n",
            "\u001b[90m 5\u001b[39m       131 박한이       \u001b[4m2\u001b[24m002 삼성  0.319    11    47     7    15     3     0\n",
            "\u001b[90m 6\u001b[39m       202 이대호       \u001b[4m2\u001b[24m002 롯데  0.359    11    39     4    14     3     0\n",
            "\u001b[90m 7\u001b[39m       207 이범호       \u001b[4m2\u001b[24m002 한화  0.167     7     6     2     1     1     0\n",
            "\u001b[90m 8\u001b[39m       283 조동찬       \u001b[4m2\u001b[24m002 삼성  0.000     4     1     0     0     0     0\n",
            "\u001b[90m 9\u001b[39m       234 이진영       \u001b[4m2\u001b[24m002 SK    0.297    11    37     5    11     2     0\n",
            "\u001b[90m10\u001b[39m       269 정상호       \u001b[4m2\u001b[24m002 SK    0.158    13    19     3     3     1     0\n",
            "\u001b[90m# … with 1,383 more rows, and 18 more variables: HR \u001b[3m\u001b[90m<int>\u001b[90m\u001b[23m, TB \u001b[3m\u001b[90m<int>\u001b[90m\u001b[23m, RBI \u001b[3m\u001b[90m<int>\u001b[90m\u001b[23m,\u001b[39m\n",
            "\u001b[90m#   SB \u001b[3m\u001b[90m<int>\u001b[90m\u001b[23m, CS \u001b[3m\u001b[90m<int>\u001b[90m\u001b[23m, BB \u001b[3m\u001b[90m<int>\u001b[90m\u001b[23m, HBP \u001b[3m\u001b[90m<int>\u001b[90m\u001b[23m, SO \u001b[3m\u001b[90m<int>\u001b[90m\u001b[23m, GDP \u001b[3m\u001b[90m<int>\u001b[90m\u001b[23m, SLG \u001b[3m\u001b[90m<dbl>\u001b[90m\u001b[23m,\u001b[39m\n",
            "\u001b[90m#   OBP \u001b[3m\u001b[90m<dbl>\u001b[90m\u001b[23m, E \u001b[3m\u001b[90m<int>\u001b[90m\u001b[23m, `height/weight` \u001b[3m\u001b[90m<chr>\u001b[90m\u001b[23m, year_born \u001b[3m\u001b[90m<chr>\u001b[90m\u001b[23m, position \u001b[3m\u001b[90m<chr>\u001b[90m\u001b[23m,\u001b[39m\n",
            "\u001b[90m#   career \u001b[3m\u001b[90m<chr>\u001b[90m\u001b[23m, starting_salary \u001b[3m\u001b[90m<chr>\u001b[90m\u001b[23m, OPS \u001b[3m\u001b[90m<dbl>\u001b[90m\u001b[23m\u001b[39m\n"
          ],
          "name": "stdout"
        }
      ]
    },
    {
      "cell_type": "code",
      "metadata": {
        "id": "8B6y0BiTgLuq",
        "colab_type": "code",
        "colab": {
          "base_uri": "https://localhost:8080/",
          "height": 306
        },
        "outputId": "70d20f2c-5011-4255-c5a3-8f2cf3b27877"
      },
      "source": [
        "DF %>% arrange(year, desc(team)) %>% show() # year는 ascending(오름차순), team은 descending(내림차순)"
      ],
      "execution_count": null,
      "outputs": [
        {
          "output_type": "stream",
          "text": [
            "\u001b[90m# A tibble: 1,393 x 29\u001b[39m\n",
            "   batter_id batter_name  year team  avg       G    AB     R     H  `2B`  `3B`\n",
            "       \u001b[3m\u001b[90m<int>\u001b[39m\u001b[23m \u001b[3m\u001b[90m<chr>\u001b[39m\u001b[23m       \u001b[3m\u001b[90m<int>\u001b[39m\u001b[23m \u001b[3m\u001b[90m<chr>\u001b[39m\u001b[23m \u001b[3m\u001b[90m<chr>\u001b[39m\u001b[23m \u001b[3m\u001b[90m<int>\u001b[39m\u001b[23m \u001b[3m\u001b[90m<int>\u001b[39m\u001b[23m \u001b[3m\u001b[90m<int>\u001b[39m\u001b[23m \u001b[3m\u001b[90m<int>\u001b[39m\u001b[23m \u001b[3m\u001b[90m<int>\u001b[39m\u001b[23m \u001b[3m\u001b[90m<int>\u001b[39m\u001b[23m\n",
            "\u001b[90m 1\u001b[39m        67 김태균       \u001b[4m2\u001b[24m002 한화  0.235    11    34     7     8     5     0\n",
            "\u001b[90m 2\u001b[39m       207 이범호       \u001b[4m2\u001b[24m002 한화  0.167     7     6     2     1     1     0\n",
            "\u001b[90m 3\u001b[39m       131 박한이       \u001b[4m2\u001b[24m002 삼성  0.319    11    47     7    15     3     0\n",
            "\u001b[90m 4\u001b[39m       283 조동찬       \u001b[4m2\u001b[24m002 삼성  0.000     4     1     0     0     0     0\n",
            "\u001b[90m 5\u001b[39m       319 최형우       \u001b[4m2\u001b[24m002 삼성  0.000     5     5     1     0     0     0\n",
            "\u001b[90m 6\u001b[39m        62 김주찬       \u001b[4m2\u001b[24m002 롯데  0.107     9    28     2     3     0     0\n",
            "\u001b[90m 7\u001b[39m       109 박기혁       \u001b[4m2\u001b[24m002 롯데  0.000     8     5     1     0     0     0\n",
            "\u001b[90m 8\u001b[39m       202 이대호       \u001b[4m2\u001b[24m002 롯데  0.359    11    39     4    14     3     0\n",
            "\u001b[90m 9\u001b[39m       234 이진영       \u001b[4m2\u001b[24m002 SK    0.297    11    37     5    11     2     0\n",
            "\u001b[90m10\u001b[39m       269 정상호       \u001b[4m2\u001b[24m002 SK    0.158    13    19     3     3     1     0\n",
            "\u001b[90m# … with 1,383 more rows, and 18 more variables: HR \u001b[3m\u001b[90m<int>\u001b[90m\u001b[23m, TB \u001b[3m\u001b[90m<int>\u001b[90m\u001b[23m, RBI \u001b[3m\u001b[90m<int>\u001b[90m\u001b[23m,\u001b[39m\n",
            "\u001b[90m#   SB \u001b[3m\u001b[90m<int>\u001b[90m\u001b[23m, CS \u001b[3m\u001b[90m<int>\u001b[90m\u001b[23m, BB \u001b[3m\u001b[90m<int>\u001b[90m\u001b[23m, HBP \u001b[3m\u001b[90m<int>\u001b[90m\u001b[23m, SO \u001b[3m\u001b[90m<int>\u001b[90m\u001b[23m, GDP \u001b[3m\u001b[90m<int>\u001b[90m\u001b[23m, SLG \u001b[3m\u001b[90m<dbl>\u001b[90m\u001b[23m,\u001b[39m\n",
            "\u001b[90m#   OBP \u001b[3m\u001b[90m<dbl>\u001b[90m\u001b[23m, E \u001b[3m\u001b[90m<int>\u001b[90m\u001b[23m, `height/weight` \u001b[3m\u001b[90m<chr>\u001b[90m\u001b[23m, year_born \u001b[3m\u001b[90m<chr>\u001b[90m\u001b[23m, position \u001b[3m\u001b[90m<chr>\u001b[90m\u001b[23m,\u001b[39m\n",
            "\u001b[90m#   career \u001b[3m\u001b[90m<chr>\u001b[90m\u001b[23m, starting_salary \u001b[3m\u001b[90m<chr>\u001b[90m\u001b[23m, OPS \u001b[3m\u001b[90m<dbl>\u001b[90m\u001b[23m\u001b[39m\n"
          ],
          "name": "stdout"
        }
      ]
    },
    {
      "cell_type": "code",
      "metadata": {
        "id": "dr8uYrOsgTuG",
        "colab_type": "code",
        "colab": {
          "base_uri": "https://localhost:8080/",
          "height": 306
        },
        "outputId": "ab84bcdb-195f-4444-972b-39991f8e0315"
      },
      "source": [
        "DF %>% arrange(team, desc(avg)) %>% show() "
      ],
      "execution_count": null,
      "outputs": [
        {
          "output_type": "stream",
          "text": [
            "\u001b[90m# A tibble: 1,393 x 29\u001b[39m\n",
            "   batter_id batter_name  year team  avg       G    AB     R     H  `2B`  `3B`\n",
            "       \u001b[3m\u001b[90m<int>\u001b[39m\u001b[23m \u001b[3m\u001b[90m<chr>\u001b[39m\u001b[23m       \u001b[3m\u001b[90m<int>\u001b[39m\u001b[23m \u001b[3m\u001b[90m<chr>\u001b[39m\u001b[23m \u001b[3m\u001b[90m<chr>\u001b[39m\u001b[23m \u001b[3m\u001b[90m<int>\u001b[39m\u001b[23m \u001b[3m\u001b[90m<int>\u001b[39m\u001b[23m \u001b[3m\u001b[90m<int>\u001b[39m\u001b[23m \u001b[3m\u001b[90m<int>\u001b[39m\u001b[23m \u001b[3m\u001b[90m<int>\u001b[39m\u001b[23m \u001b[3m\u001b[90m<int>\u001b[39m\u001b[23m\n",
            "\u001b[90m 1\u001b[39m       145 서동욱       \u001b[4m2\u001b[24m004 KIA   1.000     1     1     1     1     0     0\n",
            "\u001b[90m 2\u001b[39m       217 이용규       \u001b[4m2\u001b[24m009 KIA   1.000     1     2     0     2     0     0\n",
            "\u001b[90m 3\u001b[39m        12 강한울       \u001b[4m2\u001b[24m015 KIA   0.600     3    10     2     6     0     1\n",
            "\u001b[90m 4\u001b[39m       139 백용환       \u001b[4m2\u001b[24m018 KIA   0.600     3     5     1     3     1     0\n",
            "\u001b[90m 5\u001b[39m       243 이호신       \u001b[4m2\u001b[24m009 KIA   0.500     9     6     1     3     0     0\n",
            "\u001b[90m 6\u001b[39m       163 신종길       \u001b[4m2\u001b[24m017 KIA   0.500     1     2     1     1     0     0\n",
            "\u001b[90m 7\u001b[39m       169 안치홍       \u001b[4m2\u001b[24m017 KIA   0.500     4    10     1     5     1     0\n",
            "\u001b[90m 8\u001b[39m       232 이준호       \u001b[4m2\u001b[24m013 KIA   0.500     6     8     2     4     1     0\n",
            "\u001b[90m 9\u001b[39m       319 최형우       \u001b[4m2\u001b[24m018 KIA   0.500     4    14     3     7     1     0\n",
            "\u001b[90m10\u001b[39m       160 신범수       \u001b[4m2\u001b[24m017 KIA   0.471     9    17     2     8     2     0\n",
            "\u001b[90m# … with 1,383 more rows, and 18 more variables: HR \u001b[3m\u001b[90m<int>\u001b[90m\u001b[23m, TB \u001b[3m\u001b[90m<int>\u001b[90m\u001b[23m, RBI \u001b[3m\u001b[90m<int>\u001b[90m\u001b[23m,\u001b[39m\n",
            "\u001b[90m#   SB \u001b[3m\u001b[90m<int>\u001b[90m\u001b[23m, CS \u001b[3m\u001b[90m<int>\u001b[90m\u001b[23m, BB \u001b[3m\u001b[90m<int>\u001b[90m\u001b[23m, HBP \u001b[3m\u001b[90m<int>\u001b[90m\u001b[23m, SO \u001b[3m\u001b[90m<int>\u001b[90m\u001b[23m, GDP \u001b[3m\u001b[90m<int>\u001b[90m\u001b[23m, SLG \u001b[3m\u001b[90m<dbl>\u001b[90m\u001b[23m,\u001b[39m\n",
            "\u001b[90m#   OBP \u001b[3m\u001b[90m<dbl>\u001b[90m\u001b[23m, E \u001b[3m\u001b[90m<int>\u001b[90m\u001b[23m, `height/weight` \u001b[3m\u001b[90m<chr>\u001b[90m\u001b[23m, year_born \u001b[3m\u001b[90m<chr>\u001b[90m\u001b[23m, position \u001b[3m\u001b[90m<chr>\u001b[90m\u001b[23m,\u001b[39m\n",
            "\u001b[90m#   career \u001b[3m\u001b[90m<chr>\u001b[90m\u001b[23m, starting_salary \u001b[3m\u001b[90m<chr>\u001b[90m\u001b[23m, OPS \u001b[3m\u001b[90m<dbl>\u001b[90m\u001b[23m\u001b[39m\n"
          ],
          "name": "stdout"
        }
      ]
    },
    {
      "cell_type": "code",
      "metadata": {
        "id": "tZHf_Njhg5J7",
        "colab_type": "code",
        "colab": {
          "base_uri": "https://localhost:8080/",
          "height": 305
        },
        "outputId": "8a31204b-d43c-4b26-abf4-5a011f64cfef"
      },
      "source": [
        "DF %>% select(SLG, OBP) %>% arrange(desc(SLG), desc(OBP)) %>% tail(10) # NA는 ascending or descending 상관없이 맨 아래!!!!!"
      ],
      "execution_count": null,
      "outputs": [
        {
          "output_type": "display_data",
          "data": {
            "text/plain": [
              "   SLG OBP\n",
              "1  NA  NA \n",
              "2  NA  NA \n",
              "3  NA  NA \n",
              "4  NA  NA \n",
              "5  NA  NA \n",
              "6  NA  NA \n",
              "7  NA  NA \n",
              "8  NA  NA \n",
              "9  NA  NA \n",
              "10 NA  NA "
            ],
            "text/latex": "A tibble: 10 × 2\n\\begin{tabular}{ll}\n SLG & OBP\\\\\n <dbl> & <dbl>\\\\\n\\hline\n\t NA & NA\\\\\n\t NA & NA\\\\\n\t NA & NA\\\\\n\t NA & NA\\\\\n\t NA & NA\\\\\n\t NA & NA\\\\\n\t NA & NA\\\\\n\t NA & NA\\\\\n\t NA & NA\\\\\n\t NA & NA\\\\\n\\end{tabular}\n",
            "text/markdown": "\nA tibble: 10 × 2\n\n| SLG &lt;dbl&gt; | OBP &lt;dbl&gt; |\n|---|---|\n| NA | NA |\n| NA | NA |\n| NA | NA |\n| NA | NA |\n| NA | NA |\n| NA | NA |\n| NA | NA |\n| NA | NA |\n| NA | NA |\n| NA | NA |\n\n",
            "text/html": [
              "<table>\n",
              "<caption>A tibble: 10 × 2</caption>\n",
              "<thead>\n",
              "\t<tr><th scope=col>SLG</th><th scope=col>OBP</th></tr>\n",
              "\t<tr><th scope=col>&lt;dbl&gt;</th><th scope=col>&lt;dbl&gt;</th></tr>\n",
              "</thead>\n",
              "<tbody>\n",
              "\t<tr><td>NA</td><td>NA</td></tr>\n",
              "\t<tr><td>NA</td><td>NA</td></tr>\n",
              "\t<tr><td>NA</td><td>NA</td></tr>\n",
              "\t<tr><td>NA</td><td>NA</td></tr>\n",
              "\t<tr><td>NA</td><td>NA</td></tr>\n",
              "\t<tr><td>NA</td><td>NA</td></tr>\n",
              "\t<tr><td>NA</td><td>NA</td></tr>\n",
              "\t<tr><td>NA</td><td>NA</td></tr>\n",
              "\t<tr><td>NA</td><td>NA</td></tr>\n",
              "\t<tr><td>NA</td><td>NA</td></tr>\n",
              "</tbody>\n",
              "</table>\n"
            ]
          },
          "metadata": {
            "tags": []
          }
        }
      ]
    },
    {
      "cell_type": "code",
      "metadata": {
        "id": "bG7oTcjxhagG",
        "colab_type": "code",
        "colab": {
          "base_uri": "https://localhost:8080/",
          "height": 306
        },
        "outputId": "bcc42208-e3e4-4158-fe0e-ffbcedd4caea"
      },
      "source": [
        "DF %>% arrange_all() %>% show()"
      ],
      "execution_count": null,
      "outputs": [
        {
          "output_type": "stream",
          "text": [
            "\u001b[90m# A tibble: 1,393 x 29\u001b[39m\n",
            "   batter_id batter_name  year team  avg       G    AB     R     H  `2B`  `3B`\n",
            "       \u001b[3m\u001b[90m<int>\u001b[39m\u001b[23m \u001b[3m\u001b[90m<chr>\u001b[39m\u001b[23m       \u001b[3m\u001b[90m<int>\u001b[39m\u001b[23m \u001b[3m\u001b[90m<chr>\u001b[39m\u001b[23m \u001b[3m\u001b[90m<chr>\u001b[39m\u001b[23m \u001b[3m\u001b[90m<int>\u001b[39m\u001b[23m \u001b[3m\u001b[90m<int>\u001b[39m\u001b[23m \u001b[3m\u001b[90m<int>\u001b[39m\u001b[23m \u001b[3m\u001b[90m<int>\u001b[39m\u001b[23m \u001b[3m\u001b[90m<int>\u001b[39m\u001b[23m \u001b[3m\u001b[90m<int>\u001b[39m\u001b[23m\n",
            "\u001b[90m 1\u001b[39m         0 가르시아     \u001b[4m2\u001b[24m018 LG    0.350     7    20     1     7     1     0\n",
            "\u001b[90m 2\u001b[39m         1 강경학       \u001b[4m2\u001b[24m011 한화  0.000     4     2     2     0     0     0\n",
            "\u001b[90m 3\u001b[39m         1 강경학       \u001b[4m2\u001b[24m014 한화  -         4     0     2     0     0     0\n",
            "\u001b[90m 4\u001b[39m         1 강경학       \u001b[4m2\u001b[24m015 한화  0.130    10    23     3     3     0     0\n",
            "\u001b[90m 5\u001b[39m         1 강경학       \u001b[4m2\u001b[24m016 한화  0.188    14    32     4     6     1     1\n",
            "\u001b[90m 6\u001b[39m         1 강경학       \u001b[4m2\u001b[24m017 한화  0.222    11    36    10     8     0     0\n",
            "\u001b[90m 7\u001b[39m         2 강구성       \u001b[4m2\u001b[24m013 NC    0.000     3     4     0     0     0     0\n",
            "\u001b[90m 8\u001b[39m         2 강구성       \u001b[4m2\u001b[24m016 NC    0.000     3     1     0     0     0     0\n",
            "\u001b[90m 9\u001b[39m         2 강구성       \u001b[4m2\u001b[24m017 NC    1.000     2     1     0     1     0     0\n",
            "\u001b[90m10\u001b[39m         3 강민국       \u001b[4m2\u001b[24m014 NC    0.000     2     1     0     0     0     0\n",
            "\u001b[90m# … with 1,383 more rows, and 18 more variables: HR \u001b[3m\u001b[90m<int>\u001b[90m\u001b[23m, TB \u001b[3m\u001b[90m<int>\u001b[90m\u001b[23m, RBI \u001b[3m\u001b[90m<int>\u001b[90m\u001b[23m,\u001b[39m\n",
            "\u001b[90m#   SB \u001b[3m\u001b[90m<int>\u001b[90m\u001b[23m, CS \u001b[3m\u001b[90m<int>\u001b[90m\u001b[23m, BB \u001b[3m\u001b[90m<int>\u001b[90m\u001b[23m, HBP \u001b[3m\u001b[90m<int>\u001b[90m\u001b[23m, SO \u001b[3m\u001b[90m<int>\u001b[90m\u001b[23m, GDP \u001b[3m\u001b[90m<int>\u001b[90m\u001b[23m, SLG \u001b[3m\u001b[90m<dbl>\u001b[90m\u001b[23m,\u001b[39m\n",
            "\u001b[90m#   OBP \u001b[3m\u001b[90m<dbl>\u001b[90m\u001b[23m, E \u001b[3m\u001b[90m<int>\u001b[90m\u001b[23m, `height/weight` \u001b[3m\u001b[90m<chr>\u001b[90m\u001b[23m, year_born \u001b[3m\u001b[90m<chr>\u001b[90m\u001b[23m, position \u001b[3m\u001b[90m<chr>\u001b[90m\u001b[23m,\u001b[39m\n",
            "\u001b[90m#   career \u001b[3m\u001b[90m<chr>\u001b[90m\u001b[23m, starting_salary \u001b[3m\u001b[90m<chr>\u001b[90m\u001b[23m, OPS \u001b[3m\u001b[90m<dbl>\u001b[90m\u001b[23m\u001b[39m\n"
          ],
          "name": "stdout"
        }
      ]
    },
    {
      "cell_type": "markdown",
      "metadata": {
        "id": "_Sfd58Hlivpr",
        "colab_type": "text"
      },
      "source": [
        "* ``rename``\n",
        "  1. https://honingds.com/blog/dplyr-rename/\n",
        "  2. rename_if, rename_* etc.."
      ]
    },
    {
      "cell_type": "code",
      "metadata": {
        "id": "8P99w2nHhwct",
        "colab_type": "code",
        "colab": {}
      },
      "source": [
        "DF <- fread(\"ftp://210.115.229.94/2020_datascience/6th_data/Pre_Season_Batter.csv\", header = F) %>%\n",
        "  as_tibble()"
      ],
      "execution_count": null,
      "outputs": []
    },
    {
      "cell_type": "code",
      "metadata": {
        "id": "d4aeUx5Ljsei",
        "colab_type": "code",
        "colab": {
          "base_uri": "https://localhost:8080/",
          "height": 306
        },
        "outputId": "32d90c8a-1ebf-490d-b4ae-881d773f83b3"
      },
      "source": [
        "DF %>% show()"
      ],
      "execution_count": null,
      "outputs": [
        {
          "output_type": "stream",
          "text": [
            "\u001b[90m# A tibble: 1,394 x 29\u001b[39m\n",
            "   V1    V2    V3    V4    V5    V6    V7    V8    V9    V10   V11   V12   V13  \n",
            "   \u001b[3m\u001b[90m<chr>\u001b[39m\u001b[23m \u001b[3m\u001b[90m<chr>\u001b[39m\u001b[23m \u001b[3m\u001b[90m<chr>\u001b[39m\u001b[23m \u001b[3m\u001b[90m<chr>\u001b[39m\u001b[23m \u001b[3m\u001b[90m<chr>\u001b[39m\u001b[23m \u001b[3m\u001b[90m<chr>\u001b[39m\u001b[23m \u001b[3m\u001b[90m<chr>\u001b[39m\u001b[23m \u001b[3m\u001b[90m<chr>\u001b[39m\u001b[23m \u001b[3m\u001b[90m<chr>\u001b[39m\u001b[23m \u001b[3m\u001b[90m<chr>\u001b[39m\u001b[23m \u001b[3m\u001b[90m<chr>\u001b[39m\u001b[23m \u001b[3m\u001b[90m<chr>\u001b[39m\u001b[23m \u001b[3m\u001b[90m<chr>\u001b[39m\u001b[23m\n",
            "\u001b[90m 1\u001b[39m batt… batt… year  team  avg   G     AB    R     H     2B    3B    HR    TB   \n",
            "\u001b[90m 2\u001b[39m 0     가르시아… 2018  LG    0.350 7     20    1     7     1     0     1     11   \n",
            "\u001b[90m 3\u001b[39m 1     강경학… 2011  한화  0.000 4     2     2     0     0     0     0     0    \n",
            "\u001b[90m 4\u001b[39m 1     강경학… 2014  한화  -     4     0     2     0     0     0     0     0    \n",
            "\u001b[90m 5\u001b[39m 1     강경학… 2015  한화  0.130 10    23    3     3     0     0     0     3    \n",
            "\u001b[90m 6\u001b[39m 1     강경학… 2016  한화  0.188 14    32    4     6     1     1     0     9    \n",
            "\u001b[90m 7\u001b[39m 1     강경학… 2017  한화  0.222 11    36    10    8     0     0     2     14   \n",
            "\u001b[90m 8\u001b[39m 2     강구성… 2013  NC    0.000 3     4     0     0     0     0     0     0    \n",
            "\u001b[90m 9\u001b[39m 2     강구성… 2016  NC    0.000 3     1     0     0     0     0     0     0    \n",
            "\u001b[90m10\u001b[39m 2     강구성… 2017  NC    1.000 2     1     0     1     0     0     0     1    \n",
            "\u001b[90m# … with 1,384 more rows, and 16 more variables: V14 \u001b[3m\u001b[90m<chr>\u001b[90m\u001b[23m, V15 \u001b[3m\u001b[90m<chr>\u001b[90m\u001b[23m,\u001b[39m\n",
            "\u001b[90m#   V16 \u001b[3m\u001b[90m<chr>\u001b[90m\u001b[23m, V17 \u001b[3m\u001b[90m<chr>\u001b[90m\u001b[23m, V18 \u001b[3m\u001b[90m<chr>\u001b[90m\u001b[23m, V19 \u001b[3m\u001b[90m<chr>\u001b[90m\u001b[23m, V20 \u001b[3m\u001b[90m<chr>\u001b[90m\u001b[23m, V21 \u001b[3m\u001b[90m<chr>\u001b[90m\u001b[23m,\u001b[39m\n",
            "\u001b[90m#   V22 \u001b[3m\u001b[90m<chr>\u001b[90m\u001b[23m, V23 \u001b[3m\u001b[90m<chr>\u001b[90m\u001b[23m, V24 \u001b[3m\u001b[90m<chr>\u001b[90m\u001b[23m, V25 \u001b[3m\u001b[90m<chr>\u001b[90m\u001b[23m, V26 \u001b[3m\u001b[90m<chr>\u001b[90m\u001b[23m, V27 \u001b[3m\u001b[90m<chr>\u001b[90m\u001b[23m,\u001b[39m\n",
            "\u001b[90m#   V28 \u001b[3m\u001b[90m<chr>\u001b[90m\u001b[23m, V29 \u001b[3m\u001b[90m<chr>\u001b[90m\u001b[23m\u001b[39m\n"
          ],
          "name": "stdout"
        }
      ]
    },
    {
      "cell_type": "code",
      "metadata": {
        "id": "OG2akjodjyVi",
        "colab_type": "code",
        "colab": {}
      },
      "source": [
        "# base R\n",
        "n <- readLines(\"ftp://210.115.229.94/2020_datascience/6th_data/Pre_Season_Batter.csv\")"
      ],
      "execution_count": null,
      "outputs": []
    },
    {
      "cell_type": "code",
      "metadata": {
        "id": "JQUJG2hNkmEg",
        "colab_type": "code",
        "colab": {
          "base_uri": "https://localhost:8080/",
          "height": 119
        },
        "outputId": "d1264f5f-7cd4-4a4d-bb2d-4f100a51ea94"
      },
      "source": [
        "n %>% head()"
      ],
      "execution_count": null,
      "outputs": [
        {
          "output_type": "display_data",
          "data": {
            "text/plain": [
              "[1] \"batter_id,batter_name,year,team,avg,G,AB,R,H,2B,3B,HR,TB,RBI,SB,CS,BB,HBP,SO,GDP,SLG,OBP,E,height/weight,year_born,position,career,starting_salary,OPS\"                           \n",
              "[2] \"0,가르시아,2018,LG,0.350,7,20,1,7,1,0,1,11,5,0,0,2,0,3,1,0.55,0.409,1,177cm/93kg,1985년 04월 12일,내야수(우투우타),쿠바 Ciego de Avila Maximo Gomez Baez(대),,0.9590000000000001\" \n",
              "[3] \"1,강경학,2011,한화,0.000,4,2,2,0,0,0,0,0,1,0,1,0,2,1,0,0.0,0.5,0,180cm/72kg,1992년 08월 11일,내야수(우투좌타),광주대성초-광주동성중-광주동성고,10000만원,0.5\"                     \n",
              "[4] \"1,강경학,2014,한화,-,4,0,2,0,0,0,0,0,0,0,0,0,0,0,0,,,0,180cm/72kg,1992년 08월 11일,내야수(우투좌타),광주대성초-광주동성중-광주동성고,10000만원,\"                                  \n",
              "[5] \"1,강경학,2015,한화,0.130,10,23,3,3,0,0,0,3,1,3,0,4,1,9,0,0.13,0.28600000000000003,2,180cm/72kg,1992년 08월 11일,내야수(우투좌타),광주대성초-광주동성중-광주동성고,10000만원,0.416\"\n",
              "[6] \"1,강경학,2016,한화,0.188,14,32,4,6,1,1,0,9,2,1,2,0,1,10,0,0.281,0.212,0,180cm/72kg,1992년 08월 11일,내야수(우투좌타),광주대성초-광주동성중-광주동성고,10000만원,0.493\"            "
            ],
            "text/latex": "\\begin{enumerate*}\n\\item 'batter\\_id,batter\\_name,year,team,avg,G,AB,R,H,2B,3B,HR,TB,RBI,SB,CS,BB,HBP,SO,GDP,SLG,OBP,E,height/weight,year\\_born,position,career,starting\\_salary,OPS'\n\\item '0,가르시아,2018,LG,0.350,7,20,1,7,1,0,1,11,5,0,0,2,0,3,1,0.55,0.409,1,177cm/93kg,1985년 04월 12일,내야수(우투우타),쿠바 Ciego de Avila Maximo Gomez Baez(대),,0.9590000000000001'\n\\item '1,강경학,2011,한화,0.000,4,2,2,0,0,0,0,0,1,0,1,0,2,1,0,0.0,0.5,0,180cm/72kg,1992년 08월 11일,내야수(우투좌타),광주대성초-광주동성중-광주동성고,10000만원,0.5'\n\\item '1,강경학,2014,한화,-,4,0,2,0,0,0,0,0,0,0,0,0,0,0,0,,,0,180cm/72kg,1992년 08월 11일,내야수(우투좌타),광주대성초-광주동성중-광주동성고,10000만원,'\n\\item '1,강경학,2015,한화,0.130,10,23,3,3,0,0,0,3,1,3,0,4,1,9,0,0.13,0.28600000000000003,2,180cm/72kg,1992년 08월 11일,내야수(우투좌타),광주대성초-광주동성중-광주동성고,10000만원,0.416'\n\\item '1,강경학,2016,한화,0.188,14,32,4,6,1,1,0,9,2,1,2,0,1,10,0,0.281,0.212,0,180cm/72kg,1992년 08월 11일,내야수(우투좌타),광주대성초-광주동성중-광주동성고,10000만원,0.493'\n\\end{enumerate*}\n",
            "text/markdown": "1. 'batter_id,batter_name,year,team,avg,G,AB,R,H,2B,3B,HR,TB,RBI,SB,CS,BB,HBP,SO,GDP,SLG,OBP,E,height/weight,year_born,position,career,starting_salary,OPS'\n2. '0,가르시아,2018,LG,0.350,7,20,1,7,1,0,1,11,5,0,0,2,0,3,1,0.55,0.409,1,177cm/93kg,1985년 04월 12일,내야수(우투우타),쿠바 Ciego de Avila Maximo Gomez Baez(대),,0.9590000000000001'\n3. '1,강경학,2011,한화,0.000,4,2,2,0,0,0,0,0,1,0,1,0,2,1,0,0.0,0.5,0,180cm/72kg,1992년 08월 11일,내야수(우투좌타),광주대성초-광주동성중-광주동성고,10000만원,0.5'\n4. '1,강경학,2014,한화,-,4,0,2,0,0,0,0,0,0,0,0,0,0,0,0,,,0,180cm/72kg,1992년 08월 11일,내야수(우투좌타),광주대성초-광주동성중-광주동성고,10000만원,'\n5. '1,강경학,2015,한화,0.130,10,23,3,3,0,0,0,3,1,3,0,4,1,9,0,0.13,0.28600000000000003,2,180cm/72kg,1992년 08월 11일,내야수(우투좌타),광주대성초-광주동성중-광주동성고,10000만원,0.416'\n6. '1,강경학,2016,한화,0.188,14,32,4,6,1,1,0,9,2,1,2,0,1,10,0,0.281,0.212,0,180cm/72kg,1992년 08월 11일,내야수(우투좌타),광주대성초-광주동성중-광주동성고,10000만원,0.493'\n\n\n",
            "text/html": [
              "<style>\n",
              ".list-inline {list-style: none; margin:0; padding: 0}\n",
              ".list-inline>li {display: inline-block}\n",
              ".list-inline>li:not(:last-child)::after {content: \"\\00b7\"; padding: 0 .5ex}\n",
              "</style>\n",
              "<ol class=list-inline><li>'batter_id,batter_name,year,team,avg,G,AB,R,H,2B,3B,HR,TB,RBI,SB,CS,BB,HBP,SO,GDP,SLG,OBP,E,height/weight,year_born,position,career,starting_salary,OPS'</li><li>'0,가르시아,2018,LG,0.350,7,20,1,7,1,0,1,11,5,0,0,2,0,3,1,0.55,0.409,1,177cm/93kg,1985년 04월 12일,내야수(우투우타),쿠바 Ciego de Avila Maximo Gomez Baez(대),,0.9590000000000001'</li><li>'1,강경학,2011,한화,0.000,4,2,2,0,0,0,0,0,1,0,1,0,2,1,0,0.0,0.5,0,180cm/72kg,1992년 08월 11일,내야수(우투좌타),광주대성초-광주동성중-광주동성고,10000만원,0.5'</li><li>'1,강경학,2014,한화,-,4,0,2,0,0,0,0,0,0,0,0,0,0,0,0,,,0,180cm/72kg,1992년 08월 11일,내야수(우투좌타),광주대성초-광주동성중-광주동성고,10000만원,'</li><li>'1,강경학,2015,한화,0.130,10,23,3,3,0,0,0,3,1,3,0,4,1,9,0,0.13,0.28600000000000003,2,180cm/72kg,1992년 08월 11일,내야수(우투좌타),광주대성초-광주동성중-광주동성고,10000만원,0.416'</li><li>'1,강경학,2016,한화,0.188,14,32,4,6,1,1,0,9,2,1,2,0,1,10,0,0.281,0.212,0,180cm/72kg,1992년 08월 11일,내야수(우투좌타),광주대성초-광주동성중-광주동성고,10000만원,0.493'</li></ol>\n"
            ]
          },
          "metadata": {
            "tags": []
          }
        }
      ]
    },
    {
      "cell_type": "code",
      "metadata": {
        "id": "5aI-ZELOwFYq",
        "colab_type": "code",
        "colab": {
          "base_uri": "https://localhost:8080/",
          "height": 34
        },
        "outputId": "738bb720-e3f0-48c1-a1da-e93045ecc871"
      },
      "source": [
        "col_name <- str_split(n[1], \",\") %>% unlist()\n",
        "col_name"
      ],
      "execution_count": null,
      "outputs": [
        {
          "output_type": "display_data",
          "data": {
            "text/plain": [
              " [1] \"batter_id\"       \"batter_name\"     \"year\"            \"team\"           \n",
              " [5] \"avg\"             \"G\"               \"AB\"              \"R\"              \n",
              " [9] \"H\"               \"2B\"              \"3B\"              \"HR\"             \n",
              "[13] \"TB\"              \"RBI\"             \"SB\"              \"CS\"             \n",
              "[17] \"BB\"              \"HBP\"             \"SO\"              \"GDP\"            \n",
              "[21] \"SLG\"             \"OBP\"             \"E\"               \"height/weight\"  \n",
              "[25] \"year_born\"       \"position\"        \"career\"          \"starting_salary\"\n",
              "[29] \"OPS\"            "
            ],
            "text/latex": "\\begin{enumerate*}\n\\item 'batter\\_id'\n\\item 'batter\\_name'\n\\item 'year'\n\\item 'team'\n\\item 'avg'\n\\item 'G'\n\\item 'AB'\n\\item 'R'\n\\item 'H'\n\\item '2B'\n\\item '3B'\n\\item 'HR'\n\\item 'TB'\n\\item 'RBI'\n\\item 'SB'\n\\item 'CS'\n\\item 'BB'\n\\item 'HBP'\n\\item 'SO'\n\\item 'GDP'\n\\item 'SLG'\n\\item 'OBP'\n\\item 'E'\n\\item 'height/weight'\n\\item 'year\\_born'\n\\item 'position'\n\\item 'career'\n\\item 'starting\\_salary'\n\\item 'OPS'\n\\end{enumerate*}\n",
            "text/markdown": "1. 'batter_id'\n2. 'batter_name'\n3. 'year'\n4. 'team'\n5. 'avg'\n6. 'G'\n7. 'AB'\n8. 'R'\n9. 'H'\n10. '2B'\n11. '3B'\n12. 'HR'\n13. 'TB'\n14. 'RBI'\n15. 'SB'\n16. 'CS'\n17. 'BB'\n18. 'HBP'\n19. 'SO'\n20. 'GDP'\n21. 'SLG'\n22. 'OBP'\n23. 'E'\n24. 'height/weight'\n25. 'year_born'\n26. 'position'\n27. 'career'\n28. 'starting_salary'\n29. 'OPS'\n\n\n",
            "text/html": [
              "<style>\n",
              ".list-inline {list-style: none; margin:0; padding: 0}\n",
              ".list-inline>li {display: inline-block}\n",
              ".list-inline>li:not(:last-child)::after {content: \"\\00b7\"; padding: 0 .5ex}\n",
              "</style>\n",
              "<ol class=list-inline><li>'batter_id'</li><li>'batter_name'</li><li>'year'</li><li>'team'</li><li>'avg'</li><li>'G'</li><li>'AB'</li><li>'R'</li><li>'H'</li><li>'2B'</li><li>'3B'</li><li>'HR'</li><li>'TB'</li><li>'RBI'</li><li>'SB'</li><li>'CS'</li><li>'BB'</li><li>'HBP'</li><li>'SO'</li><li>'GDP'</li><li>'SLG'</li><li>'OBP'</li><li>'E'</li><li>'height/weight'</li><li>'year_born'</li><li>'position'</li><li>'career'</li><li>'starting_salary'</li><li>'OPS'</li></ol>\n"
            ]
          },
          "metadata": {
            "tags": []
          }
        }
      ]
    },
    {
      "cell_type": "code",
      "metadata": {
        "id": "X0y0caMMg0MU",
        "colab_type": "code",
        "colab": {
          "base_uri": "https://localhost:8080/",
          "height": 34
        },
        "outputId": "5817b4b8-00b7-4d01-c455-072274df98a6"
      },
      "source": [
        "names(DF)"
      ],
      "execution_count": null,
      "outputs": [
        {
          "output_type": "display_data",
          "data": {
            "text/plain": [
              " [1] \"V1\"  \"V2\"  \"V3\"  \"V4\"  \"V5\"  \"V6\"  \"V7\"  \"V8\"  \"V9\"  \"V10\" \"V11\" \"V12\"\n",
              "[13] \"V13\" \"V14\" \"V15\" \"V16\" \"V17\" \"V18\" \"V19\" \"V20\" \"V21\" \"V22\" \"V23\" \"V24\"\n",
              "[25] \"V25\" \"V26\" \"V27\" \"V28\" \"V29\""
            ],
            "text/latex": "\\begin{enumerate*}\n\\item 'V1'\n\\item 'V2'\n\\item 'V3'\n\\item 'V4'\n\\item 'V5'\n\\item 'V6'\n\\item 'V7'\n\\item 'V8'\n\\item 'V9'\n\\item 'V10'\n\\item 'V11'\n\\item 'V12'\n\\item 'V13'\n\\item 'V14'\n\\item 'V15'\n\\item 'V16'\n\\item 'V17'\n\\item 'V18'\n\\item 'V19'\n\\item 'V20'\n\\item 'V21'\n\\item 'V22'\n\\item 'V23'\n\\item 'V24'\n\\item 'V25'\n\\item 'V26'\n\\item 'V27'\n\\item 'V28'\n\\item 'V29'\n\\end{enumerate*}\n",
            "text/markdown": "1. 'V1'\n2. 'V2'\n3. 'V3'\n4. 'V4'\n5. 'V5'\n6. 'V6'\n7. 'V7'\n8. 'V8'\n9. 'V9'\n10. 'V10'\n11. 'V11'\n12. 'V12'\n13. 'V13'\n14. 'V14'\n15. 'V15'\n16. 'V16'\n17. 'V17'\n18. 'V18'\n19. 'V19'\n20. 'V20'\n21. 'V21'\n22. 'V22'\n23. 'V23'\n24. 'V24'\n25. 'V25'\n26. 'V26'\n27. 'V27'\n28. 'V28'\n29. 'V29'\n\n\n",
            "text/html": [
              "<style>\n",
              ".list-inline {list-style: none; margin:0; padding: 0}\n",
              ".list-inline>li {display: inline-block}\n",
              ".list-inline>li:not(:last-child)::after {content: \"\\00b7\"; padding: 0 .5ex}\n",
              "</style>\n",
              "<ol class=list-inline><li>'V1'</li><li>'V2'</li><li>'V3'</li><li>'V4'</li><li>'V5'</li><li>'V6'</li><li>'V7'</li><li>'V8'</li><li>'V9'</li><li>'V10'</li><li>'V11'</li><li>'V12'</li><li>'V13'</li><li>'V14'</li><li>'V15'</li><li>'V16'</li><li>'V17'</li><li>'V18'</li><li>'V19'</li><li>'V20'</li><li>'V21'</li><li>'V22'</li><li>'V23'</li><li>'V24'</li><li>'V25'</li><li>'V26'</li><li>'V27'</li><li>'V28'</li><li>'V29'</li></ol>\n"
            ]
          },
          "metadata": {
            "tags": []
          }
        }
      ]
    },
    {
      "cell_type": "code",
      "metadata": {
        "id": "RxmNCPlfwTgF",
        "colab_type": "code",
        "colab": {
          "base_uri": "https://localhost:8080/",
          "height": 306
        },
        "outputId": "605cdb87-9f89-48eb-ff94-c3851114de4b"
      },
      "source": [
        "names(DF) <- col_name\n",
        "DF %>% show()"
      ],
      "execution_count": null,
      "outputs": [
        {
          "output_type": "stream",
          "text": [
            "\u001b[90m# A tibble: 1,394 x 29\u001b[39m\n",
            "   batter_id batter_name year  team  avg   G     AB    R     H     `2B`  `3B` \n",
            "   \u001b[3m\u001b[90m<chr>\u001b[39m\u001b[23m     \u001b[3m\u001b[90m<chr>\u001b[39m\u001b[23m       \u001b[3m\u001b[90m<chr>\u001b[39m\u001b[23m \u001b[3m\u001b[90m<chr>\u001b[39m\u001b[23m \u001b[3m\u001b[90m<chr>\u001b[39m\u001b[23m \u001b[3m\u001b[90m<chr>\u001b[39m\u001b[23m \u001b[3m\u001b[90m<chr>\u001b[39m\u001b[23m \u001b[3m\u001b[90m<chr>\u001b[39m\u001b[23m \u001b[3m\u001b[90m<chr>\u001b[39m\u001b[23m \u001b[3m\u001b[90m<chr>\u001b[39m\u001b[23m \u001b[3m\u001b[90m<chr>\u001b[39m\u001b[23m\n",
            "\u001b[90m 1\u001b[39m batter_id batter_name year  team  avg   G     AB    R     H     2B    3B   \n",
            "\u001b[90m 2\u001b[39m 0         가르시아    2018  LG    0.350 7     20    1     7     1     0    \n",
            "\u001b[90m 3\u001b[39m 1         강경학      2011  한화  0.000 4     2     2     0     0     0    \n",
            "\u001b[90m 4\u001b[39m 1         강경학      2014  한화  -     4     0     2     0     0     0    \n",
            "\u001b[90m 5\u001b[39m 1         강경학      2015  한화  0.130 10    23    3     3     0     0    \n",
            "\u001b[90m 6\u001b[39m 1         강경학      2016  한화  0.188 14    32    4     6     1     1    \n",
            "\u001b[90m 7\u001b[39m 1         강경학      2017  한화  0.222 11    36    10    8     0     0    \n",
            "\u001b[90m 8\u001b[39m 2         강구성      2013  NC    0.000 3     4     0     0     0     0    \n",
            "\u001b[90m 9\u001b[39m 2         강구성      2016  NC    0.000 3     1     0     0     0     0    \n",
            "\u001b[90m10\u001b[39m 2         강구성      2017  NC    1.000 2     1     0     1     0     0    \n",
            "\u001b[90m# … with 1,384 more rows, and 18 more variables: HR \u001b[3m\u001b[90m<chr>\u001b[90m\u001b[23m, TB \u001b[3m\u001b[90m<chr>\u001b[90m\u001b[23m, RBI \u001b[3m\u001b[90m<chr>\u001b[90m\u001b[23m,\u001b[39m\n",
            "\u001b[90m#   SB \u001b[3m\u001b[90m<chr>\u001b[90m\u001b[23m, CS \u001b[3m\u001b[90m<chr>\u001b[90m\u001b[23m, BB \u001b[3m\u001b[90m<chr>\u001b[90m\u001b[23m, HBP \u001b[3m\u001b[90m<chr>\u001b[90m\u001b[23m, SO \u001b[3m\u001b[90m<chr>\u001b[90m\u001b[23m, GDP \u001b[3m\u001b[90m<chr>\u001b[90m\u001b[23m, SLG \u001b[3m\u001b[90m<chr>\u001b[90m\u001b[23m,\u001b[39m\n",
            "\u001b[90m#   OBP \u001b[3m\u001b[90m<chr>\u001b[90m\u001b[23m, E \u001b[3m\u001b[90m<chr>\u001b[90m\u001b[23m, `height/weight` \u001b[3m\u001b[90m<chr>\u001b[90m\u001b[23m, year_born \u001b[3m\u001b[90m<chr>\u001b[90m\u001b[23m, position \u001b[3m\u001b[90m<chr>\u001b[90m\u001b[23m,\u001b[39m\n",
            "\u001b[90m#   career \u001b[3m\u001b[90m<chr>\u001b[90m\u001b[23m, starting_salary \u001b[3m\u001b[90m<chr>\u001b[90m\u001b[23m, OPS \u001b[3m\u001b[90m<chr>\u001b[90m\u001b[23m\u001b[39m\n"
          ],
          "name": "stdout"
        }
      ]
    },
    {
      "cell_type": "code",
      "metadata": {
        "id": "cx6jXqvuyUOk",
        "colab_type": "code",
        "colab": {
          "base_uri": "https://localhost:8080/",
          "height": 306
        },
        "outputId": "2836dc8a-cd52-4168-c058-411ea8f6a6ab"
      },
      "source": [
        "DF <- DF[2:nrow(DF), ]\n",
        "DF %>% show()"
      ],
      "execution_count": null,
      "outputs": [
        {
          "output_type": "stream",
          "text": [
            "\u001b[90m# A tibble: 1,393 x 29\u001b[39m\n",
            "   batter_id batter_name year  team  avg   G     AB    R     H     `2B`  `3B` \n",
            "   \u001b[3m\u001b[90m<chr>\u001b[39m\u001b[23m     \u001b[3m\u001b[90m<chr>\u001b[39m\u001b[23m       \u001b[3m\u001b[90m<chr>\u001b[39m\u001b[23m \u001b[3m\u001b[90m<chr>\u001b[39m\u001b[23m \u001b[3m\u001b[90m<chr>\u001b[39m\u001b[23m \u001b[3m\u001b[90m<chr>\u001b[39m\u001b[23m \u001b[3m\u001b[90m<chr>\u001b[39m\u001b[23m \u001b[3m\u001b[90m<chr>\u001b[39m\u001b[23m \u001b[3m\u001b[90m<chr>\u001b[39m\u001b[23m \u001b[3m\u001b[90m<chr>\u001b[39m\u001b[23m \u001b[3m\u001b[90m<chr>\u001b[39m\u001b[23m\n",
            "\u001b[90m 1\u001b[39m 0         가르시아    2018  LG    0.350 7     20    1     7     1     0    \n",
            "\u001b[90m 2\u001b[39m 1         강경학      2011  한화  0.000 4     2     2     0     0     0    \n",
            "\u001b[90m 3\u001b[39m 1         강경학      2014  한화  -     4     0     2     0     0     0    \n",
            "\u001b[90m 4\u001b[39m 1         강경학      2015  한화  0.130 10    23    3     3     0     0    \n",
            "\u001b[90m 5\u001b[39m 1         강경학      2016  한화  0.188 14    32    4     6     1     1    \n",
            "\u001b[90m 6\u001b[39m 1         강경학      2017  한화  0.222 11    36    10    8     0     0    \n",
            "\u001b[90m 7\u001b[39m 2         강구성      2013  NC    0.000 3     4     0     0     0     0    \n",
            "\u001b[90m 8\u001b[39m 2         강구성      2016  NC    0.000 3     1     0     0     0     0    \n",
            "\u001b[90m 9\u001b[39m 2         강구성      2017  NC    1.000 2     1     0     1     0     0    \n",
            "\u001b[90m10\u001b[39m 69        김태완      2006  한화  0.200 10    15    0     3     0     0    \n",
            "\u001b[90m# … with 1,383 more rows, and 18 more variables: HR \u001b[3m\u001b[90m<chr>\u001b[90m\u001b[23m, TB \u001b[3m\u001b[90m<chr>\u001b[90m\u001b[23m, RBI \u001b[3m\u001b[90m<chr>\u001b[90m\u001b[23m,\u001b[39m\n",
            "\u001b[90m#   SB \u001b[3m\u001b[90m<chr>\u001b[90m\u001b[23m, CS \u001b[3m\u001b[90m<chr>\u001b[90m\u001b[23m, BB \u001b[3m\u001b[90m<chr>\u001b[90m\u001b[23m, HBP \u001b[3m\u001b[90m<chr>\u001b[90m\u001b[23m, SO \u001b[3m\u001b[90m<chr>\u001b[90m\u001b[23m, GDP \u001b[3m\u001b[90m<chr>\u001b[90m\u001b[23m, SLG \u001b[3m\u001b[90m<chr>\u001b[90m\u001b[23m,\u001b[39m\n",
            "\u001b[90m#   OBP \u001b[3m\u001b[90m<chr>\u001b[90m\u001b[23m, E \u001b[3m\u001b[90m<chr>\u001b[90m\u001b[23m, `height/weight` \u001b[3m\u001b[90m<chr>\u001b[90m\u001b[23m, year_born \u001b[3m\u001b[90m<chr>\u001b[90m\u001b[23m, position \u001b[3m\u001b[90m<chr>\u001b[90m\u001b[23m,\u001b[39m\n",
            "\u001b[90m#   career \u001b[3m\u001b[90m<chr>\u001b[90m\u001b[23m, starting_salary \u001b[3m\u001b[90m<chr>\u001b[90m\u001b[23m, OPS \u001b[3m\u001b[90m<chr>\u001b[90m\u001b[23m\u001b[39m\n"
          ],
          "name": "stdout"
        }
      ]
    },
    {
      "cell_type": "code",
      "metadata": {
        "id": "WKu8a2Z93irk",
        "colab_type": "code",
        "colab": {}
      },
      "source": [
        "# dplyr\n",
        "DF <- fread(\"ftp://210.115.229.94/2020_datascience/6th_data/Pre_Season_Batter.csv\", header = F) %>%\n",
        "  as_tibble()"
      ],
      "execution_count": null,
      "outputs": []
    },
    {
      "cell_type": "code",
      "metadata": {
        "id": "C0qUgQykf8kG",
        "colab_type": "code",
        "colab": {
          "base_uri": "https://localhost:8080/",
          "height": 306
        },
        "outputId": "6cfb3d0b-3a70-4145-f686-e84f8adf30e1"
      },
      "source": [
        "DF %>% rename_all(funs(as.character(DF[1,]))) %>% show()"
      ],
      "execution_count": null,
      "outputs": [
        {
          "output_type": "stream",
          "text": [
            "\u001b[90m# A tibble: 1,394 x 29\u001b[39m\n",
            "   batter_id batter_name year  team  avg   G     AB    R     H     `2B`  `3B` \n",
            "   \u001b[3m\u001b[90m<chr>\u001b[39m\u001b[23m     \u001b[3m\u001b[90m<chr>\u001b[39m\u001b[23m       \u001b[3m\u001b[90m<chr>\u001b[39m\u001b[23m \u001b[3m\u001b[90m<chr>\u001b[39m\u001b[23m \u001b[3m\u001b[90m<chr>\u001b[39m\u001b[23m \u001b[3m\u001b[90m<chr>\u001b[39m\u001b[23m \u001b[3m\u001b[90m<chr>\u001b[39m\u001b[23m \u001b[3m\u001b[90m<chr>\u001b[39m\u001b[23m \u001b[3m\u001b[90m<chr>\u001b[39m\u001b[23m \u001b[3m\u001b[90m<chr>\u001b[39m\u001b[23m \u001b[3m\u001b[90m<chr>\u001b[39m\u001b[23m\n",
            "\u001b[90m 1\u001b[39m batter_id batter_name year  team  avg   G     AB    R     H     2B    3B   \n",
            "\u001b[90m 2\u001b[39m 0         가르시아    2018  LG    0.350 7     20    1     7     1     0    \n",
            "\u001b[90m 3\u001b[39m 1         강경학      2011  한화  0.000 4     2     2     0     0     0    \n",
            "\u001b[90m 4\u001b[39m 1         강경학      2014  한화  -     4     0     2     0     0     0    \n",
            "\u001b[90m 5\u001b[39m 1         강경학      2015  한화  0.130 10    23    3     3     0     0    \n",
            "\u001b[90m 6\u001b[39m 1         강경학      2016  한화  0.188 14    32    4     6     1     1    \n",
            "\u001b[90m 7\u001b[39m 1         강경학      2017  한화  0.222 11    36    10    8     0     0    \n",
            "\u001b[90m 8\u001b[39m 2         강구성      2013  NC    0.000 3     4     0     0     0     0    \n",
            "\u001b[90m 9\u001b[39m 2         강구성      2016  NC    0.000 3     1     0     0     0     0    \n",
            "\u001b[90m10\u001b[39m 2         강구성      2017  NC    1.000 2     1     0     1     0     0    \n",
            "\u001b[90m# … with 1,384 more rows, and 18 more variables: HR \u001b[3m\u001b[90m<chr>\u001b[90m\u001b[23m, TB \u001b[3m\u001b[90m<chr>\u001b[90m\u001b[23m, RBI \u001b[3m\u001b[90m<chr>\u001b[90m\u001b[23m,\u001b[39m\n",
            "\u001b[90m#   SB \u001b[3m\u001b[90m<chr>\u001b[90m\u001b[23m, CS \u001b[3m\u001b[90m<chr>\u001b[90m\u001b[23m, BB \u001b[3m\u001b[90m<chr>\u001b[90m\u001b[23m, HBP \u001b[3m\u001b[90m<chr>\u001b[90m\u001b[23m, SO \u001b[3m\u001b[90m<chr>\u001b[90m\u001b[23m, GDP \u001b[3m\u001b[90m<chr>\u001b[90m\u001b[23m, SLG \u001b[3m\u001b[90m<chr>\u001b[90m\u001b[23m,\u001b[39m\n",
            "\u001b[90m#   OBP \u001b[3m\u001b[90m<chr>\u001b[90m\u001b[23m, E \u001b[3m\u001b[90m<chr>\u001b[90m\u001b[23m, `height/weight` \u001b[3m\u001b[90m<chr>\u001b[90m\u001b[23m, year_born \u001b[3m\u001b[90m<chr>\u001b[90m\u001b[23m, position \u001b[3m\u001b[90m<chr>\u001b[90m\u001b[23m,\u001b[39m\n",
            "\u001b[90m#   career \u001b[3m\u001b[90m<chr>\u001b[90m\u001b[23m, starting_salary \u001b[3m\u001b[90m<chr>\u001b[90m\u001b[23m, OPS \u001b[3m\u001b[90m<chr>\u001b[90m\u001b[23m\u001b[39m\n"
          ],
          "name": "stdout"
        }
      ]
    },
    {
      "cell_type": "code",
      "metadata": {
        "id": "a6EYx6se3pOZ",
        "colab_type": "code",
        "colab": {
          "base_uri": "https://localhost:8080/",
          "height": 306
        },
        "outputId": "808a8083-9858-41d1-9cb8-585d8a23ff32"
      },
      "source": [
        "DF <- DF %>% rename_all(funs(as.character(DF[1,]))) %>% .[2:nrow(DF), ]\n",
        "DF %>% show()"
      ],
      "execution_count": null,
      "outputs": [
        {
          "output_type": "stream",
          "text": [
            "\u001b[90m# A tibble: 1,393 x 29\u001b[39m\n",
            "   batter_id batter_name year  team  avg   G     AB    R     H     `2B`  `3B` \n",
            "   \u001b[3m\u001b[90m<chr>\u001b[39m\u001b[23m     \u001b[3m\u001b[90m<chr>\u001b[39m\u001b[23m       \u001b[3m\u001b[90m<chr>\u001b[39m\u001b[23m \u001b[3m\u001b[90m<chr>\u001b[39m\u001b[23m \u001b[3m\u001b[90m<chr>\u001b[39m\u001b[23m \u001b[3m\u001b[90m<chr>\u001b[39m\u001b[23m \u001b[3m\u001b[90m<chr>\u001b[39m\u001b[23m \u001b[3m\u001b[90m<chr>\u001b[39m\u001b[23m \u001b[3m\u001b[90m<chr>\u001b[39m\u001b[23m \u001b[3m\u001b[90m<chr>\u001b[39m\u001b[23m \u001b[3m\u001b[90m<chr>\u001b[39m\u001b[23m\n",
            "\u001b[90m 1\u001b[39m 0         가르시아    2018  LG    0.350 7     20    1     7     1     0    \n",
            "\u001b[90m 2\u001b[39m 1         강경학      2011  한화  0.000 4     2     2     0     0     0    \n",
            "\u001b[90m 3\u001b[39m 1         강경학      2014  한화  -     4     0     2     0     0     0    \n",
            "\u001b[90m 4\u001b[39m 1         강경학      2015  한화  0.130 10    23    3     3     0     0    \n",
            "\u001b[90m 5\u001b[39m 1         강경학      2016  한화  0.188 14    32    4     6     1     1    \n",
            "\u001b[90m 6\u001b[39m 1         강경학      2017  한화  0.222 11    36    10    8     0     0    \n",
            "\u001b[90m 7\u001b[39m 2         강구성      2013  NC    0.000 3     4     0     0     0     0    \n",
            "\u001b[90m 8\u001b[39m 2         강구성      2016  NC    0.000 3     1     0     0     0     0    \n",
            "\u001b[90m 9\u001b[39m 2         강구성      2017  NC    1.000 2     1     0     1     0     0    \n",
            "\u001b[90m10\u001b[39m 69        김태완      2006  한화  0.200 10    15    0     3     0     0    \n",
            "\u001b[90m# … with 1,383 more rows, and 18 more variables: HR \u001b[3m\u001b[90m<chr>\u001b[90m\u001b[23m, TB \u001b[3m\u001b[90m<chr>\u001b[90m\u001b[23m, RBI \u001b[3m\u001b[90m<chr>\u001b[90m\u001b[23m,\u001b[39m\n",
            "\u001b[90m#   SB \u001b[3m\u001b[90m<chr>\u001b[90m\u001b[23m, CS \u001b[3m\u001b[90m<chr>\u001b[90m\u001b[23m, BB \u001b[3m\u001b[90m<chr>\u001b[90m\u001b[23m, HBP \u001b[3m\u001b[90m<chr>\u001b[90m\u001b[23m, SO \u001b[3m\u001b[90m<chr>\u001b[90m\u001b[23m, GDP \u001b[3m\u001b[90m<chr>\u001b[90m\u001b[23m, SLG \u001b[3m\u001b[90m<chr>\u001b[90m\u001b[23m,\u001b[39m\n",
            "\u001b[90m#   OBP \u001b[3m\u001b[90m<chr>\u001b[90m\u001b[23m, E \u001b[3m\u001b[90m<chr>\u001b[90m\u001b[23m, `height/weight` \u001b[3m\u001b[90m<chr>\u001b[90m\u001b[23m, year_born \u001b[3m\u001b[90m<chr>\u001b[90m\u001b[23m, position \u001b[3m\u001b[90m<chr>\u001b[90m\u001b[23m,\u001b[39m\n",
            "\u001b[90m#   career \u001b[3m\u001b[90m<chr>\u001b[90m\u001b[23m, starting_salary \u001b[3m\u001b[90m<chr>\u001b[90m\u001b[23m, OPS \u001b[3m\u001b[90m<chr>\u001b[90m\u001b[23m\u001b[39m\n"
          ],
          "name": "stdout"
        }
      ]
    },
    {
      "cell_type": "code",
      "metadata": {
        "id": "-lXzShEc3AYJ",
        "colab_type": "code",
        "colab": {
          "base_uri": "https://localhost:8080/",
          "height": 306
        },
        "outputId": "b4f13568-b12e-40d3-b894-ee3c664fbe11"
      },
      "source": [
        "# mutate를 이용한 data type 변경 일부분\n",
        "DF %>% mutate(batter_id = as.numeric(batter_id), G = as.numeric(G), AB = as.numeric(AB)) %>% show()"
      ],
      "execution_count": null,
      "outputs": [
        {
          "output_type": "stream",
          "text": [
            "\u001b[90m# A tibble: 1,393 x 29\u001b[39m\n",
            "   batter_id batter_name year  team  avg       G    AB R     H     `2B`  `3B` \n",
            "       \u001b[3m\u001b[90m<dbl>\u001b[39m\u001b[23m \u001b[3m\u001b[90m<chr>\u001b[39m\u001b[23m       \u001b[3m\u001b[90m<chr>\u001b[39m\u001b[23m \u001b[3m\u001b[90m<chr>\u001b[39m\u001b[23m \u001b[3m\u001b[90m<chr>\u001b[39m\u001b[23m \u001b[3m\u001b[90m<dbl>\u001b[39m\u001b[23m \u001b[3m\u001b[90m<dbl>\u001b[39m\u001b[23m \u001b[3m\u001b[90m<chr>\u001b[39m\u001b[23m \u001b[3m\u001b[90m<chr>\u001b[39m\u001b[23m \u001b[3m\u001b[90m<chr>\u001b[39m\u001b[23m \u001b[3m\u001b[90m<chr>\u001b[39m\u001b[23m\n",
            "\u001b[90m 1\u001b[39m         0 가르시아    2018  LG    0.350     7    20 1     7     1     0    \n",
            "\u001b[90m 2\u001b[39m         1 강경학      2011  한화  0.000     4     2 2     0     0     0    \n",
            "\u001b[90m 3\u001b[39m         1 강경학      2014  한화  -         4     0 2     0     0     0    \n",
            "\u001b[90m 4\u001b[39m         1 강경학      2015  한화  0.130    10    23 3     3     0     0    \n",
            "\u001b[90m 5\u001b[39m         1 강경학      2016  한화  0.188    14    32 4     6     1     1    \n",
            "\u001b[90m 6\u001b[39m         1 강경학      2017  한화  0.222    11    36 10    8     0     0    \n",
            "\u001b[90m 7\u001b[39m         2 강구성      2013  NC    0.000     3     4 0     0     0     0    \n",
            "\u001b[90m 8\u001b[39m         2 강구성      2016  NC    0.000     3     1 0     0     0     0    \n",
            "\u001b[90m 9\u001b[39m         2 강구성      2017  NC    1.000     2     1 0     1     0     0    \n",
            "\u001b[90m10\u001b[39m        69 김태완      2006  한화  0.200    10    15 0     3     0     0    \n",
            "\u001b[90m# … with 1,383 more rows, and 18 more variables: HR \u001b[3m\u001b[90m<chr>\u001b[90m\u001b[23m, TB \u001b[3m\u001b[90m<chr>\u001b[90m\u001b[23m, RBI \u001b[3m\u001b[90m<chr>\u001b[90m\u001b[23m,\u001b[39m\n",
            "\u001b[90m#   SB \u001b[3m\u001b[90m<chr>\u001b[90m\u001b[23m, CS \u001b[3m\u001b[90m<chr>\u001b[90m\u001b[23m, BB \u001b[3m\u001b[90m<chr>\u001b[90m\u001b[23m, HBP \u001b[3m\u001b[90m<chr>\u001b[90m\u001b[23m, SO \u001b[3m\u001b[90m<chr>\u001b[90m\u001b[23m, GDP \u001b[3m\u001b[90m<chr>\u001b[90m\u001b[23m, SLG \u001b[3m\u001b[90m<chr>\u001b[90m\u001b[23m,\u001b[39m\n",
            "\u001b[90m#   OBP \u001b[3m\u001b[90m<chr>\u001b[90m\u001b[23m, E \u001b[3m\u001b[90m<chr>\u001b[90m\u001b[23m, `height/weight` \u001b[3m\u001b[90m<chr>\u001b[90m\u001b[23m, year_born \u001b[3m\u001b[90m<chr>\u001b[90m\u001b[23m, position \u001b[3m\u001b[90m<chr>\u001b[90m\u001b[23m,\u001b[39m\n",
            "\u001b[90m#   career \u001b[3m\u001b[90m<chr>\u001b[90m\u001b[23m, starting_salary \u001b[3m\u001b[90m<chr>\u001b[90m\u001b[23m, OPS \u001b[3m\u001b[90m<chr>\u001b[90m\u001b[23m\u001b[39m\n"
          ],
          "name": "stdout"
        }
      ]
    },
    {
      "cell_type": "code",
      "metadata": {
        "id": "N2c8OylXyxdh",
        "colab_type": "code",
        "colab": {
          "base_uri": "https://localhost:8080/",
          "height": 306
        },
        "outputId": "c25d11b7-4684-4f84-ba0d-52a3815bf8c0"
      },
      "source": [
        "# mutate_at를 이용한 data type 변경 일부분\n",
        "DF %>% mutate_at(vars(batter_id, G, AB), as.numeric) %>% show()"
      ],
      "execution_count": null,
      "outputs": [
        {
          "output_type": "stream",
          "text": [
            "\u001b[90m# A tibble: 1,393 x 29\u001b[39m\n",
            "   batter_id batter_name year  team  avg       G    AB R     H     `2B`  `3B` \n",
            "       \u001b[3m\u001b[90m<dbl>\u001b[39m\u001b[23m \u001b[3m\u001b[90m<chr>\u001b[39m\u001b[23m       \u001b[3m\u001b[90m<chr>\u001b[39m\u001b[23m \u001b[3m\u001b[90m<chr>\u001b[39m\u001b[23m \u001b[3m\u001b[90m<chr>\u001b[39m\u001b[23m \u001b[3m\u001b[90m<dbl>\u001b[39m\u001b[23m \u001b[3m\u001b[90m<dbl>\u001b[39m\u001b[23m \u001b[3m\u001b[90m<chr>\u001b[39m\u001b[23m \u001b[3m\u001b[90m<chr>\u001b[39m\u001b[23m \u001b[3m\u001b[90m<chr>\u001b[39m\u001b[23m \u001b[3m\u001b[90m<chr>\u001b[39m\u001b[23m\n",
            "\u001b[90m 1\u001b[39m         0 가르시아    2018  LG    0.350     7    20 1     7     1     0    \n",
            "\u001b[90m 2\u001b[39m         1 강경학      2011  한화  0.000     4     2 2     0     0     0    \n",
            "\u001b[90m 3\u001b[39m         1 강경학      2014  한화  -         4     0 2     0     0     0    \n",
            "\u001b[90m 4\u001b[39m         1 강경학      2015  한화  0.130    10    23 3     3     0     0    \n",
            "\u001b[90m 5\u001b[39m         1 강경학      2016  한화  0.188    14    32 4     6     1     1    \n",
            "\u001b[90m 6\u001b[39m         1 강경학      2017  한화  0.222    11    36 10    8     0     0    \n",
            "\u001b[90m 7\u001b[39m         2 강구성      2013  NC    0.000     3     4 0     0     0     0    \n",
            "\u001b[90m 8\u001b[39m         2 강구성      2016  NC    0.000     3     1 0     0     0     0    \n",
            "\u001b[90m 9\u001b[39m         2 강구성      2017  NC    1.000     2     1 0     1     0     0    \n",
            "\u001b[90m10\u001b[39m        69 김태완      2006  한화  0.200    10    15 0     3     0     0    \n",
            "\u001b[90m# … with 1,383 more rows, and 18 more variables: HR \u001b[3m\u001b[90m<chr>\u001b[90m\u001b[23m, TB \u001b[3m\u001b[90m<chr>\u001b[90m\u001b[23m, RBI \u001b[3m\u001b[90m<chr>\u001b[90m\u001b[23m,\u001b[39m\n",
            "\u001b[90m#   SB \u001b[3m\u001b[90m<chr>\u001b[90m\u001b[23m, CS \u001b[3m\u001b[90m<chr>\u001b[90m\u001b[23m, BB \u001b[3m\u001b[90m<chr>\u001b[90m\u001b[23m, HBP \u001b[3m\u001b[90m<chr>\u001b[90m\u001b[23m, SO \u001b[3m\u001b[90m<chr>\u001b[90m\u001b[23m, GDP \u001b[3m\u001b[90m<chr>\u001b[90m\u001b[23m, SLG \u001b[3m\u001b[90m<chr>\u001b[90m\u001b[23m,\u001b[39m\n",
            "\u001b[90m#   OBP \u001b[3m\u001b[90m<chr>\u001b[90m\u001b[23m, E \u001b[3m\u001b[90m<chr>\u001b[90m\u001b[23m, `height/weight` \u001b[3m\u001b[90m<chr>\u001b[90m\u001b[23m, year_born \u001b[3m\u001b[90m<chr>\u001b[90m\u001b[23m, position \u001b[3m\u001b[90m<chr>\u001b[90m\u001b[23m,\u001b[39m\n",
            "\u001b[90m#   career \u001b[3m\u001b[90m<chr>\u001b[90m\u001b[23m, starting_salary \u001b[3m\u001b[90m<chr>\u001b[90m\u001b[23m, OPS \u001b[3m\u001b[90m<chr>\u001b[90m\u001b[23m\u001b[39m\n"
          ],
          "name": "stdout"
        }
      ]
    },
    {
      "cell_type": "markdown",
      "metadata": {
        "id": "RS8kxu2E6YOv",
        "colab_type": "text"
      },
      "source": [
        "* ``sample_frac, sample_n``\n",
        "\n",
        "**<arguments!>**\n",
        " 1. ``size`` For sample_n(), the number of rows to select. For sample_frac(), the fraction of rows to select. If tbl is grouped, size applies to each group.\n",
        " 2. ``replace`` Sample with or without replacement?"
      ]
    },
    {
      "cell_type": "code",
      "metadata": {
        "id": "y-EGngSP7D3B",
        "colab_type": "code",
        "colab": {
          "base_uri": "https://localhost:8080/",
          "height": 306
        },
        "outputId": "837d82af-541c-498d-c595-61528cee6260"
      },
      "source": [
        "train_set <- sample_frac(DF, 0.7, replace = F)\n",
        "train_set %>% show()"
      ],
      "execution_count": null,
      "outputs": [
        {
          "output_type": "stream",
          "text": [
            "\u001b[90m# A tibble: 975 x 29\u001b[39m\n",
            "   batter_id batter_name year  team  avg   G     AB    R     H     `2B`  `3B` \n",
            "   \u001b[3m\u001b[90m<chr>\u001b[39m\u001b[23m     \u001b[3m\u001b[90m<chr>\u001b[39m\u001b[23m       \u001b[3m\u001b[90m<chr>\u001b[39m\u001b[23m \u001b[3m\u001b[90m<chr>\u001b[39m\u001b[23m \u001b[3m\u001b[90m<chr>\u001b[39m\u001b[23m \u001b[3m\u001b[90m<chr>\u001b[39m\u001b[23m \u001b[3m\u001b[90m<chr>\u001b[39m\u001b[23m \u001b[3m\u001b[90m<chr>\u001b[39m\u001b[23m \u001b[3m\u001b[90m<chr>\u001b[39m\u001b[23m \u001b[3m\u001b[90m<chr>\u001b[39m\u001b[23m \u001b[3m\u001b[90m<chr>\u001b[39m\u001b[23m\n",
            "\u001b[90m 1\u001b[39m 142       번즈        2018  롯데  0.286 5     14    1     4     0     0    \n",
            "\u001b[90m 2\u001b[39m 324       하주석      2018  한화  0.222 6     18    3     4     0     0    \n",
            "\u001b[90m 3\u001b[39m 211       이성열      2003  LG    0.000 2     1     0     0     0     0    \n",
            "\u001b[90m 4\u001b[39m 202       이대호      2007  롯데  0.242 11    33    8     8     2     0    \n",
            "\u001b[90m 5\u001b[39m 239       이해창      2011  넥센  0.600 8     5     3     3     0     0    \n",
            "\u001b[90m 6\u001b[39m 146       서상우      2016  LG    0.471 12    17    3     8     1     0    \n",
            "\u001b[90m 7\u001b[39m 234       이진영      2017  KT    0.462 5     13    3     6     0     0    \n",
            "\u001b[90m 8\u001b[39m 193       윤병호      2015  NC    0.200 10    5     1     1     0     0    \n",
            "\u001b[90m 9\u001b[39m 119       박용택      2002  LG    -     1     0     0     0     0     0    \n",
            "\u001b[90m10\u001b[39m 284       조동화      2014  SK    0.111 11    18    2     2     1     0    \n",
            "\u001b[90m# … with 965 more rows, and 18 more variables: HR \u001b[3m\u001b[90m<chr>\u001b[90m\u001b[23m, TB \u001b[3m\u001b[90m<chr>\u001b[90m\u001b[23m, RBI \u001b[3m\u001b[90m<chr>\u001b[90m\u001b[23m,\u001b[39m\n",
            "\u001b[90m#   SB \u001b[3m\u001b[90m<chr>\u001b[90m\u001b[23m, CS \u001b[3m\u001b[90m<chr>\u001b[90m\u001b[23m, BB \u001b[3m\u001b[90m<chr>\u001b[90m\u001b[23m, HBP \u001b[3m\u001b[90m<chr>\u001b[90m\u001b[23m, SO \u001b[3m\u001b[90m<chr>\u001b[90m\u001b[23m, GDP \u001b[3m\u001b[90m<chr>\u001b[90m\u001b[23m, SLG \u001b[3m\u001b[90m<chr>\u001b[90m\u001b[23m,\u001b[39m\n",
            "\u001b[90m#   OBP \u001b[3m\u001b[90m<chr>\u001b[90m\u001b[23m, E \u001b[3m\u001b[90m<chr>\u001b[90m\u001b[23m, `height/weight` \u001b[3m\u001b[90m<chr>\u001b[90m\u001b[23m, year_born \u001b[3m\u001b[90m<chr>\u001b[90m\u001b[23m, position \u001b[3m\u001b[90m<chr>\u001b[90m\u001b[23m,\u001b[39m\n",
            "\u001b[90m#   career \u001b[3m\u001b[90m<chr>\u001b[90m\u001b[23m, starting_salary \u001b[3m\u001b[90m<chr>\u001b[90m\u001b[23m, OPS \u001b[3m\u001b[90m<chr>\u001b[90m\u001b[23m\u001b[39m\n"
          ],
          "name": "stdout"
        }
      ]
    },
    {
      "cell_type": "code",
      "metadata": {
        "id": "8LNkc80O8Gp7",
        "colab_type": "code",
        "colab": {
          "base_uri": "https://localhost:8080/",
          "height": 306
        },
        "outputId": "7eddba63-e841-47f1-f3d0-53b96ba628c1"
      },
      "source": [
        "test_set <- setdiff(DF, train_set)\n",
        "test_set %>% show()"
      ],
      "execution_count": null,
      "outputs": [
        {
          "output_type": "stream",
          "text": [
            "\u001b[90m# A tibble: 418 x 29\u001b[39m\n",
            "   batter_id batter_name year  team  avg   G     AB    R     H     `2B`  `3B` \n",
            "   \u001b[3m\u001b[90m<chr>\u001b[39m\u001b[23m     \u001b[3m\u001b[90m<chr>\u001b[39m\u001b[23m       \u001b[3m\u001b[90m<chr>\u001b[39m\u001b[23m \u001b[3m\u001b[90m<chr>\u001b[39m\u001b[23m \u001b[3m\u001b[90m<chr>\u001b[39m\u001b[23m \u001b[3m\u001b[90m<chr>\u001b[39m\u001b[23m \u001b[3m\u001b[90m<chr>\u001b[39m\u001b[23m \u001b[3m\u001b[90m<chr>\u001b[39m\u001b[23m \u001b[3m\u001b[90m<chr>\u001b[39m\u001b[23m \u001b[3m\u001b[90m<chr>\u001b[39m\u001b[23m \u001b[3m\u001b[90m<chr>\u001b[39m\u001b[23m\n",
            "\u001b[90m 1\u001b[39m 1         강경학      2011  한화  0.000 4     2     2     0     0     0    \n",
            "\u001b[90m 2\u001b[39m 1         강경학      2014  한화  -     4     0     2     0     0     0    \n",
            "\u001b[90m 3\u001b[39m 2         강구성      2017  NC    1.000 2     1     0     1     0     0    \n",
            "\u001b[90m 4\u001b[39m 69        김태완      2008  한화  0.375 10    24    3     9     1     0    \n",
            "\u001b[90m 5\u001b[39m 4         강민호      2011  롯데  0.353 13    34    4     12    3     0    \n",
            "\u001b[90m 6\u001b[39m 4         강민호      2017  롯데  0.300 10    20    1     6     0     0    \n",
            "\u001b[90m 7\u001b[39m 11        강진성      2017  NC    0.000 3     4     0     0     0     0    \n",
            "\u001b[90m 8\u001b[39m 11        강진성      2018  NC    0.250 6     8     1     2     0     0    \n",
            "\u001b[90m 9\u001b[39m 12        강한울      2015  KIA   0.600 3     10    2     6     0     1    \n",
            "\u001b[90m10\u001b[39m 12        강한울      2017  삼성  0.222 10    18    2     4     1     0    \n",
            "\u001b[90m# … with 408 more rows, and 18 more variables: HR \u001b[3m\u001b[90m<chr>\u001b[90m\u001b[23m, TB \u001b[3m\u001b[90m<chr>\u001b[90m\u001b[23m, RBI \u001b[3m\u001b[90m<chr>\u001b[90m\u001b[23m,\u001b[39m\n",
            "\u001b[90m#   SB \u001b[3m\u001b[90m<chr>\u001b[90m\u001b[23m, CS \u001b[3m\u001b[90m<chr>\u001b[90m\u001b[23m, BB \u001b[3m\u001b[90m<chr>\u001b[90m\u001b[23m, HBP \u001b[3m\u001b[90m<chr>\u001b[90m\u001b[23m, SO \u001b[3m\u001b[90m<chr>\u001b[90m\u001b[23m, GDP \u001b[3m\u001b[90m<chr>\u001b[90m\u001b[23m, SLG \u001b[3m\u001b[90m<chr>\u001b[90m\u001b[23m,\u001b[39m\n",
            "\u001b[90m#   OBP \u001b[3m\u001b[90m<chr>\u001b[90m\u001b[23m, E \u001b[3m\u001b[90m<chr>\u001b[90m\u001b[23m, `height/weight` \u001b[3m\u001b[90m<chr>\u001b[90m\u001b[23m, year_born \u001b[3m\u001b[90m<chr>\u001b[90m\u001b[23m, position \u001b[3m\u001b[90m<chr>\u001b[90m\u001b[23m,\u001b[39m\n",
            "\u001b[90m#   career \u001b[3m\u001b[90m<chr>\u001b[90m\u001b[23m, starting_salary \u001b[3m\u001b[90m<chr>\u001b[90m\u001b[23m, OPS \u001b[3m\u001b[90m<chr>\u001b[90m\u001b[23m\u001b[39m\n"
          ],
          "name": "stdout"
        }
      ]
    },
    {
      "cell_type": "markdown",
      "metadata": {
        "id": "m27MG3us_DPY",
        "colab_type": "text"
      },
      "source": [
        "* ``join``\n",
        "\n",
        "https://statkclee.github.io/data-science/ds-dplyr-join.html"
      ]
    },
    {
      "cell_type": "code",
      "metadata": {
        "id": "T5_bTGBMNwe_",
        "colab_type": "code",
        "colab": {}
      },
      "source": [
        "ftp_url <- \"ftp://210.115.229.94/2020_datascience/6th_data/\"\n",
        "Pre_DF <- fread(paste0(ftp_url, \"Pre_Season_Batter.csv\"), header = T, encoding = \"UTF-8\") %>% as_tibble()\n",
        "Reg_DF <- fread(paste0(ftp_url, \"Regular_Season_Batter.csv\"), header = T, encoding = \"UTF-8\") %>% as_tibble()"
      ],
      "execution_count": null,
      "outputs": []
    },
    {
      "cell_type": "code",
      "metadata": {
        "id": "k4qI-1DyOWQ5",
        "colab_type": "code",
        "colab": {
          "base_uri": "https://localhost:8080/",
          "height": 306
        },
        "outputId": "bbebe0d8-ac5e-45a3-939a-6d8325b58875"
      },
      "source": [
        "Pre_DF %>% show()"
      ],
      "execution_count": null,
      "outputs": [
        {
          "output_type": "stream",
          "text": [
            "\u001b[90m# A tibble: 1,393 x 29\u001b[39m\n",
            "   batter_id batter_name  year team  avg       G    AB     R     H  `2B`  `3B`\n",
            "       \u001b[3m\u001b[90m<int>\u001b[39m\u001b[23m \u001b[3m\u001b[90m<chr>\u001b[39m\u001b[23m       \u001b[3m\u001b[90m<int>\u001b[39m\u001b[23m \u001b[3m\u001b[90m<chr>\u001b[39m\u001b[23m \u001b[3m\u001b[90m<chr>\u001b[39m\u001b[23m \u001b[3m\u001b[90m<int>\u001b[39m\u001b[23m \u001b[3m\u001b[90m<int>\u001b[39m\u001b[23m \u001b[3m\u001b[90m<int>\u001b[39m\u001b[23m \u001b[3m\u001b[90m<int>\u001b[39m\u001b[23m \u001b[3m\u001b[90m<int>\u001b[39m\u001b[23m \u001b[3m\u001b[90m<int>\u001b[39m\u001b[23m\n",
            "\u001b[90m 1\u001b[39m         0 가르시아     \u001b[4m2\u001b[24m018 LG    0.350     7    20     1     7     1     0\n",
            "\u001b[90m 2\u001b[39m         1 강경학       \u001b[4m2\u001b[24m011 한화  0.000     4     2     2     0     0     0\n",
            "\u001b[90m 3\u001b[39m         1 강경학       \u001b[4m2\u001b[24m014 한화  -         4     0     2     0     0     0\n",
            "\u001b[90m 4\u001b[39m         1 강경학       \u001b[4m2\u001b[24m015 한화  0.130    10    23     3     3     0     0\n",
            "\u001b[90m 5\u001b[39m         1 강경학       \u001b[4m2\u001b[24m016 한화  0.188    14    32     4     6     1     1\n",
            "\u001b[90m 6\u001b[39m         1 강경학       \u001b[4m2\u001b[24m017 한화  0.222    11    36    10     8     0     0\n",
            "\u001b[90m 7\u001b[39m         2 강구성       \u001b[4m2\u001b[24m013 NC    0.000     3     4     0     0     0     0\n",
            "\u001b[90m 8\u001b[39m         2 강구성       \u001b[4m2\u001b[24m016 NC    0.000     3     1     0     0     0     0\n",
            "\u001b[90m 9\u001b[39m         2 강구성       \u001b[4m2\u001b[24m017 NC    1.000     2     1     0     1     0     0\n",
            "\u001b[90m10\u001b[39m        69 김태완       \u001b[4m2\u001b[24m006 한화  0.200    10    15     0     3     0     0\n",
            "\u001b[90m# … with 1,383 more rows, and 18 more variables: HR \u001b[3m\u001b[90m<int>\u001b[90m\u001b[23m, TB \u001b[3m\u001b[90m<int>\u001b[90m\u001b[23m, RBI \u001b[3m\u001b[90m<int>\u001b[90m\u001b[23m,\u001b[39m\n",
            "\u001b[90m#   SB \u001b[3m\u001b[90m<int>\u001b[90m\u001b[23m, CS \u001b[3m\u001b[90m<int>\u001b[90m\u001b[23m, BB \u001b[3m\u001b[90m<int>\u001b[90m\u001b[23m, HBP \u001b[3m\u001b[90m<int>\u001b[90m\u001b[23m, SO \u001b[3m\u001b[90m<int>\u001b[90m\u001b[23m, GDP \u001b[3m\u001b[90m<int>\u001b[90m\u001b[23m, SLG \u001b[3m\u001b[90m<dbl>\u001b[90m\u001b[23m,\u001b[39m\n",
            "\u001b[90m#   OBP \u001b[3m\u001b[90m<dbl>\u001b[90m\u001b[23m, E \u001b[3m\u001b[90m<int>\u001b[90m\u001b[23m, `height/weight` \u001b[3m\u001b[90m<chr>\u001b[90m\u001b[23m, year_born \u001b[3m\u001b[90m<chr>\u001b[90m\u001b[23m, position \u001b[3m\u001b[90m<chr>\u001b[90m\u001b[23m,\u001b[39m\n",
            "\u001b[90m#   career \u001b[3m\u001b[90m<chr>\u001b[90m\u001b[23m, starting_salary \u001b[3m\u001b[90m<chr>\u001b[90m\u001b[23m, OPS \u001b[3m\u001b[90m<dbl>\u001b[90m\u001b[23m\u001b[39m\n"
          ],
          "name": "stdout"
        }
      ]
    },
    {
      "cell_type": "code",
      "metadata": {
        "id": "xmhBqTAYOgDc",
        "colab_type": "code",
        "colab": {
          "base_uri": "https://localhost:8080/",
          "height": 306
        },
        "outputId": "e3999a22-8705-481b-d339-7fe2a6d17824"
      },
      "source": [
        "Reg_DF %>% show()"
      ],
      "execution_count": null,
      "outputs": [
        {
          "output_type": "stream",
          "text": [
            "\u001b[90m# A tibble: 2,454 x 29\u001b[39m\n",
            "   batter_id batter_name  year team    avg     G    AB     R     H  `2B`  `3B`\n",
            "       \u001b[3m\u001b[90m<int>\u001b[39m\u001b[23m \u001b[3m\u001b[90m<chr>\u001b[39m\u001b[23m       \u001b[3m\u001b[90m<int>\u001b[39m\u001b[23m \u001b[3m\u001b[90m<chr>\u001b[39m\u001b[23m \u001b[3m\u001b[90m<dbl>\u001b[39m\u001b[23m \u001b[3m\u001b[90m<int>\u001b[39m\u001b[23m \u001b[3m\u001b[90m<int>\u001b[39m\u001b[23m \u001b[3m\u001b[90m<int>\u001b[39m\u001b[23m \u001b[3m\u001b[90m<int>\u001b[39m\u001b[23m \u001b[3m\u001b[90m<int>\u001b[39m\u001b[23m \u001b[3m\u001b[90m<int>\u001b[39m\u001b[23m\n",
            "\u001b[90m 1\u001b[39m         0 가르시아     \u001b[4m2\u001b[24m018 LG    0.339    50   183    27    62     9     0\n",
            "\u001b[90m 2\u001b[39m         1 강경학       \u001b[4m2\u001b[24m011 한화  0         2     1     0     0     0     0\n",
            "\u001b[90m 3\u001b[39m         1 강경학       \u001b[4m2\u001b[24m014 한화  0.221    41    86    11    19     2     3\n",
            "\u001b[90m 4\u001b[39m         1 강경학       \u001b[4m2\u001b[24m015 한화  0.257   120   311    50    80     7     4\n",
            "\u001b[90m 5\u001b[39m         1 강경학       \u001b[4m2\u001b[24m016 한화  0.158    46   101    16    16     3     2\n",
            "\u001b[90m 6\u001b[39m         1 강경학       \u001b[4m2\u001b[24m017 한화  0.214    59    84    17    18     2     1\n",
            "\u001b[90m 7\u001b[39m         1 강경학       \u001b[4m2\u001b[24m018 한화  0.278    77   245    42    68    11     1\n",
            "\u001b[90m 8\u001b[39m         2 강구성       \u001b[4m2\u001b[24m013 NC    0         2     2     0     0     0     0\n",
            "\u001b[90m 9\u001b[39m         2 강구성       \u001b[4m2\u001b[24m015 NC    0.2       4     5     0     1     1     0\n",
            "\u001b[90m10\u001b[39m         2 강구성       \u001b[4m2\u001b[24m016 NC    0         2     3     0     0     0     0\n",
            "\u001b[90m# … with 2,444 more rows, and 18 more variables: HR \u001b[3m\u001b[90m<int>\u001b[90m\u001b[23m, TB \u001b[3m\u001b[90m<int>\u001b[90m\u001b[23m, RBI \u001b[3m\u001b[90m<int>\u001b[90m\u001b[23m,\u001b[39m\n",
            "\u001b[90m#   SB \u001b[3m\u001b[90m<int>\u001b[90m\u001b[23m, CS \u001b[3m\u001b[90m<int>\u001b[90m\u001b[23m, BB \u001b[3m\u001b[90m<int>\u001b[90m\u001b[23m, HBP \u001b[3m\u001b[90m<int>\u001b[90m\u001b[23m, SO \u001b[3m\u001b[90m<int>\u001b[90m\u001b[23m, GDP \u001b[3m\u001b[90m<int>\u001b[90m\u001b[23m, SLG \u001b[3m\u001b[90m<dbl>\u001b[90m\u001b[23m,\u001b[39m\n",
            "\u001b[90m#   OBP \u001b[3m\u001b[90m<dbl>\u001b[90m\u001b[23m, E \u001b[3m\u001b[90m<int>\u001b[90m\u001b[23m, `height/weight` \u001b[3m\u001b[90m<chr>\u001b[90m\u001b[23m, year_born \u001b[3m\u001b[90m<chr>\u001b[90m\u001b[23m, position \u001b[3m\u001b[90m<chr>\u001b[90m\u001b[23m,\u001b[39m\n",
            "\u001b[90m#   career \u001b[3m\u001b[90m<chr>\u001b[90m\u001b[23m, starting_salary \u001b[3m\u001b[90m<chr>\u001b[90m\u001b[23m, OPS \u001b[3m\u001b[90m<dbl>\u001b[90m\u001b[23m\u001b[39m\n"
          ],
          "name": "stdout"
        }
      ]
    },
    {
      "cell_type": "code",
      "metadata": {
        "id": "81cC-gYdO6ls",
        "colab_type": "code",
        "colab": {
          "base_uri": "https://localhost:8080/",
          "height": 408
        },
        "outputId": "5c1f4503-5f9b-4762-a75b-0d8d4a60d1d6"
      },
      "source": [
        "#inner join\n",
        "inner_join(x = Pre_DF, y = Reg_DF, by = c(\"batter_id\", \"batter_name\", \"year\")) %>% show()"
      ],
      "execution_count": null,
      "outputs": [
        {
          "output_type": "stream",
          "text": [
            "\u001b[90m# A tibble: 1,358 x 55\u001b[39m\n",
            "   batter_id batter_name  year team.x avg.x   G.x  AB.x   R.x   H.x `2B.x`\n",
            "       \u001b[3m\u001b[90m<int>\u001b[39m\u001b[23m \u001b[3m\u001b[90m<chr>\u001b[39m\u001b[23m       \u001b[3m\u001b[90m<int>\u001b[39m\u001b[23m \u001b[3m\u001b[90m<chr>\u001b[39m\u001b[23m  \u001b[3m\u001b[90m<chr>\u001b[39m\u001b[23m \u001b[3m\u001b[90m<int>\u001b[39m\u001b[23m \u001b[3m\u001b[90m<int>\u001b[39m\u001b[23m \u001b[3m\u001b[90m<int>\u001b[39m\u001b[23m \u001b[3m\u001b[90m<int>\u001b[39m\u001b[23m  \u001b[3m\u001b[90m<int>\u001b[39m\u001b[23m\n",
            "\u001b[90m 1\u001b[39m         0 가르시아     \u001b[4m2\u001b[24m018 LG     0.350     7    20     1     7      1\n",
            "\u001b[90m 2\u001b[39m         1 강경학       \u001b[4m2\u001b[24m011 한화   0.000     4     2     2     0      0\n",
            "\u001b[90m 3\u001b[39m         1 강경학       \u001b[4m2\u001b[24m014 한화   -         4     0     2     0      0\n",
            "\u001b[90m 4\u001b[39m         1 강경학       \u001b[4m2\u001b[24m015 한화   0.130    10    23     3     3      0\n",
            "\u001b[90m 5\u001b[39m         1 강경학       \u001b[4m2\u001b[24m016 한화   0.188    14    32     4     6      1\n",
            "\u001b[90m 6\u001b[39m         1 강경학       \u001b[4m2\u001b[24m017 한화   0.222    11    36    10     8      0\n",
            "\u001b[90m 7\u001b[39m         2 강구성       \u001b[4m2\u001b[24m013 NC     0.000     3     4     0     0      0\n",
            "\u001b[90m 8\u001b[39m         2 강구성       \u001b[4m2\u001b[24m016 NC     0.000     3     1     0     0      0\n",
            "\u001b[90m 9\u001b[39m         2 강구성       \u001b[4m2\u001b[24m017 NC     1.000     2     1     0     1      0\n",
            "\u001b[90m10\u001b[39m        69 김태완       \u001b[4m2\u001b[24m006 한화   0.200    10    15     0     3      0\n",
            "\u001b[90m# … with 1,348 more rows, and 45 more variables: `3B.x` \u001b[3m\u001b[90m<int>\u001b[90m\u001b[23m, HR.x \u001b[3m\u001b[90m<int>\u001b[90m\u001b[23m,\u001b[39m\n",
            "\u001b[90m#   TB.x \u001b[3m\u001b[90m<int>\u001b[90m\u001b[23m, RBI.x \u001b[3m\u001b[90m<int>\u001b[90m\u001b[23m, SB.x \u001b[3m\u001b[90m<int>\u001b[90m\u001b[23m, CS.x \u001b[3m\u001b[90m<int>\u001b[90m\u001b[23m, BB.x \u001b[3m\u001b[90m<int>\u001b[90m\u001b[23m, HBP.x \u001b[3m\u001b[90m<int>\u001b[90m\u001b[23m,\u001b[39m\n",
            "\u001b[90m#   SO.x \u001b[3m\u001b[90m<int>\u001b[90m\u001b[23m, GDP.x \u001b[3m\u001b[90m<int>\u001b[90m\u001b[23m, SLG.x \u001b[3m\u001b[90m<dbl>\u001b[90m\u001b[23m, OBP.x \u001b[3m\u001b[90m<dbl>\u001b[90m\u001b[23m, E.x \u001b[3m\u001b[90m<int>\u001b[90m\u001b[23m,\u001b[39m\n",
            "\u001b[90m#   `height/weight.x` \u001b[3m\u001b[90m<chr>\u001b[90m\u001b[23m, year_born.x \u001b[3m\u001b[90m<chr>\u001b[90m\u001b[23m, position.x \u001b[3m\u001b[90m<chr>\u001b[90m\u001b[23m,\u001b[39m\n",
            "\u001b[90m#   career.x \u001b[3m\u001b[90m<chr>\u001b[90m\u001b[23m, starting_salary.x \u001b[3m\u001b[90m<chr>\u001b[90m\u001b[23m, OPS.x \u001b[3m\u001b[90m<dbl>\u001b[90m\u001b[23m, team.y \u001b[3m\u001b[90m<chr>\u001b[90m\u001b[23m,\u001b[39m\n",
            "\u001b[90m#   avg.y \u001b[3m\u001b[90m<dbl>\u001b[90m\u001b[23m, G.y \u001b[3m\u001b[90m<int>\u001b[90m\u001b[23m, AB.y \u001b[3m\u001b[90m<int>\u001b[90m\u001b[23m, R.y \u001b[3m\u001b[90m<int>\u001b[90m\u001b[23m, H.y \u001b[3m\u001b[90m<int>\u001b[90m\u001b[23m, `2B.y` \u001b[3m\u001b[90m<int>\u001b[90m\u001b[23m,\u001b[39m\n",
            "\u001b[90m#   `3B.y` \u001b[3m\u001b[90m<int>\u001b[90m\u001b[23m, HR.y \u001b[3m\u001b[90m<int>\u001b[90m\u001b[23m, TB.y \u001b[3m\u001b[90m<int>\u001b[90m\u001b[23m, RBI.y \u001b[3m\u001b[90m<int>\u001b[90m\u001b[23m, SB.y \u001b[3m\u001b[90m<int>\u001b[90m\u001b[23m, CS.y \u001b[3m\u001b[90m<int>\u001b[90m\u001b[23m,\u001b[39m\n",
            "\u001b[90m#   BB.y \u001b[3m\u001b[90m<int>\u001b[90m\u001b[23m, HBP.y \u001b[3m\u001b[90m<int>\u001b[90m\u001b[23m, SO.y \u001b[3m\u001b[90m<int>\u001b[90m\u001b[23m, GDP.y \u001b[3m\u001b[90m<int>\u001b[90m\u001b[23m, SLG.y \u001b[3m\u001b[90m<dbl>\u001b[90m\u001b[23m, OBP.y \u001b[3m\u001b[90m<dbl>\u001b[90m\u001b[23m,\u001b[39m\n",
            "\u001b[90m#   E.y \u001b[3m\u001b[90m<int>\u001b[90m\u001b[23m, `height/weight.y` \u001b[3m\u001b[90m<chr>\u001b[90m\u001b[23m, year_born.y \u001b[3m\u001b[90m<chr>\u001b[90m\u001b[23m, position.y \u001b[3m\u001b[90m<chr>\u001b[90m\u001b[23m,\u001b[39m\n",
            "\u001b[90m#   career.y \u001b[3m\u001b[90m<chr>\u001b[90m\u001b[23m, starting_salary.y \u001b[3m\u001b[90m<chr>\u001b[90m\u001b[23m, OPS.y \u001b[3m\u001b[90m<dbl>\u001b[90m\u001b[23m\u001b[39m\n"
          ],
          "name": "stdout"
        }
      ]
    },
    {
      "cell_type": "code",
      "metadata": {
        "id": "p32iqrOSQl0d",
        "colab_type": "code",
        "colab": {
          "base_uri": "https://localhost:8080/",
          "height": 918
        },
        "outputId": "eefafab3-a476-4338-b4d8-a4bf31961ddc"
      },
      "source": [
        "# full join\n",
        "full_join(x = Pre_DF, y = Reg_DF, by = c(\"batter_id\", \"batter_name\", \"year\")) %>% head(40)"
      ],
      "execution_count": null,
      "outputs": [
        {
          "output_type": "display_data",
          "data": {
            "text/plain": [
              "   batter_id batter_name year team.x avg.x G.x AB.x R.x H.x 2B.x ⋯ GDP.y SLG.y\n",
              "1   0        가르시아    2018 LG     0.350  7  20    1   7  1    ⋯  3    0.519\n",
              "2   1        강경학      2011 한화   0.000  4   2    2   0  0    ⋯  0    0.000\n",
              "3   1        강경학      2014 한화   -      4   0    2   0  0    ⋯  1    0.349\n",
              "4   1        강경학      2015 한화   0.130 10  23    3   3  0    ⋯  3    0.325\n",
              "5   1        강경학      2016 한화   0.188 14  32    4   6  1    ⋯  5    0.257\n",
              "6   1        강경학      2017 한화   0.222 11  36   10   8  0    ⋯  1    0.262\n",
              "7   2        강구성      2013 NC     0.000  3   4    0   0  0    ⋯  0    0.000\n",
              "8   2        강구성      2016 NC     0.000  3   1    0   0  0    ⋯  0    0.000\n",
              "9   2        강구성      2017 NC     1.000  2   1    0   1  0    ⋯  0    0.000\n",
              "10 69        김태완      2006 한화   0.200 10  15    0   3  0    ⋯  0    0.500\n",
              "11 69        김태완      2007 한화   0.318  8  22    4   7  3    ⋯  3    0.426\n",
              "12 69        김태완      2008 한화   0.375 10  24    3   9  1    ⋯  9    0.488\n",
              "13 69        김태완      2009 한화   0.320 10  25    5   8  3    ⋯  6    0.539\n",
              "14 69        김태완      2010 한화   0.400  2   5    2   2  0    ⋯  9    0.422\n",
              "15 69        김태완      2013 한화   0.250  9  28    3   7  0    ⋯  8    0.308\n",
              "16 69        김태완      2014 한화   0.125 10  16    1   2  0    ⋯ 10    0.414\n",
              "17 69        김태완      2016 한화   0.000  3   3    0   0  0    ⋯  0    0.500\n",
              "18 69        김태완      2017 넥센   0.370 12  27    2  10  1    ⋯  2    0.500\n",
              "19 69        김태완      2018 넥센   0.375  5   8    2   3  1    ⋯  4    0.273\n",
              "20  3        강민국      2014 NC     0.000  2   1    0   0  0    ⋯  0    0.000\n",
              "21  3        강민국      2015 NC     0.100  9  10    2   1  1    ⋯  0    0.000\n",
              "22  3        강민국      2016 NC     0.316 16  19    2   6  2    ⋯  1    0.304\n",
              "23  4        강민호      2005 롯데   0.250 11  20    2   5  4    ⋯  7    0.341\n",
              "24  4        강민호      2006 롯데   0.381  9  21    6   8  1    ⋯  5    0.366\n",
              "25  4        강민호      2007 롯데   0.136 10  22    2   3  0    ⋯ 10    0.421\n",
              "26  4        강민호      2008 롯데   0.200  5  10    0   2  1    ⋯ 13    0.485\n",
              "27  4        강민호      2009 롯데   0.167  2   6    0   1  0    ⋯  9    0.412\n",
              "28  4        강민호      2010 롯데   0.261 10  23    8   6  1    ⋯ 16    0.524\n",
              "29  4        강민호      2011 롯데   0.353 13  34    4  12  3    ⋯ 18    0.480\n",
              "30  4        강민호      2012 롯데   0.273  5  11    2   3  0    ⋯  9    0.468\n",
              "31  4        강민호      2013 롯데   0.333  6  15    2   5  1    ⋯  5    0.376\n",
              "32  4        강민호      2014 롯데   0.100  8  10    1   1  0    ⋯  6    0.442\n",
              "33  4        강민호      2015 롯데   0.158 10  19    1   3  0    ⋯ 14    0.639\n",
              "34  4        강민호      2016 롯데   0.095 10  21    3   2  0    ⋯  7    0.549\n",
              "35  4        강민호      2017 롯데   0.300 10  20    1   6  0    ⋯ 15    0.482\n",
              "36  4        강민호      2018 삼성   0.300  4  10    3   3  1    ⋯ 11    0.457\n",
              "37  5        강백호      2018 KT     0.333  6  18    2   6  1    ⋯  4    0.524\n",
              "38  8        강상원      2016 한화   -      6   0    1   0  0    ⋯ NA       NA\n",
              "39  8        강상원      2017 한화   0.000 10   1    4   0  0    ⋯  0    0.286\n",
              "40  8        강상원      2018 한화   0.000  6   8    1   0  0    ⋯  0    0.000\n",
              "   OBP.y E.y height/weight.y year_born.y      position.y      \n",
              "1  0.383  9  177cm/93kg      1985년 04월 12일 내야수(우투우타)\n",
              "2  0.000  1  180cm/72kg      1992년 08월 11일 내야수(우투좌타)\n",
              "3  0.337  6  180cm/72kg      1992년 08월 11일 내야수(우투좌타)\n",
              "4  0.348 15  180cm/72kg      1992년 08월 11일 내야수(우투좌타)\n",
              "5  0.232  7  180cm/72kg      1992년 08월 11일 내야수(우투좌타)\n",
              "6  0.290  4  180cm/72kg      1992년 08월 11일 내야수(우투좌타)\n",
              "7  0.000  0  180cm/82kg      1993년 06월 09일 외야수(우투좌타)\n",
              "8  0.000  0  180cm/82kg      1993년 06월 09일 외야수(우투좌타)\n",
              "9  0.000  0  180cm/82kg      1993년 06월 09일 외야수(우투좌타)\n",
              "10 0.500  0  189cm/105kg     1984년 01월 27일 내야수(우투우타)\n",
              "11 0.324  1  189cm/105kg     1984년 01월 27일 내야수(우투우타)\n",
              "12 0.362  1  189cm/105kg     1984년 01월 27일 내야수(우투우타)\n",
              "13 0.419  1  189cm/105kg     1984년 01월 27일 내야수(우투우타)\n",
              "14 0.418  2  189cm/105kg     1984년 01월 27일 내야수(우투우타)\n",
              "15 0.324  4  189cm/105kg     1984년 01월 27일 내야수(우투우타)\n",
              "16 0.350  1  189cm/105kg     1984년 01월 27일 내야수(우투우타)\n",
              "17 0.458  0  189cm/105kg     1984년 01월 27일 내야수(우투우타)\n",
              "18 0.380  1  189cm/105kg     1984년 01월 27일 내야수(우투우타)\n",
              "19 0.270  0  189cm/105kg     1984년 01월 27일 내야수(우투우타)\n",
              "20 0.000  2  176cm/80kg      1992년 01월 10일 내야수(우투우타)\n",
              "21 0.000  0  176cm/80kg      1992년 01월 10일 내야수(우투우타)\n",
              "22 0.200  4  176cm/80kg      1992년 01월 10일 내야수(우투우타)\n",
              "23 0.267  9  185cm/100kg     1985년 08월 18일 포수(우투우타)  \n",
              "24 0.307 12  185cm/100kg     1985년 08월 18일 포수(우투우타)  \n",
              "25 0.335 11  185cm/100kg     1985년 08월 18일 포수(우투우타)  \n",
              "26 0.365  6  185cm/100kg     1985년 08월 18일 포수(우투우타)  \n",
              "27 0.346  6  185cm/100kg     1985년 08월 18일 포수(우투우타)  \n",
              "28 0.376 11  185cm/100kg     1985년 08월 18일 포수(우투우타)  \n",
              "29 0.366 15  185cm/100kg     1985년 08월 18일 포수(우투우타)  \n",
              "30 0.355  3  185cm/100kg     1985년 08월 18일 포수(우투우타)  \n",
              "31 0.366  8  185cm/100kg     1985년 08월 18일 포수(우투우타)  \n",
              "32 0.325  3  185cm/100kg     1985년 08월 18일 포수(우투우타)  \n",
              "33 0.421  8  185cm/100kg     1985년 08월 18일 포수(우투우타)  \n",
              "34 0.433  4  185cm/100kg     1985년 08월 18일 포수(우투우타)  \n",
              "35 0.361 11  185cm/100kg     1985년 08월 18일 포수(우투우타)  \n",
              "36 0.331  8  185cm/100kg     1985년 08월 18일 포수(우투우타)  \n",
              "37 0.356  6  184cm/98kg      1999년 07월 29일 외야수(우투좌타)\n",
              "38    NA NA  NA              NA               NA              \n",
              "39 0.214  0  172cm/64kg      1997년 05월 05일 외야수(우투좌타)\n",
              "40 0.143  0  172cm/64kg      1997년 05월 05일 외야수(우투좌타)\n",
              "   career.y                                       starting_salary.y OPS.y\n",
              "1  쿠바 Ciego de Avila Maximo Gomez Baez(대)                        0.902\n",
              "2  광주대성초-광주동성중-광주동성고               10000만원         0.000\n",
              "3  광주대성초-광주동성중-광주동성고               10000만원         0.686\n",
              "4  광주대성초-광주동성중-광주동성고               10000만원         0.673\n",
              "5  광주대성초-광주동성중-광주동성고               10000만원         0.489\n",
              "6  광주대성초-광주동성중-광주동성고               10000만원         0.552\n",
              "7  관산초-부천중-야탑고-NC-상무                   9000만원          0.000\n",
              "8  관산초-부천중-야탑고-NC-상무                   9000만원          0.000\n",
              "9  관산초-부천중-야탑고-NC-상무                   9000만원          0.000\n",
              "10 양목초-신월중-중앙고-성균관대-한화             11000만원         1.000\n",
              "11 양목초-신월중-중앙고-성균관대-한화             11000만원         0.750\n",
              "12 양목초-신월중-중앙고-성균관대-한화             11000만원         0.850\n",
              "13 양목초-신월중-중앙고-성균관대-한화             11000만원         0.958\n",
              "14 양목초-신월중-중앙고-성균관대-한화             11000만원         0.840\n",
              "15 양목초-신월중-중앙고-성균관대-한화             11000만원         0.632\n",
              "16 양목초-신월중-중앙고-성균관대-한화             11000만원         0.764\n",
              "17 양목초-신월중-중앙고-성균관대-한화             11000만원         0.958\n",
              "18 양목초-신월중-중앙고-성균관대-한화             11000만원         0.880\n",
              "19 양목초-신월중-중앙고-성균관대-한화             11000만원         0.543\n",
              "20 송정동초-충장중-광주제일고-동국대-NC-상무      20000만원         0.000\n",
              "21 송정동초-충장중-광주제일고-동국대-NC-상무      20000만원         0.000\n",
              "22 송정동초-충장중-광주제일고-동국대-NC-상무      20000만원         0.504\n",
              "23 제주신광초-포철중-포철공고-(국제디지털대)-롯데 9000만원          0.608\n",
              "24 제주신광초-포철중-포철공고-(국제디지털대)-롯데 9000만원          0.673\n",
              "25 제주신광초-포철중-포철공고-(국제디지털대)-롯데 9000만원          0.756\n",
              "26 제주신광초-포철중-포철공고-(국제디지털대)-롯데 9000만원          0.850\n",
              "27 제주신광초-포철중-포철공고-(국제디지털대)-롯데 9000만원          0.758\n",
              "28 제주신광초-포철중-포철공고-(국제디지털대)-롯데 9000만원          0.900\n",
              "29 제주신광초-포철중-포철공고-(국제디지털대)-롯데 9000만원          0.846\n",
              "30 제주신광초-포철중-포철공고-(국제디지털대)-롯데 9000만원          0.823\n",
              "31 제주신광초-포철중-포철공고-(국제디지털대)-롯데 9000만원          0.742\n",
              "32 제주신광초-포철중-포철공고-(국제디지털대)-롯데 9000만원          0.767\n",
              "33 제주신광초-포철중-포철공고-(국제디지털대)-롯데 9000만원          1.060\n",
              "34 제주신광초-포철중-포철공고-(국제디지털대)-롯데 9000만원          0.982\n",
              "35 제주신광초-포철중-포철공고-(국제디지털대)-롯데 9000만원          0.843\n",
              "36 제주신광초-포철중-포철공고-(국제디지털대)-롯데 9000만원          0.788\n",
              "37 부천북초-이수중-서울고                         45000만원         0.880\n",
              "38 NA                                             NA                   NA\n",
              "39 온양온천초-온양중-북일고                       3000만원          0.500\n",
              "40 온양온천초-온양중-북일고                       3000만원          0.143"
            ],
            "text/latex": "A tibble: 40 × 55\n\\begin{tabular}{lllllllllllllllllllll}\n batter\\_id & batter\\_name & year & team.x & avg.x & G.x & AB.x & R.x & H.x & 2B.x & ⋯ & GDP.y & SLG.y & OBP.y & E.y & height/weight.y & year\\_born.y & position.y & career.y & starting\\_salary.y & OPS.y\\\\\n <int> & <chr> & <int> & <chr> & <chr> & <int> & <int> & <int> & <int> & <int> & ⋯ & <int> & <dbl> & <dbl> & <int> & <chr> & <chr> & <chr> & <chr> & <chr> & <dbl>\\\\\n\\hline\n\t  0 & 가르시아 & 2018 & LG   & 0.350 &  7 & 20 &  1 &  7 & 1 & ⋯ &  3 & 0.519 & 0.383 &  9 & 177cm/93kg  & 1985년 04월 12일 & 내야수(우투우타) & 쿠바 Ciego de Avila Maximo Gomez Baez(대)      &           & 0.902\\\\\n\t  1 & 강경학   & 2011 & 한화 & 0.000 &  4 &  2 &  2 &  0 & 0 & ⋯ &  0 & 0.000 & 0.000 &  1 & 180cm/72kg  & 1992년 08월 11일 & 내야수(우투좌타) & 광주대성초-광주동성중-광주동성고               & 10000만원 & 0.000\\\\\n\t  1 & 강경학   & 2014 & 한화 & -     &  4 &  0 &  2 &  0 & 0 & ⋯ &  1 & 0.349 & 0.337 &  6 & 180cm/72kg  & 1992년 08월 11일 & 내야수(우투좌타) & 광주대성초-광주동성중-광주동성고               & 10000만원 & 0.686\\\\\n\t  1 & 강경학   & 2015 & 한화 & 0.130 & 10 & 23 &  3 &  3 & 0 & ⋯ &  3 & 0.325 & 0.348 & 15 & 180cm/72kg  & 1992년 08월 11일 & 내야수(우투좌타) & 광주대성초-광주동성중-광주동성고               & 10000만원 & 0.673\\\\\n\t  1 & 강경학   & 2016 & 한화 & 0.188 & 14 & 32 &  4 &  6 & 1 & ⋯ &  5 & 0.257 & 0.232 &  7 & 180cm/72kg  & 1992년 08월 11일 & 내야수(우투좌타) & 광주대성초-광주동성중-광주동성고               & 10000만원 & 0.489\\\\\n\t  1 & 강경학   & 2017 & 한화 & 0.222 & 11 & 36 & 10 &  8 & 0 & ⋯ &  1 & 0.262 & 0.290 &  4 & 180cm/72kg  & 1992년 08월 11일 & 내야수(우투좌타) & 광주대성초-광주동성중-광주동성고               & 10000만원 & 0.552\\\\\n\t  2 & 강구성   & 2013 & NC   & 0.000 &  3 &  4 &  0 &  0 & 0 & ⋯ &  0 & 0.000 & 0.000 &  0 & 180cm/82kg  & 1993년 06월 09일 & 외야수(우투좌타) & 관산초-부천중-야탑고-NC-상무                   & 9000만원  & 0.000\\\\\n\t  2 & 강구성   & 2016 & NC   & 0.000 &  3 &  1 &  0 &  0 & 0 & ⋯ &  0 & 0.000 & 0.000 &  0 & 180cm/82kg  & 1993년 06월 09일 & 외야수(우투좌타) & 관산초-부천중-야탑고-NC-상무                   & 9000만원  & 0.000\\\\\n\t  2 & 강구성   & 2017 & NC   & 1.000 &  2 &  1 &  0 &  1 & 0 & ⋯ &  0 & 0.000 & 0.000 &  0 & 180cm/82kg  & 1993년 06월 09일 & 외야수(우투좌타) & 관산초-부천중-야탑고-NC-상무                   & 9000만원  & 0.000\\\\\n\t 69 & 김태완   & 2006 & 한화 & 0.200 & 10 & 15 &  0 &  3 & 0 & ⋯ &  0 & 0.500 & 0.500 &  0 & 189cm/105kg & 1984년 01월 27일 & 내야수(우투우타) & 양목초-신월중-중앙고-성균관대-한화             & 11000만원 & 1.000\\\\\n\t 69 & 김태완   & 2007 & 한화 & 0.318 &  8 & 22 &  4 &  7 & 3 & ⋯ &  3 & 0.426 & 0.324 &  1 & 189cm/105kg & 1984년 01월 27일 & 내야수(우투우타) & 양목초-신월중-중앙고-성균관대-한화             & 11000만원 & 0.750\\\\\n\t 69 & 김태완   & 2008 & 한화 & 0.375 & 10 & 24 &  3 &  9 & 1 & ⋯ &  9 & 0.488 & 0.362 &  1 & 189cm/105kg & 1984년 01월 27일 & 내야수(우투우타) & 양목초-신월중-중앙고-성균관대-한화             & 11000만원 & 0.850\\\\\n\t 69 & 김태완   & 2009 & 한화 & 0.320 & 10 & 25 &  5 &  8 & 3 & ⋯ &  6 & 0.539 & 0.419 &  1 & 189cm/105kg & 1984년 01월 27일 & 내야수(우투우타) & 양목초-신월중-중앙고-성균관대-한화             & 11000만원 & 0.958\\\\\n\t 69 & 김태완   & 2010 & 한화 & 0.400 &  2 &  5 &  2 &  2 & 0 & ⋯ &  9 & 0.422 & 0.418 &  2 & 189cm/105kg & 1984년 01월 27일 & 내야수(우투우타) & 양목초-신월중-중앙고-성균관대-한화             & 11000만원 & 0.840\\\\\n\t 69 & 김태완   & 2013 & 한화 & 0.250 &  9 & 28 &  3 &  7 & 0 & ⋯ &  8 & 0.308 & 0.324 &  4 & 189cm/105kg & 1984년 01월 27일 & 내야수(우투우타) & 양목초-신월중-중앙고-성균관대-한화             & 11000만원 & 0.632\\\\\n\t 69 & 김태완   & 2014 & 한화 & 0.125 & 10 & 16 &  1 &  2 & 0 & ⋯ & 10 & 0.414 & 0.350 &  1 & 189cm/105kg & 1984년 01월 27일 & 내야수(우투우타) & 양목초-신월중-중앙고-성균관대-한화             & 11000만원 & 0.764\\\\\n\t 69 & 김태완   & 2016 & 한화 & 0.000 &  3 &  3 &  0 &  0 & 0 & ⋯ &  0 & 0.500 & 0.458 &  0 & 189cm/105kg & 1984년 01월 27일 & 내야수(우투우타) & 양목초-신월중-중앙고-성균관대-한화             & 11000만원 & 0.958\\\\\n\t 69 & 김태완   & 2017 & 넥센 & 0.370 & 12 & 27 &  2 & 10 & 1 & ⋯ &  2 & 0.500 & 0.380 &  1 & 189cm/105kg & 1984년 01월 27일 & 내야수(우투우타) & 양목초-신월중-중앙고-성균관대-한화             & 11000만원 & 0.880\\\\\n\t 69 & 김태완   & 2018 & 넥센 & 0.375 &  5 &  8 &  2 &  3 & 1 & ⋯ &  4 & 0.273 & 0.270 &  0 & 189cm/105kg & 1984년 01월 27일 & 내야수(우투우타) & 양목초-신월중-중앙고-성균관대-한화             & 11000만원 & 0.543\\\\\n\t  3 & 강민국   & 2014 & NC   & 0.000 &  2 &  1 &  0 &  0 & 0 & ⋯ &  0 & 0.000 & 0.000 &  2 & 176cm/80kg  & 1992년 01월 10일 & 내야수(우투우타) & 송정동초-충장중-광주제일고-동국대-NC-상무      & 20000만원 & 0.000\\\\\n\t  3 & 강민국   & 2015 & NC   & 0.100 &  9 & 10 &  2 &  1 & 1 & ⋯ &  0 & 0.000 & 0.000 &  0 & 176cm/80kg  & 1992년 01월 10일 & 내야수(우투우타) & 송정동초-충장중-광주제일고-동국대-NC-상무      & 20000만원 & 0.000\\\\\n\t  3 & 강민국   & 2016 & NC   & 0.316 & 16 & 19 &  2 &  6 & 2 & ⋯ &  1 & 0.304 & 0.200 &  4 & 176cm/80kg  & 1992년 01월 10일 & 내야수(우투우타) & 송정동초-충장중-광주제일고-동국대-NC-상무      & 20000만원 & 0.504\\\\\n\t  4 & 강민호   & 2005 & 롯데 & 0.250 & 11 & 20 &  2 &  5 & 4 & ⋯ &  7 & 0.341 & 0.267 &  9 & 185cm/100kg & 1985년 08월 18일 & 포수(우투우타)   & 제주신광초-포철중-포철공고-(국제디지털대)-롯데 & 9000만원  & 0.608\\\\\n\t  4 & 강민호   & 2006 & 롯데 & 0.381 &  9 & 21 &  6 &  8 & 1 & ⋯ &  5 & 0.366 & 0.307 & 12 & 185cm/100kg & 1985년 08월 18일 & 포수(우투우타)   & 제주신광초-포철중-포철공고-(국제디지털대)-롯데 & 9000만원  & 0.673\\\\\n\t  4 & 강민호   & 2007 & 롯데 & 0.136 & 10 & 22 &  2 &  3 & 0 & ⋯ & 10 & 0.421 & 0.335 & 11 & 185cm/100kg & 1985년 08월 18일 & 포수(우투우타)   & 제주신광초-포철중-포철공고-(국제디지털대)-롯데 & 9000만원  & 0.756\\\\\n\t  4 & 강민호   & 2008 & 롯데 & 0.200 &  5 & 10 &  0 &  2 & 1 & ⋯ & 13 & 0.485 & 0.365 &  6 & 185cm/100kg & 1985년 08월 18일 & 포수(우투우타)   & 제주신광초-포철중-포철공고-(국제디지털대)-롯데 & 9000만원  & 0.850\\\\\n\t  4 & 강민호   & 2009 & 롯데 & 0.167 &  2 &  6 &  0 &  1 & 0 & ⋯ &  9 & 0.412 & 0.346 &  6 & 185cm/100kg & 1985년 08월 18일 & 포수(우투우타)   & 제주신광초-포철중-포철공고-(국제디지털대)-롯데 & 9000만원  & 0.758\\\\\n\t  4 & 강민호   & 2010 & 롯데 & 0.261 & 10 & 23 &  8 &  6 & 1 & ⋯ & 16 & 0.524 & 0.376 & 11 & 185cm/100kg & 1985년 08월 18일 & 포수(우투우타)   & 제주신광초-포철중-포철공고-(국제디지털대)-롯데 & 9000만원  & 0.900\\\\\n\t  4 & 강민호   & 2011 & 롯데 & 0.353 & 13 & 34 &  4 & 12 & 3 & ⋯ & 18 & 0.480 & 0.366 & 15 & 185cm/100kg & 1985년 08월 18일 & 포수(우투우타)   & 제주신광초-포철중-포철공고-(국제디지털대)-롯데 & 9000만원  & 0.846\\\\\n\t  4 & 강민호   & 2012 & 롯데 & 0.273 &  5 & 11 &  2 &  3 & 0 & ⋯ &  9 & 0.468 & 0.355 &  3 & 185cm/100kg & 1985년 08월 18일 & 포수(우투우타)   & 제주신광초-포철중-포철공고-(국제디지털대)-롯데 & 9000만원  & 0.823\\\\\n\t  4 & 강민호   & 2013 & 롯데 & 0.333 &  6 & 15 &  2 &  5 & 1 & ⋯ &  5 & 0.376 & 0.366 &  8 & 185cm/100kg & 1985년 08월 18일 & 포수(우투우타)   & 제주신광초-포철중-포철공고-(국제디지털대)-롯데 & 9000만원  & 0.742\\\\\n\t  4 & 강민호   & 2014 & 롯데 & 0.100 &  8 & 10 &  1 &  1 & 0 & ⋯ &  6 & 0.442 & 0.325 &  3 & 185cm/100kg & 1985년 08월 18일 & 포수(우투우타)   & 제주신광초-포철중-포철공고-(국제디지털대)-롯데 & 9000만원  & 0.767\\\\\n\t  4 & 강민호   & 2015 & 롯데 & 0.158 & 10 & 19 &  1 &  3 & 0 & ⋯ & 14 & 0.639 & 0.421 &  8 & 185cm/100kg & 1985년 08월 18일 & 포수(우투우타)   & 제주신광초-포철중-포철공고-(국제디지털대)-롯데 & 9000만원  & 1.060\\\\\n\t  4 & 강민호   & 2016 & 롯데 & 0.095 & 10 & 21 &  3 &  2 & 0 & ⋯ &  7 & 0.549 & 0.433 &  4 & 185cm/100kg & 1985년 08월 18일 & 포수(우투우타)   & 제주신광초-포철중-포철공고-(국제디지털대)-롯데 & 9000만원  & 0.982\\\\\n\t  4 & 강민호   & 2017 & 롯데 & 0.300 & 10 & 20 &  1 &  6 & 0 & ⋯ & 15 & 0.482 & 0.361 & 11 & 185cm/100kg & 1985년 08월 18일 & 포수(우투우타)   & 제주신광초-포철중-포철공고-(국제디지털대)-롯데 & 9000만원  & 0.843\\\\\n\t  4 & 강민호   & 2018 & 삼성 & 0.300 &  4 & 10 &  3 &  3 & 1 & ⋯ & 11 & 0.457 & 0.331 &  8 & 185cm/100kg & 1985년 08월 18일 & 포수(우투우타)   & 제주신광초-포철중-포철공고-(국제디지털대)-롯데 & 9000만원  & 0.788\\\\\n\t  5 & 강백호   & 2018 & KT   & 0.333 &  6 & 18 &  2 &  6 & 1 & ⋯ &  4 & 0.524 & 0.356 &  6 & 184cm/98kg  & 1999년 07월 29일 & 외야수(우투좌타) & 부천북초-이수중-서울고                         & 45000만원 & 0.880\\\\\n\t  8 & 강상원   & 2016 & 한화 & -     &  6 &  0 &  1 &  0 & 0 & ⋯ & NA &    NA &    NA & NA & NA          & NA               & NA               & NA                                             & NA        &    NA\\\\\n\t  8 & 강상원   & 2017 & 한화 & 0.000 & 10 &  1 &  4 &  0 & 0 & ⋯ &  0 & 0.286 & 0.214 &  0 & 172cm/64kg  & 1997년 05월 05일 & 외야수(우투좌타) & 온양온천초-온양중-북일고                       & 3000만원  & 0.500\\\\\n\t  8 & 강상원   & 2018 & 한화 & 0.000 &  6 &  8 &  1 &  0 & 0 & ⋯ &  0 & 0.000 & 0.143 &  0 & 172cm/64kg  & 1997년 05월 05일 & 외야수(우투좌타) & 온양온천초-온양중-북일고                       & 3000만원  & 0.143\\\\\n\\end{tabular}\n",
            "text/markdown": "\nA tibble: 40 × 55\n\n| batter_id &lt;int&gt; | batter_name &lt;chr&gt; | year &lt;int&gt; | team.x &lt;chr&gt; | avg.x &lt;chr&gt; | G.x &lt;int&gt; | AB.x &lt;int&gt; | R.x &lt;int&gt; | H.x &lt;int&gt; | 2B.x &lt;int&gt; | ⋯ ⋯ | GDP.y &lt;int&gt; | SLG.y &lt;dbl&gt; | OBP.y &lt;dbl&gt; | E.y &lt;int&gt; | height/weight.y &lt;chr&gt; | year_born.y &lt;chr&gt; | position.y &lt;chr&gt; | career.y &lt;chr&gt; | starting_salary.y &lt;chr&gt; | OPS.y &lt;dbl&gt; |\n|---|---|---|---|---|---|---|---|---|---|---|---|---|---|---|---|---|---|---|---|---|\n|  0 | 가르시아 | 2018 | LG   | 0.350 |  7 | 20 |  1 |  7 | 1 | ⋯ |  3 | 0.519 | 0.383 |  9 | 177cm/93kg  | 1985년 04월 12일 | 내야수(우투우타) | 쿠바 Ciego de Avila Maximo Gomez Baez(대)      | <!----> | 0.902 |\n|  1 | 강경학   | 2011 | 한화 | 0.000 |  4 |  2 |  2 |  0 | 0 | ⋯ |  0 | 0.000 | 0.000 |  1 | 180cm/72kg  | 1992년 08월 11일 | 내야수(우투좌타) | 광주대성초-광주동성중-광주동성고               | 10000만원 | 0.000 |\n|  1 | 강경학   | 2014 | 한화 | -     |  4 |  0 |  2 |  0 | 0 | ⋯ |  1 | 0.349 | 0.337 |  6 | 180cm/72kg  | 1992년 08월 11일 | 내야수(우투좌타) | 광주대성초-광주동성중-광주동성고               | 10000만원 | 0.686 |\n|  1 | 강경학   | 2015 | 한화 | 0.130 | 10 | 23 |  3 |  3 | 0 | ⋯ |  3 | 0.325 | 0.348 | 15 | 180cm/72kg  | 1992년 08월 11일 | 내야수(우투좌타) | 광주대성초-광주동성중-광주동성고               | 10000만원 | 0.673 |\n|  1 | 강경학   | 2016 | 한화 | 0.188 | 14 | 32 |  4 |  6 | 1 | ⋯ |  5 | 0.257 | 0.232 |  7 | 180cm/72kg  | 1992년 08월 11일 | 내야수(우투좌타) | 광주대성초-광주동성중-광주동성고               | 10000만원 | 0.489 |\n|  1 | 강경학   | 2017 | 한화 | 0.222 | 11 | 36 | 10 |  8 | 0 | ⋯ |  1 | 0.262 | 0.290 |  4 | 180cm/72kg  | 1992년 08월 11일 | 내야수(우투좌타) | 광주대성초-광주동성중-광주동성고               | 10000만원 | 0.552 |\n|  2 | 강구성   | 2013 | NC   | 0.000 |  3 |  4 |  0 |  0 | 0 | ⋯ |  0 | 0.000 | 0.000 |  0 | 180cm/82kg  | 1993년 06월 09일 | 외야수(우투좌타) | 관산초-부천중-야탑고-NC-상무                   | 9000만원  | 0.000 |\n|  2 | 강구성   | 2016 | NC   | 0.000 |  3 |  1 |  0 |  0 | 0 | ⋯ |  0 | 0.000 | 0.000 |  0 | 180cm/82kg  | 1993년 06월 09일 | 외야수(우투좌타) | 관산초-부천중-야탑고-NC-상무                   | 9000만원  | 0.000 |\n|  2 | 강구성   | 2017 | NC   | 1.000 |  2 |  1 |  0 |  1 | 0 | ⋯ |  0 | 0.000 | 0.000 |  0 | 180cm/82kg  | 1993년 06월 09일 | 외야수(우투좌타) | 관산초-부천중-야탑고-NC-상무                   | 9000만원  | 0.000 |\n| 69 | 김태완   | 2006 | 한화 | 0.200 | 10 | 15 |  0 |  3 | 0 | ⋯ |  0 | 0.500 | 0.500 |  0 | 189cm/105kg | 1984년 01월 27일 | 내야수(우투우타) | 양목초-신월중-중앙고-성균관대-한화             | 11000만원 | 1.000 |\n| 69 | 김태완   | 2007 | 한화 | 0.318 |  8 | 22 |  4 |  7 | 3 | ⋯ |  3 | 0.426 | 0.324 |  1 | 189cm/105kg | 1984년 01월 27일 | 내야수(우투우타) | 양목초-신월중-중앙고-성균관대-한화             | 11000만원 | 0.750 |\n| 69 | 김태완   | 2008 | 한화 | 0.375 | 10 | 24 |  3 |  9 | 1 | ⋯ |  9 | 0.488 | 0.362 |  1 | 189cm/105kg | 1984년 01월 27일 | 내야수(우투우타) | 양목초-신월중-중앙고-성균관대-한화             | 11000만원 | 0.850 |\n| 69 | 김태완   | 2009 | 한화 | 0.320 | 10 | 25 |  5 |  8 | 3 | ⋯ |  6 | 0.539 | 0.419 |  1 | 189cm/105kg | 1984년 01월 27일 | 내야수(우투우타) | 양목초-신월중-중앙고-성균관대-한화             | 11000만원 | 0.958 |\n| 69 | 김태완   | 2010 | 한화 | 0.400 |  2 |  5 |  2 |  2 | 0 | ⋯ |  9 | 0.422 | 0.418 |  2 | 189cm/105kg | 1984년 01월 27일 | 내야수(우투우타) | 양목초-신월중-중앙고-성균관대-한화             | 11000만원 | 0.840 |\n| 69 | 김태완   | 2013 | 한화 | 0.250 |  9 | 28 |  3 |  7 | 0 | ⋯ |  8 | 0.308 | 0.324 |  4 | 189cm/105kg | 1984년 01월 27일 | 내야수(우투우타) | 양목초-신월중-중앙고-성균관대-한화             | 11000만원 | 0.632 |\n| 69 | 김태완   | 2014 | 한화 | 0.125 | 10 | 16 |  1 |  2 | 0 | ⋯ | 10 | 0.414 | 0.350 |  1 | 189cm/105kg | 1984년 01월 27일 | 내야수(우투우타) | 양목초-신월중-중앙고-성균관대-한화             | 11000만원 | 0.764 |\n| 69 | 김태완   | 2016 | 한화 | 0.000 |  3 |  3 |  0 |  0 | 0 | ⋯ |  0 | 0.500 | 0.458 |  0 | 189cm/105kg | 1984년 01월 27일 | 내야수(우투우타) | 양목초-신월중-중앙고-성균관대-한화             | 11000만원 | 0.958 |\n| 69 | 김태완   | 2017 | 넥센 | 0.370 | 12 | 27 |  2 | 10 | 1 | ⋯ |  2 | 0.500 | 0.380 |  1 | 189cm/105kg | 1984년 01월 27일 | 내야수(우투우타) | 양목초-신월중-중앙고-성균관대-한화             | 11000만원 | 0.880 |\n| 69 | 김태완   | 2018 | 넥센 | 0.375 |  5 |  8 |  2 |  3 | 1 | ⋯ |  4 | 0.273 | 0.270 |  0 | 189cm/105kg | 1984년 01월 27일 | 내야수(우투우타) | 양목초-신월중-중앙고-성균관대-한화             | 11000만원 | 0.543 |\n|  3 | 강민국   | 2014 | NC   | 0.000 |  2 |  1 |  0 |  0 | 0 | ⋯ |  0 | 0.000 | 0.000 |  2 | 176cm/80kg  | 1992년 01월 10일 | 내야수(우투우타) | 송정동초-충장중-광주제일고-동국대-NC-상무      | 20000만원 | 0.000 |\n|  3 | 강민국   | 2015 | NC   | 0.100 |  9 | 10 |  2 |  1 | 1 | ⋯ |  0 | 0.000 | 0.000 |  0 | 176cm/80kg  | 1992년 01월 10일 | 내야수(우투우타) | 송정동초-충장중-광주제일고-동국대-NC-상무      | 20000만원 | 0.000 |\n|  3 | 강민국   | 2016 | NC   | 0.316 | 16 | 19 |  2 |  6 | 2 | ⋯ |  1 | 0.304 | 0.200 |  4 | 176cm/80kg  | 1992년 01월 10일 | 내야수(우투우타) | 송정동초-충장중-광주제일고-동국대-NC-상무      | 20000만원 | 0.504 |\n|  4 | 강민호   | 2005 | 롯데 | 0.250 | 11 | 20 |  2 |  5 | 4 | ⋯ |  7 | 0.341 | 0.267 |  9 | 185cm/100kg | 1985년 08월 18일 | 포수(우투우타)   | 제주신광초-포철중-포철공고-(국제디지털대)-롯데 | 9000만원  | 0.608 |\n|  4 | 강민호   | 2006 | 롯데 | 0.381 |  9 | 21 |  6 |  8 | 1 | ⋯ |  5 | 0.366 | 0.307 | 12 | 185cm/100kg | 1985년 08월 18일 | 포수(우투우타)   | 제주신광초-포철중-포철공고-(국제디지털대)-롯데 | 9000만원  | 0.673 |\n|  4 | 강민호   | 2007 | 롯데 | 0.136 | 10 | 22 |  2 |  3 | 0 | ⋯ | 10 | 0.421 | 0.335 | 11 | 185cm/100kg | 1985년 08월 18일 | 포수(우투우타)   | 제주신광초-포철중-포철공고-(국제디지털대)-롯데 | 9000만원  | 0.756 |\n|  4 | 강민호   | 2008 | 롯데 | 0.200 |  5 | 10 |  0 |  2 | 1 | ⋯ | 13 | 0.485 | 0.365 |  6 | 185cm/100kg | 1985년 08월 18일 | 포수(우투우타)   | 제주신광초-포철중-포철공고-(국제디지털대)-롯데 | 9000만원  | 0.850 |\n|  4 | 강민호   | 2009 | 롯데 | 0.167 |  2 |  6 |  0 |  1 | 0 | ⋯ |  9 | 0.412 | 0.346 |  6 | 185cm/100kg | 1985년 08월 18일 | 포수(우투우타)   | 제주신광초-포철중-포철공고-(국제디지털대)-롯데 | 9000만원  | 0.758 |\n|  4 | 강민호   | 2010 | 롯데 | 0.261 | 10 | 23 |  8 |  6 | 1 | ⋯ | 16 | 0.524 | 0.376 | 11 | 185cm/100kg | 1985년 08월 18일 | 포수(우투우타)   | 제주신광초-포철중-포철공고-(국제디지털대)-롯데 | 9000만원  | 0.900 |\n|  4 | 강민호   | 2011 | 롯데 | 0.353 | 13 | 34 |  4 | 12 | 3 | ⋯ | 18 | 0.480 | 0.366 | 15 | 185cm/100kg | 1985년 08월 18일 | 포수(우투우타)   | 제주신광초-포철중-포철공고-(국제디지털대)-롯데 | 9000만원  | 0.846 |\n|  4 | 강민호   | 2012 | 롯데 | 0.273 |  5 | 11 |  2 |  3 | 0 | ⋯ |  9 | 0.468 | 0.355 |  3 | 185cm/100kg | 1985년 08월 18일 | 포수(우투우타)   | 제주신광초-포철중-포철공고-(국제디지털대)-롯데 | 9000만원  | 0.823 |\n|  4 | 강민호   | 2013 | 롯데 | 0.333 |  6 | 15 |  2 |  5 | 1 | ⋯ |  5 | 0.376 | 0.366 |  8 | 185cm/100kg | 1985년 08월 18일 | 포수(우투우타)   | 제주신광초-포철중-포철공고-(국제디지털대)-롯데 | 9000만원  | 0.742 |\n|  4 | 강민호   | 2014 | 롯데 | 0.100 |  8 | 10 |  1 |  1 | 0 | ⋯ |  6 | 0.442 | 0.325 |  3 | 185cm/100kg | 1985년 08월 18일 | 포수(우투우타)   | 제주신광초-포철중-포철공고-(국제디지털대)-롯데 | 9000만원  | 0.767 |\n|  4 | 강민호   | 2015 | 롯데 | 0.158 | 10 | 19 |  1 |  3 | 0 | ⋯ | 14 | 0.639 | 0.421 |  8 | 185cm/100kg | 1985년 08월 18일 | 포수(우투우타)   | 제주신광초-포철중-포철공고-(국제디지털대)-롯데 | 9000만원  | 1.060 |\n|  4 | 강민호   | 2016 | 롯데 | 0.095 | 10 | 21 |  3 |  2 | 0 | ⋯ |  7 | 0.549 | 0.433 |  4 | 185cm/100kg | 1985년 08월 18일 | 포수(우투우타)   | 제주신광초-포철중-포철공고-(국제디지털대)-롯데 | 9000만원  | 0.982 |\n|  4 | 강민호   | 2017 | 롯데 | 0.300 | 10 | 20 |  1 |  6 | 0 | ⋯ | 15 | 0.482 | 0.361 | 11 | 185cm/100kg | 1985년 08월 18일 | 포수(우투우타)   | 제주신광초-포철중-포철공고-(국제디지털대)-롯데 | 9000만원  | 0.843 |\n|  4 | 강민호   | 2018 | 삼성 | 0.300 |  4 | 10 |  3 |  3 | 1 | ⋯ | 11 | 0.457 | 0.331 |  8 | 185cm/100kg | 1985년 08월 18일 | 포수(우투우타)   | 제주신광초-포철중-포철공고-(국제디지털대)-롯데 | 9000만원  | 0.788 |\n|  5 | 강백호   | 2018 | KT   | 0.333 |  6 | 18 |  2 |  6 | 1 | ⋯ |  4 | 0.524 | 0.356 |  6 | 184cm/98kg  | 1999년 07월 29일 | 외야수(우투좌타) | 부천북초-이수중-서울고                         | 45000만원 | 0.880 |\n|  8 | 강상원   | 2016 | 한화 | -     |  6 |  0 |  1 |  0 | 0 | ⋯ | NA |    NA |    NA | NA | NA          | NA               | NA               | NA                                             | NA        |    NA |\n|  8 | 강상원   | 2017 | 한화 | 0.000 | 10 |  1 |  4 |  0 | 0 | ⋯ |  0 | 0.286 | 0.214 |  0 | 172cm/64kg  | 1997년 05월 05일 | 외야수(우투좌타) | 온양온천초-온양중-북일고                       | 3000만원  | 0.500 |\n|  8 | 강상원   | 2018 | 한화 | 0.000 |  6 |  8 |  1 |  0 | 0 | ⋯ |  0 | 0.000 | 0.143 |  0 | 172cm/64kg  | 1997년 05월 05일 | 외야수(우투좌타) | 온양온천초-온양중-북일고                       | 3000만원  | 0.143 |\n\n",
            "text/html": [
              "<table>\n",
              "<caption>A tibble: 40 × 55</caption>\n",
              "<thead>\n",
              "\t<tr><th scope=col>batter_id</th><th scope=col>batter_name</th><th scope=col>year</th><th scope=col>team.x</th><th scope=col>avg.x</th><th scope=col>G.x</th><th scope=col>AB.x</th><th scope=col>R.x</th><th scope=col>H.x</th><th scope=col>2B.x</th><th scope=col>⋯</th><th scope=col>GDP.y</th><th scope=col>SLG.y</th><th scope=col>OBP.y</th><th scope=col>E.y</th><th scope=col>height/weight.y</th><th scope=col>year_born.y</th><th scope=col>position.y</th><th scope=col>career.y</th><th scope=col>starting_salary.y</th><th scope=col>OPS.y</th></tr>\n",
              "\t<tr><th scope=col>&lt;int&gt;</th><th scope=col>&lt;chr&gt;</th><th scope=col>&lt;int&gt;</th><th scope=col>&lt;chr&gt;</th><th scope=col>&lt;chr&gt;</th><th scope=col>&lt;int&gt;</th><th scope=col>&lt;int&gt;</th><th scope=col>&lt;int&gt;</th><th scope=col>&lt;int&gt;</th><th scope=col>&lt;int&gt;</th><th scope=col>⋯</th><th scope=col>&lt;int&gt;</th><th scope=col>&lt;dbl&gt;</th><th scope=col>&lt;dbl&gt;</th><th scope=col>&lt;int&gt;</th><th scope=col>&lt;chr&gt;</th><th scope=col>&lt;chr&gt;</th><th scope=col>&lt;chr&gt;</th><th scope=col>&lt;chr&gt;</th><th scope=col>&lt;chr&gt;</th><th scope=col>&lt;dbl&gt;</th></tr>\n",
              "</thead>\n",
              "<tbody>\n",
              "\t<tr><td> 0</td><td>가르시아</td><td>2018</td><td>LG  </td><td>0.350</td><td> 7</td><td>20</td><td> 1</td><td> 7</td><td>1</td><td>⋯</td><td> 3</td><td>0.519</td><td>0.383</td><td> 9</td><td>177cm/93kg </td><td>1985년 04월 12일</td><td>내야수(우투우타)</td><td>쿠바 Ciego de Avila Maximo Gomez Baez(대)     </td><td>         </td><td>0.902</td></tr>\n",
              "\t<tr><td> 1</td><td>강경학  </td><td>2011</td><td>한화</td><td>0.000</td><td> 4</td><td> 2</td><td> 2</td><td> 0</td><td>0</td><td>⋯</td><td> 0</td><td>0.000</td><td>0.000</td><td> 1</td><td>180cm/72kg </td><td>1992년 08월 11일</td><td>내야수(우투좌타)</td><td>광주대성초-광주동성중-광주동성고              </td><td>10000만원</td><td>0.000</td></tr>\n",
              "\t<tr><td> 1</td><td>강경학  </td><td>2014</td><td>한화</td><td>-    </td><td> 4</td><td> 0</td><td> 2</td><td> 0</td><td>0</td><td>⋯</td><td> 1</td><td>0.349</td><td>0.337</td><td> 6</td><td>180cm/72kg </td><td>1992년 08월 11일</td><td>내야수(우투좌타)</td><td>광주대성초-광주동성중-광주동성고              </td><td>10000만원</td><td>0.686</td></tr>\n",
              "\t<tr><td> 1</td><td>강경학  </td><td>2015</td><td>한화</td><td>0.130</td><td>10</td><td>23</td><td> 3</td><td> 3</td><td>0</td><td>⋯</td><td> 3</td><td>0.325</td><td>0.348</td><td>15</td><td>180cm/72kg </td><td>1992년 08월 11일</td><td>내야수(우투좌타)</td><td>광주대성초-광주동성중-광주동성고              </td><td>10000만원</td><td>0.673</td></tr>\n",
              "\t<tr><td> 1</td><td>강경학  </td><td>2016</td><td>한화</td><td>0.188</td><td>14</td><td>32</td><td> 4</td><td> 6</td><td>1</td><td>⋯</td><td> 5</td><td>0.257</td><td>0.232</td><td> 7</td><td>180cm/72kg </td><td>1992년 08월 11일</td><td>내야수(우투좌타)</td><td>광주대성초-광주동성중-광주동성고              </td><td>10000만원</td><td>0.489</td></tr>\n",
              "\t<tr><td> 1</td><td>강경학  </td><td>2017</td><td>한화</td><td>0.222</td><td>11</td><td>36</td><td>10</td><td> 8</td><td>0</td><td>⋯</td><td> 1</td><td>0.262</td><td>0.290</td><td> 4</td><td>180cm/72kg </td><td>1992년 08월 11일</td><td>내야수(우투좌타)</td><td>광주대성초-광주동성중-광주동성고              </td><td>10000만원</td><td>0.552</td></tr>\n",
              "\t<tr><td> 2</td><td>강구성  </td><td>2013</td><td>NC  </td><td>0.000</td><td> 3</td><td> 4</td><td> 0</td><td> 0</td><td>0</td><td>⋯</td><td> 0</td><td>0.000</td><td>0.000</td><td> 0</td><td>180cm/82kg </td><td>1993년 06월 09일</td><td>외야수(우투좌타)</td><td>관산초-부천중-야탑고-NC-상무                  </td><td>9000만원 </td><td>0.000</td></tr>\n",
              "\t<tr><td> 2</td><td>강구성  </td><td>2016</td><td>NC  </td><td>0.000</td><td> 3</td><td> 1</td><td> 0</td><td> 0</td><td>0</td><td>⋯</td><td> 0</td><td>0.000</td><td>0.000</td><td> 0</td><td>180cm/82kg </td><td>1993년 06월 09일</td><td>외야수(우투좌타)</td><td>관산초-부천중-야탑고-NC-상무                  </td><td>9000만원 </td><td>0.000</td></tr>\n",
              "\t<tr><td> 2</td><td>강구성  </td><td>2017</td><td>NC  </td><td>1.000</td><td> 2</td><td> 1</td><td> 0</td><td> 1</td><td>0</td><td>⋯</td><td> 0</td><td>0.000</td><td>0.000</td><td> 0</td><td>180cm/82kg </td><td>1993년 06월 09일</td><td>외야수(우투좌타)</td><td>관산초-부천중-야탑고-NC-상무                  </td><td>9000만원 </td><td>0.000</td></tr>\n",
              "\t<tr><td>69</td><td>김태완  </td><td>2006</td><td>한화</td><td>0.200</td><td>10</td><td>15</td><td> 0</td><td> 3</td><td>0</td><td>⋯</td><td> 0</td><td>0.500</td><td>0.500</td><td> 0</td><td>189cm/105kg</td><td>1984년 01월 27일</td><td>내야수(우투우타)</td><td>양목초-신월중-중앙고-성균관대-한화            </td><td>11000만원</td><td>1.000</td></tr>\n",
              "\t<tr><td>69</td><td>김태완  </td><td>2007</td><td>한화</td><td>0.318</td><td> 8</td><td>22</td><td> 4</td><td> 7</td><td>3</td><td>⋯</td><td> 3</td><td>0.426</td><td>0.324</td><td> 1</td><td>189cm/105kg</td><td>1984년 01월 27일</td><td>내야수(우투우타)</td><td>양목초-신월중-중앙고-성균관대-한화            </td><td>11000만원</td><td>0.750</td></tr>\n",
              "\t<tr><td>69</td><td>김태완  </td><td>2008</td><td>한화</td><td>0.375</td><td>10</td><td>24</td><td> 3</td><td> 9</td><td>1</td><td>⋯</td><td> 9</td><td>0.488</td><td>0.362</td><td> 1</td><td>189cm/105kg</td><td>1984년 01월 27일</td><td>내야수(우투우타)</td><td>양목초-신월중-중앙고-성균관대-한화            </td><td>11000만원</td><td>0.850</td></tr>\n",
              "\t<tr><td>69</td><td>김태완  </td><td>2009</td><td>한화</td><td>0.320</td><td>10</td><td>25</td><td> 5</td><td> 8</td><td>3</td><td>⋯</td><td> 6</td><td>0.539</td><td>0.419</td><td> 1</td><td>189cm/105kg</td><td>1984년 01월 27일</td><td>내야수(우투우타)</td><td>양목초-신월중-중앙고-성균관대-한화            </td><td>11000만원</td><td>0.958</td></tr>\n",
              "\t<tr><td>69</td><td>김태완  </td><td>2010</td><td>한화</td><td>0.400</td><td> 2</td><td> 5</td><td> 2</td><td> 2</td><td>0</td><td>⋯</td><td> 9</td><td>0.422</td><td>0.418</td><td> 2</td><td>189cm/105kg</td><td>1984년 01월 27일</td><td>내야수(우투우타)</td><td>양목초-신월중-중앙고-성균관대-한화            </td><td>11000만원</td><td>0.840</td></tr>\n",
              "\t<tr><td>69</td><td>김태완  </td><td>2013</td><td>한화</td><td>0.250</td><td> 9</td><td>28</td><td> 3</td><td> 7</td><td>0</td><td>⋯</td><td> 8</td><td>0.308</td><td>0.324</td><td> 4</td><td>189cm/105kg</td><td>1984년 01월 27일</td><td>내야수(우투우타)</td><td>양목초-신월중-중앙고-성균관대-한화            </td><td>11000만원</td><td>0.632</td></tr>\n",
              "\t<tr><td>69</td><td>김태완  </td><td>2014</td><td>한화</td><td>0.125</td><td>10</td><td>16</td><td> 1</td><td> 2</td><td>0</td><td>⋯</td><td>10</td><td>0.414</td><td>0.350</td><td> 1</td><td>189cm/105kg</td><td>1984년 01월 27일</td><td>내야수(우투우타)</td><td>양목초-신월중-중앙고-성균관대-한화            </td><td>11000만원</td><td>0.764</td></tr>\n",
              "\t<tr><td>69</td><td>김태완  </td><td>2016</td><td>한화</td><td>0.000</td><td> 3</td><td> 3</td><td> 0</td><td> 0</td><td>0</td><td>⋯</td><td> 0</td><td>0.500</td><td>0.458</td><td> 0</td><td>189cm/105kg</td><td>1984년 01월 27일</td><td>내야수(우투우타)</td><td>양목초-신월중-중앙고-성균관대-한화            </td><td>11000만원</td><td>0.958</td></tr>\n",
              "\t<tr><td>69</td><td>김태완  </td><td>2017</td><td>넥센</td><td>0.370</td><td>12</td><td>27</td><td> 2</td><td>10</td><td>1</td><td>⋯</td><td> 2</td><td>0.500</td><td>0.380</td><td> 1</td><td>189cm/105kg</td><td>1984년 01월 27일</td><td>내야수(우투우타)</td><td>양목초-신월중-중앙고-성균관대-한화            </td><td>11000만원</td><td>0.880</td></tr>\n",
              "\t<tr><td>69</td><td>김태완  </td><td>2018</td><td>넥센</td><td>0.375</td><td> 5</td><td> 8</td><td> 2</td><td> 3</td><td>1</td><td>⋯</td><td> 4</td><td>0.273</td><td>0.270</td><td> 0</td><td>189cm/105kg</td><td>1984년 01월 27일</td><td>내야수(우투우타)</td><td>양목초-신월중-중앙고-성균관대-한화            </td><td>11000만원</td><td>0.543</td></tr>\n",
              "\t<tr><td> 3</td><td>강민국  </td><td>2014</td><td>NC  </td><td>0.000</td><td> 2</td><td> 1</td><td> 0</td><td> 0</td><td>0</td><td>⋯</td><td> 0</td><td>0.000</td><td>0.000</td><td> 2</td><td>176cm/80kg </td><td>1992년 01월 10일</td><td>내야수(우투우타)</td><td>송정동초-충장중-광주제일고-동국대-NC-상무     </td><td>20000만원</td><td>0.000</td></tr>\n",
              "\t<tr><td> 3</td><td>강민국  </td><td>2015</td><td>NC  </td><td>0.100</td><td> 9</td><td>10</td><td> 2</td><td> 1</td><td>1</td><td>⋯</td><td> 0</td><td>0.000</td><td>0.000</td><td> 0</td><td>176cm/80kg </td><td>1992년 01월 10일</td><td>내야수(우투우타)</td><td>송정동초-충장중-광주제일고-동국대-NC-상무     </td><td>20000만원</td><td>0.000</td></tr>\n",
              "\t<tr><td> 3</td><td>강민국  </td><td>2016</td><td>NC  </td><td>0.316</td><td>16</td><td>19</td><td> 2</td><td> 6</td><td>2</td><td>⋯</td><td> 1</td><td>0.304</td><td>0.200</td><td> 4</td><td>176cm/80kg </td><td>1992년 01월 10일</td><td>내야수(우투우타)</td><td>송정동초-충장중-광주제일고-동국대-NC-상무     </td><td>20000만원</td><td>0.504</td></tr>\n",
              "\t<tr><td> 4</td><td>강민호  </td><td>2005</td><td>롯데</td><td>0.250</td><td>11</td><td>20</td><td> 2</td><td> 5</td><td>4</td><td>⋯</td><td> 7</td><td>0.341</td><td>0.267</td><td> 9</td><td>185cm/100kg</td><td>1985년 08월 18일</td><td>포수(우투우타)  </td><td>제주신광초-포철중-포철공고-(국제디지털대)-롯데</td><td>9000만원 </td><td>0.608</td></tr>\n",
              "\t<tr><td> 4</td><td>강민호  </td><td>2006</td><td>롯데</td><td>0.381</td><td> 9</td><td>21</td><td> 6</td><td> 8</td><td>1</td><td>⋯</td><td> 5</td><td>0.366</td><td>0.307</td><td>12</td><td>185cm/100kg</td><td>1985년 08월 18일</td><td>포수(우투우타)  </td><td>제주신광초-포철중-포철공고-(국제디지털대)-롯데</td><td>9000만원 </td><td>0.673</td></tr>\n",
              "\t<tr><td> 4</td><td>강민호  </td><td>2007</td><td>롯데</td><td>0.136</td><td>10</td><td>22</td><td> 2</td><td> 3</td><td>0</td><td>⋯</td><td>10</td><td>0.421</td><td>0.335</td><td>11</td><td>185cm/100kg</td><td>1985년 08월 18일</td><td>포수(우투우타)  </td><td>제주신광초-포철중-포철공고-(국제디지털대)-롯데</td><td>9000만원 </td><td>0.756</td></tr>\n",
              "\t<tr><td> 4</td><td>강민호  </td><td>2008</td><td>롯데</td><td>0.200</td><td> 5</td><td>10</td><td> 0</td><td> 2</td><td>1</td><td>⋯</td><td>13</td><td>0.485</td><td>0.365</td><td> 6</td><td>185cm/100kg</td><td>1985년 08월 18일</td><td>포수(우투우타)  </td><td>제주신광초-포철중-포철공고-(국제디지털대)-롯데</td><td>9000만원 </td><td>0.850</td></tr>\n",
              "\t<tr><td> 4</td><td>강민호  </td><td>2009</td><td>롯데</td><td>0.167</td><td> 2</td><td> 6</td><td> 0</td><td> 1</td><td>0</td><td>⋯</td><td> 9</td><td>0.412</td><td>0.346</td><td> 6</td><td>185cm/100kg</td><td>1985년 08월 18일</td><td>포수(우투우타)  </td><td>제주신광초-포철중-포철공고-(국제디지털대)-롯데</td><td>9000만원 </td><td>0.758</td></tr>\n",
              "\t<tr><td> 4</td><td>강민호  </td><td>2010</td><td>롯데</td><td>0.261</td><td>10</td><td>23</td><td> 8</td><td> 6</td><td>1</td><td>⋯</td><td>16</td><td>0.524</td><td>0.376</td><td>11</td><td>185cm/100kg</td><td>1985년 08월 18일</td><td>포수(우투우타)  </td><td>제주신광초-포철중-포철공고-(국제디지털대)-롯데</td><td>9000만원 </td><td>0.900</td></tr>\n",
              "\t<tr><td> 4</td><td>강민호  </td><td>2011</td><td>롯데</td><td>0.353</td><td>13</td><td>34</td><td> 4</td><td>12</td><td>3</td><td>⋯</td><td>18</td><td>0.480</td><td>0.366</td><td>15</td><td>185cm/100kg</td><td>1985년 08월 18일</td><td>포수(우투우타)  </td><td>제주신광초-포철중-포철공고-(국제디지털대)-롯데</td><td>9000만원 </td><td>0.846</td></tr>\n",
              "\t<tr><td> 4</td><td>강민호  </td><td>2012</td><td>롯데</td><td>0.273</td><td> 5</td><td>11</td><td> 2</td><td> 3</td><td>0</td><td>⋯</td><td> 9</td><td>0.468</td><td>0.355</td><td> 3</td><td>185cm/100kg</td><td>1985년 08월 18일</td><td>포수(우투우타)  </td><td>제주신광초-포철중-포철공고-(국제디지털대)-롯데</td><td>9000만원 </td><td>0.823</td></tr>\n",
              "\t<tr><td> 4</td><td>강민호  </td><td>2013</td><td>롯데</td><td>0.333</td><td> 6</td><td>15</td><td> 2</td><td> 5</td><td>1</td><td>⋯</td><td> 5</td><td>0.376</td><td>0.366</td><td> 8</td><td>185cm/100kg</td><td>1985년 08월 18일</td><td>포수(우투우타)  </td><td>제주신광초-포철중-포철공고-(국제디지털대)-롯데</td><td>9000만원 </td><td>0.742</td></tr>\n",
              "\t<tr><td> 4</td><td>강민호  </td><td>2014</td><td>롯데</td><td>0.100</td><td> 8</td><td>10</td><td> 1</td><td> 1</td><td>0</td><td>⋯</td><td> 6</td><td>0.442</td><td>0.325</td><td> 3</td><td>185cm/100kg</td><td>1985년 08월 18일</td><td>포수(우투우타)  </td><td>제주신광초-포철중-포철공고-(국제디지털대)-롯데</td><td>9000만원 </td><td>0.767</td></tr>\n",
              "\t<tr><td> 4</td><td>강민호  </td><td>2015</td><td>롯데</td><td>0.158</td><td>10</td><td>19</td><td> 1</td><td> 3</td><td>0</td><td>⋯</td><td>14</td><td>0.639</td><td>0.421</td><td> 8</td><td>185cm/100kg</td><td>1985년 08월 18일</td><td>포수(우투우타)  </td><td>제주신광초-포철중-포철공고-(국제디지털대)-롯데</td><td>9000만원 </td><td>1.060</td></tr>\n",
              "\t<tr><td> 4</td><td>강민호  </td><td>2016</td><td>롯데</td><td>0.095</td><td>10</td><td>21</td><td> 3</td><td> 2</td><td>0</td><td>⋯</td><td> 7</td><td>0.549</td><td>0.433</td><td> 4</td><td>185cm/100kg</td><td>1985년 08월 18일</td><td>포수(우투우타)  </td><td>제주신광초-포철중-포철공고-(국제디지털대)-롯데</td><td>9000만원 </td><td>0.982</td></tr>\n",
              "\t<tr><td> 4</td><td>강민호  </td><td>2017</td><td>롯데</td><td>0.300</td><td>10</td><td>20</td><td> 1</td><td> 6</td><td>0</td><td>⋯</td><td>15</td><td>0.482</td><td>0.361</td><td>11</td><td>185cm/100kg</td><td>1985년 08월 18일</td><td>포수(우투우타)  </td><td>제주신광초-포철중-포철공고-(국제디지털대)-롯데</td><td>9000만원 </td><td>0.843</td></tr>\n",
              "\t<tr><td> 4</td><td>강민호  </td><td>2018</td><td>삼성</td><td>0.300</td><td> 4</td><td>10</td><td> 3</td><td> 3</td><td>1</td><td>⋯</td><td>11</td><td>0.457</td><td>0.331</td><td> 8</td><td>185cm/100kg</td><td>1985년 08월 18일</td><td>포수(우투우타)  </td><td>제주신광초-포철중-포철공고-(국제디지털대)-롯데</td><td>9000만원 </td><td>0.788</td></tr>\n",
              "\t<tr><td> 5</td><td>강백호  </td><td>2018</td><td>KT  </td><td>0.333</td><td> 6</td><td>18</td><td> 2</td><td> 6</td><td>1</td><td>⋯</td><td> 4</td><td>0.524</td><td>0.356</td><td> 6</td><td>184cm/98kg </td><td>1999년 07월 29일</td><td>외야수(우투좌타)</td><td>부천북초-이수중-서울고                        </td><td>45000만원</td><td>0.880</td></tr>\n",
              "\t<tr><td> 8</td><td>강상원  </td><td>2016</td><td>한화</td><td>-    </td><td> 6</td><td> 0</td><td> 1</td><td> 0</td><td>0</td><td>⋯</td><td>NA</td><td>   NA</td><td>   NA</td><td>NA</td><td>NA         </td><td>NA              </td><td>NA              </td><td>NA                                            </td><td>NA       </td><td>   NA</td></tr>\n",
              "\t<tr><td> 8</td><td>강상원  </td><td>2017</td><td>한화</td><td>0.000</td><td>10</td><td> 1</td><td> 4</td><td> 0</td><td>0</td><td>⋯</td><td> 0</td><td>0.286</td><td>0.214</td><td> 0</td><td>172cm/64kg </td><td>1997년 05월 05일</td><td>외야수(우투좌타)</td><td>온양온천초-온양중-북일고                      </td><td>3000만원 </td><td>0.500</td></tr>\n",
              "\t<tr><td> 8</td><td>강상원  </td><td>2018</td><td>한화</td><td>0.000</td><td> 6</td><td> 8</td><td> 1</td><td> 0</td><td>0</td><td>⋯</td><td> 0</td><td>0.000</td><td>0.143</td><td> 0</td><td>172cm/64kg </td><td>1997년 05월 05일</td><td>외야수(우투좌타)</td><td>온양온천초-온양중-북일고                      </td><td>3000만원 </td><td>0.143</td></tr>\n",
              "</tbody>\n",
              "</table>\n"
            ]
          },
          "metadata": {
            "tags": []
          }
        }
      ]
    },
    {
      "cell_type": "code",
      "metadata": {
        "id": "LJcSrJnOPNs1",
        "colab_type": "code",
        "colab": {
          "base_uri": "https://localhost:8080/",
          "height": 272
        },
        "outputId": "63a5a26d-c499-4563-931b-5c477878123b"
      },
      "source": [
        "inner_join(x = Pre_DF, y = Reg_DF, by = c(\"batter_id\", \"batter_name\", \"year\")) %>% \n",
        " group_by(batter_id, batter_name, year) %>% summarise(Pre_G = mean(G.x, na.rm = T), Reg_G = mean(G.y, na.rm = T)) %>%\n",
        " show()"
      ],
      "execution_count": null,
      "outputs": [
        {
          "output_type": "stream",
          "text": [
            "\u001b[90m# A tibble: 1,358 x 5\u001b[39m\n",
            "\u001b[90m# Groups:   batter_id, batter_name [228]\u001b[39m\n",
            "   batter_id batter_name  year Pre_G Reg_G\n",
            "       \u001b[3m\u001b[90m<int>\u001b[39m\u001b[23m \u001b[3m\u001b[90m<chr>\u001b[39m\u001b[23m       \u001b[3m\u001b[90m<int>\u001b[39m\u001b[23m \u001b[3m\u001b[90m<dbl>\u001b[39m\u001b[23m \u001b[3m\u001b[90m<dbl>\u001b[39m\u001b[23m\n",
            "\u001b[90m 1\u001b[39m         0 가르시아     \u001b[4m2\u001b[24m018     7    50\n",
            "\u001b[90m 2\u001b[39m         1 강경학       \u001b[4m2\u001b[24m011     4     2\n",
            "\u001b[90m 3\u001b[39m         1 강경학       \u001b[4m2\u001b[24m014     4    41\n",
            "\u001b[90m 4\u001b[39m         1 강경학       \u001b[4m2\u001b[24m015    10   120\n",
            "\u001b[90m 5\u001b[39m         1 강경학       \u001b[4m2\u001b[24m016    14    46\n",
            "\u001b[90m 6\u001b[39m         1 강경학       \u001b[4m2\u001b[24m017    11    59\n",
            "\u001b[90m 7\u001b[39m         2 강구성       \u001b[4m2\u001b[24m013     3     2\n",
            "\u001b[90m 8\u001b[39m         2 강구성       \u001b[4m2\u001b[24m016     3     2\n",
            "\u001b[90m 9\u001b[39m         2 강구성       \u001b[4m2\u001b[24m017     2     1\n",
            "\u001b[90m10\u001b[39m         3 강민국       \u001b[4m2\u001b[24m014     2     6\n",
            "\u001b[90m# … with 1,348 more rows\u001b[39m\n"
          ],
          "name": "stdout"
        }
      ]
    },
    {
      "cell_type": "code",
      "metadata": {
        "id": "u88N-XbCPt_f",
        "colab_type": "code",
        "colab": {
          "base_uri": "https://localhost:8080/",
          "height": 272
        },
        "outputId": "d09776b8-bdd0-4fbc-fda4-f3d4e916b37c"
      },
      "source": [
        "full_join(x = Pre_DF, y = Reg_DF, by = c(\"batter_id\", \"batter_name\", \"year\")) %>% \n",
        " group_by(batter_id, batter_name, year) %>% summarise(Pre_G = mean(G.x, na.rm = T), Reg_G = mean(G.y, na.rm = T)) %>%\n",
        " show()"
      ],
      "execution_count": null,
      "outputs": [
        {
          "output_type": "stream",
          "text": [
            "\u001b[90m# A tibble: 2,489 x 5\u001b[39m\n",
            "\u001b[90m# Groups:   batter_id, batter_name [345]\u001b[39m\n",
            "   batter_id batter_name  year Pre_G Reg_G\n",
            "       \u001b[3m\u001b[90m<int>\u001b[39m\u001b[23m \u001b[3m\u001b[90m<chr>\u001b[39m\u001b[23m       \u001b[3m\u001b[90m<int>\u001b[39m\u001b[23m \u001b[3m\u001b[90m<dbl>\u001b[39m\u001b[23m \u001b[3m\u001b[90m<dbl>\u001b[39m\u001b[23m\n",
            "\u001b[90m 1\u001b[39m         0 가르시아     \u001b[4m2\u001b[24m018     7    50\n",
            "\u001b[90m 2\u001b[39m         1 강경학       \u001b[4m2\u001b[24m011     4     2\n",
            "\u001b[90m 3\u001b[39m         1 강경학       \u001b[4m2\u001b[24m014     4    41\n",
            "\u001b[90m 4\u001b[39m         1 강경학       \u001b[4m2\u001b[24m015    10   120\n",
            "\u001b[90m 5\u001b[39m         1 강경학       \u001b[4m2\u001b[24m016    14    46\n",
            "\u001b[90m 6\u001b[39m         1 강경학       \u001b[4m2\u001b[24m017    11    59\n",
            "\u001b[90m 7\u001b[39m         1 강경학       \u001b[4m2\u001b[24m018   \u001b[31mNaN\u001b[39m    77\n",
            "\u001b[90m 8\u001b[39m         2 강구성       \u001b[4m2\u001b[24m013     3     2\n",
            "\u001b[90m 9\u001b[39m         2 강구성       \u001b[4m2\u001b[24m015   \u001b[31mNaN\u001b[39m     4\n",
            "\u001b[90m10\u001b[39m         2 강구성       \u001b[4m2\u001b[24m016     3     2\n",
            "\u001b[90m# … with 2,479 more rows\u001b[39m\n"
          ],
          "name": "stdout"
        }
      ]
    }
  ]
}