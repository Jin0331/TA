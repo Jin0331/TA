{
  "nbformat": 4,
  "nbformat_minor": 0,
  "metadata": {
    "colab": {
      "name": "DS Lab 8.ipynb",
      "provenance": [],
      "collapsed_sections": [
        "5GNQY8-Cqse4",
        "YqtpX3bD1Enl",
        "_5Q_tfZ42J8j"
      ],
      "include_colab_link": true
    },
    "kernelspec": {
      "name": "ir",
      "display_name": "R"
    }
  },
  "cells": [
    {
      "cell_type": "markdown",
      "metadata": {
        "id": "view-in-github",
        "colab_type": "text"
      },
      "source": [
        "<a href=\"https://colab.research.google.com/github/Jin0331/TA/blob/master/DS_Lab_8.ipynb\" target=\"_parent\"><img src=\"https://colab.research.google.com/assets/colab-badge.svg\" alt=\"Open In Colab\"/></a>"
      ]
    },
    {
      "cell_type": "markdown",
      "metadata": {
        "id": "NqwIc2xhQqLu",
        "colab_type": "text"
      },
      "source": [
        "# *8주차 실습*\n",
        "\n",
        "- - -\n",
        "\n",
        "![대체 텍스트](http://www.bimatrix.jp/wp-content/uploads/2017/03/37.jpg)"
      ]
    },
    {
      "cell_type": "markdown",
      "metadata": {
        "id": "qtdqJdp6TnBu",
        "colab_type": "text"
      },
      "source": [
        "## **1. tidyr - spread, gather**\n",
        "\n",
        "- - -\n",
        "https://gomguard.tistory.com/229"
      ]
    },
    {
      "cell_type": "code",
      "metadata": {
        "id": "_ADB8ulzijIl",
        "colab_type": "code",
        "colab": {
          "base_uri": "https://localhost:8080/"
        },
        "outputId": "6b1277df-7fcf-4ca1-e4a1-ecb8e27ec0ac"
      },
      "source": [
        "install.packages(\"data.table\")\n",
        "library(tidyverse)\n",
        "library(data.table)"
      ],
      "execution_count": null,
      "outputs": [
        {
          "output_type": "stream",
          "text": [
            "Installing package into ‘/usr/local/lib/R/site-library’\n",
            "(as ‘lib’ is unspecified)\n",
            "\n"
          ],
          "name": "stderr"
        }
      ]
    },
    {
      "cell_type": "code",
      "metadata": {
        "id": "MbUe4VWgUQ-Z",
        "colab_type": "code",
        "colab": {
          "base_uri": "https://localhost:8080/"
        },
        "outputId": "adc8c710-e35d-4fce-ebe6-11958a7612a6"
      },
      "source": [
        "surveys <- fread(\"https://raw.githubusercontent.com/kbroman/kbroman.github.io/master/datacarp/portal_data_joined.csv\") %>% as_tibble()\n",
        "survers %>% show()"
      ],
      "execution_count": null,
      "outputs": [
        {
          "output_type": "stream",
          "text": [
            "\u001b[90m# A tibble: 34,786 x 13\u001b[39m\n",
            "   record_id month   day  year plot_id species_id sex   hindfoot_length weight\n",
            "       \u001b[3m\u001b[90m<int>\u001b[39m\u001b[23m \u001b[3m\u001b[90m<int>\u001b[39m\u001b[23m \u001b[3m\u001b[90m<int>\u001b[39m\u001b[23m \u001b[3m\u001b[90m<int>\u001b[39m\u001b[23m   \u001b[3m\u001b[90m<int>\u001b[39m\u001b[23m \u001b[3m\u001b[90m<chr>\u001b[39m\u001b[23m      \u001b[3m\u001b[90m<chr>\u001b[39m\u001b[23m           \u001b[3m\u001b[90m<int>\u001b[39m\u001b[23m  \u001b[3m\u001b[90m<int>\u001b[39m\u001b[23m\n",
            "\u001b[90m 1\u001b[39m         1     7    16  \u001b[4m1\u001b[24m977       2 NL         \u001b[90m\"\u001b[39mM\u001b[90m\"\u001b[39m                32     \u001b[31mNA\u001b[39m\n",
            "\u001b[90m 2\u001b[39m        72     8    19  \u001b[4m1\u001b[24m977       2 NL         \u001b[90m\"\u001b[39mM\u001b[90m\"\u001b[39m                31     \u001b[31mNA\u001b[39m\n",
            "\u001b[90m 3\u001b[39m       224     9    13  \u001b[4m1\u001b[24m977       2 NL         \u001b[90m\"\u001b[39m\u001b[90m\"\u001b[39m                 \u001b[31mNA\u001b[39m     \u001b[31mNA\u001b[39m\n",
            "\u001b[90m 4\u001b[39m       266    10    16  \u001b[4m1\u001b[24m977       2 NL         \u001b[90m\"\u001b[39m\u001b[90m\"\u001b[39m                 \u001b[31mNA\u001b[39m     \u001b[31mNA\u001b[39m\n",
            "\u001b[90m 5\u001b[39m       349    11    12  \u001b[4m1\u001b[24m977       2 NL         \u001b[90m\"\u001b[39m\u001b[90m\"\u001b[39m                 \u001b[31mNA\u001b[39m     \u001b[31mNA\u001b[39m\n",
            "\u001b[90m 6\u001b[39m       363    11    12  \u001b[4m1\u001b[24m977       2 NL         \u001b[90m\"\u001b[39m\u001b[90m\"\u001b[39m                 \u001b[31mNA\u001b[39m     \u001b[31mNA\u001b[39m\n",
            "\u001b[90m 7\u001b[39m       435    12    10  \u001b[4m1\u001b[24m977       2 NL         \u001b[90m\"\u001b[39m\u001b[90m\"\u001b[39m                 \u001b[31mNA\u001b[39m     \u001b[31mNA\u001b[39m\n",
            "\u001b[90m 8\u001b[39m       506     1     8  \u001b[4m1\u001b[24m978       2 NL         \u001b[90m\"\u001b[39m\u001b[90m\"\u001b[39m                 \u001b[31mNA\u001b[39m     \u001b[31mNA\u001b[39m\n",
            "\u001b[90m 9\u001b[39m       588     2    18  \u001b[4m1\u001b[24m978       2 NL         \u001b[90m\"\u001b[39mM\u001b[90m\"\u001b[39m                \u001b[31mNA\u001b[39m    218\n",
            "\u001b[90m10\u001b[39m       661     3    11  \u001b[4m1\u001b[24m978       2 NL         \u001b[90m\"\u001b[39m\u001b[90m\"\u001b[39m                 \u001b[31mNA\u001b[39m     \u001b[31mNA\u001b[39m\n",
            "\u001b[90m# … with 34,776 more rows, and 4 more variables: genus \u001b[3m\u001b[90m<chr>\u001b[90m\u001b[23m, species \u001b[3m\u001b[90m<chr>\u001b[90m\u001b[23m,\u001b[39m\n",
            "\u001b[90m#   taxa \u001b[3m\u001b[90m<chr>\u001b[90m\u001b[23m, plot_type \u001b[3m\u001b[90m<chr>\u001b[90m\u001b[23m\u001b[39m\n"
          ],
          "name": "stdout"
        }
      ]
    },
    {
      "cell_type": "markdown",
      "metadata": {
        "id": "2siqCBgZgFnA",
        "colab_type": "text"
      },
      "source": [
        "```\n",
        "연구조사 구획에서 포획된 종과 체중을 조사중이다.\n",
        "각 행별로 각 동물별에 대한 정보가 담겨있는데, 열은 다음을 나타내고 있다:\n",
        "\n",
        "**\n",
        "record_id\t관측점에 대한 유일무이한 ID\n",
        "month\t관측월\n",
        "day\t관측일\n",
        "year\t관측년\n",
        "plot_id\t구획지에 대한 ID\n",
        "species_id\t2-자리 종족 ID\n",
        "sex\t포획동물 성별 (“M”, “F”)\n",
        "hindfoot_length\t뒷발 길이 (밀리미터)\n",
        "weight\t포획동물 길이 (그램)\n",
        "genus\t포획동물이 속한 속(genus)\n",
        "species\t동물 종족\n",
        "taxa\t설치류(Rodent), 파충류(Reptile), 새(Bird), 토끼(Rabbit) 등\n",
        "plot_type\t구획지 유형\n",
        "```"
      ]
    },
    {
      "cell_type": "code",
      "metadata": {
        "id": "OliIsYvRURE-",
        "colab_type": "code",
        "colab": {
          "base_uri": "https://localhost:8080/"
        },
        "outputId": "eaf55f87-92ab-427b-ba61-693aad7f454a"
      },
      "source": [
        "surveys_gw <- surveys %>%\n",
        "  filter(!is.na(weight)) %>%\n",
        "  group_by(genus, plot_id) %>%\n",
        "  summarize(mean_weight = mean(weight)) %>%\n",
        "  select(plot_id, genus, mean_weight)\n",
        "\n",
        "surveys_gw %>% show()\n",
        "\n",
        "# Baiomys : 피그미생쥐\n",
        "# Chaetodipus : 거친털주머니생쥐\n",
        "# Dipodomys : 캥거루쥐"
      ],
      "execution_count": null,
      "outputs": [
        {
          "output_type": "stream",
          "text": [
            "\u001b[90m# A tibble: 196 x 3\u001b[39m\n",
            "\u001b[90m# Groups:   genus [10]\u001b[39m\n",
            "   plot_id genus       mean_weight\n",
            "     \u001b[3m\u001b[90m<int>\u001b[39m\u001b[23m \u001b[3m\u001b[90m<chr>\u001b[39m\u001b[23m             \u001b[3m\u001b[90m<dbl>\u001b[39m\u001b[23m\n",
            "\u001b[90m 1\u001b[39m       1 Baiomys            7   \n",
            "\u001b[90m 2\u001b[39m       2 Baiomys            6   \n",
            "\u001b[90m 3\u001b[39m       3 Baiomys            8.61\n",
            "\u001b[90m 4\u001b[39m       5 Baiomys            7.75\n",
            "\u001b[90m 5\u001b[39m      18 Baiomys            9.5 \n",
            "\u001b[90m 6\u001b[39m      19 Baiomys            9.53\n",
            "\u001b[90m 7\u001b[39m      20 Baiomys            6   \n",
            "\u001b[90m 8\u001b[39m      21 Baiomys            6.67\n",
            "\u001b[90m 9\u001b[39m       1 Chaetodipus       22.2 \n",
            "\u001b[90m10\u001b[39m       2 Chaetodipus       25.1 \n",
            "\u001b[90m# … with 186 more rows\u001b[39m\n"
          ],
          "name": "stdout"
        }
      ]
    },
    {
      "cell_type": "markdown",
      "metadata": {
        "id": "XOhJ-ZiTUOfX",
        "colab_type": "text"
      },
      "source": [
        "* **spread**\n",
        "\n",
        "![대체 텍스트](https://datacarpentry.org/R-ecology-lesson/img/spread_data_R.png)"
      ]
    },
    {
      "cell_type": "code",
      "metadata": {
        "id": "n0kNVk3rVeFK",
        "colab_type": "code",
        "colab": {
          "base_uri": "https://localhost:8080/"
        },
        "outputId": "3d93a802-1891-4609-e091-84152bdd9f9c"
      },
      "source": [
        "survers_spread <- surveys_gw %>%\n",
        "  spread(genus, mean_weight, fill = -99)\n",
        "\n",
        "survers_spread %>% show()"
      ],
      "execution_count": null,
      "outputs": [
        {
          "output_type": "stream",
          "text": [
            "\u001b[90m# A tibble: 24 x 11\u001b[39m\n",
            "   plot_id Baiomys Chaetodipus Dipodomys Neotoma Onychomys Perognathus\n",
            "     \u001b[3m\u001b[90m<int>\u001b[39m\u001b[23m   \u001b[3m\u001b[90m<dbl>\u001b[39m\u001b[23m       \u001b[3m\u001b[90m<dbl>\u001b[39m\u001b[23m     \u001b[3m\u001b[90m<dbl>\u001b[39m\u001b[23m   \u001b[3m\u001b[90m<dbl>\u001b[39m\u001b[23m     \u001b[3m\u001b[90m<dbl>\u001b[39m\u001b[23m       \u001b[3m\u001b[90m<dbl>\u001b[39m\u001b[23m\n",
            "\u001b[90m 1\u001b[39m       1    7           22.2      60.2    156.      27.7        9.62\n",
            "\u001b[90m 2\u001b[39m       2    6           25.1      55.7    169.      26.9        6.95\n",
            "\u001b[90m 3\u001b[39m       3    8.61        24.6      52.0    158.      26.0        7.51\n",
            "\u001b[90m 4\u001b[39m       4  -\u001b[31m99\u001b[39m           23.0      57.5    164.      28.1        7.82\n",
            "\u001b[90m 5\u001b[39m       5    7.75        18.0      51.1    190.      27.0        8.66\n",
            "\u001b[90m 6\u001b[39m       6  -\u001b[31m99\u001b[39m           24.9      58.6    180.      25.9        7.81\n",
            "\u001b[90m 7\u001b[39m       7  -\u001b[31m99\u001b[39m           19.9      57.4    170.      23.6        7   \n",
            "\u001b[90m 8\u001b[39m       8  -\u001b[31m99\u001b[39m           20.5      59.4    134.      25.9        7.06\n",
            "\u001b[90m 9\u001b[39m       9  -\u001b[31m99\u001b[39m           18.9      57.5    162.      27.5        7.37\n",
            "\u001b[90m10\u001b[39m      10  -\u001b[31m99\u001b[39m           22.3      51.8    190       28.7      -\u001b[31m99\u001b[39m   \n",
            "\u001b[90m# … with 14 more rows, and 4 more variables: Peromyscus \u001b[3m\u001b[90m<dbl>\u001b[90m\u001b[23m,\u001b[39m\n",
            "\u001b[90m#   Reithrodontomys \u001b[3m\u001b[90m<dbl>\u001b[90m\u001b[23m, Sigmodon \u001b[3m\u001b[90m<dbl>\u001b[90m\u001b[23m, Spermophilus \u001b[3m\u001b[90m<dbl>\u001b[90m\u001b[23m\u001b[39m\n"
          ],
          "name": "stdout"
        }
      ]
    },
    {
      "cell_type": "markdown",
      "metadata": {
        "id": "8F5XWas1vCM0",
        "colab_type": "text"
      },
      "source": [
        "* gather"
      ]
    },
    {
      "cell_type": "markdown",
      "metadata": {
        "id": "HKWhuEvWURvw",
        "colab_type": "text"
      },
      "source": [
        "![대체 텍스트](https://datacarpentry.org/R-ecology-lesson/img/gather_data_R.png)"
      ]
    },
    {
      "cell_type": "code",
      "metadata": {
        "id": "-HjJn47KXcJ4",
        "colab_type": "code",
        "colab": {
          "base_uri": "https://localhost:8080/"
        },
        "outputId": "f3d40e8f-9c08-41c3-fec6-793d01d1e5c2"
      },
      "source": [
        " surveys_spread %>%\n",
        "  gather(key = genus, value = mean_weight, -plot_id) %>% show()"
      ],
      "execution_count": null,
      "outputs": [
        {
          "output_type": "stream",
          "text": [
            "\u001b[90m# A tibble: 240 x 3\u001b[39m\n",
            "   plot_id genus   mean_weight\n",
            "     \u001b[3m\u001b[90m<int>\u001b[39m\u001b[23m \u001b[3m\u001b[90m<chr>\u001b[39m\u001b[23m         \u001b[3m\u001b[90m<dbl>\u001b[39m\u001b[23m\n",
            "\u001b[90m 1\u001b[39m       1 Baiomys        7   \n",
            "\u001b[90m 2\u001b[39m       2 Baiomys        6   \n",
            "\u001b[90m 3\u001b[39m       3 Baiomys        8.61\n",
            "\u001b[90m 4\u001b[39m       4 Baiomys       \u001b[31mNA\u001b[39m   \n",
            "\u001b[90m 5\u001b[39m       5 Baiomys        7.75\n",
            "\u001b[90m 6\u001b[39m       6 Baiomys       \u001b[31mNA\u001b[39m   \n",
            "\u001b[90m 7\u001b[39m       7 Baiomys       \u001b[31mNA\u001b[39m   \n",
            "\u001b[90m 8\u001b[39m       8 Baiomys       \u001b[31mNA\u001b[39m   \n",
            "\u001b[90m 9\u001b[39m       9 Baiomys       \u001b[31mNA\u001b[39m   \n",
            "\u001b[90m10\u001b[39m      10 Baiomys       \u001b[31mNA\u001b[39m   \n",
            "\u001b[90m# … with 230 more rows\u001b[39m\n"
          ],
          "name": "stdout"
        }
      ]
    },
    {
      "cell_type": "code",
      "metadata": {
        "id": "wsiRuHdVZVsS",
        "colab_type": "code",
        "colab": {
          "base_uri": "https://localhost:8080/"
        },
        "outputId": "ab44eeec-6292-4033-f047-65fc044fa0d5"
      },
      "source": [
        "surveys_spread %>%\n",
        "  gather(key = genus, value = mean_weight, Baiomys:Chaetodipus) %>%\n",
        "  filter(!is.na(mean_weight))"
      ],
      "execution_count": null,
      "outputs": [
        {
          "output_type": "display_data",
          "data": {
            "text/plain": [
              "   plot_id Dipodomys Neotoma  Onychomys Perognathus Peromyscus Reithrodontomys\n",
              "1   1      60.23214  156.2222 27.67550   9.625000   22.22222   11.375000      \n",
              "2   2      55.68259  169.1436 26.87302   6.947368   22.26966   10.680556      \n",
              "3   3      52.04688  158.2414 26.03241   7.507812   21.37037   10.516588      \n",
              "4   5      51.11356  190.0370 27.01695   8.658537   21.23171   11.154545      \n",
              "5  18      61.39610  148.6250 26.57983   8.624161   21.37079   11.050000      \n",
              "6  19      43.26923  120.0000 23.82895   8.094203   20.84239   10.528205      \n",
              "7  20      65.93596  155.3415 25.23256   8.144144   21.13861   10.712000      \n",
              "8  21      42.68571  137.7647 24.59211   9.191617   22.05882   10.164103      \n",
              "9   1      60.23214  156.2222 27.67550   9.625000   22.22222   11.375000      \n",
              "10  2      55.68259  169.1436 26.87302   6.947368   22.26966   10.680556      \n",
              "11  3      52.04688  158.2414 26.03241   7.507812   21.37037   10.516588      \n",
              "12  4      57.52454  164.1667 28.09375   7.824427   22.60000   10.263158      \n",
              "13  5      51.11356  190.0370 27.01695   8.658537   21.23171   11.154545      \n",
              "14  6      58.60531  179.9333 25.89947   7.809524   21.84043   10.670455      \n",
              "15  7      57.36364  170.2222 23.58333   7.000000   22.21698   11.075697      \n",
              "16  8      59.41090  133.8571 25.86577   7.056604   20.11765    9.692308      \n",
              "17  9      57.51792  161.8182 27.54667   7.371429   21.65625   10.321429      \n",
              "18 10      51.83333  190.0000 28.68182         NA   21.05970   10.877193      \n",
              "19 11      50.60652  153.2571 25.88623   8.121212   21.60294   10.819444      \n",
              "20 12      50.48293  169.0133 26.11417   7.875000   20.98413   10.673267      \n",
              "21 13      60.47431  153.7297 27.47297   9.275510   21.79545   10.306667      \n",
              "22 14      48.86020  139.0877 29.49143   8.838710   21.02500    9.911765      \n",
              "23 15      46.58333  164.2727 25.34653   8.163121   20.25203   10.264957      \n",
              "24 16      45.81982  117.0000 25.34884   6.666667   20.58763   10.828025      \n",
              "25 17      52.56868  145.9412 26.10784   8.600000   21.00000    9.962025      \n",
              "26 18      61.39610  148.6250 26.57983   8.624161   21.37079   11.050000      \n",
              "27 19      43.26923  120.0000 23.82895   8.094203   20.84239   10.528205      \n",
              "28 20      65.93596  155.3415 25.23256   8.144144   21.13861   10.712000      \n",
              "29 21      42.68571  137.7647 24.59211   9.191617   22.05882   10.164103      \n",
              "30 22      70.38413  136.8667 24.64211  10.815385   21.34615    9.285714      \n",
              "31 23      53.62069  117.5000 23.40909   6.400000   21.52212   11.037234      \n",
              "32 24      45.74644  165.7216 25.68000  10.500000   21.82197   10.639752      \n",
              "   Sigmodon  Spermophilus genus       mean_weight\n",
              "1         NA  NA          Baiomys      7.000000  \n",
              "2   70.85714  NA          Baiomys      6.000000  \n",
              "3   65.61404  NA          Baiomys      8.611111  \n",
              "4   82.66667  NA          Baiomys      7.750000  \n",
              "5   46.10000  NA          Baiomys      9.500000  \n",
              "6   67.86667  NA          Baiomys      9.533333  \n",
              "7   63.00000  57          Baiomys      6.000000  \n",
              "8   71.10714  NA          Baiomys      6.666667  \n",
              "9         NA  NA          Chaetodipus 22.199387  \n",
              "10  70.85714  NA          Chaetodipus 25.110145  \n",
              "11  65.61404  NA          Chaetodipus 24.636364  \n",
              "12  82.00000  NA          Chaetodipus 23.023810  \n",
              "13  82.66667  NA          Chaetodipus 17.982759  \n",
              "14  68.77778  NA          Chaetodipus 24.860092  \n",
              "15        NA  NA          Chaetodipus 19.916031  \n",
              "16        NA  NA          Chaetodipus 20.472843  \n",
              "17  56.50000  NA          Chaetodipus 18.915966  \n",
              "18 101.00000  NA          Chaetodipus 22.333333  \n",
              "19  64.05882  NA          Chaetodipus 19.808824  \n",
              "20  66.22222  NA          Chaetodipus 19.616379  \n",
              "21  74.00000  NA          Chaetodipus 27.296512  \n",
              "22        NA 130          Chaetodipus 16.518519  \n",
              "23  58.00000  NA          Chaetodipus 20.536232  \n",
              "24        NA  NA          Chaetodipus 22.153846  \n",
              "25  69.13333  NA          Chaetodipus 23.178161  \n",
              "26  46.10000  NA          Chaetodipus 26.755814  \n",
              "27  67.86667  NA          Chaetodipus 26.425926  \n",
              "28  63.00000  57          Chaetodipus 25.057471  \n",
              "29  71.10714  NA          Chaetodipus 28.183544  \n",
              "30  50.00000  NA          Chaetodipus 29.739583  \n",
              "31 199.00000  NA          Chaetodipus 22.444444  \n",
              "32  66.85714  NA          Chaetodipus 20.461538  "
            ],
            "text/latex": "A tibble: 32 × 11\n\\begin{tabular}{lllllllllll}\n plot\\_id & Dipodomys & Neotoma & Onychomys & Perognathus & Peromyscus & Reithrodontomys & Sigmodon & Spermophilus & genus & mean\\_weight\\\\\n <int> & <dbl> & <dbl> & <dbl> & <dbl> & <dbl> & <dbl> & <dbl> & <dbl> & <chr> & <dbl>\\\\\n\\hline\n\t  1 & 60.23214 & 156.2222 & 27.67550 &  9.625000 & 22.22222 & 11.375000 &        NA &  NA & Baiomys     &  7.000000\\\\\n\t  2 & 55.68259 & 169.1436 & 26.87302 &  6.947368 & 22.26966 & 10.680556 &  70.85714 &  NA & Baiomys     &  6.000000\\\\\n\t  3 & 52.04688 & 158.2414 & 26.03241 &  7.507812 & 21.37037 & 10.516588 &  65.61404 &  NA & Baiomys     &  8.611111\\\\\n\t  5 & 51.11356 & 190.0370 & 27.01695 &  8.658537 & 21.23171 & 11.154545 &  82.66667 &  NA & Baiomys     &  7.750000\\\\\n\t 18 & 61.39610 & 148.6250 & 26.57983 &  8.624161 & 21.37079 & 11.050000 &  46.10000 &  NA & Baiomys     &  9.500000\\\\\n\t 19 & 43.26923 & 120.0000 & 23.82895 &  8.094203 & 20.84239 & 10.528205 &  67.86667 &  NA & Baiomys     &  9.533333\\\\\n\t 20 & 65.93596 & 155.3415 & 25.23256 &  8.144144 & 21.13861 & 10.712000 &  63.00000 &  57 & Baiomys     &  6.000000\\\\\n\t 21 & 42.68571 & 137.7647 & 24.59211 &  9.191617 & 22.05882 & 10.164103 &  71.10714 &  NA & Baiomys     &  6.666667\\\\\n\t  1 & 60.23214 & 156.2222 & 27.67550 &  9.625000 & 22.22222 & 11.375000 &        NA &  NA & Chaetodipus & 22.199387\\\\\n\t  2 & 55.68259 & 169.1436 & 26.87302 &  6.947368 & 22.26966 & 10.680556 &  70.85714 &  NA & Chaetodipus & 25.110145\\\\\n\t  3 & 52.04688 & 158.2414 & 26.03241 &  7.507812 & 21.37037 & 10.516588 &  65.61404 &  NA & Chaetodipus & 24.636364\\\\\n\t  4 & 57.52454 & 164.1667 & 28.09375 &  7.824427 & 22.60000 & 10.263158 &  82.00000 &  NA & Chaetodipus & 23.023810\\\\\n\t  5 & 51.11356 & 190.0370 & 27.01695 &  8.658537 & 21.23171 & 11.154545 &  82.66667 &  NA & Chaetodipus & 17.982759\\\\\n\t  6 & 58.60531 & 179.9333 & 25.89947 &  7.809524 & 21.84043 & 10.670455 &  68.77778 &  NA & Chaetodipus & 24.860092\\\\\n\t  7 & 57.36364 & 170.2222 & 23.58333 &  7.000000 & 22.21698 & 11.075697 &        NA &  NA & Chaetodipus & 19.916031\\\\\n\t  8 & 59.41090 & 133.8571 & 25.86577 &  7.056604 & 20.11765 &  9.692308 &        NA &  NA & Chaetodipus & 20.472843\\\\\n\t  9 & 57.51792 & 161.8182 & 27.54667 &  7.371429 & 21.65625 & 10.321429 &  56.50000 &  NA & Chaetodipus & 18.915966\\\\\n\t 10 & 51.83333 & 190.0000 & 28.68182 &        NA & 21.05970 & 10.877193 & 101.00000 &  NA & Chaetodipus & 22.333333\\\\\n\t 11 & 50.60652 & 153.2571 & 25.88623 &  8.121212 & 21.60294 & 10.819444 &  64.05882 &  NA & Chaetodipus & 19.808824\\\\\n\t 12 & 50.48293 & 169.0133 & 26.11417 &  7.875000 & 20.98413 & 10.673267 &  66.22222 &  NA & Chaetodipus & 19.616379\\\\\n\t 13 & 60.47431 & 153.7297 & 27.47297 &  9.275510 & 21.79545 & 10.306667 &  74.00000 &  NA & Chaetodipus & 27.296512\\\\\n\t 14 & 48.86020 & 139.0877 & 29.49143 &  8.838710 & 21.02500 &  9.911765 &        NA & 130 & Chaetodipus & 16.518519\\\\\n\t 15 & 46.58333 & 164.2727 & 25.34653 &  8.163121 & 20.25203 & 10.264957 &  58.00000 &  NA & Chaetodipus & 20.536232\\\\\n\t 16 & 45.81982 & 117.0000 & 25.34884 &  6.666667 & 20.58763 & 10.828025 &        NA &  NA & Chaetodipus & 22.153846\\\\\n\t 17 & 52.56868 & 145.9412 & 26.10784 &  8.600000 & 21.00000 &  9.962025 &  69.13333 &  NA & Chaetodipus & 23.178161\\\\\n\t 18 & 61.39610 & 148.6250 & 26.57983 &  8.624161 & 21.37079 & 11.050000 &  46.10000 &  NA & Chaetodipus & 26.755814\\\\\n\t 19 & 43.26923 & 120.0000 & 23.82895 &  8.094203 & 20.84239 & 10.528205 &  67.86667 &  NA & Chaetodipus & 26.425926\\\\\n\t 20 & 65.93596 & 155.3415 & 25.23256 &  8.144144 & 21.13861 & 10.712000 &  63.00000 &  57 & Chaetodipus & 25.057471\\\\\n\t 21 & 42.68571 & 137.7647 & 24.59211 &  9.191617 & 22.05882 & 10.164103 &  71.10714 &  NA & Chaetodipus & 28.183544\\\\\n\t 22 & 70.38413 & 136.8667 & 24.64211 & 10.815385 & 21.34615 &  9.285714 &  50.00000 &  NA & Chaetodipus & 29.739583\\\\\n\t 23 & 53.62069 & 117.5000 & 23.40909 &  6.400000 & 21.52212 & 11.037234 & 199.00000 &  NA & Chaetodipus & 22.444444\\\\\n\t 24 & 45.74644 & 165.7216 & 25.68000 & 10.500000 & 21.82197 & 10.639752 &  66.85714 &  NA & Chaetodipus & 20.461538\\\\\n\\end{tabular}\n",
            "text/markdown": "\nA tibble: 32 × 11\n\n| plot_id &lt;int&gt; | Dipodomys &lt;dbl&gt; | Neotoma &lt;dbl&gt; | Onychomys &lt;dbl&gt; | Perognathus &lt;dbl&gt; | Peromyscus &lt;dbl&gt; | Reithrodontomys &lt;dbl&gt; | Sigmodon &lt;dbl&gt; | Spermophilus &lt;dbl&gt; | genus &lt;chr&gt; | mean_weight &lt;dbl&gt; |\n|---|---|---|---|---|---|---|---|---|---|---|\n|  1 | 60.23214 | 156.2222 | 27.67550 |  9.625000 | 22.22222 | 11.375000 |        NA |  NA | Baiomys     |  7.000000 |\n|  2 | 55.68259 | 169.1436 | 26.87302 |  6.947368 | 22.26966 | 10.680556 |  70.85714 |  NA | Baiomys     |  6.000000 |\n|  3 | 52.04688 | 158.2414 | 26.03241 |  7.507812 | 21.37037 | 10.516588 |  65.61404 |  NA | Baiomys     |  8.611111 |\n|  5 | 51.11356 | 190.0370 | 27.01695 |  8.658537 | 21.23171 | 11.154545 |  82.66667 |  NA | Baiomys     |  7.750000 |\n| 18 | 61.39610 | 148.6250 | 26.57983 |  8.624161 | 21.37079 | 11.050000 |  46.10000 |  NA | Baiomys     |  9.500000 |\n| 19 | 43.26923 | 120.0000 | 23.82895 |  8.094203 | 20.84239 | 10.528205 |  67.86667 |  NA | Baiomys     |  9.533333 |\n| 20 | 65.93596 | 155.3415 | 25.23256 |  8.144144 | 21.13861 | 10.712000 |  63.00000 |  57 | Baiomys     |  6.000000 |\n| 21 | 42.68571 | 137.7647 | 24.59211 |  9.191617 | 22.05882 | 10.164103 |  71.10714 |  NA | Baiomys     |  6.666667 |\n|  1 | 60.23214 | 156.2222 | 27.67550 |  9.625000 | 22.22222 | 11.375000 |        NA |  NA | Chaetodipus | 22.199387 |\n|  2 | 55.68259 | 169.1436 | 26.87302 |  6.947368 | 22.26966 | 10.680556 |  70.85714 |  NA | Chaetodipus | 25.110145 |\n|  3 | 52.04688 | 158.2414 | 26.03241 |  7.507812 | 21.37037 | 10.516588 |  65.61404 |  NA | Chaetodipus | 24.636364 |\n|  4 | 57.52454 | 164.1667 | 28.09375 |  7.824427 | 22.60000 | 10.263158 |  82.00000 |  NA | Chaetodipus | 23.023810 |\n|  5 | 51.11356 | 190.0370 | 27.01695 |  8.658537 | 21.23171 | 11.154545 |  82.66667 |  NA | Chaetodipus | 17.982759 |\n|  6 | 58.60531 | 179.9333 | 25.89947 |  7.809524 | 21.84043 | 10.670455 |  68.77778 |  NA | Chaetodipus | 24.860092 |\n|  7 | 57.36364 | 170.2222 | 23.58333 |  7.000000 | 22.21698 | 11.075697 |        NA |  NA | Chaetodipus | 19.916031 |\n|  8 | 59.41090 | 133.8571 | 25.86577 |  7.056604 | 20.11765 |  9.692308 |        NA |  NA | Chaetodipus | 20.472843 |\n|  9 | 57.51792 | 161.8182 | 27.54667 |  7.371429 | 21.65625 | 10.321429 |  56.50000 |  NA | Chaetodipus | 18.915966 |\n| 10 | 51.83333 | 190.0000 | 28.68182 |        NA | 21.05970 | 10.877193 | 101.00000 |  NA | Chaetodipus | 22.333333 |\n| 11 | 50.60652 | 153.2571 | 25.88623 |  8.121212 | 21.60294 | 10.819444 |  64.05882 |  NA | Chaetodipus | 19.808824 |\n| 12 | 50.48293 | 169.0133 | 26.11417 |  7.875000 | 20.98413 | 10.673267 |  66.22222 |  NA | Chaetodipus | 19.616379 |\n| 13 | 60.47431 | 153.7297 | 27.47297 |  9.275510 | 21.79545 | 10.306667 |  74.00000 |  NA | Chaetodipus | 27.296512 |\n| 14 | 48.86020 | 139.0877 | 29.49143 |  8.838710 | 21.02500 |  9.911765 |        NA | 130 | Chaetodipus | 16.518519 |\n| 15 | 46.58333 | 164.2727 | 25.34653 |  8.163121 | 20.25203 | 10.264957 |  58.00000 |  NA | Chaetodipus | 20.536232 |\n| 16 | 45.81982 | 117.0000 | 25.34884 |  6.666667 | 20.58763 | 10.828025 |        NA |  NA | Chaetodipus | 22.153846 |\n| 17 | 52.56868 | 145.9412 | 26.10784 |  8.600000 | 21.00000 |  9.962025 |  69.13333 |  NA | Chaetodipus | 23.178161 |\n| 18 | 61.39610 | 148.6250 | 26.57983 |  8.624161 | 21.37079 | 11.050000 |  46.10000 |  NA | Chaetodipus | 26.755814 |\n| 19 | 43.26923 | 120.0000 | 23.82895 |  8.094203 | 20.84239 | 10.528205 |  67.86667 |  NA | Chaetodipus | 26.425926 |\n| 20 | 65.93596 | 155.3415 | 25.23256 |  8.144144 | 21.13861 | 10.712000 |  63.00000 |  57 | Chaetodipus | 25.057471 |\n| 21 | 42.68571 | 137.7647 | 24.59211 |  9.191617 | 22.05882 | 10.164103 |  71.10714 |  NA | Chaetodipus | 28.183544 |\n| 22 | 70.38413 | 136.8667 | 24.64211 | 10.815385 | 21.34615 |  9.285714 |  50.00000 |  NA | Chaetodipus | 29.739583 |\n| 23 | 53.62069 | 117.5000 | 23.40909 |  6.400000 | 21.52212 | 11.037234 | 199.00000 |  NA | Chaetodipus | 22.444444 |\n| 24 | 45.74644 | 165.7216 | 25.68000 | 10.500000 | 21.82197 | 10.639752 |  66.85714 |  NA | Chaetodipus | 20.461538 |\n\n",
            "text/html": [
              "<table>\n",
              "<caption>A tibble: 32 × 11</caption>\n",
              "<thead>\n",
              "\t<tr><th scope=col>plot_id</th><th scope=col>Dipodomys</th><th scope=col>Neotoma</th><th scope=col>Onychomys</th><th scope=col>Perognathus</th><th scope=col>Peromyscus</th><th scope=col>Reithrodontomys</th><th scope=col>Sigmodon</th><th scope=col>Spermophilus</th><th scope=col>genus</th><th scope=col>mean_weight</th></tr>\n",
              "\t<tr><th scope=col>&lt;int&gt;</th><th scope=col>&lt;dbl&gt;</th><th scope=col>&lt;dbl&gt;</th><th scope=col>&lt;dbl&gt;</th><th scope=col>&lt;dbl&gt;</th><th scope=col>&lt;dbl&gt;</th><th scope=col>&lt;dbl&gt;</th><th scope=col>&lt;dbl&gt;</th><th scope=col>&lt;dbl&gt;</th><th scope=col>&lt;chr&gt;</th><th scope=col>&lt;dbl&gt;</th></tr>\n",
              "</thead>\n",
              "<tbody>\n",
              "\t<tr><td> 1</td><td>60.23214</td><td>156.2222</td><td>27.67550</td><td> 9.625000</td><td>22.22222</td><td>11.375000</td><td>       NA</td><td> NA</td><td>Baiomys    </td><td> 7.000000</td></tr>\n",
              "\t<tr><td> 2</td><td>55.68259</td><td>169.1436</td><td>26.87302</td><td> 6.947368</td><td>22.26966</td><td>10.680556</td><td> 70.85714</td><td> NA</td><td>Baiomys    </td><td> 6.000000</td></tr>\n",
              "\t<tr><td> 3</td><td>52.04688</td><td>158.2414</td><td>26.03241</td><td> 7.507812</td><td>21.37037</td><td>10.516588</td><td> 65.61404</td><td> NA</td><td>Baiomys    </td><td> 8.611111</td></tr>\n",
              "\t<tr><td> 5</td><td>51.11356</td><td>190.0370</td><td>27.01695</td><td> 8.658537</td><td>21.23171</td><td>11.154545</td><td> 82.66667</td><td> NA</td><td>Baiomys    </td><td> 7.750000</td></tr>\n",
              "\t<tr><td>18</td><td>61.39610</td><td>148.6250</td><td>26.57983</td><td> 8.624161</td><td>21.37079</td><td>11.050000</td><td> 46.10000</td><td> NA</td><td>Baiomys    </td><td> 9.500000</td></tr>\n",
              "\t<tr><td>19</td><td>43.26923</td><td>120.0000</td><td>23.82895</td><td> 8.094203</td><td>20.84239</td><td>10.528205</td><td> 67.86667</td><td> NA</td><td>Baiomys    </td><td> 9.533333</td></tr>\n",
              "\t<tr><td>20</td><td>65.93596</td><td>155.3415</td><td>25.23256</td><td> 8.144144</td><td>21.13861</td><td>10.712000</td><td> 63.00000</td><td> 57</td><td>Baiomys    </td><td> 6.000000</td></tr>\n",
              "\t<tr><td>21</td><td>42.68571</td><td>137.7647</td><td>24.59211</td><td> 9.191617</td><td>22.05882</td><td>10.164103</td><td> 71.10714</td><td> NA</td><td>Baiomys    </td><td> 6.666667</td></tr>\n",
              "\t<tr><td> 1</td><td>60.23214</td><td>156.2222</td><td>27.67550</td><td> 9.625000</td><td>22.22222</td><td>11.375000</td><td>       NA</td><td> NA</td><td>Chaetodipus</td><td>22.199387</td></tr>\n",
              "\t<tr><td> 2</td><td>55.68259</td><td>169.1436</td><td>26.87302</td><td> 6.947368</td><td>22.26966</td><td>10.680556</td><td> 70.85714</td><td> NA</td><td>Chaetodipus</td><td>25.110145</td></tr>\n",
              "\t<tr><td> 3</td><td>52.04688</td><td>158.2414</td><td>26.03241</td><td> 7.507812</td><td>21.37037</td><td>10.516588</td><td> 65.61404</td><td> NA</td><td>Chaetodipus</td><td>24.636364</td></tr>\n",
              "\t<tr><td> 4</td><td>57.52454</td><td>164.1667</td><td>28.09375</td><td> 7.824427</td><td>22.60000</td><td>10.263158</td><td> 82.00000</td><td> NA</td><td>Chaetodipus</td><td>23.023810</td></tr>\n",
              "\t<tr><td> 5</td><td>51.11356</td><td>190.0370</td><td>27.01695</td><td> 8.658537</td><td>21.23171</td><td>11.154545</td><td> 82.66667</td><td> NA</td><td>Chaetodipus</td><td>17.982759</td></tr>\n",
              "\t<tr><td> 6</td><td>58.60531</td><td>179.9333</td><td>25.89947</td><td> 7.809524</td><td>21.84043</td><td>10.670455</td><td> 68.77778</td><td> NA</td><td>Chaetodipus</td><td>24.860092</td></tr>\n",
              "\t<tr><td> 7</td><td>57.36364</td><td>170.2222</td><td>23.58333</td><td> 7.000000</td><td>22.21698</td><td>11.075697</td><td>       NA</td><td> NA</td><td>Chaetodipus</td><td>19.916031</td></tr>\n",
              "\t<tr><td> 8</td><td>59.41090</td><td>133.8571</td><td>25.86577</td><td> 7.056604</td><td>20.11765</td><td> 9.692308</td><td>       NA</td><td> NA</td><td>Chaetodipus</td><td>20.472843</td></tr>\n",
              "\t<tr><td> 9</td><td>57.51792</td><td>161.8182</td><td>27.54667</td><td> 7.371429</td><td>21.65625</td><td>10.321429</td><td> 56.50000</td><td> NA</td><td>Chaetodipus</td><td>18.915966</td></tr>\n",
              "\t<tr><td>10</td><td>51.83333</td><td>190.0000</td><td>28.68182</td><td>       NA</td><td>21.05970</td><td>10.877193</td><td>101.00000</td><td> NA</td><td>Chaetodipus</td><td>22.333333</td></tr>\n",
              "\t<tr><td>11</td><td>50.60652</td><td>153.2571</td><td>25.88623</td><td> 8.121212</td><td>21.60294</td><td>10.819444</td><td> 64.05882</td><td> NA</td><td>Chaetodipus</td><td>19.808824</td></tr>\n",
              "\t<tr><td>12</td><td>50.48293</td><td>169.0133</td><td>26.11417</td><td> 7.875000</td><td>20.98413</td><td>10.673267</td><td> 66.22222</td><td> NA</td><td>Chaetodipus</td><td>19.616379</td></tr>\n",
              "\t<tr><td>13</td><td>60.47431</td><td>153.7297</td><td>27.47297</td><td> 9.275510</td><td>21.79545</td><td>10.306667</td><td> 74.00000</td><td> NA</td><td>Chaetodipus</td><td>27.296512</td></tr>\n",
              "\t<tr><td>14</td><td>48.86020</td><td>139.0877</td><td>29.49143</td><td> 8.838710</td><td>21.02500</td><td> 9.911765</td><td>       NA</td><td>130</td><td>Chaetodipus</td><td>16.518519</td></tr>\n",
              "\t<tr><td>15</td><td>46.58333</td><td>164.2727</td><td>25.34653</td><td> 8.163121</td><td>20.25203</td><td>10.264957</td><td> 58.00000</td><td> NA</td><td>Chaetodipus</td><td>20.536232</td></tr>\n",
              "\t<tr><td>16</td><td>45.81982</td><td>117.0000</td><td>25.34884</td><td> 6.666667</td><td>20.58763</td><td>10.828025</td><td>       NA</td><td> NA</td><td>Chaetodipus</td><td>22.153846</td></tr>\n",
              "\t<tr><td>17</td><td>52.56868</td><td>145.9412</td><td>26.10784</td><td> 8.600000</td><td>21.00000</td><td> 9.962025</td><td> 69.13333</td><td> NA</td><td>Chaetodipus</td><td>23.178161</td></tr>\n",
              "\t<tr><td>18</td><td>61.39610</td><td>148.6250</td><td>26.57983</td><td> 8.624161</td><td>21.37079</td><td>11.050000</td><td> 46.10000</td><td> NA</td><td>Chaetodipus</td><td>26.755814</td></tr>\n",
              "\t<tr><td>19</td><td>43.26923</td><td>120.0000</td><td>23.82895</td><td> 8.094203</td><td>20.84239</td><td>10.528205</td><td> 67.86667</td><td> NA</td><td>Chaetodipus</td><td>26.425926</td></tr>\n",
              "\t<tr><td>20</td><td>65.93596</td><td>155.3415</td><td>25.23256</td><td> 8.144144</td><td>21.13861</td><td>10.712000</td><td> 63.00000</td><td> 57</td><td>Chaetodipus</td><td>25.057471</td></tr>\n",
              "\t<tr><td>21</td><td>42.68571</td><td>137.7647</td><td>24.59211</td><td> 9.191617</td><td>22.05882</td><td>10.164103</td><td> 71.10714</td><td> NA</td><td>Chaetodipus</td><td>28.183544</td></tr>\n",
              "\t<tr><td>22</td><td>70.38413</td><td>136.8667</td><td>24.64211</td><td>10.815385</td><td>21.34615</td><td> 9.285714</td><td> 50.00000</td><td> NA</td><td>Chaetodipus</td><td>29.739583</td></tr>\n",
              "\t<tr><td>23</td><td>53.62069</td><td>117.5000</td><td>23.40909</td><td> 6.400000</td><td>21.52212</td><td>11.037234</td><td>199.00000</td><td> NA</td><td>Chaetodipus</td><td>22.444444</td></tr>\n",
              "\t<tr><td>24</td><td>45.74644</td><td>165.7216</td><td>25.68000</td><td>10.500000</td><td>21.82197</td><td>10.639752</td><td> 66.85714</td><td> NA</td><td>Chaetodipus</td><td>20.461538</td></tr>\n",
              "</tbody>\n",
              "</table>\n"
            ]
          },
          "metadata": {
            "tags": []
          }
        }
      ]
    },
    {
      "cell_type": "markdown",
      "metadata": {
        "id": "Atxtv4iaTgUP",
        "colab_type": "text"
      },
      "source": [
        "## **2. 실습과제 설명**"
      ]
    },
    {
      "cell_type": "markdown",
      "metadata": {
        "id": "o60iTBYzh13_",
        "colab_type": "text"
      },
      "source": [
        "### **1주차 과제**\n",
        "- - -\n",
        "\n",
        "* **1주차 - 1번 문제**\n",
        "\n",
        "길이(length)가 서로 다른 벡터를 데이터프레임으로 만들 때.."
      ]
    },
    {
      "cell_type": "code",
      "metadata": {
        "id": "BNps0d_jhcoc",
        "colab_type": "code",
        "colab": {
          "base_uri": "https://localhost:8080/"
        },
        "outputId": "456f8ab5-2bb8-42e1-f27a-ab7bba3ec6b4"
      },
      "source": [
        "vec1 <- c(1,2,3,4)\n",
        "vec2 <- c(\"M\",\"F\",\"M\",\"M\",\"HEHE\")\n",
        "vec3 <- c(T,F,T,F)\n",
        "\n",
        "DF <- data.frame(a = vec1, b = vec2, c = vec3)"
      ],
      "execution_count": null,
      "outputs": [
        {
          "output_type": "error",
          "ename": "ERROR",
          "evalue": "ignored",
          "traceback": [
            "Error in data.frame(a = vec1, b = vec2, c = vec3): arguments imply differing number of rows: 4, 5\nTraceback:\n",
            "1. data.frame(a = vec1, b = vec2, c = vec3)",
            "2. stop(gettextf(\"arguments imply differing number of rows: %s\", \n .     paste(unique(nrows), collapse = \", \")), domain = NA)"
          ]
        }
      ]
    },
    {
      "cell_type": "code",
      "metadata": {
        "id": "T7WQFhtFjKTL",
        "colab_type": "code",
        "colab": {
          "base_uri": "https://localhost:8080/"
        },
        "outputId": "1aeb0676-4f6e-4964-f2ba-5b1c841b4705"
      },
      "source": [
        "# 해결방법 1\n",
        "a <- c(vec1, NA)\n",
        "b <- vec2\n",
        "c <- c(vec3, NA)\n",
        "\n",
        "data.frame(a,b,c) %>% show()"
      ],
      "execution_count": null,
      "outputs": [
        {
          "output_type": "stream",
          "text": [
            "   a    b     c\n",
            "1  1    M  TRUE\n",
            "2  2    F FALSE\n",
            "3  3    M  TRUE\n",
            "4  4    M FALSE\n",
            "5 NA HEHE    NA\n"
          ],
          "name": "stdout"
        }
      ]
    },
    {
      "cell_type": "code",
      "metadata": {
        "id": "xXHTjaisicIC",
        "colab_type": "code",
        "colab": {
          "base_uri": "https://localhost:8080/"
        },
        "outputId": "a183bf1e-a4c9-49f5-f63a-95aee98190fc"
      },
      "source": [
        "# 해결방법 2\n",
        "max.length <- max(length(vec1),length(vec2),length(vec3)) # vec2가 max! 5\n",
        "\n",
        "a <- c(vec1,rep(NA,max.length-length(vec1)))\n",
        "b <- c(vec2,rep(NA,max.length-length(vec2)))\n",
        "c <- c(vec3,rep(NA,max.length-length(vec3))) \n",
        "\n",
        "data.frame(a,b,c) %>% show()"
      ],
      "execution_count": null,
      "outputs": [
        {
          "output_type": "stream",
          "text": [
            "   a    b     c\n",
            "1  1    M  TRUE\n",
            "2  2    F FALSE\n",
            "3  3    M  TRUE\n",
            "4  4    M FALSE\n",
            "5 NA HEHE    NA\n"
          ],
          "name": "stdout"
        }
      ]
    },
    {
      "cell_type": "code",
      "metadata": {
        "id": "C-T-xPcvjjG0",
        "colab_type": "code",
        "colab": {
          "base_uri": "https://localhost:8080/"
        },
        "outputId": "e9c6b02c-6c04-4cf6-9f51-8e4d28d8a2ca"
      },
      "source": [
        "# 해결방법 3\n",
        "temp <- list(vec1, vec2, vec3)\n",
        "\n",
        "max_len <- max(length(vec1),length(vec2),length(vec3))\n",
        "\n",
        "for(index in 1:length(temp)){\n",
        "   temp[[index]] <- tibble(c(temp[[index]], rep(NA, max_len - length(temp[[index]]))))   \n",
        "}\n",
        "\n",
        "# 각각 생성된 데이터 프레임을 bind_cols이용하여 하나의 데이터 프레임으로 생성한다.\n",
        "DF2 <- dplyr::bind_cols(temp)\n",
        "colnames(DF2) <- c(\"a\",\"b\",\"c\")\n",
        "\n",
        "DF2 %>% show()"
      ],
      "execution_count": null,
      "outputs": [
        {
          "output_type": "stream",
          "text": [
            "\u001b[90m# A tibble: 5 x 3\u001b[39m\n",
            "      a b     c    \n",
            "  \u001b[3m\u001b[90m<dbl>\u001b[39m\u001b[23m \u001b[3m\u001b[90m<chr>\u001b[39m\u001b[23m \u001b[3m\u001b[90m<lgl>\u001b[39m\u001b[23m\n",
            "\u001b[90m1\u001b[39m     1 M     TRUE \n",
            "\u001b[90m2\u001b[39m     2 F     FALSE\n",
            "\u001b[90m3\u001b[39m     3 M     TRUE \n",
            "\u001b[90m4\u001b[39m     4 M     FALSE\n",
            "\u001b[90m5\u001b[39m    \u001b[31mNA\u001b[39m HEHE  \u001b[31mNA\u001b[39m   \n"
          ],
          "name": "stdout"
        }
      ]
    },
    {
      "cell_type": "markdown",
      "metadata": {
        "id": "2CkNIzB6ksuC",
        "colab_type": "text"
      },
      "source": [
        "* **1주차 - 2번 문제**\n",
        "\n",
        "\n",
        "\n",
        "```\n",
        "R 의 내장 데이터셋인‘cars’를 이용하여,lapply 함수를 적용하려 한다.\n",
        "(1) car 의 각 열(speed, dist)에 udf(user defined function)를 이용한다.\n",
        "(2) 각 열에 대해 최대값(max), 최소값(min), 최대값과 최소값의 차를 구한 후 3 개의\n",
        "값을 벡터(vector)로 묶어 반환(return) 한다. \n",
        "```\n",
        "\n"
      ]
    },
    {
      "cell_type": "code",
      "metadata": {
        "id": "389tuEewkewB",
        "colab_type": "code",
        "colab": {
          "base_uri": "https://localhost:8080/"
        },
        "outputId": "7985d2be-65d0-4ffe-b164-6b1a26f1a96b"
      },
      "source": [
        "cars %>% as_tibble() %>% show()"
      ],
      "execution_count": null,
      "outputs": [
        {
          "output_type": "stream",
          "text": [
            "\u001b[90m# A tibble: 50 x 2\u001b[39m\n",
            "   speed  dist\n",
            "   \u001b[3m\u001b[90m<dbl>\u001b[39m\u001b[23m \u001b[3m\u001b[90m<dbl>\u001b[39m\u001b[23m\n",
            "\u001b[90m 1\u001b[39m     4     2\n",
            "\u001b[90m 2\u001b[39m     4    10\n",
            "\u001b[90m 3\u001b[39m     7     4\n",
            "\u001b[90m 4\u001b[39m     7    22\n",
            "\u001b[90m 5\u001b[39m     8    16\n",
            "\u001b[90m 6\u001b[39m     9    10\n",
            "\u001b[90m 7\u001b[39m    10    18\n",
            "\u001b[90m 8\u001b[39m    10    26\n",
            "\u001b[90m 9\u001b[39m    10    34\n",
            "\u001b[90m10\u001b[39m    11    17\n",
            "\u001b[90m# … with 40 more rows\u001b[39m\n"
          ],
          "name": "stdout"
        }
      ]
    },
    {
      "cell_type": "code",
      "metadata": {
        "id": "lDObx11xk5OB",
        "colab_type": "code",
        "colab": {
          "base_uri": "https://localhost:8080/"
        },
        "outputId": "771cb6cb-e18a-4ca5-c1dc-4bd2421a0ade"
      },
      "source": [
        "lapply(cars, FUN = function(x){\n",
        "   m <- max(x)\n",
        "   n <- min(x)\n",
        "   a <- m - n\n",
        "   return(c(m, n, a))\n",
        "}) "
      ],
      "execution_count": null,
      "outputs": [
        {
          "output_type": "display_data",
          "data": {
            "text/plain": [
              "$speed\n",
              "[1] 25  4 21\n",
              "\n",
              "$dist\n",
              "[1] 120   2 118\n"
            ],
            "text/latex": "\\begin{description}\n\\item[\\$speed] \\begin{enumerate*}\n\\item 25\n\\item 4\n\\item 21\n\\end{enumerate*}\n\n\\item[\\$dist] \\begin{enumerate*}\n\\item 120\n\\item 2\n\\item 118\n\\end{enumerate*}\n\n\\end{description}\n",
            "text/markdown": "$speed\n:   1. 25\n2. 4\n3. 21\n\n\n\n$dist\n:   1. 120\n2. 2\n3. 118\n\n\n\n\n\n",
            "text/html": [
              "<dl>\n",
              "\t<dt>$speed</dt>\n",
              "\t\t<dd><style>\n",
              ".list-inline {list-style: none; margin:0; padding: 0}\n",
              ".list-inline>li {display: inline-block}\n",
              ".list-inline>li:not(:last-child)::after {content: \"\\00b7\"; padding: 0 .5ex}\n",
              "</style>\n",
              "<ol class=list-inline><li>25</li><li>4</li><li>21</li></ol>\n",
              "</dd>\n",
              "\t<dt>$dist</dt>\n",
              "\t\t<dd><style>\n",
              ".list-inline {list-style: none; margin:0; padding: 0}\n",
              ".list-inline>li {display: inline-block}\n",
              ".list-inline>li:not(:last-child)::after {content: \"\\00b7\"; padding: 0 .5ex}\n",
              "</style>\n",
              "<ol class=list-inline><li>120</li><li>2</li><li>118</li></ol>\n",
              "</dd>\n",
              "</dl>\n"
            ]
          },
          "metadata": {
            "tags": []
          }
        }
      ]
    },
    {
      "cell_type": "markdown",
      "metadata": {
        "id": "mpCM1Oz5qipE",
        "colab_type": "text"
      },
      "source": [
        " !"
      ]
    },
    {
      "cell_type": "markdown",
      "metadata": {
        "colab_type": "text",
        "id": "5GNQY8-Cqse4"
      },
      "source": [
        "### **2주차 과제**\n",
        "- - -\n",
        "\n",
        "* **2주차 - 1,2 번 문제**"
      ]
    },
    {
      "cell_type": "code",
      "metadata": {
        "id": "tPxIrvFWlAYE",
        "colab_type": "code",
        "colab": {}
      },
      "source": [
        "DF <- fread(\"ftp://210.115.229.94/2020_datascience/6th_data/Pre_Season_Batter.csv\", encoding = \"UTF-8\") %>% as_tibble()"
      ],
      "execution_count": null,
      "outputs": []
    },
    {
      "cell_type": "code",
      "metadata": {
        "id": "Lo-lU2LssvxX",
        "colab_type": "code",
        "colab": {
          "base_uri": "https://localhost:8080/"
        },
        "outputId": "776eb354-85a3-4533-be68-8e1c4bf79791"
      },
      "source": [
        "DF %>% show()"
      ],
      "execution_count": null,
      "outputs": [
        {
          "output_type": "stream",
          "text": [
            "\u001b[90m# A tibble: 1,393 x 29\u001b[39m\n",
            "   batter_id batter_name  year team  avg       G    AB     R     H  `2B`  `3B`\n",
            "       \u001b[3m\u001b[90m<int>\u001b[39m\u001b[23m \u001b[3m\u001b[90m<chr>\u001b[39m\u001b[23m       \u001b[3m\u001b[90m<int>\u001b[39m\u001b[23m \u001b[3m\u001b[90m<chr>\u001b[39m\u001b[23m \u001b[3m\u001b[90m<chr>\u001b[39m\u001b[23m \u001b[3m\u001b[90m<int>\u001b[39m\u001b[23m \u001b[3m\u001b[90m<int>\u001b[39m\u001b[23m \u001b[3m\u001b[90m<int>\u001b[39m\u001b[23m \u001b[3m\u001b[90m<int>\u001b[39m\u001b[23m \u001b[3m\u001b[90m<int>\u001b[39m\u001b[23m \u001b[3m\u001b[90m<int>\u001b[39m\u001b[23m\n",
            "\u001b[90m 1\u001b[39m         0 가르시아     \u001b[4m2\u001b[24m018 LG    0.350     7    20     1     7     1     0\n",
            "\u001b[90m 2\u001b[39m         1 강경학       \u001b[4m2\u001b[24m011 한화  0.000     4     2     2     0     0     0\n",
            "\u001b[90m 3\u001b[39m         1 강경학       \u001b[4m2\u001b[24m014 한화  -         4     0     2     0     0     0\n",
            "\u001b[90m 4\u001b[39m         1 강경학       \u001b[4m2\u001b[24m015 한화  0.130    10    23     3     3     0     0\n",
            "\u001b[90m 5\u001b[39m         1 강경학       \u001b[4m2\u001b[24m016 한화  0.188    14    32     4     6     1     1\n",
            "\u001b[90m 6\u001b[39m         1 강경학       \u001b[4m2\u001b[24m017 한화  0.222    11    36    10     8     0     0\n",
            "\u001b[90m 7\u001b[39m         2 강구성       \u001b[4m2\u001b[24m013 NC    0.000     3     4     0     0     0     0\n",
            "\u001b[90m 8\u001b[39m         2 강구성       \u001b[4m2\u001b[24m016 NC    0.000     3     1     0     0     0     0\n",
            "\u001b[90m 9\u001b[39m         2 강구성       \u001b[4m2\u001b[24m017 NC    1.000     2     1     0     1     0     0\n",
            "\u001b[90m10\u001b[39m        69 김태완       \u001b[4m2\u001b[24m006 한화  0.200    10    15     0     3     0     0\n",
            "\u001b[90m# … with 1,383 more rows, and 18 more variables: HR \u001b[3m\u001b[90m<int>\u001b[90m\u001b[23m, TB \u001b[3m\u001b[90m<int>\u001b[90m\u001b[23m, RBI \u001b[3m\u001b[90m<int>\u001b[90m\u001b[23m,\u001b[39m\n",
            "\u001b[90m#   SB \u001b[3m\u001b[90m<int>\u001b[90m\u001b[23m, CS \u001b[3m\u001b[90m<int>\u001b[90m\u001b[23m, BB \u001b[3m\u001b[90m<int>\u001b[90m\u001b[23m, HBP \u001b[3m\u001b[90m<int>\u001b[90m\u001b[23m, SO \u001b[3m\u001b[90m<int>\u001b[90m\u001b[23m, GDP \u001b[3m\u001b[90m<int>\u001b[90m\u001b[23m, SLG \u001b[3m\u001b[90m<dbl>\u001b[90m\u001b[23m,\u001b[39m\n",
            "\u001b[90m#   OBP \u001b[3m\u001b[90m<dbl>\u001b[90m\u001b[23m, E \u001b[3m\u001b[90m<int>\u001b[90m\u001b[23m, `height/weight` \u001b[3m\u001b[90m<chr>\u001b[90m\u001b[23m, year_born \u001b[3m\u001b[90m<chr>\u001b[90m\u001b[23m, position \u001b[3m\u001b[90m<chr>\u001b[90m\u001b[23m,\u001b[39m\n",
            "\u001b[90m#   career \u001b[3m\u001b[90m<chr>\u001b[90m\u001b[23m, starting_salary \u001b[3m\u001b[90m<chr>\u001b[90m\u001b[23m, OPS \u001b[3m\u001b[90m<dbl>\u001b[90m\u001b[23m\u001b[39m\n"
          ],
          "name": "stdout"
        }
      ]
    },
    {
      "cell_type": "code",
      "metadata": {
        "id": "1nUwuQK1uIdG",
        "colab_type": "code",
        "colab": {}
      },
      "source": [
        "team2hometown <- function(value){\n",
        "  hometown <- NULL\n",
        "  for(index in value$team){\n",
        "    hometown <- c(hometown, switch(index, LG = \"서울\", 한화=\"대전\",\n",
        "                   NC = \"창원\", 넥센=\"서울\",\n",
        "                   롯데 = \"부산\", 삼성 = \"대구\",\n",
        "                   KT = \"수원\", SK = \"인천\",\n",
        "                   KIA = \"광주\", 두산 = \"서울\",\n",
        "                   히어로즈 = \"서울\", 우리 = \"서울\",\n",
        "                   현대 = \"수원\"))\n",
        "  }\n",
        "  value$hometown <- hometown\n",
        "  return(value)\n",
        "}"
      ],
      "execution_count": null,
      "outputs": []
    },
    {
      "cell_type": "code",
      "metadata": {
        "id": "TSba4JKkHXs1",
        "colab_type": "code",
        "colab": {
          "base_uri": "https://localhost:8080/"
        },
        "outputId": "064119ac-a293-413f-bcbf-4a505fd2344c"
      },
      "source": [
        "DF$team"
      ],
      "execution_count": null,
      "outputs": [
        {
          "output_type": "display_data",
          "data": {
            "text/plain": [
              "   [1] \"LG\"       \"한화\"     \"한화\"     \"한화\"     \"한화\"     \"한화\"    \n",
              "   [7] \"NC\"       \"NC\"       \"NC\"       \"한화\"     \"한화\"     \"한화\"    \n",
              "  [13] \"한화\"     \"한화\"     \"한화\"     \"한화\"     \"한화\"     \"넥센\"    \n",
              "  [19] \"넥센\"     \"NC\"       \"NC\"       \"NC\"       \"롯데\"     \"롯데\"    \n",
              "  [25] \"롯데\"     \"롯데\"     \"롯데\"     \"롯데\"     \"롯데\"     \"롯데\"    \n",
              "  [31] \"롯데\"     \"롯데\"     \"롯데\"     \"롯데\"     \"롯데\"     \"삼성\"    \n",
              "  [37] \"KT\"       \"한화\"     \"한화\"     \"한화\"     \"LG\"       \"LG\"      \n",
              "  [43] \"LG\"       \"SK\"       \"NC\"       \"NC\"       \"KIA\"      \"KIA\"     \n",
              "  [49] \"삼성\"     \"삼성\"     \"한화\"     \"두산\"     \"두산\"     \"넥센\"    \n",
              "  [55] \"넥센\"     \"넥센\"     \"넥센\"     \"넥센\"     \"삼성\"     \"삼성\"    \n",
              "  [61] \"삼성\"     \"삼성\"     \"두산\"     \"두산\"     \"두산\"     \"두산\"    \n",
              "  [67] \"두산\"     \"삼성\"     \"삼성\"     \"삼성\"     \"NC\"       \"NC\"      \n",
              "  [73] \"NC\"       \"NC\"       \"SK\"       \"SK\"       \"SK\"       \"SK\"      \n",
              "  [79] \"SK\"       \"SK\"       \"SK\"       \"SK\"       \"SK\"       \"SK\"      \n",
              "  [85] \"SK\"       \"SK\"       \"SK\"       \"SK\"       \"SK\"       \"SK\"      \n",
              "  [91] \"LG\"       \"LG\"       \"LG\"       \"LG\"       \"LG\"       \"LG\"      \n",
              "  [97] \"SK\"       \"SK\"       \"SK\"       \"삼성\"     \"삼성\"     \"KT\"      \n",
              " [103] \"KT\"       \"KT\"       \"KT\"       \"두산\"     \"롯데\"     \"롯데\"    \n",
              " [109] \"롯데\"     \"롯데\"     \"롯데\"     \"롯데\"     \"롯데\"     \"롯데\"    \n",
              " [115] \"롯데\"     \"롯데\"     \"롯데\"     \"롯데\"     \"롯데\"     \"롯데\"    \n",
              " [121] \"롯데\"     \"넥센\"     \"넥센\"     \"넥센\"     \"넥센\"     \"넥센\"    \n",
              " [127] \"넥센\"     \"넥센\"     \"넥센\"     \"넥센\"     \"한화\"     \"삼성\"    \n",
              " [133] \"SK\"       \"SK\"       \"KIA\"      \"KIA\"      \"넥센\"     \"넥센\"    \n",
              " [139] \"넥센\"     \"롯데\"     \"롯데\"     \"롯데\"     \"롯데\"     \"롯데\"    \n",
              " [145] \"롯데\"     \"롯데\"     \"롯데\"     \"삼성\"     \"삼성\"     \"삼성\"    \n",
              " [151] \"삼성\"     \"삼성\"     \"삼성\"     \"삼성\"     \"삼성\"     \"삼성\"    \n",
              " [157] \"삼성\"     \"롯데\"     \"롯데\"     \"롯데\"     \"롯데\"     \"KIA\"     \n",
              " [163] \"KIA\"      \"KIA\"      \"KIA\"      \"KIA\"      \"KIA\"      \"KIA\"     \n",
              " [169] \"KIA\"      \"KIA\"      \"NC\"       \"NC\"       \"NC\"       \"NC\"      \n",
              " [175] \"NC\"       \"NC\"       \"SK\"       \"SK\"       \"SK\"       \"SK\"      \n",
              " [181] \"SK\"       \"SK\"       \"SK\"       \"SK\"       \"SK\"       \"SK\"      \n",
              " [187] \"SK\"       \"삼성\"     \"삼성\"     \"LG\"       \"LG\"       \"LG\"      \n",
              " [193] \"LG\"       \"LG\"       \"LG\"       \"LG\"       \"LG\"       \"두산\"    \n",
              " [199] \"두산\"     \"LG\"       \"LG\"       \"LG\"       \"LG\"       \"LG\"      \n",
              " [205] \"LG\"       \"삼성\"     \"삼성\"     \"삼성\"     \"두산\"     \"두산\"    \n",
              " [211] \"두산\"     \"두산\"     \"두산\"     \"두산\"     \"두산\"     \"두산\"    \n",
              " [217] \"두산\"     \"두산\"     \"두산\"     \"두산\"     \"두산\"     \"두산\"    \n",
              " [223] \"두산\"     \"두산\"     \"두산\"     \"두산\"     \"두산\"     \"두산\"    \n",
              " [229] \"롯데\"     \"롯데\"     \"롯데\"     \"롯데\"     \"롯데\"     \"롯데\"    \n",
              " [235] \"롯데\"     \"롯데\"     \"KIA\"      \"KIA\"      \"KIA\"      \"KIA\"     \n",
              " [241] \"KIA\"      \"KIA\"      \"KIA\"      \"KIA\"      \"KIA\"      \"KIA\"     \n",
              " [247] \"KIA\"      \"KIA\"      \"KIA\"      \"KIA\"      \"KIA\"      \"KIA\"     \n",
              " [253] \"KIA\"      \"넥센\"     \"넥센\"     \"넥센\"     \"넥센\"     \"넥센\"    \n",
              " [259] \"넥센\"     \"KT\"       \"한화\"     \"한화\"     \"한화\"     \"한화\"    \n",
              " [265] \"한화\"     \"한화\"     \"한화\"     \"한화\"     \"한화\"     \"한화\"    \n",
              " [271] \"한화\"     \"한화\"     \"한화\"     \"한화\"     \"한화\"     \"한화\"    \n",
              " [277] \"NC\"       \"넥센\"     \"넥센\"     \"넥센\"     \"넥센\"     \"삼성\"    \n",
              " [283] \"삼성\"     \"삼성\"     \"삼성\"     \"삼성\"     \"삼성\"     \"두산\"    \n",
              " [289] \"두산\"     \"두산\"     \"두산\"     \"두산\"     \"두산\"     \"두산\"    \n",
              " [295] \"두산\"     \"두산\"     \"LG\"       \"넥센\"     \"넥센\"     \"한화\"    \n",
              " [301] \"한화\"     \"한화\"     \"한화\"     \"한화\"     \"롯데\"     \"롯데\"    \n",
              " [307] \"NC\"       \"NC\"       \"NC\"       \"NC\"       \"NC\"       \"삼성\"    \n",
              " [313] \"롯데\"     \"롯데\"     \"롯데\"     \"두산\"     \"두산\"     \"두산\"    \n",
              " [319] \"두산\"     \"SK\"       \"SK\"       \"SK\"       \"SK\"       \"SK\"      \n",
              " [325] \"SK\"       \"SK\"       \"SK\"       \"KIA\"      \"KIA\"      \"KIA\"     \n",
              " [331] \"KIA\"      \"KIA\"      \"KIA\"      \"KIA\"      \"KIA\"      \"KIA\"     \n",
              " [337] \"KIA\"      \"KT\"       \"KT\"       \"KT\"       \"KIA\"      \"KIA\"     \n",
              " [343] \"SK\"       \"SK\"       \"NC\"       \"NC\"       \"NC\"       \"NC\"      \n",
              " [349] \"NC\"       \"NC\"       \"NC\"       \"삼성\"     \"삼성\"     \"SK\"      \n",
              " [355] \"KT\"       \"두산\"     \"두산\"     \"두산\"     \"SK\"       \"SK\"      \n",
              " [361] \"SK\"       \"NC\"       \"NC\"       \"NC\"       \"NC\"       \"NC\"      \n",
              " [367] \"롯데\"     \"롯데\"     \"롯데\"     \"롯데\"     \"롯데\"     \"롯데\"    \n",
              " [373] \"롯데\"     \"롯데\"     \"롯데\"     \"롯데\"     \"롯데\"     \"롯데\"    \n",
              " [379] \"두산\"     \"두산\"     \"두산\"     \"두산\"     \"두산\"     \"두산\"    \n",
              " [385] \"두산\"     \"두산\"     \"두산\"     \"두산\"     \"롯데\"     \"두산\"    \n",
              " [391] \"두산\"     \"두산\"     \"두산\"     \"두산\"     \"두산\"     \"두산\"    \n",
              " [397] \"LG\"       \"LG\"       \"LG\"       \"LG\"       \"LG\"       \"LG\"      \n",
              " [403] \"LG\"       \"LG\"       \"LG\"       \"KT\"       \"KT\"       \"KT\"      \n",
              " [409] \"KT\"       \"NC\"       \"NC\"       \"NC\"       \"NC\"       \"롯데\"    \n",
              " [415] \"롯데\"     \"롯데\"     \"롯데\"     \"롯데\"     \"롯데\"     \"롯데\"    \n",
              " [421] \"롯데\"     \"롯데\"     \"롯데\"     \"KT\"       \"KT\"       \"KT\"      \n",
              " [427] \"KT\"       \"넥센\"     \"넥센\"     \"넥센\"     \"넥센\"     \"넥센\"    \n",
              " [433] \"넥센\"     \"NC\"       \"NC\"       \"NC\"       \"NC\"       \"NC\"      \n",
              " [439] \"LG\"       \"LG\"       \"LG\"       \"LG\"       \"넥센\"     \"넥센\"    \n",
              " [445] \"넥센\"     \"넥센\"     \"넥센\"     \"삼성\"     \"삼성\"     \"삼성\"    \n",
              " [451] \"삼성\"     \"삼성\"     \"삼성\"     \"삼성\"     \"삼성\"     \"삼성\"    \n",
              " [457] \"NC\"       \"NC\"       \"NC\"       \"두산\"     \"두산\"     \"두산\"    \n",
              " [463] \"두산\"     \"두산\"     \"SK\"       \"SK\"       \"SK\"       \"LG\"      \n",
              " [469] \"LG\"       \"LG\"       \"LG\"       \"LG\"       \"LG\"       \"LG\"      \n",
              " [475] \"LG\"       \"LG\"       \"LG\"       \"LG\"       \"LG\"       \"LG\"      \n",
              " [481] \"LG\"       \"LG\"       \"LG\"       \"LG\"       \"SK\"       \"SK\"      \n",
              " [487] \"SK\"       \"SK\"       \"SK\"       \"SK\"       \"SK\"       \"SK\"      \n",
              " [493] \"SK\"       \"SK\"       \"SK\"       \"SK\"       \"SK\"       \"넥센\"    \n",
              " [499] \"넥센\"     \"KIA\"      \"KIA\"      \"KIA\"      \"KIA\"      \"KIA\"     \n",
              " [505] \"KIA\"      \"KIA\"      \"LG\"       \"LG\"       \"삼성\"     \"삼성\"    \n",
              " [511] \"삼성\"     \"삼성\"     \"삼성\"     \"삼성\"     \"삼성\"     \"삼성\"    \n",
              " [517] \"삼성\"     \"삼성\"     \"삼성\"     \"삼성\"     \"삼성\"     \"삼성\"    \n",
              " [523] \"삼성\"     \"삼성\"     \"삼성\"     \"삼성\"     \"삼성\"     \"삼성\"    \n",
              " [529] \"삼성\"     \"삼성\"     \"삼성\"     \"넥센\"     \"넥센\"     \"넥센\"    \n",
              " [535] \"롯데\"     \"롯데\"     \"롯데\"     \"삼성\"     \"삼성\"     \"삼성\"    \n",
              " [541] \"삼성\"     \"삼성\"     \"삼성\"     \"LG\"       \"KT\"       \"KT\"      \n",
              " [547] \"롯데\"     \"두산\"     \"삼성\"     \"삼성\"     \"삼성\"     \"삼성\"    \n",
              " [553] \"삼성\"     \"KIA\"      \"KIA\"      \"KIA\"      \"KIA\"      \"KIA\"     \n",
              " [559] \"LG\"       \"LG\"       \"LG\"       \"LG\"       \"한화\"     \"KIA\"     \n",
              " [565] \"KIA\"      \"롯데\"     \"롯데\"     \"넥센\"     \"넥센\"     \"넥센\"    \n",
              " [571] \"넥센\"     \"넥센\"     \"넥센\"     \"넥센\"     \"KIA\"      \"KIA\"     \n",
              " [577] \"KIA\"      \"LG\"       \"LG\"       \"LG\"       \"LG\"       \"LG\"      \n",
              " [583] \"넥센\"     \"넥센\"     \"넥센\"     \"KIA\"      \"KIA\"      \"KIA\"     \n",
              " [589] \"LG\"       \"LG\"       \"두산\"     \"두산\"     \"두산\"     \"두산\"    \n",
              " [595] \"두산\"     \"두산\"     \"두산\"     \"두산\"     \"NC\"       \"NC\"      \n",
              " [601] \"NC\"       \"NC\"       \"NC\"       \"롯데\"     \"롯데\"     \"롯데\"    \n",
              " [607] \"롯데\"     \"롯데\"     \"롯데\"     \"롯데\"     \"롯데\"     \"롯데\"    \n",
              " [613] \"롯데\"     \"롯데\"     \"삼성\"     \"삼성\"     \"삼성\"     \"삼성\"    \n",
              " [619] \"삼성\"     \"삼성\"     \"LG\"       \"LG\"       \"LG\"       \"LG\"      \n",
              " [625] \"LG\"       \"삼성\"     \"한화\"     \"한화\"     \"한화\"     \"한화\"    \n",
              " [631] \"한화\"     \"한화\"     \"한화\"     \"한화\"     \"한화\"     \"KT\"      \n",
              " [637] \"KT\"       \"넥센\"     \"넥센\"     \"NC\"       \"NC\"       \"KIA\"     \n",
              " [643] \"KIA\"      \"롯데\"     \"롯데\"     \"롯데\"     \"롯데\"     \"롯데\"    \n",
              " [649] \"롯데\"     \"한화\"     \"KIA\"      \"KIA\"      \"KIA\"      \"KIA\"     \n",
              " [655] \"KIA\"      \"KIA\"      \"KT\"       \"KT\"       \"KT\"       \"KT\"      \n",
              " [661] \"LG\"       \"LG\"       \"LG\"       \"롯데\"     \"롯데\"     \"KIA\"     \n",
              " [667] \"KIA\"      \"KIA\"      \"KIA\"      \"KIA\"      \"KIA\"      \"KIA\"     \n",
              " [673] \"KIA\"      \"LG\"       \"LG\"       \"LG\"       \"LG\"       \"한화\"    \n",
              " [679] \"한화\"     \"한화\"     \"한화\"     \"두산\"     \"두산\"     \"두산\"    \n",
              " [685] \"두산\"     \"두산\"     \"두산\"     \"두산\"     \"두산\"     \"두산\"    \n",
              " [691] \"롯데\"     \"롯데\"     \"두산\"     \"두산\"     \"두산\"     \"한화\"    \n",
              " [697] \"한화\"     \"한화\"     \"한화\"     \"한화\"     \"한화\"     \"한화\"    \n",
              " [703] \"한화\"     \"한화\"     \"한화\"     \"두산\"     \"두산\"     \"두산\"    \n",
              " [709] \"두산\"     \"두산\"     \"두산\"     \"두산\"     \"두산\"     \"두산\"    \n",
              " [715] \"두산\"     \"두산\"     \"히어로즈\" \"넥센\"     \"넥센\"     \"두산\"    \n",
              " [721] \"두산\"     \"두산\"     \"두산\"     \"두산\"     \"두산\"     \"두산\"    \n",
              " [727] \"삼성\"     \"삼성\"     \"NC\"       \"KT\"       \"KT\"       \"KT\"      \n",
              " [733] \"KT\"       \"LG\"       \"LG\"       \"LG\"       \"LG\"       \"LG\"      \n",
              " [739] \"LG\"       \"LG\"       \"LG\"       \"LG\"       \"롯데\"     \"롯데\"    \n",
              " [745] \"롯데\"     \"KT\"       \"KT\"       \"LG\"       \"LG\"       \"LG\"      \n",
              " [751] \"LG\"       \"LG\"       \"KIA\"      \"우리\"     \"히어로즈\" \"넥센\"    \n",
              " [757] \"넥센\"     \"넥센\"     \"넥센\"     \"넥센\"     \"KIA\"      \"현대\"    \n",
              " [763] \"현대\"     \"현대\"     \"넥센\"     \"넥센\"     \"넥센\"     \"넥센\"    \n",
              " [769] \"넥센\"     \"KT\"       \"KT\"       \"KT\"       \"NC\"       \"NC\"      \n",
              " [775] \"NC\"       \"NC\"       \"두산\"     \"두산\"     \"두산\"     \"두산\"    \n",
              " [781] \"넥센\"     \"넥센\"     \"넥센\"     \"KT\"       \"KT\"       \"롯데\"    \n",
              " [787] \"NC\"       \"KIA\"      \"LG\"       \"KIA\"      \"SK\"       \"LG\"      \n",
              " [793] \"LG\"       \"LG\"       \"LG\"       \"LG\"       \"SK\"       \"SK\"      \n",
              " [799] \"SK\"       \"두산\"     \"두산\"     \"두산\"     \"한화\"     \"한화\"    \n",
              " [805] \"한화\"     \"한화\"     \"SK\"       \"SK\"       \"SK\"       \"SK\"      \n",
              " [811] \"LG\"       \"LG\"       \"LG\"       \"LG\"       \"LG\"       \"LG\"      \n",
              " [817] \"LG\"       \"LG\"       \"LG\"       \"LG\"       \"KIA\"      \"KT\"      \n",
              " [823] \"KT\"       \"KT\"       \"롯데\"     \"롯데\"     \"롯데\"     \"롯데\"    \n",
              " [829] \"롯데\"     \"롯데\"     \"롯데\"     \"롯데\"     \"롯데\"     \"롯데\"    \n",
              " [835] \"롯데\"     \"한화\"     \"한화\"     \"한화\"     \"SK\"       \"SK\"      \n",
              " [841] \"SK\"       \"SK\"       \"KIA\"      \"KIA\"      \"한화\"     \"한화\"    \n",
              " [847] \"한화\"     \"한화\"     \"한화\"     \"한화\"     \"한화\"     \"한화\"    \n",
              " [853] \"KIA\"      \"KIA\"      \"KIA\"      \"KIA\"      \"KIA\"      \"KIA\"     \n",
              " [859] \"KIA\"      \"KIA\"      \"NC\"       \"NC\"       \"NC\"       \"NC\"      \n",
              " [865] \"두산\"     \"두산\"     \"삼성\"     \"LG\"       \"LG\"       \"LG\"      \n",
              " [871] \"LG\"       \"두산\"     \"두산\"     \"두산\"     \"두산\"     \"넥센\"    \n",
              " [877] \"넥센\"     \"넥센\"     \"한화\"     \"한화\"     \"한화\"     \"한화\"    \n",
              " [883] \"SK\"       \"KIA\"      \"KIA\"      \"KIA\"      \"KIA\"      \"KIA\"     \n",
              " [889] \"KIA\"      \"KIA\"      \"SK\"       \"SK\"       \"삼성\"     \"삼성\"    \n",
              " [895] \"삼성\"     \"삼성\"     \"삼성\"     \"삼성\"     \"삼성\"     \"삼성\"    \n",
              " [901] \"삼성\"     \"삼성\"     \"삼성\"     \"삼성\"     \"삼성\"     \"삼성\"    \n",
              " [907] \"삼성\"     \"삼성\"     \"삼성\"     \"삼성\"     \"삼성\"     \"삼성\"    \n",
              " [913] \"삼성\"     \"삼성\"     \"KIA\"      \"LG\"       \"KIA\"      \"KIA\"     \n",
              " [919] \"KIA\"      \"KIA\"      \"KIA\"      \"KIA\"      \"KIA\"      \"KIA\"     \n",
              " [925] \"KIA\"      \"한화\"     \"한화\"     \"한화\"     \"한화\"     \"두산\"    \n",
              " [931] \"롯데\"     \"롯데\"     \"롯데\"     \"롯데\"     \"두산\"     \"두산\"    \n",
              " [937] \"두산\"     \"두산\"     \"두산\"     \"삼성\"     \"삼성\"     \"KIA\"     \n",
              " [943] \"KIA\"      \"SK\"       \"SK\"       \"SK\"       \"SK\"       \"SK\"      \n",
              " [949] \"SK\"       \"SK\"       \"SK\"       \"SK\"       \"NC\"       \"NC\"      \n",
              " [955] \"NC\"       \"넥센\"     \"넥센\"     \"두산\"     \"두산\"     \"두산\"    \n",
              " [961] \"두산\"     \"두산\"     \"두산\"     \"두산\"     \"두산\"     \"NC\"      \n",
              " [967] \"NC\"       \"NC\"       \"NC\"       \"한화\"     \"한화\"     \"KT\"      \n",
              " [973] \"KIA\"      \"KIA\"      \"KIA\"      \"KIA\"      \"삼성\"     \"삼성\"    \n",
              " [979] \"삼성\"     \"삼성\"     \"삼성\"     \"삼성\"     \"삼성\"     \"삼성\"    \n",
              " [985] \"SK\"       \"SK\"       \"SK\"       \"SK\"       \"SK\"       \"SK\"      \n",
              " [991] \"SK\"       \"LG\"       \"LG\"       \"LG\"       \"LG\"       \"LG\"      \n",
              " [997] \"LG\"       \"LG\"       \"KT\"       \"KT\"       \"KT\"       \"LG\"      \n",
              "[1003] \"LG\"       \"LG\"       \"현대\"     \"현대\"     \"현대\"     \"현대\"    \n",
              "[1009] \"현대\"     \"우리\"     \"히어로즈\" \"LG\"       \"넥센\"     \"넥센\"    \n",
              "[1015] \"넥센\"     \"넥센\"     \"넥센\"     \"넥센\"     \"넥센\"     \"KT\"      \n",
              "[1021] \"KT\"       \"KT\"       \"LG\"       \"LG\"       \"현대\"     \"NC\"      \n",
              "[1027] \"NC\"       \"NC\"       \"NC\"       \"NC\"       \"삼성\"     \"삼성\"    \n",
              "[1033] \"삼성\"     \"넥센\"     \"넥센\"     \"넥센\"     \"넥센\"     \"넥센\"    \n",
              "[1039] \"롯데\"     \"롯데\"     \"SK\"       \"SK\"       \"SK\"       \"SK\"      \n",
              "[1045] \"SK\"       \"SK\"       \"SK\"       \"LG\"       \"LG\"       \"LG\"      \n",
              "[1051] \"LG\"       \"우리\"     \"넥센\"     \"넥센\"     \"넥센\"     \"넥센\"    \n",
              "[1057] \"두산\"     \"두산\"     \"한화\"     \"한화\"     \"롯데\"     \"롯데\"    \n",
              "[1063] \"롯데\"     \"롯데\"     \"롯데\"     \"KT\"       \"KT\"       \"KT\"      \n",
              "[1069] \"두산\"     \"두산\"     \"두산\"     \"넥센\"     \"넥센\"     \"히어로즈\"\n",
              "[1075] \"넥센\"     \"넥센\"     \"넥센\"     \"넥센\"     \"넥센\"     \"LG\"      \n",
              "[1081] \"LG\"       \"한화\"     \"롯데\"     \"롯데\"     \"롯데\"     \"롯데\"    \n",
              "[1087] \"롯데\"     \"롯데\"     \"롯데\"     \"롯데\"     \"롯데\"     \"롯데\"    \n",
              "[1093] \"한화\"     \"SK\"       \"SK\"       \"SK\"       \"SK\"       \"SK\"      \n",
              "[1099] \"SK\"       \"SK\"       \"SK\"       \"SK\"       \"한화\"     \"한화\"    \n",
              "[1105] \"한화\"     \"한화\"     \"한화\"     \"한화\"     \"한화\"     \"한화\"    \n",
              "[1111] \"한화\"     \"NC\"       \"LG\"       \"삼성\"     \"삼성\"     \"SK\"      \n",
              "[1117] \"SK\"       \"SK\"       \"SK\"       \"SK\"       \"SK\"       \"SK\"      \n",
              "[1123] \"SK\"       \"SK\"       \"SK\"       \"LG\"       \"LG\"       \"LG\"      \n",
              "[1129] \"KIA\"      \"현대\"     \"현대\"     \"현대\"     \"현대\"     \"현대\"    \n",
              "[1135] \"우리\"     \"LG\"       \"LG\"       \"LG\"       \"LG\"       \"LG\"      \n",
              "[1141] \"LG\"       \"LG\"       \"LG\"       \"LG\"       \"KIA\"      \"두산\"    \n",
              "[1147] \"두산\"     \"두산\"     \"두산\"     \"두산\"     \"두산\"     \"두산\"    \n",
              "[1153] \"두산\"     \"LG\"       \"LG\"       \"LG\"       \"LG\"       \"LG\"      \n",
              "[1159] \"LG\"       \"SK\"       \"SK\"       \"SK\"       \"SK\"       \"LG\"      \n",
              "[1165] \"LG\"       \"LG\"       \"LG\"       \"LG\"       \"LG\"       \"KT\"      \n",
              "[1171] \"SK\"       \"SK\"       \"SK\"       \"SK\"       \"두산\"     \"두산\"    \n",
              "[1177] \"두산\"     \"두산\"     \"두산\"     \"두산\"     \"KT\"       \"KT\"      \n",
              "[1183] \"롯데\"     \"롯데\"     \"롯데\"     \"롯데\"     \"롯데\"     \"롯데\"    \n",
              "[1189] \"롯데\"     \"롯데\"     \"SK\"       \"SK\"       \"SK\"       \"SK\"      \n",
              "[1195] \"SK\"       \"SK\"       \"SK\"       \"SK\"       \"SK\"       \"SK\"      \n",
              "[1201] \"SK\"       \"SK\"       \"두산\"     \"두산\"     \"두산\"     \"LG\"      \n",
              "[1207] \"LG\"       \"LG\"       \"LG\"       \"LG\"       \"롯데\"     \"롯데\"    \n",
              "[1213] \"롯데\"     \"롯데\"     \"넥센\"     \"넥센\"     \"현대\"     \"현대\"    \n",
              "[1219] \"현대\"     \"현대\"     \"우리\"     \"넥센\"     \"넥센\"     \"NC\"      \n",
              "[1225] \"NC\"       \"NC\"       \"NC\"       \"NC\"       \"NC\"       \"한화\"    \n",
              "[1231] \"한화\"     \"LG\"       \"LG\"       \"LG\"       \"LG\"       \"LG\"      \n",
              "[1237] \"삼성\"     \"삼성\"     \"삼성\"     \"삼성\"     \"삼성\"     \"삼성\"    \n",
              "[1243] \"삼성\"     \"넥센\"     \"넥센\"     \"롯데\"     \"넥센\"     \"LG\"      \n",
              "[1249] \"LG\"       \"SK\"       \"SK\"       \"LG\"       \"두산\"     \"두산\"    \n",
              "[1255] \"삼성\"     \"삼성\"     \"삼성\"     \"KIA\"      \"KIA\"      \"KIA\"     \n",
              "[1261] \"SK\"       \"SK\"       \"SK\"       \"SK\"       \"한화\"     \"한화\"    \n",
              "[1267] \"한화\"     \"두산\"     \"두산\"     \"두산\"     \"두산\"     \"한화\"    \n",
              "[1273] \"한화\"     \"SK\"       \"SK\"       \"SK\"       \"SK\"       \"SK\"      \n",
              "[1279] \"SK\"       \"SK\"       \"SK\"       \"SK\"       \"SK\"       \"SK\"      \n",
              "[1285] \"SK\"       \"SK\"       \"SK\"       \"SK\"       \"SK\"       \"두산\"    \n",
              "[1291] \"두산\"     \"두산\"     \"두산\"     \"두산\"     \"두산\"     \"두산\"    \n",
              "[1297] \"두산\"     \"두산\"     \"롯데\"     \"두산\"     \"두산\"     \"두산\"    \n",
              "[1303] \"두산\"     \"두산\"     \"두산\"     \"두산\"     \"두산\"     \"롯데\"    \n",
              "[1309] \"롯데\"     \"롯데\"     \"롯데\"     \"NC\"       \"한화\"     \"한화\"    \n",
              "[1315] \"한화\"     \"한화\"     \"한화\"     \"한화\"     \"한화\"     \"한화\"    \n",
              "[1321] \"한화\"     \"한화\"     \"한화\"     \"한화\"     \"한화\"     \"SK\"      \n",
              "[1327] \"SK\"       \"삼성\"     \"삼성\"     \"삼성\"     \"삼성\"     \"삼성\"    \n",
              "[1333] \"삼성\"     \"삼성\"     \"삼성\"     \"삼성\"     \"삼성\"     \"삼성\"    \n",
              "[1339] \"삼성\"     \"KIA\"      \"KIA\"      \"한화\"     \"한화\"     \"한화\"    \n",
              "[1345] \"한화\"     \"한화\"     \"KT\"       \"KT\"       \"KT\"       \"SK\"      \n",
              "[1351] \"SK\"       \"SK\"       \"SK\"       \"롯데\"     \"한화\"     \"KIA\"     \n",
              "[1357] \"KIA\"      \"KIA\"      \"두산\"     \"두산\"     \"두산\"     \"두산\"    \n",
              "[1363] \"두산\"     \"두산\"     \"두산\"     \"넥센\"     \"넥센\"     \"넥센\"    \n",
              "[1369] \"한화\"     \"한화\"     \"SK\"       \"한화\"     \"KIA\"      \"KIA\"     \n",
              "[1375] \"KIA\"      \"KIA\"      \"KIA\"      \"LG\"       \"NC\"       \"NC\"      \n",
              "[1381] \"NC\"       \"KIA\"      \"우리\"     \"히어로즈\" \"롯데\"     \"롯데\"    \n",
              "[1387] \"롯데\"     \"롯데\"     \"롯데\"     \"롯데\"     \"롯데\"     \"KT\"      \n",
              "[1393] \"롯데\"    "
            ],
            "text/latex": "\\begin{enumerate*}\n\\item 'LG'\n\\item '한화'\n\\item '한화'\n\\item '한화'\n\\item '한화'\n\\item '한화'\n\\item 'NC'\n\\item 'NC'\n\\item 'NC'\n\\item '한화'\n\\item '한화'\n\\item '한화'\n\\item '한화'\n\\item '한화'\n\\item '한화'\n\\item '한화'\n\\item '한화'\n\\item '넥센'\n\\item '넥센'\n\\item 'NC'\n\\item 'NC'\n\\item 'NC'\n\\item '롯데'\n\\item '롯데'\n\\item '롯데'\n\\item '롯데'\n\\item '롯데'\n\\item '롯데'\n\\item '롯데'\n\\item '롯데'\n\\item '롯데'\n\\item '롯데'\n\\item '롯데'\n\\item '롯데'\n\\item '롯데'\n\\item '삼성'\n\\item 'KT'\n\\item '한화'\n\\item '한화'\n\\item '한화'\n\\item 'LG'\n\\item 'LG'\n\\item 'LG'\n\\item 'SK'\n\\item 'NC'\n\\item 'NC'\n\\item 'KIA'\n\\item 'KIA'\n\\item '삼성'\n\\item '삼성'\n\\item '한화'\n\\item '두산'\n\\item '두산'\n\\item '넥센'\n\\item '넥센'\n\\item '넥센'\n\\item '넥센'\n\\item '넥센'\n\\item '삼성'\n\\item '삼성'\n\\item '삼성'\n\\item '삼성'\n\\item '두산'\n\\item '두산'\n\\item '두산'\n\\item '두산'\n\\item '두산'\n\\item '삼성'\n\\item '삼성'\n\\item '삼성'\n\\item 'NC'\n\\item 'NC'\n\\item 'NC'\n\\item 'NC'\n\\item 'SK'\n\\item 'SK'\n\\item 'SK'\n\\item 'SK'\n\\item 'SK'\n\\item 'SK'\n\\item 'SK'\n\\item 'SK'\n\\item 'SK'\n\\item 'SK'\n\\item 'SK'\n\\item 'SK'\n\\item 'SK'\n\\item 'SK'\n\\item 'SK'\n\\item 'SK'\n\\item 'LG'\n\\item 'LG'\n\\item 'LG'\n\\item 'LG'\n\\item 'LG'\n\\item 'LG'\n\\item 'SK'\n\\item 'SK'\n\\item 'SK'\n\\item '삼성'\n\\item '삼성'\n\\item 'KT'\n\\item 'KT'\n\\item 'KT'\n\\item 'KT'\n\\item '두산'\n\\item '롯데'\n\\item '롯데'\n\\item '롯데'\n\\item '롯데'\n\\item '롯데'\n\\item '롯데'\n\\item '롯데'\n\\item '롯데'\n\\item '롯데'\n\\item '롯데'\n\\item '롯데'\n\\item '롯데'\n\\item '롯데'\n\\item '롯데'\n\\item '롯데'\n\\item '넥센'\n\\item '넥센'\n\\item '넥센'\n\\item '넥센'\n\\item '넥센'\n\\item '넥센'\n\\item '넥센'\n\\item '넥센'\n\\item '넥센'\n\\item '한화'\n\\item '삼성'\n\\item 'SK'\n\\item 'SK'\n\\item 'KIA'\n\\item 'KIA'\n\\item '넥센'\n\\item '넥센'\n\\item '넥센'\n\\item '롯데'\n\\item '롯데'\n\\item '롯데'\n\\item '롯데'\n\\item '롯데'\n\\item '롯데'\n\\item '롯데'\n\\item '롯데'\n\\item '삼성'\n\\item '삼성'\n\\item '삼성'\n\\item '삼성'\n\\item '삼성'\n\\item '삼성'\n\\item '삼성'\n\\item '삼성'\n\\item '삼성'\n\\item '삼성'\n\\item '롯데'\n\\item '롯데'\n\\item '롯데'\n\\item '롯데'\n\\item 'KIA'\n\\item 'KIA'\n\\item 'KIA'\n\\item 'KIA'\n\\item 'KIA'\n\\item 'KIA'\n\\item 'KIA'\n\\item 'KIA'\n\\item 'KIA'\n\\item 'NC'\n\\item 'NC'\n\\item 'NC'\n\\item 'NC'\n\\item 'NC'\n\\item 'NC'\n\\item 'SK'\n\\item 'SK'\n\\item 'SK'\n\\item 'SK'\n\\item 'SK'\n\\item 'SK'\n\\item 'SK'\n\\item 'SK'\n\\item 'SK'\n\\item 'SK'\n\\item 'SK'\n\\item '삼성'\n\\item '삼성'\n\\item 'LG'\n\\item 'LG'\n\\item 'LG'\n\\item 'LG'\n\\item 'LG'\n\\item 'LG'\n\\item 'LG'\n\\item 'LG'\n\\item '두산'\n\\item '두산'\n\\item 'LG'\n\\item ⋯\n\\item 'SK'\n\\item 'SK'\n\\item 'SK'\n\\item 'SK'\n\\item 'SK'\n\\item 'SK'\n\\item 'SK'\n\\item 'SK'\n\\item 'SK'\n\\item '두산'\n\\item '두산'\n\\item '두산'\n\\item 'LG'\n\\item 'LG'\n\\item 'LG'\n\\item 'LG'\n\\item 'LG'\n\\item '롯데'\n\\item '롯데'\n\\item '롯데'\n\\item '롯데'\n\\item '넥센'\n\\item '넥센'\n\\item '현대'\n\\item '현대'\n\\item '현대'\n\\item '현대'\n\\item '우리'\n\\item '넥센'\n\\item '넥센'\n\\item 'NC'\n\\item 'NC'\n\\item 'NC'\n\\item 'NC'\n\\item 'NC'\n\\item 'NC'\n\\item '한화'\n\\item '한화'\n\\item 'LG'\n\\item 'LG'\n\\item 'LG'\n\\item 'LG'\n\\item 'LG'\n\\item '삼성'\n\\item '삼성'\n\\item '삼성'\n\\item '삼성'\n\\item '삼성'\n\\item '삼성'\n\\item '삼성'\n\\item '넥센'\n\\item '넥센'\n\\item '롯데'\n\\item '넥센'\n\\item 'LG'\n\\item 'LG'\n\\item 'SK'\n\\item 'SK'\n\\item 'LG'\n\\item '두산'\n\\item '두산'\n\\item '삼성'\n\\item '삼성'\n\\item '삼성'\n\\item 'KIA'\n\\item 'KIA'\n\\item 'KIA'\n\\item 'SK'\n\\item 'SK'\n\\item 'SK'\n\\item 'SK'\n\\item '한화'\n\\item '한화'\n\\item '한화'\n\\item '두산'\n\\item '두산'\n\\item '두산'\n\\item '두산'\n\\item '한화'\n\\item '한화'\n\\item 'SK'\n\\item 'SK'\n\\item 'SK'\n\\item 'SK'\n\\item 'SK'\n\\item 'SK'\n\\item 'SK'\n\\item 'SK'\n\\item 'SK'\n\\item 'SK'\n\\item 'SK'\n\\item 'SK'\n\\item 'SK'\n\\item 'SK'\n\\item 'SK'\n\\item 'SK'\n\\item '두산'\n\\item '두산'\n\\item '두산'\n\\item '두산'\n\\item '두산'\n\\item '두산'\n\\item '두산'\n\\item '두산'\n\\item '두산'\n\\item '롯데'\n\\item '두산'\n\\item '두산'\n\\item '두산'\n\\item '두산'\n\\item '두산'\n\\item '두산'\n\\item '두산'\n\\item '두산'\n\\item '롯데'\n\\item '롯데'\n\\item '롯데'\n\\item '롯데'\n\\item 'NC'\n\\item '한화'\n\\item '한화'\n\\item '한화'\n\\item '한화'\n\\item '한화'\n\\item '한화'\n\\item '한화'\n\\item '한화'\n\\item '한화'\n\\item '한화'\n\\item '한화'\n\\item '한화'\n\\item '한화'\n\\item 'SK'\n\\item 'SK'\n\\item '삼성'\n\\item '삼성'\n\\item '삼성'\n\\item '삼성'\n\\item '삼성'\n\\item '삼성'\n\\item '삼성'\n\\item '삼성'\n\\item '삼성'\n\\item '삼성'\n\\item '삼성'\n\\item '삼성'\n\\item 'KIA'\n\\item 'KIA'\n\\item '한화'\n\\item '한화'\n\\item '한화'\n\\item '한화'\n\\item '한화'\n\\item 'KT'\n\\item 'KT'\n\\item 'KT'\n\\item 'SK'\n\\item 'SK'\n\\item 'SK'\n\\item 'SK'\n\\item '롯데'\n\\item '한화'\n\\item 'KIA'\n\\item 'KIA'\n\\item 'KIA'\n\\item '두산'\n\\item '두산'\n\\item '두산'\n\\item '두산'\n\\item '두산'\n\\item '두산'\n\\item '두산'\n\\item '넥센'\n\\item '넥센'\n\\item '넥센'\n\\item '한화'\n\\item '한화'\n\\item 'SK'\n\\item '한화'\n\\item 'KIA'\n\\item 'KIA'\n\\item 'KIA'\n\\item 'KIA'\n\\item 'KIA'\n\\item 'LG'\n\\item 'NC'\n\\item 'NC'\n\\item 'NC'\n\\item 'KIA'\n\\item '우리'\n\\item '히어로즈'\n\\item '롯데'\n\\item '롯데'\n\\item '롯데'\n\\item '롯데'\n\\item '롯데'\n\\item '롯데'\n\\item '롯데'\n\\item 'KT'\n\\item '롯데'\n\\end{enumerate*}\n",
            "text/markdown": "1. 'LG'\n2. '한화'\n3. '한화'\n4. '한화'\n5. '한화'\n6. '한화'\n7. 'NC'\n8. 'NC'\n9. 'NC'\n10. '한화'\n11. '한화'\n12. '한화'\n13. '한화'\n14. '한화'\n15. '한화'\n16. '한화'\n17. '한화'\n18. '넥센'\n19. '넥센'\n20. 'NC'\n21. 'NC'\n22. 'NC'\n23. '롯데'\n24. '롯데'\n25. '롯데'\n26. '롯데'\n27. '롯데'\n28. '롯데'\n29. '롯데'\n30. '롯데'\n31. '롯데'\n32. '롯데'\n33. '롯데'\n34. '롯데'\n35. '롯데'\n36. '삼성'\n37. 'KT'\n38. '한화'\n39. '한화'\n40. '한화'\n41. 'LG'\n42. 'LG'\n43. 'LG'\n44. 'SK'\n45. 'NC'\n46. 'NC'\n47. 'KIA'\n48. 'KIA'\n49. '삼성'\n50. '삼성'\n51. '한화'\n52. '두산'\n53. '두산'\n54. '넥센'\n55. '넥센'\n56. '넥센'\n57. '넥센'\n58. '넥센'\n59. '삼성'\n60. '삼성'\n61. '삼성'\n62. '삼성'\n63. '두산'\n64. '두산'\n65. '두산'\n66. '두산'\n67. '두산'\n68. '삼성'\n69. '삼성'\n70. '삼성'\n71. 'NC'\n72. 'NC'\n73. 'NC'\n74. 'NC'\n75. 'SK'\n76. 'SK'\n77. 'SK'\n78. 'SK'\n79. 'SK'\n80. 'SK'\n81. 'SK'\n82. 'SK'\n83. 'SK'\n84. 'SK'\n85. 'SK'\n86. 'SK'\n87. 'SK'\n88. 'SK'\n89. 'SK'\n90. 'SK'\n91. 'LG'\n92. 'LG'\n93. 'LG'\n94. 'LG'\n95. 'LG'\n96. 'LG'\n97. 'SK'\n98. 'SK'\n99. 'SK'\n100. '삼성'\n101. '삼성'\n102. 'KT'\n103. 'KT'\n104. 'KT'\n105. 'KT'\n106. '두산'\n107. '롯데'\n108. '롯데'\n109. '롯데'\n110. '롯데'\n111. '롯데'\n112. '롯데'\n113. '롯데'\n114. '롯데'\n115. '롯데'\n116. '롯데'\n117. '롯데'\n118. '롯데'\n119. '롯데'\n120. '롯데'\n121. '롯데'\n122. '넥센'\n123. '넥센'\n124. '넥센'\n125. '넥센'\n126. '넥센'\n127. '넥센'\n128. '넥센'\n129. '넥센'\n130. '넥센'\n131. '한화'\n132. '삼성'\n133. 'SK'\n134. 'SK'\n135. 'KIA'\n136. 'KIA'\n137. '넥센'\n138. '넥센'\n139. '넥센'\n140. '롯데'\n141. '롯데'\n142. '롯데'\n143. '롯데'\n144. '롯데'\n145. '롯데'\n146. '롯데'\n147. '롯데'\n148. '삼성'\n149. '삼성'\n150. '삼성'\n151. '삼성'\n152. '삼성'\n153. '삼성'\n154. '삼성'\n155. '삼성'\n156. '삼성'\n157. '삼성'\n158. '롯데'\n159. '롯데'\n160. '롯데'\n161. '롯데'\n162. 'KIA'\n163. 'KIA'\n164. 'KIA'\n165. 'KIA'\n166. 'KIA'\n167. 'KIA'\n168. 'KIA'\n169. 'KIA'\n170. 'KIA'\n171. 'NC'\n172. 'NC'\n173. 'NC'\n174. 'NC'\n175. 'NC'\n176. 'NC'\n177. 'SK'\n178. 'SK'\n179. 'SK'\n180. 'SK'\n181. 'SK'\n182. 'SK'\n183. 'SK'\n184. 'SK'\n185. 'SK'\n186. 'SK'\n187. 'SK'\n188. '삼성'\n189. '삼성'\n190. 'LG'\n191. 'LG'\n192. 'LG'\n193. 'LG'\n194. 'LG'\n195. 'LG'\n196. 'LG'\n197. 'LG'\n198. '두산'\n199. '두산'\n200. 'LG'\n201. ⋯\n202. 'SK'\n203. 'SK'\n204. 'SK'\n205. 'SK'\n206. 'SK'\n207. 'SK'\n208. 'SK'\n209. 'SK'\n210. 'SK'\n211. '두산'\n212. '두산'\n213. '두산'\n214. 'LG'\n215. 'LG'\n216. 'LG'\n217. 'LG'\n218. 'LG'\n219. '롯데'\n220. '롯데'\n221. '롯데'\n222. '롯데'\n223. '넥센'\n224. '넥센'\n225. '현대'\n226. '현대'\n227. '현대'\n228. '현대'\n229. '우리'\n230. '넥센'\n231. '넥센'\n232. 'NC'\n233. 'NC'\n234. 'NC'\n235. 'NC'\n236. 'NC'\n237. 'NC'\n238. '한화'\n239. '한화'\n240. 'LG'\n241. 'LG'\n242. 'LG'\n243. 'LG'\n244. 'LG'\n245. '삼성'\n246. '삼성'\n247. '삼성'\n248. '삼성'\n249. '삼성'\n250. '삼성'\n251. '삼성'\n252. '넥센'\n253. '넥센'\n254. '롯데'\n255. '넥센'\n256. 'LG'\n257. 'LG'\n258. 'SK'\n259. 'SK'\n260. 'LG'\n261. '두산'\n262. '두산'\n263. '삼성'\n264. '삼성'\n265. '삼성'\n266. 'KIA'\n267. 'KIA'\n268. 'KIA'\n269. 'SK'\n270. 'SK'\n271. 'SK'\n272. 'SK'\n273. '한화'\n274. '한화'\n275. '한화'\n276. '두산'\n277. '두산'\n278. '두산'\n279. '두산'\n280. '한화'\n281. '한화'\n282. 'SK'\n283. 'SK'\n284. 'SK'\n285. 'SK'\n286. 'SK'\n287. 'SK'\n288. 'SK'\n289. 'SK'\n290. 'SK'\n291. 'SK'\n292. 'SK'\n293. 'SK'\n294. 'SK'\n295. 'SK'\n296. 'SK'\n297. 'SK'\n298. '두산'\n299. '두산'\n300. '두산'\n301. '두산'\n302. '두산'\n303. '두산'\n304. '두산'\n305. '두산'\n306. '두산'\n307. '롯데'\n308. '두산'\n309. '두산'\n310. '두산'\n311. '두산'\n312. '두산'\n313. '두산'\n314. '두산'\n315. '두산'\n316. '롯데'\n317. '롯데'\n318. '롯데'\n319. '롯데'\n320. 'NC'\n321. '한화'\n322. '한화'\n323. '한화'\n324. '한화'\n325. '한화'\n326. '한화'\n327. '한화'\n328. '한화'\n329. '한화'\n330. '한화'\n331. '한화'\n332. '한화'\n333. '한화'\n334. 'SK'\n335. 'SK'\n336. '삼성'\n337. '삼성'\n338. '삼성'\n339. '삼성'\n340. '삼성'\n341. '삼성'\n342. '삼성'\n343. '삼성'\n344. '삼성'\n345. '삼성'\n346. '삼성'\n347. '삼성'\n348. 'KIA'\n349. 'KIA'\n350. '한화'\n351. '한화'\n352. '한화'\n353. '한화'\n354. '한화'\n355. 'KT'\n356. 'KT'\n357. 'KT'\n358. 'SK'\n359. 'SK'\n360. 'SK'\n361. 'SK'\n362. '롯데'\n363. '한화'\n364. 'KIA'\n365. 'KIA'\n366. 'KIA'\n367. '두산'\n368. '두산'\n369. '두산'\n370. '두산'\n371. '두산'\n372. '두산'\n373. '두산'\n374. '넥센'\n375. '넥센'\n376. '넥센'\n377. '한화'\n378. '한화'\n379. 'SK'\n380. '한화'\n381. 'KIA'\n382. 'KIA'\n383. 'KIA'\n384. 'KIA'\n385. 'KIA'\n386. 'LG'\n387. 'NC'\n388. 'NC'\n389. 'NC'\n390. 'KIA'\n391. '우리'\n392. '히어로즈'\n393. '롯데'\n394. '롯데'\n395. '롯데'\n396. '롯데'\n397. '롯데'\n398. '롯데'\n399. '롯데'\n400. 'KT'\n401. '롯데'\n\n\n",
            "text/html": [
              "<style>\n",
              ".list-inline {list-style: none; margin:0; padding: 0}\n",
              ".list-inline>li {display: inline-block}\n",
              ".list-inline>li:not(:last-child)::after {content: \"\\00b7\"; padding: 0 .5ex}\n",
              "</style>\n",
              "<ol class=list-inline><li>'LG'</li><li>'한화'</li><li>'한화'</li><li>'한화'</li><li>'한화'</li><li>'한화'</li><li>'NC'</li><li>'NC'</li><li>'NC'</li><li>'한화'</li><li>'한화'</li><li>'한화'</li><li>'한화'</li><li>'한화'</li><li>'한화'</li><li>'한화'</li><li>'한화'</li><li>'넥센'</li><li>'넥센'</li><li>'NC'</li><li>'NC'</li><li>'NC'</li><li>'롯데'</li><li>'롯데'</li><li>'롯데'</li><li>'롯데'</li><li>'롯데'</li><li>'롯데'</li><li>'롯데'</li><li>'롯데'</li><li>'롯데'</li><li>'롯데'</li><li>'롯데'</li><li>'롯데'</li><li>'롯데'</li><li>'삼성'</li><li>'KT'</li><li>'한화'</li><li>'한화'</li><li>'한화'</li><li>'LG'</li><li>'LG'</li><li>'LG'</li><li>'SK'</li><li>'NC'</li><li>'NC'</li><li>'KIA'</li><li>'KIA'</li><li>'삼성'</li><li>'삼성'</li><li>'한화'</li><li>'두산'</li><li>'두산'</li><li>'넥센'</li><li>'넥센'</li><li>'넥센'</li><li>'넥센'</li><li>'넥센'</li><li>'삼성'</li><li>'삼성'</li><li>'삼성'</li><li>'삼성'</li><li>'두산'</li><li>'두산'</li><li>'두산'</li><li>'두산'</li><li>'두산'</li><li>'삼성'</li><li>'삼성'</li><li>'삼성'</li><li>'NC'</li><li>'NC'</li><li>'NC'</li><li>'NC'</li><li>'SK'</li><li>'SK'</li><li>'SK'</li><li>'SK'</li><li>'SK'</li><li>'SK'</li><li>'SK'</li><li>'SK'</li><li>'SK'</li><li>'SK'</li><li>'SK'</li><li>'SK'</li><li>'SK'</li><li>'SK'</li><li>'SK'</li><li>'SK'</li><li>'LG'</li><li>'LG'</li><li>'LG'</li><li>'LG'</li><li>'LG'</li><li>'LG'</li><li>'SK'</li><li>'SK'</li><li>'SK'</li><li>'삼성'</li><li>'삼성'</li><li>'KT'</li><li>'KT'</li><li>'KT'</li><li>'KT'</li><li>'두산'</li><li>'롯데'</li><li>'롯데'</li><li>'롯데'</li><li>'롯데'</li><li>'롯데'</li><li>'롯데'</li><li>'롯데'</li><li>'롯데'</li><li>'롯데'</li><li>'롯데'</li><li>'롯데'</li><li>'롯데'</li><li>'롯데'</li><li>'롯데'</li><li>'롯데'</li><li>'넥센'</li><li>'넥센'</li><li>'넥센'</li><li>'넥센'</li><li>'넥센'</li><li>'넥센'</li><li>'넥센'</li><li>'넥센'</li><li>'넥센'</li><li>'한화'</li><li>'삼성'</li><li>'SK'</li><li>'SK'</li><li>'KIA'</li><li>'KIA'</li><li>'넥센'</li><li>'넥센'</li><li>'넥센'</li><li>'롯데'</li><li>'롯데'</li><li>'롯데'</li><li>'롯데'</li><li>'롯데'</li><li>'롯데'</li><li>'롯데'</li><li>'롯데'</li><li>'삼성'</li><li>'삼성'</li><li>'삼성'</li><li>'삼성'</li><li>'삼성'</li><li>'삼성'</li><li>'삼성'</li><li>'삼성'</li><li>'삼성'</li><li>'삼성'</li><li>'롯데'</li><li>'롯데'</li><li>'롯데'</li><li>'롯데'</li><li>'KIA'</li><li>'KIA'</li><li>'KIA'</li><li>'KIA'</li><li>'KIA'</li><li>'KIA'</li><li>'KIA'</li><li>'KIA'</li><li>'KIA'</li><li>'NC'</li><li>'NC'</li><li>'NC'</li><li>'NC'</li><li>'NC'</li><li>'NC'</li><li>'SK'</li><li>'SK'</li><li>'SK'</li><li>'SK'</li><li>'SK'</li><li>'SK'</li><li>'SK'</li><li>'SK'</li><li>'SK'</li><li>'SK'</li><li>'SK'</li><li>'삼성'</li><li>'삼성'</li><li>'LG'</li><li>'LG'</li><li>'LG'</li><li>'LG'</li><li>'LG'</li><li>'LG'</li><li>'LG'</li><li>'LG'</li><li>'두산'</li><li>'두산'</li><li>'LG'</li><li>⋯</li><li>'SK'</li><li>'SK'</li><li>'SK'</li><li>'SK'</li><li>'SK'</li><li>'SK'</li><li>'SK'</li><li>'SK'</li><li>'SK'</li><li>'두산'</li><li>'두산'</li><li>'두산'</li><li>'LG'</li><li>'LG'</li><li>'LG'</li><li>'LG'</li><li>'LG'</li><li>'롯데'</li><li>'롯데'</li><li>'롯데'</li><li>'롯데'</li><li>'넥센'</li><li>'넥센'</li><li>'현대'</li><li>'현대'</li><li>'현대'</li><li>'현대'</li><li>'우리'</li><li>'넥센'</li><li>'넥센'</li><li>'NC'</li><li>'NC'</li><li>'NC'</li><li>'NC'</li><li>'NC'</li><li>'NC'</li><li>'한화'</li><li>'한화'</li><li>'LG'</li><li>'LG'</li><li>'LG'</li><li>'LG'</li><li>'LG'</li><li>'삼성'</li><li>'삼성'</li><li>'삼성'</li><li>'삼성'</li><li>'삼성'</li><li>'삼성'</li><li>'삼성'</li><li>'넥센'</li><li>'넥센'</li><li>'롯데'</li><li>'넥센'</li><li>'LG'</li><li>'LG'</li><li>'SK'</li><li>'SK'</li><li>'LG'</li><li>'두산'</li><li>'두산'</li><li>'삼성'</li><li>'삼성'</li><li>'삼성'</li><li>'KIA'</li><li>'KIA'</li><li>'KIA'</li><li>'SK'</li><li>'SK'</li><li>'SK'</li><li>'SK'</li><li>'한화'</li><li>'한화'</li><li>'한화'</li><li>'두산'</li><li>'두산'</li><li>'두산'</li><li>'두산'</li><li>'한화'</li><li>'한화'</li><li>'SK'</li><li>'SK'</li><li>'SK'</li><li>'SK'</li><li>'SK'</li><li>'SK'</li><li>'SK'</li><li>'SK'</li><li>'SK'</li><li>'SK'</li><li>'SK'</li><li>'SK'</li><li>'SK'</li><li>'SK'</li><li>'SK'</li><li>'SK'</li><li>'두산'</li><li>'두산'</li><li>'두산'</li><li>'두산'</li><li>'두산'</li><li>'두산'</li><li>'두산'</li><li>'두산'</li><li>'두산'</li><li>'롯데'</li><li>'두산'</li><li>'두산'</li><li>'두산'</li><li>'두산'</li><li>'두산'</li><li>'두산'</li><li>'두산'</li><li>'두산'</li><li>'롯데'</li><li>'롯데'</li><li>'롯데'</li><li>'롯데'</li><li>'NC'</li><li>'한화'</li><li>'한화'</li><li>'한화'</li><li>'한화'</li><li>'한화'</li><li>'한화'</li><li>'한화'</li><li>'한화'</li><li>'한화'</li><li>'한화'</li><li>'한화'</li><li>'한화'</li><li>'한화'</li><li>'SK'</li><li>'SK'</li><li>'삼성'</li><li>'삼성'</li><li>'삼성'</li><li>'삼성'</li><li>'삼성'</li><li>'삼성'</li><li>'삼성'</li><li>'삼성'</li><li>'삼성'</li><li>'삼성'</li><li>'삼성'</li><li>'삼성'</li><li>'KIA'</li><li>'KIA'</li><li>'한화'</li><li>'한화'</li><li>'한화'</li><li>'한화'</li><li>'한화'</li><li>'KT'</li><li>'KT'</li><li>'KT'</li><li>'SK'</li><li>'SK'</li><li>'SK'</li><li>'SK'</li><li>'롯데'</li><li>'한화'</li><li>'KIA'</li><li>'KIA'</li><li>'KIA'</li><li>'두산'</li><li>'두산'</li><li>'두산'</li><li>'두산'</li><li>'두산'</li><li>'두산'</li><li>'두산'</li><li>'넥센'</li><li>'넥센'</li><li>'넥센'</li><li>'한화'</li><li>'한화'</li><li>'SK'</li><li>'한화'</li><li>'KIA'</li><li>'KIA'</li><li>'KIA'</li><li>'KIA'</li><li>'KIA'</li><li>'LG'</li><li>'NC'</li><li>'NC'</li><li>'NC'</li><li>'KIA'</li><li>'우리'</li><li>'히어로즈'</li><li>'롯데'</li><li>'롯데'</li><li>'롯데'</li><li>'롯데'</li><li>'롯데'</li><li>'롯데'</li><li>'롯데'</li><li>'KT'</li><li>'롯데'</li></ol>\n"
            ]
          },
          "metadata": {
            "tags": []
          }
        }
      ]
    },
    {
      "cell_type": "code",
      "metadata": {
        "id": "beYTZ-NRrcRI",
        "colab_type": "code",
        "colab": {}
      },
      "source": [
        "team2hometown_apply <- function(value){\n",
        "  hometown <- lapply(value$team, function(temp){\n",
        "    switch(temp, LG = \"서울\", 한화=\"대전\",\n",
        "                   NC = \"창원\", 넥센=\"서울\",\n",
        "                   롯데 = \"부산\", 삼성 = \"대구\",\n",
        "                   KT = \"수원\", SK = \"인천\",\n",
        "                   KIA = \"광주\", 두산 = \"서울\",\n",
        "                   히어로즈 = \"서울\", 우리 = \"서울\",\n",
        "                   현대 = \"수원\")\n",
        "  }) %>% unlist()\n",
        "  value$hometown <- hometown\n",
        "  return(value)\n",
        "}"
      ],
      "execution_count": null,
      "outputs": []
    },
    {
      "cell_type": "code",
      "metadata": {
        "id": "TrkMsmJIuaVl",
        "colab_type": "code",
        "colab": {
          "base_uri": "https://localhost:8080/"
        },
        "outputId": "d0c1b13d-66b5-4f76-a63a-703ec5216fd4"
      },
      "source": [
        "system.time(team2hometown(DF))\n",
        "system.time(team2hometown_apply(DF))"
      ],
      "execution_count": null,
      "outputs": [
        {
          "output_type": "display_data",
          "data": {
            "text/plain": [
              "   user  system elapsed \n",
              "   0.01    0.00    0.01 "
            ]
          },
          "metadata": {
            "tags": []
          }
        },
        {
          "output_type": "display_data",
          "data": {
            "text/plain": [
              "   user  system elapsed \n",
              "  0.002   0.000   0.002 "
            ]
          },
          "metadata": {
            "tags": []
          }
        }
      ]
    },
    {
      "cell_type": "markdown",
      "metadata": {
        "colab_type": "text",
        "id": "YqtpX3bD1Enl"
      },
      "source": [
        "### **3주차 과제**\n",
        "- - -\n",
        "\n",
        "* **3주차**\n",
        "\n",
        "<사용되는 데이터 - Pre_Season_Batter.csv, Regular_Season_Batter.csv>\n",
        "\n",
        "Pre_Season_Batter.csv 과 Regular_Season_Batter.csv 데이터의 이상값(outlier)을 비교하기 위해\n",
        "Boxplot 을 그리려고 한다. 문제에서 사용되는 열(Column)은 AB, R, H, E, SLG, OBP 로 총 6 개이고,\n",
        "아래의 표에 정리되어있다. outlier 를 삭제하는 함수(removeOutliers)를 작성하여 비교를 진행한다.\n",
        "\n",
        "\n",
        "- Pre_Season_Batter 와 Regular_Season_Batter 의 사용되는 열(Column) 정보\n",
        "AB 타수 R 득점\n",
        "H 안타 E 실책\n",
        "SLG 장타율 OBP 출루율\n",
        "\n",
        "\n",
        "<참고사항>\n",
        "1. data.table::fread 를 사용하여 Pre_Season_Batter.csv 와 Regular_Season_Batter.csv 를\n",
        "불러온다(Window 환경에서는 encoding = “UTF-8”을 줄 것)\n",
        "2. removeOutliers 함수\n",
        "  - 매개변수(argument)로는 데이터프레임으로 받고 각 열의 데이터형은 숫자형(integer or numeric)으로 제한한다.\n",
        "  - 반환(return)은 outlier 가 제거된 데이터프레임으로 한다.\n",
        "  - quantile, IQR 함수를 사용하며, na.rm 은 TRUE 로 한다(na.rm = T)\n",
        "  - lower / up fence 를 계산하여 outlier 를 제거한다(아래의 공식 사용)\n",
        "\n",
        " `` lower fence = Q1 – (1.5 * IQR)`` <br>\n",
        "``up fence = Q3 + (1.5 * IQR)``\n",
        "  - outlier 는 lower fence 미만이거나 up fence 를 초과할 경우를 말한다(OR)\n",
        "  - 반복문 또는 apply 계열 함수를 사용할 수 있고, 각 열의 길이(length)가 다를 경우 outlier 에\n",
        "해당하는 자리에 NA 를 삽입하여 길이를 맞춘다.\n"
      ]
    },
    {
      "cell_type": "code",
      "metadata": {
        "id": "oOhkwbqb1Nix",
        "colab_type": "code",
        "colab": {}
      },
      "source": [
        "## 1번문제\n",
        "library(data.table)\n",
        "library(tidyverse)\n",
        "\n",
        "# 사용되는 Column ---> AB, R, H, E, SLG, OBP 총 6개 \n",
        "Pre_DF <- fread(\"ftp://210.115.229.94/2020_datascience/6th_data/Pre_Season_Batter.csv\", \n",
        "                select = c(\"AB\",\"R\",\"H\",\"E\",\"SLG\",\"OBP\"), data.table = F)\n",
        "Reg_DF <- fread(\"ftp://210.115.229.94/2020_datascience/6th_data/Regular_Season_Batter.csv\", \n",
        "                select = c(\"AB\",\"R\",\"H\",\"E\",\"SLG\",\"OBP\"), data.table = F)"
      ],
      "execution_count": null,
      "outputs": []
    },
    {
      "cell_type": "code",
      "metadata": {
        "id": "XXCvG_fk12gd",
        "colab_type": "code",
        "colab": {}
      },
      "source": [
        "# (1)\n",
        "removeOutliers <- function(DF){\n",
        "  lapply(DF, function(value){\n",
        "    # quan <- quantile 후 , quan[2], quan[4] 도 상관없음!\n",
        "    q1 <- quantile(value, na.rm = T)[2]  # 1분위수 == 25%\n",
        "    q3 <- quantile(value, na.rm = T)[4]  # 3분위수 == 75%\n",
        "    IQRs <- IQR(value, na.rm = T)\n",
        "    \n",
        "    up_fense <- q3 + (IQRs * 1.5 ) \n",
        "    lo_fense <- q1 - (IQRs * 1.5) \n",
        "    \n",
        "    return(ifelse(value < lo_fense | value > up_fense, NA, value))\n",
        "  }) %>% bind_cols() %>% return()\n",
        "}"
      ],
      "execution_count": null,
      "outputs": []
    },
    {
      "cell_type": "code",
      "metadata": {
        "id": "q8mHLx_lMhnZ",
        "colab_type": "code",
        "colab": {
          "base_uri": "https://localhost:8080/"
        },
        "outputId": "95f4cdbe-ecbd-4330-dec7-0629bbd703b2"
      },
      "source": [
        "Pre_DF[[2]] %>% quantile"
      ],
      "execution_count": null,
      "outputs": [
        {
          "output_type": "display_data",
          "data": {
            "text/plain": [
              "  0%  25%  50%  75% 100% \n",
              "   0    1    2    4   35 "
            ],
            "text/latex": "\\begin{description*}\n\\item[0\\textbackslash{}\\%] 0\n\\item[25\\textbackslash{}\\%] 1\n\\item[50\\textbackslash{}\\%] 2\n\\item[75\\textbackslash{}\\%] 4\n\\item[100\\textbackslash{}\\%] 35\n\\end{description*}\n",
            "text/markdown": "0%\n:   025%\n:   150%\n:   275%\n:   4100%\n:   35\n\n",
            "text/html": [
              "<style>\n",
              ".dl-inline {width: auto; margin:0; padding: 0}\n",
              ".dl-inline>dt, .dl-inline>dd {float: none; width: auto; display: inline-block}\n",
              ".dl-inline>dt::after {content: \":\\0020\"; padding-right: .5ex}\n",
              ".dl-inline>dt:not(:first-of-type) {padding-left: .5ex}\n",
              "</style><dl class=dl-inline><dt>0%</dt><dd>0</dd><dt>25%</dt><dd>1</dd><dt>50%</dt><dd>2</dd><dt>75%</dt><dd>4</dd><dt>100%</dt><dd>35</dd></dl>\n"
            ]
          },
          "metadata": {
            "tags": []
          }
        }
      ]
    },
    {
      "cell_type": "code",
      "metadata": {
        "id": "FWjZm_sc14pg",
        "colab_type": "code",
        "colab": {
          "base_uri": "https://localhost:8080/"
        },
        "outputId": "bf0e409f-03bb-4909-b341-c77bd9bb928f"
      },
      "source": [
        "# (2)\n",
        "Pre_DF %>% boxplot()\n",
        "removeOutliers(Pre_DF) %>% boxplot()\n",
        "# (3)\n",
        "Reg_DF %>% boxplot()\n",
        "removeOutliers(Reg_DF) %>% boxplot()"
      ],
      "execution_count": null,
      "outputs": [
        {
          "output_type": "display_data",
          "data": {
            "image/png": "[encoded data removed]",
            "text/plain": [
              "plot without title"
            ]
          },
          "metadata": {
            "tags": [],
            "image/png": {
              "width": 420,
              "height": 420
            },
            "text/plain": {
              "width": 420,
              "height": 420
            }
          }
        },
        {
          "output_type": "display_data",
          "data": {
            "image/png": "[encoded data removed]",
            "text/plain": [
              "plot without title"
            ]
          },
          "metadata": {
            "tags": [],
            "image/png": {
              "width": 420,
              "height": 420
            },
            "text/plain": {
              "width": 420,
              "height": 420
            }
          }
        },
        {
          "output_type": "display_data",
          "data": {
            "image/png": "[encoded data removed]",
            "text/plain": [
              "plot without title"
            ]
          },
          "metadata": {
            "tags": [],
            "image/png": {
              "width": 420,
              "height": 420
            },
            "text/plain": {
              "width": 420,
              "height": 420
            }
          }
        },
        {
          "output_type": "display_data",
          "data": {
            "image/png": "[encoded data removed]",
            "text/plain": [
              "plot without title"
            ]
          },
          "metadata": {
            "tags": [],
            "image/png": {
              "width": 420,
              "height": 420
            },
            "text/plain": {
              "width": 420,
              "height": 420
            }
          }
        }
      ]
    },
    {
      "cell_type": "markdown",
      "metadata": {
        "id": "_5Q_tfZ42J8j",
        "colab_type": "text"
      },
      "source": [
        "### **4주차 과제**\n",
        "- - -\n",
        "\n",
        "* **1번 문제**"
      ]
    },
    {
      "cell_type": "code",
      "metadata": {
        "id": "PTChztH52KwF",
        "colab_type": "code",
        "colab": {}
      },
      "source": [
        "#(1)  DF에서 문자형(chr) 열을 제외한 모든 열\n",
        "DF <- fread(\"ftp://210.115.229.94/2020_datascience/6th_data/Pre_Season_Batter.csv\") %>% as_tibble()"
      ],
      "execution_count": null,
      "outputs": []
    },
    {
      "cell_type": "code",
      "metadata": {
        "id": "yqhGPklr2UhG",
        "colab_type": "code",
        "colab": {
          "base_uri": "https://localhost:8080/"
        },
        "outputId": "a5b423c8-fd72-4e3f-8612-7bc2f0f89ebd"
      },
      "source": [
        "DF %>% select_if(negate(is.character)) %>% show() #negate"
      ],
      "execution_count": null,
      "outputs": [
        {
          "output_type": "stream",
          "text": [
            "\u001b[90m# A tibble: 1,393 x 21\u001b[39m\n",
            "   batter_id  year     G    AB     R     H  `2B`  `3B`    HR    TB   RBI    SB\n",
            "       \u001b[3m\u001b[90m<int>\u001b[39m\u001b[23m \u001b[3m\u001b[90m<int>\u001b[39m\u001b[23m \u001b[3m\u001b[90m<int>\u001b[39m\u001b[23m \u001b[3m\u001b[90m<int>\u001b[39m\u001b[23m \u001b[3m\u001b[90m<int>\u001b[39m\u001b[23m \u001b[3m\u001b[90m<int>\u001b[39m\u001b[23m \u001b[3m\u001b[90m<int>\u001b[39m\u001b[23m \u001b[3m\u001b[90m<int>\u001b[39m\u001b[23m \u001b[3m\u001b[90m<int>\u001b[39m\u001b[23m \u001b[3m\u001b[90m<int>\u001b[39m\u001b[23m \u001b[3m\u001b[90m<int>\u001b[39m\u001b[23m \u001b[3m\u001b[90m<int>\u001b[39m\u001b[23m\n",
            "\u001b[90m 1\u001b[39m         0  \u001b[4m2\u001b[24m018     7    20     1     7     1     0     1    11     5     0\n",
            "\u001b[90m 2\u001b[39m         1  \u001b[4m2\u001b[24m011     4     2     2     0     0     0     0     0     1     0\n",
            "\u001b[90m 3\u001b[39m         1  \u001b[4m2\u001b[24m014     4     0     2     0     0     0     0     0     0     0\n",
            "\u001b[90m 4\u001b[39m         1  \u001b[4m2\u001b[24m015    10    23     3     3     0     0     0     3     1     3\n",
            "\u001b[90m 5\u001b[39m         1  \u001b[4m2\u001b[24m016    14    32     4     6     1     1     0     9     2     1\n",
            "\u001b[90m 6\u001b[39m         1  \u001b[4m2\u001b[24m017    11    36    10     8     0     0     2    14     4     0\n",
            "\u001b[90m 7\u001b[39m         2  \u001b[4m2\u001b[24m013     3     4     0     0     0     0     0     0     0     0\n",
            "\u001b[90m 8\u001b[39m         2  \u001b[4m2\u001b[24m016     3     1     0     0     0     0     0     0     0     1\n",
            "\u001b[90m 9\u001b[39m         2  \u001b[4m2\u001b[24m017     2     1     0     1     0     0     0     1     0     0\n",
            "\u001b[90m10\u001b[39m        69  \u001b[4m2\u001b[24m006    10    15     0     3     0     0     0     3     3     0\n",
            "\u001b[90m# … with 1,383 more rows, and 9 more variables: CS \u001b[3m\u001b[90m<int>\u001b[90m\u001b[23m, BB \u001b[3m\u001b[90m<int>\u001b[90m\u001b[23m, HBP \u001b[3m\u001b[90m<int>\u001b[90m\u001b[23m,\u001b[39m\n",
            "\u001b[90m#   SO \u001b[3m\u001b[90m<int>\u001b[90m\u001b[23m, GDP \u001b[3m\u001b[90m<int>\u001b[90m\u001b[23m, SLG \u001b[3m\u001b[90m<dbl>\u001b[90m\u001b[23m, OBP \u001b[3m\u001b[90m<dbl>\u001b[90m\u001b[23m, E \u001b[3m\u001b[90m<int>\u001b[90m\u001b[23m, OPS \u001b[3m\u001b[90m<dbl>\u001b[90m\u001b[23m\u001b[39m\n"
          ],
          "name": "stdout"
        }
      ]
    },
    {
      "cell_type": "code",
      "metadata": {
        "id": "SF9dolR427Ju",
        "colab_type": "code",
        "colab": {
          "base_uri": "https://localhost:8080/"
        },
        "outputId": "46340f50-3410-460f-ae2a-0cf79db0495e"
      },
      "source": [
        "DF[sapply(DF, class) != \"character\"] %>% show()"
      ],
      "execution_count": null,
      "outputs": [
        {
          "output_type": "stream",
          "text": [
            "\u001b[90m# A tibble: 1,393 x 21\u001b[39m\n",
            "   batter_id  year     G    AB     R     H  `2B`  `3B`    HR    TB   RBI    SB\n",
            "       \u001b[3m\u001b[90m<int>\u001b[39m\u001b[23m \u001b[3m\u001b[90m<int>\u001b[39m\u001b[23m \u001b[3m\u001b[90m<int>\u001b[39m\u001b[23m \u001b[3m\u001b[90m<int>\u001b[39m\u001b[23m \u001b[3m\u001b[90m<int>\u001b[39m\u001b[23m \u001b[3m\u001b[90m<int>\u001b[39m\u001b[23m \u001b[3m\u001b[90m<int>\u001b[39m\u001b[23m \u001b[3m\u001b[90m<int>\u001b[39m\u001b[23m \u001b[3m\u001b[90m<int>\u001b[39m\u001b[23m \u001b[3m\u001b[90m<int>\u001b[39m\u001b[23m \u001b[3m\u001b[90m<int>\u001b[39m\u001b[23m \u001b[3m\u001b[90m<int>\u001b[39m\u001b[23m\n",
            "\u001b[90m 1\u001b[39m         0  \u001b[4m2\u001b[24m018     7    20     1     7     1     0     1    11     5     0\n",
            "\u001b[90m 2\u001b[39m         1  \u001b[4m2\u001b[24m011     4     2     2     0     0     0     0     0     1     0\n",
            "\u001b[90m 3\u001b[39m         1  \u001b[4m2\u001b[24m014     4     0     2     0     0     0     0     0     0     0\n",
            "\u001b[90m 4\u001b[39m         1  \u001b[4m2\u001b[24m015    10    23     3     3     0     0     0     3     1     3\n",
            "\u001b[90m 5\u001b[39m         1  \u001b[4m2\u001b[24m016    14    32     4     6     1     1     0     9     2     1\n",
            "\u001b[90m 6\u001b[39m         1  \u001b[4m2\u001b[24m017    11    36    10     8     0     0     2    14     4     0\n",
            "\u001b[90m 7\u001b[39m         2  \u001b[4m2\u001b[24m013     3     4     0     0     0     0     0     0     0     0\n",
            "\u001b[90m 8\u001b[39m         2  \u001b[4m2\u001b[24m016     3     1     0     0     0     0     0     0     0     1\n",
            "\u001b[90m 9\u001b[39m         2  \u001b[4m2\u001b[24m017     2     1     0     1     0     0     0     1     0     0\n",
            "\u001b[90m10\u001b[39m        69  \u001b[4m2\u001b[24m006    10    15     0     3     0     0     0     3     3     0\n",
            "\u001b[90m# … with 1,383 more rows, and 9 more variables: CS \u001b[3m\u001b[90m<int>\u001b[90m\u001b[23m, BB \u001b[3m\u001b[90m<int>\u001b[90m\u001b[23m, HBP \u001b[3m\u001b[90m<int>\u001b[90m\u001b[23m,\u001b[39m\n",
            "\u001b[90m#   SO \u001b[3m\u001b[90m<int>\u001b[90m\u001b[23m, GDP \u001b[3m\u001b[90m<int>\u001b[90m\u001b[23m, SLG \u001b[3m\u001b[90m<dbl>\u001b[90m\u001b[23m, OBP \u001b[3m\u001b[90m<dbl>\u001b[90m\u001b[23m, E \u001b[3m\u001b[90m<int>\u001b[90m\u001b[23m, OPS \u001b[3m\u001b[90m<dbl>\u001b[90m\u001b[23m\u001b[39m\n"
          ],
          "name": "stdout"
        }
      ]
    },
    {
      "cell_type": "code",
      "metadata": {
        "id": "Y-ZO-5nO3VS9",
        "colab_type": "code",
        "colab": {
          "base_uri": "https://localhost:8080/"
        },
        "outputId": "87e18ecf-cb7b-4fa0-ff70-c4458f0c39e4"
      },
      "source": [
        "#(2)  DF에서 숫자형(int,dbl)열을 제외한 모든 열\n",
        "DF %>% select_if(negate(is.numeric)) %>% show() "
      ],
      "execution_count": null,
      "outputs": [
        {
          "output_type": "stream",
          "text": [
            "\u001b[90m# A tibble: 1,393 x 8\u001b[39m\n",
            "   batter_name team  avg   `height/weight` year_born position career\n",
            "   \u001b[3m\u001b[90m<chr>\u001b[39m\u001b[23m       \u001b[3m\u001b[90m<chr>\u001b[39m\u001b[23m \u001b[3m\u001b[90m<chr>\u001b[39m\u001b[23m \u001b[3m\u001b[90m<chr>\u001b[39m\u001b[23m           \u001b[3m\u001b[90m<chr>\u001b[39m\u001b[23m     \u001b[3m\u001b[90m<chr>\u001b[39m\u001b[23m    \u001b[3m\u001b[90m<chr>\u001b[39m\u001b[23m \n",
            "\u001b[90m 1\u001b[39m 가르시아    LG    0.350 177cm/93kg      1985년 04… 내야수(우투우… 쿠바 Ci…\n",
            "\u001b[90m 2\u001b[39m 강경학      한화  0.000 180cm/72kg      1992년 08… 내야수(우투좌… 광주대성초…\n",
            "\u001b[90m 3\u001b[39m 강경학      한화  -     180cm/72kg      1992년 08… 내야수(우투좌… 광주대성초…\n",
            "\u001b[90m 4\u001b[39m 강경학      한화  0.130 180cm/72kg      1992년 08… 내야수(우투좌… 광주대성초…\n",
            "\u001b[90m 5\u001b[39m 강경학      한화  0.188 180cm/72kg      1992년 08… 내야수(우투좌… 광주대성초…\n",
            "\u001b[90m 6\u001b[39m 강경학      한화  0.222 180cm/72kg      1992년 08… 내야수(우투좌… 광주대성초…\n",
            "\u001b[90m 7\u001b[39m 강구성      NC    0.000 180cm/82kg      1993년 06… 외야수(우투좌… 관산초-부…\n",
            "\u001b[90m 8\u001b[39m 강구성      NC    0.000 180cm/82kg      1993년 06… 외야수(우투좌… 관산초-부…\n",
            "\u001b[90m 9\u001b[39m 강구성      NC    1.000 180cm/82kg      1993년 06… 외야수(우투좌… 관산초-부…\n",
            "\u001b[90m10\u001b[39m 김태완      한화  0.200 189cm/105kg     1984년 01… 내야수(우투우… 양목초-신…\n",
            "\u001b[90m# … with 1,383 more rows, and 1 more variable: starting_salary \u001b[3m\u001b[90m<chr>\u001b[90m\u001b[23m\u001b[39m\n"
          ],
          "name": "stdout"
        }
      ]
    },
    {
      "cell_type": "code",
      "metadata": {
        "id": "nV_50Hay31VG",
        "colab_type": "code",
        "colab": {
          "base_uri": "https://localhost:8080/"
        },
        "outputId": "26a58feb-a5e1-44d0-e995-4b1454e7fb44"
      },
      "source": [
        "options(warn = -1)\n",
        "DF[sapply(DF, is_numeric) != TRUE] %>% show()"
      ],
      "execution_count": null,
      "outputs": [
        {
          "output_type": "stream",
          "text": [
            "\u001b[90m# A tibble: 1,393 x 8\u001b[39m\n",
            "   batter_name team  avg   `height/weight` year_born position career\n",
            "   \u001b[3m\u001b[90m<chr>\u001b[39m\u001b[23m       \u001b[3m\u001b[90m<chr>\u001b[39m\u001b[23m \u001b[3m\u001b[90m<chr>\u001b[39m\u001b[23m \u001b[3m\u001b[90m<chr>\u001b[39m\u001b[23m           \u001b[3m\u001b[90m<chr>\u001b[39m\u001b[23m     \u001b[3m\u001b[90m<chr>\u001b[39m\u001b[23m    \u001b[3m\u001b[90m<chr>\u001b[39m\u001b[23m \n",
            "\u001b[90m 1\u001b[39m 가르시아    LG    0.350 177cm/93kg      1985년 04… 내야수(우투우… 쿠바 Ci…\n",
            "\u001b[90m 2\u001b[39m 강경학      한화  0.000 180cm/72kg      1992년 08… 내야수(우투좌… 광주대성초…\n",
            "\u001b[90m 3\u001b[39m 강경학      한화  -     180cm/72kg      1992년 08… 내야수(우투좌… 광주대성초…\n",
            "\u001b[90m 4\u001b[39m 강경학      한화  0.130 180cm/72kg      1992년 08… 내야수(우투좌… 광주대성초…\n",
            "\u001b[90m 5\u001b[39m 강경학      한화  0.188 180cm/72kg      1992년 08… 내야수(우투좌… 광주대성초…\n",
            "\u001b[90m 6\u001b[39m 강경학      한화  0.222 180cm/72kg      1992년 08… 내야수(우투좌… 광주대성초…\n",
            "\u001b[90m 7\u001b[39m 강구성      NC    0.000 180cm/82kg      1993년 06… 외야수(우투좌… 관산초-부…\n",
            "\u001b[90m 8\u001b[39m 강구성      NC    0.000 180cm/82kg      1993년 06… 외야수(우투좌… 관산초-부…\n",
            "\u001b[90m 9\u001b[39m 강구성      NC    1.000 180cm/82kg      1993년 06… 외야수(우투좌… 관산초-부…\n",
            "\u001b[90m10\u001b[39m 김태완      한화  0.200 189cm/105kg     1984년 01… 내야수(우투우… 양목초-신…\n",
            "\u001b[90m# … with 1,383 more rows, and 1 more variable: starting_salary \u001b[3m\u001b[90m<chr>\u001b[90m\u001b[23m\u001b[39m\n"
          ],
          "name": "stdout"
        }
      ]
    },
    {
      "cell_type": "code",
      "metadata": {
        "id": "XQT0LrIG3-Ws",
        "colab_type": "code",
        "colab": {
          "base_uri": "https://localhost:8080/"
        },
        "outputId": "31a2debf-6d07-4742-ce06-8b7968ef93c8"
      },
      "source": [
        "# (3) DF에서 team 이름이 \"두산\" 또는 \"한화\"이고 G가 10 이상인 모든 행(row)\n",
        "DF %>% filter((team == \"두산\" | team == \"한화\") & G >= 10) %>% show()"
      ],
      "execution_count": null,
      "outputs": [
        {
          "output_type": "stream",
          "text": [
            "\u001b[90m# A tibble: 160 x 29\u001b[39m\n",
            "   batter_id batter_name  year team  avg       G    AB     R     H  `2B`  `3B`\n",
            "       \u001b[3m\u001b[90m<int>\u001b[39m\u001b[23m \u001b[3m\u001b[90m<chr>\u001b[39m\u001b[23m       \u001b[3m\u001b[90m<int>\u001b[39m\u001b[23m \u001b[3m\u001b[90m<chr>\u001b[39m\u001b[23m \u001b[3m\u001b[90m<chr>\u001b[39m\u001b[23m \u001b[3m\u001b[90m<int>\u001b[39m\u001b[23m \u001b[3m\u001b[90m<int>\u001b[39m\u001b[23m \u001b[3m\u001b[90m<int>\u001b[39m\u001b[23m \u001b[3m\u001b[90m<int>\u001b[39m\u001b[23m \u001b[3m\u001b[90m<int>\u001b[39m\u001b[23m \u001b[3m\u001b[90m<int>\u001b[39m\u001b[23m\n",
            "\u001b[90m 1\u001b[39m         1 강경학       \u001b[4m2\u001b[24m015 한화  0.130    10    23     3     3     0     0\n",
            "\u001b[90m 2\u001b[39m         1 강경학       \u001b[4m2\u001b[24m016 한화  0.188    14    32     4     6     1     1\n",
            "\u001b[90m 3\u001b[39m         1 강경학       \u001b[4m2\u001b[24m017 한화  0.222    11    36    10     8     0     0\n",
            "\u001b[90m 4\u001b[39m        69 김태완       \u001b[4m2\u001b[24m006 한화  0.200    10    15     0     3     0     0\n",
            "\u001b[90m 5\u001b[39m        69 김태완       \u001b[4m2\u001b[24m008 한화  0.375    10    24     3     9     1     0\n",
            "\u001b[90m 6\u001b[39m        69 김태완       \u001b[4m2\u001b[24m009 한화  0.320    10    25     5     8     3     0\n",
            "\u001b[90m 7\u001b[39m        69 김태완       \u001b[4m2\u001b[24m014 한화  0.125    10    16     1     2     0     0\n",
            "\u001b[90m 8\u001b[39m         8 강상원       \u001b[4m2\u001b[24m017 한화  0.000    10     1     4     0     0     0\n",
            "\u001b[90m 9\u001b[39m       162 신성현       \u001b[4m2\u001b[24m016 한화  0.286    14    35     6    10     1     0\n",
            "\u001b[90m10\u001b[39m       162 신성현       \u001b[4m2\u001b[24m017 두산  0.324    10    34     7    11     2     0\n",
            "\u001b[90m# … with 150 more rows, and 18 more variables: HR \u001b[3m\u001b[90m<int>\u001b[90m\u001b[23m, TB \u001b[3m\u001b[90m<int>\u001b[90m\u001b[23m, RBI \u001b[3m\u001b[90m<int>\u001b[90m\u001b[23m,\u001b[39m\n",
            "\u001b[90m#   SB \u001b[3m\u001b[90m<int>\u001b[90m\u001b[23m, CS \u001b[3m\u001b[90m<int>\u001b[90m\u001b[23m, BB \u001b[3m\u001b[90m<int>\u001b[90m\u001b[23m, HBP \u001b[3m\u001b[90m<int>\u001b[90m\u001b[23m, SO \u001b[3m\u001b[90m<int>\u001b[90m\u001b[23m, GDP \u001b[3m\u001b[90m<int>\u001b[90m\u001b[23m, SLG \u001b[3m\u001b[90m<dbl>\u001b[90m\u001b[23m,\u001b[39m\n",
            "\u001b[90m#   OBP \u001b[3m\u001b[90m<dbl>\u001b[90m\u001b[23m, E \u001b[3m\u001b[90m<int>\u001b[90m\u001b[23m, `height/weight` \u001b[3m\u001b[90m<chr>\u001b[90m\u001b[23m, year_born \u001b[3m\u001b[90m<chr>\u001b[90m\u001b[23m, position \u001b[3m\u001b[90m<chr>\u001b[90m\u001b[23m,\u001b[39m\n",
            "\u001b[90m#   career \u001b[3m\u001b[90m<chr>\u001b[90m\u001b[23m, starting_salary \u001b[3m\u001b[90m<chr>\u001b[90m\u001b[23m, OPS \u001b[3m\u001b[90m<dbl>\u001b[90m\u001b[23m\u001b[39m\n"
          ],
          "name": "stdout"
        }
      ]
    },
    {
      "cell_type": "code",
      "metadata": {
        "id": "RwMmeuvR4mFH",
        "colab_type": "code",
        "colab": {
          "base_uri": "https://localhost:8080/"
        },
        "outputId": "26a88ca2-a2d1-4ddf-b055-335b99b325b4"
      },
      "source": [
        "# (4) DF에서 team  이름이 \"두산\", \"한화\"가 아니고 G가 10 이상이거나 OBP가 0.5 이상인 모든 행(row)\n",
        "DF %>% filter((team != \"두산\" & team != \"한화\") & (G >= 10 | OBP >= .5)) %>% show()"
      ],
      "execution_count": null,
      "outputs": [
        {
          "output_type": "stream",
          "text": [
            "\u001b[90m# A tibble: 590 x 29\u001b[39m\n",
            "   batter_id batter_name  year team  avg       G    AB     R     H  `2B`  `3B`\n",
            "       \u001b[3m\u001b[90m<int>\u001b[39m\u001b[23m \u001b[3m\u001b[90m<chr>\u001b[39m\u001b[23m       \u001b[3m\u001b[90m<int>\u001b[39m\u001b[23m \u001b[3m\u001b[90m<chr>\u001b[39m\u001b[23m \u001b[3m\u001b[90m<chr>\u001b[39m\u001b[23m \u001b[3m\u001b[90m<int>\u001b[39m\u001b[23m \u001b[3m\u001b[90m<int>\u001b[39m\u001b[23m \u001b[3m\u001b[90m<int>\u001b[39m\u001b[23m \u001b[3m\u001b[90m<int>\u001b[39m\u001b[23m \u001b[3m\u001b[90m<int>\u001b[39m\u001b[23m \u001b[3m\u001b[90m<int>\u001b[39m\u001b[23m\n",
            "\u001b[90m 1\u001b[39m         2 강구성       \u001b[4m2\u001b[24m016 NC    0.000     3     1     0     0     0     0\n",
            "\u001b[90m 2\u001b[39m         2 강구성       \u001b[4m2\u001b[24m017 NC    1.000     2     1     0     1     0     0\n",
            "\u001b[90m 3\u001b[39m        69 김태완       \u001b[4m2\u001b[24m017 넥센  0.370    12    27     2    10     1     0\n",
            "\u001b[90m 4\u001b[39m        69 김태완       \u001b[4m2\u001b[24m018 넥센  0.375     5     8     2     3     1     0\n",
            "\u001b[90m 5\u001b[39m         3 강민국       \u001b[4m2\u001b[24m016 NC    0.316    16    19     2     6     2     1\n",
            "\u001b[90m 6\u001b[39m         4 강민호       \u001b[4m2\u001b[24m005 롯데  0.250    11    20     2     5     4     0\n",
            "\u001b[90m 7\u001b[39m         4 강민호       \u001b[4m2\u001b[24m007 롯데  0.136    10    22     2     3     0     0\n",
            "\u001b[90m 8\u001b[39m         4 강민호       \u001b[4m2\u001b[24m010 롯데  0.261    10    23     8     6     1     0\n",
            "\u001b[90m 9\u001b[39m         4 강민호       \u001b[4m2\u001b[24m011 롯데  0.353    13    34     4    12     3     0\n",
            "\u001b[90m10\u001b[39m         4 강민호       \u001b[4m2\u001b[24m015 롯데  0.158    10    19     1     3     0     0\n",
            "\u001b[90m# … with 580 more rows, and 18 more variables: HR \u001b[3m\u001b[90m<int>\u001b[90m\u001b[23m, TB \u001b[3m\u001b[90m<int>\u001b[90m\u001b[23m, RBI \u001b[3m\u001b[90m<int>\u001b[90m\u001b[23m,\u001b[39m\n",
            "\u001b[90m#   SB \u001b[3m\u001b[90m<int>\u001b[90m\u001b[23m, CS \u001b[3m\u001b[90m<int>\u001b[90m\u001b[23m, BB \u001b[3m\u001b[90m<int>\u001b[90m\u001b[23m, HBP \u001b[3m\u001b[90m<int>\u001b[90m\u001b[23m, SO \u001b[3m\u001b[90m<int>\u001b[90m\u001b[23m, GDP \u001b[3m\u001b[90m<int>\u001b[90m\u001b[23m, SLG \u001b[3m\u001b[90m<dbl>\u001b[90m\u001b[23m,\u001b[39m\n",
            "\u001b[90m#   OBP \u001b[3m\u001b[90m<dbl>\u001b[90m\u001b[23m, E \u001b[3m\u001b[90m<int>\u001b[90m\u001b[23m, `height/weight` \u001b[3m\u001b[90m<chr>\u001b[90m\u001b[23m, year_born \u001b[3m\u001b[90m<chr>\u001b[90m\u001b[23m, position \u001b[3m\u001b[90m<chr>\u001b[90m\u001b[23m,\u001b[39m\n",
            "\u001b[90m#   career \u001b[3m\u001b[90m<chr>\u001b[90m\u001b[23m, starting_salary \u001b[3m\u001b[90m<chr>\u001b[90m\u001b[23m, OPS \u001b[3m\u001b[90m<dbl>\u001b[90m\u001b[23m\u001b[39m\n"
          ],
          "name": "stdout"
        }
      ]
    },
    {
      "cell_type": "code",
      "metadata": {
        "id": "g8s2DSRJ48cY",
        "colab_type": "code",
        "colab": {
          "base_uri": "https://localhost:8080/"
        },
        "outputId": "053ce4b7-97ac-4e4f-8766-db044cbd7f9f"
      },
      "source": [
        "# (5) DF에서 team 별 G, SLG, OBP, OPS 의 평균\n",
        "DF %>% group_by(team) %>% summarise(G_AVG = mean(G, na.rm =  T), SLG_AVG = mean(SLG, na.rm = T), OBP_AVG = mean(OBP, na.rm = T), OPS_AVG = mean(OPS, na.rm = T)) %>% show()"
      ],
      "execution_count": null,
      "outputs": [
        {
          "output_type": "stream",
          "text": [
            "\u001b[90m# A tibble: 13 x 5\u001b[39m\n",
            "   team     G_AVG SLG_AVG OBP_AVG OPS_AVG\n",
            "   \u001b[3m\u001b[90m<chr>\u001b[39m\u001b[23m    \u001b[3m\u001b[90m<dbl>\u001b[39m\u001b[23m   \u001b[3m\u001b[90m<dbl>\u001b[39m\u001b[23m   \u001b[3m\u001b[90m<dbl>\u001b[39m\u001b[23m   \u001b[3m\u001b[90m<dbl>\u001b[39m\u001b[23m\n",
            "\u001b[90m 1\u001b[39m KIA       7.87   0.407   0.358   0.765\n",
            "\u001b[90m 2\u001b[39m KT        7.63   0.373   0.320   0.693\n",
            "\u001b[90m 3\u001b[39m LG        8.74   0.350   0.321   0.667\n",
            "\u001b[90m 4\u001b[39m NC        8.49   0.401   0.312   0.705\n",
            "\u001b[90m 5\u001b[39m SK        8.37   0.350   0.305   0.655\n",
            "\u001b[90m 6\u001b[39m 넥센      9.10   0.383   0.323   0.706\n",
            "\u001b[90m 7\u001b[39m 두산     10.7    0.332   0.310   0.635\n",
            "\u001b[90m 8\u001b[39m 롯데      8.21   0.378   0.322   0.700\n",
            "\u001b[90m 9\u001b[39m 삼성      8.79   0.345   0.307   0.653\n",
            "\u001b[90m10\u001b[39m 우리      7.33   0.208   0.194   0.402\n",
            "\u001b[90m11\u001b[39m 한화      7.76   0.350   0.319   0.670\n",
            "\u001b[90m12\u001b[39m 현대     10.1    0.297   0.270   0.568\n",
            "\u001b[90m13\u001b[39m 히어로즈  8.2    0.253   0.289   0.542\n"
          ],
          "name": "stdout"
        }
      ]
    },
    {
      "cell_type": "code",
      "metadata": {
        "id": "wH9O-GES5UTJ",
        "colab_type": "code",
        "colab": {
          "base_uri": "https://localhost:8080/"
        },
        "outputId": "90d883ba-0c83-445f-bcb4-05f7891da622"
      },
      "source": [
        "# (6) DF에서 team, batter_name 별 SLG, OBP 의 평균을 구하여 데이터프레임으로 만든다. 생성한 데이터프레임에서 batter_name이 \"노로\" 시작하고 SLG의 평균이 0.20 이상인 행\n",
        "DF %>% group_by(team, batter_name) %>%\n",
        "  summarise(SLG_AVG = mean(SLG, na.rm = T), OBP_AVG = mean(OBP, na.rm = T)) %>% \n",
        "  filter(stringr::str_starts(batter_name, \"노\") & SLG_AVG >= .2) %>% show()"
      ],
      "execution_count": null,
      "outputs": [
        {
          "output_type": "stream",
          "text": [
            "\u001b[90m# A tibble: 2 x 4\u001b[39m\n",
            "\u001b[90m# Groups:   team [2]\u001b[39m\n",
            "  team  batter_name SLG_AVG OBP_AVG\n",
            "  \u001b[3m\u001b[90m<chr>\u001b[39m\u001b[23m \u001b[3m\u001b[90m<chr>\u001b[39m\u001b[23m         \u001b[3m\u001b[90m<dbl>\u001b[39m\u001b[23m   \u001b[3m\u001b[90m<dbl>\u001b[39m\u001b[23m\n",
            "\u001b[90m1\u001b[39m NC    노진혁        0.206   0.198\n",
            "\u001b[90m2\u001b[39m SK    노수광        0.462   0.233\n"
          ],
          "name": "stdout"
        }
      ]
    },
    {
      "cell_type": "code",
      "metadata": {
        "id": "jHF3L-Cg6Pkz",
        "colab_type": "code",
        "colab": {
          "base_uri": "https://localhost:8080/"
        },
        "outputId": "c0cf84ec-d3b8-46b3-ef22-3de0a34ab3d8"
      },
      "source": [
        "DF %>% group_by(team, batter_name) %>%\n",
        "  summarise(SLG_AVG = mean(SLG, na.rm = T), OBP_AVG = mean(OBP, na.rm = T)) %>% \n",
        "  filter(stringr::str_detect(batter_name, \"^노\") & SLG_AVG >= .2) %>% show()"
      ],
      "execution_count": null,
      "outputs": [
        {
          "output_type": "stream",
          "text": [
            "\u001b[90m# A tibble: 2 x 4\u001b[39m\n",
            "\u001b[90m# Groups:   team [2]\u001b[39m\n",
            "  team  batter_name SLG_AVG OBP_AVG\n",
            "  \u001b[3m\u001b[90m<chr>\u001b[39m\u001b[23m \u001b[3m\u001b[90m<chr>\u001b[39m\u001b[23m         \u001b[3m\u001b[90m<dbl>\u001b[39m\u001b[23m   \u001b[3m\u001b[90m<dbl>\u001b[39m\u001b[23m\n",
            "\u001b[90m1\u001b[39m NC    노진혁        0.206   0.198\n",
            "\u001b[90m2\u001b[39m SK    노수광        0.462   0.233\n"
          ],
          "name": "stdout"
        }
      ]
    },
    {
      "cell_type": "code",
      "metadata": {
        "id": "KZCRjb3X56FH",
        "colab_type": "code",
        "colab": {
          "base_uri": "https://localhost:8080/"
        },
        "outputId": "251af61e-7749-41fc-a24e-ab9c74d58191"
      },
      "source": [
        "DF %>% group_by(team, batter_name) %>%\n",
        "  summarise(SLG_AVG = mean(SLG, na.rm = T), OBP_AVG = mean(OBP, na.rm = T)) %>% \n",
        "  filter(batter_name %like% \"^노\" & SLG_AVG >= .2) %>% show()"
      ],
      "execution_count": null,
      "outputs": [
        {
          "output_type": "stream",
          "text": [
            "\u001b[90m# A tibble: 2 x 4\u001b[39m\n",
            "\u001b[90m# Groups:   team [2]\u001b[39m\n",
            "  team  batter_name SLG_AVG OBP_AVG\n",
            "  \u001b[3m\u001b[90m<chr>\u001b[39m\u001b[23m \u001b[3m\u001b[90m<chr>\u001b[39m\u001b[23m         \u001b[3m\u001b[90m<dbl>\u001b[39m\u001b[23m   \u001b[3m\u001b[90m<dbl>\u001b[39m\u001b[23m\n",
            "\u001b[90m1\u001b[39m NC    노진혁        0.206   0.198\n",
            "\u001b[90m2\u001b[39m SK    노수광        0.462   0.233\n"
          ],
          "name": "stdout"
        }
      ]
    },
    {
      "cell_type": "code",
      "metadata": {
        "id": "w2L216wF6Wc8",
        "colab_type": "code",
        "colab": {}
      },
      "source": [
        ""
      ],
      "execution_count": null,
      "outputs": []
    },
    {
      "cell_type": "markdown",
      "metadata": {
        "id": "pHM8F2vRORUF",
        "colab_type": "text"
      },
      "source": [
        "- - -\n",
        "\n",
        "* **2번 문제**\n",
        "\n",
        "– apply 계열 함수와 반복문(for/wile)을 이용해서 group_by & summarise 를 대체해보자.\n",
        "\n",
        "<사용되는 데이터 - Pre_Season_Batter.csv>\n",
        "\n",
        "``DF %>% group_by(team) %>% summarise(G_AVG = mean(G), AB_AVG= mean(AB), R_SUM = sum(R))``\n",
        "\n",
        "위의 코드처럼 group_by 와 summarise 를 이용하면 데이터프레임에서 그룹별로 평균 또는 합을 쉽게\n",
        "구할 수 있다.\n",
        "apply 계열 함수(lapply, sapply, ~) 또는 반복문을 사용해서 그룹별 평균 또는 합을 구해보자\n",
        "\n",
        "<참고사항>\n",
        "1. apply 계열 함수 또는 반복문을 사용할 것\n",
        "2. 생성되는 데이터 프레임의 열(column)은 team, G_AVG(G 의 평균), AB_AVG(AB 의 평균),\n",
        "R_SUM(R 의 합)\n",
        "3. UDF(user defined function)을 사용하지 않아도 됨(사용한다면 function 의 이름은 자유)\n",
        "4. Tip. select, filter, apply, t, bind_col 등 여러가지 함수가 사용될 수 있음(자유롭게 사용)"
      ]
    },
    {
      "cell_type": "code",
      "metadata": {
        "id": "Af4e38zmOjiv",
        "colab_type": "code",
        "colab": {
          "base_uri": "https://localhost:8080/"
        },
        "outputId": "67026b66-513b-4200-ead8-0d965cd761e3"
      },
      "source": [
        "tlist <- sort(unique(DF$team)) # DF 에 있는 team 열의 값을 unique 를 통해 중복을 제거하여 가져옵니다. 가져온 값은 sort 로 정렬해줍니다.\n",
        "ret <- data.frame(team=c(), G_AVG=c(), AB_AVG=c(), R_SUM=c()) # 연산이 끝나고 나서 결과가 저장될 데이터 프레임을 생성합니다.\n",
        "for(x in tlist) { # 팀 종류를 하나씩 가져와서 반복합니다.\n",
        "# team 이 x 와 같은 행에서 team, G, AB, R 열만 추출하여 tmp 에 저장합니다.\n",
        "  tmp <- DF %>% filter(., team == x) %>% select(., team, G, AB, R)\n",
        "# bind_rows 로 결과 프레임에 행을 하나씩 붙여줍니다.\n",
        "  ret <- bind_rows(ret, data.frame(team=unique(tmp$team), G_AVG=mean(tmp$G), AB_AVG=mean(tmp$AB), R_SUM=sum(tmp$R) ))\n",
        "}\n",
        "ret %>% as_tibble() %>% show()"
      ],
      "execution_count": null,
      "outputs": [
        {
          "output_type": "stream",
          "text": [
            "\u001b[90m# A tibble: 13 x 4\u001b[39m\n",
            "   team     G_AVG AB_AVG R_SUM\n",
            "   \u001b[3m\u001b[90m<chr>\u001b[39m\u001b[23m    \u001b[3m\u001b[90m<dbl>\u001b[39m\u001b[23m  \u001b[3m\u001b[90m<dbl>\u001b[39m\u001b[23m \u001b[3m\u001b[90m<int>\u001b[39m\u001b[23m\n",
            "\u001b[90m 1\u001b[39m KIA       7.87   16.8   321\n",
            "\u001b[90m 2\u001b[39m KT        7.63   16.3   143\n",
            "\u001b[90m 3\u001b[39m LG        8.74   20.3   500\n",
            "\u001b[90m 4\u001b[39m NC        8.49   17     195\n",
            "\u001b[90m 5\u001b[39m SK        8.37   19.9   426\n",
            "\u001b[90m 6\u001b[39m 넥센      9.10   19.0   315\n",
            "\u001b[90m 7\u001b[39m 두산     10.7    22.1   601\n",
            "\u001b[90m 8\u001b[39m 롯데      8.21   17.7   424\n",
            "\u001b[90m 9\u001b[39m 삼성      8.79   20.1   416\n",
            "\u001b[90m10\u001b[39m 우리      7.33   17.3    10\n",
            "\u001b[90m11\u001b[39m 한화      7.76   18.2   335\n",
            "\u001b[90m12\u001b[39m 현대     10.1    25.3    42\n",
            "\u001b[90m13\u001b[39m 히어로즈  8.2    15.6     5\n"
          ],
          "name": "stdout"
        }
      ]
    },
    {
      "cell_type": "code",
      "metadata": {
        "id": "sLubWH_QOzFO",
        "colab_type": "code",
        "colab": {}
      },
      "source": [
        "# 다른 방법\n",
        "DF1 <- DF %>% select(team, G, AB, R)\n",
        "\n",
        "mat <- tapply(DF1[[2]], DF1$team, mean) # G\n",
        "mat <- tapply(DF1[[3]], DF1$team, mean) %>% cbind(mat, .) # AB\n",
        "mat <- tapply(DF1[[4]], DF1$team, sum) %>% cbind(mat, .)  # R"
      ],
      "execution_count": null,
      "outputs": []
    },
    {
      "cell_type": "code",
      "metadata": {
        "id": "X8gsO8B5PfRW",
        "colab_type": "code",
        "colab": {
          "base_uri": "https://localhost:8080/"
        },
        "outputId": "866a5b4e-8a78-4535-cd0b-2dca89bcfef5"
      },
      "source": [
        "mat %>% show()"
      ],
      "execution_count": null,
      "outputs": [
        {
          "output_type": "stream",
          "text": [
            "               mat        .   .\n",
            "KIA       7.871212 16.84091 321\n",
            "KT        7.631579 16.33333 143\n",
            "LG        8.741379 20.32759 500\n",
            "NC        8.488636 17.00000 195\n",
            "SK        8.372781 19.88166 426\n",
            "넥센      9.098214 19.00893 315\n",
            "두산     10.736559 22.09677 601\n",
            "롯데      8.210843 17.74096 424\n",
            "삼성      8.785235 20.06040 416\n",
            "우리      7.333333 17.33333  10\n",
            "한화      7.755725 18.24427 335\n",
            "현대     10.055556 25.33333  42\n",
            "히어로즈  8.200000 15.60000   5\n"
          ],
          "name": "stdout"
        }
      ]
    },
    {
      "cell_type": "code",
      "metadata": {
        "id": "xPk3f0tCPgT2",
        "colab_type": "code",
        "colab": {
          "base_uri": "https://localhost:8080/"
        },
        "outputId": "c48d5efc-149d-444b-85c6-75e21ce35882"
      },
      "source": [
        " mat <- tibble(team = row.names(mat)) %>% bind_cols(., as_tibble(mat)) \n",
        " names <- c(\"team\", \"G_AVG\", \"AB_ABG\", \"R_SUM\")\n",
        " colnames(mat) <- names\n",
        " mat %>% show()"
      ],
      "execution_count": null,
      "outputs": [
        {
          "output_type": "stream",
          "text": [
            "\u001b[90m# A tibble: 13 x 4\u001b[39m\n",
            "   team     G_AVG AB_ABG R_SUM\n",
            "   \u001b[3m\u001b[90m<chr>\u001b[39m\u001b[23m    \u001b[3m\u001b[90m<dbl>\u001b[39m\u001b[23m  \u001b[3m\u001b[90m<dbl>\u001b[39m\u001b[23m \u001b[3m\u001b[90m<dbl>\u001b[39m\u001b[23m\n",
            "\u001b[90m 1\u001b[39m KIA       7.87   16.8   321\n",
            "\u001b[90m 2\u001b[39m KT        7.63   16.3   143\n",
            "\u001b[90m 3\u001b[39m LG        8.74   20.3   500\n",
            "\u001b[90m 4\u001b[39m NC        8.49   17     195\n",
            "\u001b[90m 5\u001b[39m SK        8.37   19.9   426\n",
            "\u001b[90m 6\u001b[39m 넥센      9.10   19.0   315\n",
            "\u001b[90m 7\u001b[39m 두산     10.7    22.1   601\n",
            "\u001b[90m 8\u001b[39m 롯데      8.21   17.7   424\n",
            "\u001b[90m 9\u001b[39m 삼성      8.79   20.1   416\n",
            "\u001b[90m10\u001b[39m 우리      7.33   17.3    10\n",
            "\u001b[90m11\u001b[39m 한화      7.76   18.2   335\n",
            "\u001b[90m12\u001b[39m 현대     10.1    25.3    42\n",
            "\u001b[90m13\u001b[39m 히어로즈  8.2    15.6     5\n"
          ],
          "name": "stdout"
        }
      ]
    }
  ]
}