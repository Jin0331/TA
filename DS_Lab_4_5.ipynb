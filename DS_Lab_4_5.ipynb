{
  "nbformat": 4,
  "nbformat_minor": 0,
  "metadata": {
    "colab": {
      "name": "DS Lab 4-5.ipynb",
      "provenance": [],
      "collapsed_sections": [
        "08l5SO7QQyf_",
        "OJagqAr-eVbT"
      ],
      "include_colab_link": true
    },
    "kernelspec": {
      "name": "ir",
      "display_name": "R"
    }
  },
  "cells": [
    {
      "cell_type": "markdown",
      "metadata": {
        "id": "view-in-github",
        "colab_type": "text"
      },
      "source": [
        "<a href=\"https://colab.research.google.com/github/Jin0331/TA/blob/master/DS_Lab_4_5.ipynb\" target=\"_parent\"><img src=\"https://colab.research.google.com/assets/colab-badge.svg\" alt=\"Open In Colab\"/></a>"
      ]
    },
    {
      "cell_type": "markdown",
      "metadata": {
        "id": "NqwIc2xhQqLu",
        "colab_type": "text"
      },
      "source": [
        "# *5주차 실습*\n",
        "\n",
        "- - -"
      ]
    },
    {
      "cell_type": "markdown",
      "metadata": {
        "id": "08l5SO7QQyf_",
        "colab_type": "text"
      },
      "source": [
        "### 1. 결측값 처리"
      ]
    },
    {
      "cell_type": "markdown",
      "metadata": {
        "id": "YiA_bPzETLrz",
        "colab_type": "text"
      },
      "source": [
        "* 함수의 속성 이용 -----> na.rm = T를 사용하여, 함수 사용시 NA를 제외하고 수행된다. *na.rm argument가 존재하는 함수는 제한적*\n",
        "\n",
        "<br>\n",
        "\n",
        "* is.na() -----> NA인 데이터가 있으면, **T(TRUE)** 아니라면 **F(FALSE)**\n",
        "\n",
        "<br>\n",
        "\n",
        "* na.omit() -----> NA인 데이터를 지운다. **주의** NA가 포함된 행 전체를 지운다...\n",
        "\n",
        "<br>"
      ]
    },
    {
      "cell_type": "code",
      "metadata": {
        "id": "j3UYjfSYRyei",
        "colab_type": "code",
        "colab": {
          "base_uri": "https://localhost:8080/"
        },
        "outputId": "302e495c-38a9-4c12-dece-7e6d070f1d1e"
      },
      "source": [
        "#install.packages(\"data.table\")\n",
        "library(data.table)"
      ],
      "execution_count": null,
      "outputs": [
        {
          "output_type": "stream",
          "text": [
            "Installing package into ‘/usr/local/lib/R/site-library’\n",
            "(as ‘lib’ is unspecified)\n",
            "\n"
          ],
          "name": "stderr"
        }
      ]
    },
    {
      "cell_type": "code",
      "metadata": {
        "id": "VJYHw4hURXFB",
        "colab_type": "code",
        "colab": {
          "base_uri": "https://localhost:8080/"
        },
        "outputId": "3541b4ec-b3fc-43b7-8511-0b1941a2e42e"
      },
      "source": [
        "## 실습데이터를 데이터프레임으로 로드!!!!!\n",
        "DF <- fread(\"ftp://210.115.229.94/2020_datascience/6th_data/Pre_Season_Batter.csv\", encoding = \"UTF-8\")\n",
        "nrow(DF)"
      ],
      "execution_count": null,
      "outputs": [
        {
          "output_type": "display_data",
          "data": {
            "text/plain": [
              "[1] 1393"
            ],
            "text/latex": "1393",
            "text/markdown": "1393",
            "text/html": [
              "1393"
            ]
          },
          "metadata": {
            "tags": []
          }
        }
      ]
    },
    {
      "cell_type": "code",
      "metadata": {
        "id": "UIVw8lGcRa_V",
        "colab_type": "code",
        "colab": {
          "base_uri": "https://localhost:8080/"
        },
        "outputId": "d2252327-0c6e-4542-f3f3-ac4da895b2fb"
      },
      "source": [
        "head(DF, 10)\n",
        "# https://dacon.io/competitions/official/62540/data/"
      ],
      "execution_count": null,
      "outputs": [
        {
          "output_type": "display_data",
          "data": {
            "text/plain": [
              "   batter_id batter_name year team avg   G  AB R  H 2B ⋯ GDP SLG   OBP   E\n",
              "1   0        가르시아    2018 LG   0.350  7 20  1 7 1  ⋯ 1   0.550 0.409 1\n",
              "2   1        강경학      2011 한화 0.000  4  2  2 0 0  ⋯ 0   0.000 0.500 0\n",
              "3   1        강경학      2014 한화 -      4  0  2 0 0  ⋯ 0      NA    NA 0\n",
              "4   1        강경학      2015 한화 0.130 10 23  3 3 0  ⋯ 0   0.130 0.286 2\n",
              "5   1        강경학      2016 한화 0.188 14 32  4 6 1  ⋯ 0   0.281 0.212 0\n",
              "6   1        강경학      2017 한화 0.222 11 36 10 8 0  ⋯ 0   0.389 0.282 1\n",
              "7   2        강구성      2013 NC   0.000  3  4  0 0 0  ⋯ 1   0.000 0.000 0\n",
              "8   2        강구성      2016 NC   0.000  3  1  0 0 0  ⋯ 1   0.000 0.500 0\n",
              "9   2        강구성      2017 NC   1.000  2  1  0 1 0  ⋯ 0   1.000 1.000 0\n",
              "10 69        김태완      2006 한화 0.200 10 15  0 3 0  ⋯ 1   0.200 0.278 0\n",
              "   height/weight year_born        position        \n",
              "1  177cm/93kg    1985년 04월 12일 내야수(우투우타)\n",
              "2  180cm/72kg    1992년 08월 11일 내야수(우투좌타)\n",
              "3  180cm/72kg    1992년 08월 11일 내야수(우투좌타)\n",
              "4  180cm/72kg    1992년 08월 11일 내야수(우투좌타)\n",
              "5  180cm/72kg    1992년 08월 11일 내야수(우투좌타)\n",
              "6  180cm/72kg    1992년 08월 11일 내야수(우투좌타)\n",
              "7  180cm/82kg    1993년 06월 09일 외야수(우투좌타)\n",
              "8  180cm/82kg    1993년 06월 09일 외야수(우투좌타)\n",
              "9  180cm/82kg    1993년 06월 09일 외야수(우투좌타)\n",
              "10 189cm/105kg   1984년 01월 27일 내야수(우투우타)\n",
              "   career                                    starting_salary OPS  \n",
              "1  쿠바 Ciego de Avila Maximo Gomez Baez(대)                 0.959\n",
              "2  광주대성초-광주동성중-광주동성고          10000만원       0.500\n",
              "3  광주대성초-광주동성중-광주동성고          10000만원          NA\n",
              "4  광주대성초-광주동성중-광주동성고          10000만원       0.416\n",
              "5  광주대성초-광주동성중-광주동성고          10000만원       0.493\n",
              "6  광주대성초-광주동성중-광주동성고          10000만원       0.671\n",
              "7  관산초-부천중-야탑고-NC-상무              9000만원        0.000\n",
              "8  관산초-부천중-야탑고-NC-상무              9000만원        0.500\n",
              "9  관산초-부천중-야탑고-NC-상무              9000만원        2.000\n",
              "10 양목초-신월중-중앙고-성균관대-한화        11000만원       0.478"
            ],
            "text/latex": "A data.table: 10 × 29\n\\begin{tabular}{lllllllllllllllllllll}\n batter\\_id & batter\\_name & year & team & avg & G & AB & R & H & 2B & ⋯ & GDP & SLG & OBP & E & height/weight & year\\_born & position & career & starting\\_salary & OPS\\\\\n <int> & <chr> & <int> & <chr> & <chr> & <int> & <int> & <int> & <int> & <int> & ⋯ & <int> & <dbl> & <dbl> & <int> & <chr> & <chr> & <chr> & <chr> & <chr> & <dbl>\\\\\n\\hline\n\t  0 & 가르시아 & 2018 & LG   & 0.350 &  7 & 20 &  1 & 7 & 1 & ⋯ & 1 & 0.550 & 0.409 & 1 & 177cm/93kg  & 1985년 04월 12일 & 내야수(우투우타) & 쿠바 Ciego de Avila Maximo Gomez Baez(대) &           & 0.959\\\\\n\t  1 & 강경학   & 2011 & 한화 & 0.000 &  4 &  2 &  2 & 0 & 0 & ⋯ & 0 & 0.000 & 0.500 & 0 & 180cm/72kg  & 1992년 08월 11일 & 내야수(우투좌타) & 광주대성초-광주동성중-광주동성고          & 10000만원 & 0.500\\\\\n\t  1 & 강경학   & 2014 & 한화 & -     &  4 &  0 &  2 & 0 & 0 & ⋯ & 0 &    NA &    NA & 0 & 180cm/72kg  & 1992년 08월 11일 & 내야수(우투좌타) & 광주대성초-광주동성중-광주동성고          & 10000만원 &    NA\\\\\n\t  1 & 강경학   & 2015 & 한화 & 0.130 & 10 & 23 &  3 & 3 & 0 & ⋯ & 0 & 0.130 & 0.286 & 2 & 180cm/72kg  & 1992년 08월 11일 & 내야수(우투좌타) & 광주대성초-광주동성중-광주동성고          & 10000만원 & 0.416\\\\\n\t  1 & 강경학   & 2016 & 한화 & 0.188 & 14 & 32 &  4 & 6 & 1 & ⋯ & 0 & 0.281 & 0.212 & 0 & 180cm/72kg  & 1992년 08월 11일 & 내야수(우투좌타) & 광주대성초-광주동성중-광주동성고          & 10000만원 & 0.493\\\\\n\t  1 & 강경학   & 2017 & 한화 & 0.222 & 11 & 36 & 10 & 8 & 0 & ⋯ & 0 & 0.389 & 0.282 & 1 & 180cm/72kg  & 1992년 08월 11일 & 내야수(우투좌타) & 광주대성초-광주동성중-광주동성고          & 10000만원 & 0.671\\\\\n\t  2 & 강구성   & 2013 & NC   & 0.000 &  3 &  4 &  0 & 0 & 0 & ⋯ & 1 & 0.000 & 0.000 & 0 & 180cm/82kg  & 1993년 06월 09일 & 외야수(우투좌타) & 관산초-부천중-야탑고-NC-상무              & 9000만원  & 0.000\\\\\n\t  2 & 강구성   & 2016 & NC   & 0.000 &  3 &  1 &  0 & 0 & 0 & ⋯ & 1 & 0.000 & 0.500 & 0 & 180cm/82kg  & 1993년 06월 09일 & 외야수(우투좌타) & 관산초-부천중-야탑고-NC-상무              & 9000만원  & 0.500\\\\\n\t  2 & 강구성   & 2017 & NC   & 1.000 &  2 &  1 &  0 & 1 & 0 & ⋯ & 0 & 1.000 & 1.000 & 0 & 180cm/82kg  & 1993년 06월 09일 & 외야수(우투좌타) & 관산초-부천중-야탑고-NC-상무              & 9000만원  & 2.000\\\\\n\t 69 & 김태완   & 2006 & 한화 & 0.200 & 10 & 15 &  0 & 3 & 0 & ⋯ & 1 & 0.200 & 0.278 & 0 & 189cm/105kg & 1984년 01월 27일 & 내야수(우투우타) & 양목초-신월중-중앙고-성균관대-한화        & 11000만원 & 0.478\\\\\n\\end{tabular}\n",
            "text/markdown": "\nA data.table: 10 × 29\n\n| batter_id &lt;int&gt; | batter_name &lt;chr&gt; | year &lt;int&gt; | team &lt;chr&gt; | avg &lt;chr&gt; | G &lt;int&gt; | AB &lt;int&gt; | R &lt;int&gt; | H &lt;int&gt; | 2B &lt;int&gt; | ⋯ ⋯ | GDP &lt;int&gt; | SLG &lt;dbl&gt; | OBP &lt;dbl&gt; | E &lt;int&gt; | height/weight &lt;chr&gt; | year_born &lt;chr&gt; | position &lt;chr&gt; | career &lt;chr&gt; | starting_salary &lt;chr&gt; | OPS &lt;dbl&gt; |\n|---|---|---|---|---|---|---|---|---|---|---|---|---|---|---|---|---|---|---|---|---|\n|  0 | 가르시아 | 2018 | LG   | 0.350 |  7 | 20 |  1 | 7 | 1 | ⋯ | 1 | 0.550 | 0.409 | 1 | 177cm/93kg  | 1985년 04월 12일 | 내야수(우투우타) | 쿠바 Ciego de Avila Maximo Gomez Baez(대) | <!----> | 0.959 |\n|  1 | 강경학   | 2011 | 한화 | 0.000 |  4 |  2 |  2 | 0 | 0 | ⋯ | 0 | 0.000 | 0.500 | 0 | 180cm/72kg  | 1992년 08월 11일 | 내야수(우투좌타) | 광주대성초-광주동성중-광주동성고          | 10000만원 | 0.500 |\n|  1 | 강경학   | 2014 | 한화 | -     |  4 |  0 |  2 | 0 | 0 | ⋯ | 0 |    NA |    NA | 0 | 180cm/72kg  | 1992년 08월 11일 | 내야수(우투좌타) | 광주대성초-광주동성중-광주동성고          | 10000만원 |    NA |\n|  1 | 강경학   | 2015 | 한화 | 0.130 | 10 | 23 |  3 | 3 | 0 | ⋯ | 0 | 0.130 | 0.286 | 2 | 180cm/72kg  | 1992년 08월 11일 | 내야수(우투좌타) | 광주대성초-광주동성중-광주동성고          | 10000만원 | 0.416 |\n|  1 | 강경학   | 2016 | 한화 | 0.188 | 14 | 32 |  4 | 6 | 1 | ⋯ | 0 | 0.281 | 0.212 | 0 | 180cm/72kg  | 1992년 08월 11일 | 내야수(우투좌타) | 광주대성초-광주동성중-광주동성고          | 10000만원 | 0.493 |\n|  1 | 강경학   | 2017 | 한화 | 0.222 | 11 | 36 | 10 | 8 | 0 | ⋯ | 0 | 0.389 | 0.282 | 1 | 180cm/72kg  | 1992년 08월 11일 | 내야수(우투좌타) | 광주대성초-광주동성중-광주동성고          | 10000만원 | 0.671 |\n|  2 | 강구성   | 2013 | NC   | 0.000 |  3 |  4 |  0 | 0 | 0 | ⋯ | 1 | 0.000 | 0.000 | 0 | 180cm/82kg  | 1993년 06월 09일 | 외야수(우투좌타) | 관산초-부천중-야탑고-NC-상무              | 9000만원  | 0.000 |\n|  2 | 강구성   | 2016 | NC   | 0.000 |  3 |  1 |  0 | 0 | 0 | ⋯ | 1 | 0.000 | 0.500 | 0 | 180cm/82kg  | 1993년 06월 09일 | 외야수(우투좌타) | 관산초-부천중-야탑고-NC-상무              | 9000만원  | 0.500 |\n|  2 | 강구성   | 2017 | NC   | 1.000 |  2 |  1 |  0 | 1 | 0 | ⋯ | 0 | 1.000 | 1.000 | 0 | 180cm/82kg  | 1993년 06월 09일 | 외야수(우투좌타) | 관산초-부천중-야탑고-NC-상무              | 9000만원  | 2.000 |\n| 69 | 김태완   | 2006 | 한화 | 0.200 | 10 | 15 |  0 | 3 | 0 | ⋯ | 1 | 0.200 | 0.278 | 0 | 189cm/105kg | 1984년 01월 27일 | 내야수(우투우타) | 양목초-신월중-중앙고-성균관대-한화        | 11000만원 | 0.478 |\n\n",
            "text/html": [
              "<table>\n",
              "<caption>A data.table: 10 × 29</caption>\n",
              "<thead>\n",
              "\t<tr><th scope=col>batter_id</th><th scope=col>batter_name</th><th scope=col>year</th><th scope=col>team</th><th scope=col>avg</th><th scope=col>G</th><th scope=col>AB</th><th scope=col>R</th><th scope=col>H</th><th scope=col>2B</th><th scope=col>⋯</th><th scope=col>GDP</th><th scope=col>SLG</th><th scope=col>OBP</th><th scope=col>E</th><th scope=col>height/weight</th><th scope=col>year_born</th><th scope=col>position</th><th scope=col>career</th><th scope=col>starting_salary</th><th scope=col>OPS</th></tr>\n",
              "\t<tr><th scope=col>&lt;int&gt;</th><th scope=col>&lt;chr&gt;</th><th scope=col>&lt;int&gt;</th><th scope=col>&lt;chr&gt;</th><th scope=col>&lt;chr&gt;</th><th scope=col>&lt;int&gt;</th><th scope=col>&lt;int&gt;</th><th scope=col>&lt;int&gt;</th><th scope=col>&lt;int&gt;</th><th scope=col>&lt;int&gt;</th><th scope=col>⋯</th><th scope=col>&lt;int&gt;</th><th scope=col>&lt;dbl&gt;</th><th scope=col>&lt;dbl&gt;</th><th scope=col>&lt;int&gt;</th><th scope=col>&lt;chr&gt;</th><th scope=col>&lt;chr&gt;</th><th scope=col>&lt;chr&gt;</th><th scope=col>&lt;chr&gt;</th><th scope=col>&lt;chr&gt;</th><th scope=col>&lt;dbl&gt;</th></tr>\n",
              "</thead>\n",
              "<tbody>\n",
              "\t<tr><td> 0</td><td>가르시아</td><td>2018</td><td>LG  </td><td>0.350</td><td> 7</td><td>20</td><td> 1</td><td>7</td><td>1</td><td>⋯</td><td>1</td><td>0.550</td><td>0.409</td><td>1</td><td>177cm/93kg </td><td>1985년 04월 12일</td><td>내야수(우투우타)</td><td>쿠바 Ciego de Avila Maximo Gomez Baez(대)</td><td>         </td><td>0.959</td></tr>\n",
              "\t<tr><td> 1</td><td>강경학  </td><td>2011</td><td>한화</td><td>0.000</td><td> 4</td><td> 2</td><td> 2</td><td>0</td><td>0</td><td>⋯</td><td>0</td><td>0.000</td><td>0.500</td><td>0</td><td>180cm/72kg </td><td>1992년 08월 11일</td><td>내야수(우투좌타)</td><td>광주대성초-광주동성중-광주동성고         </td><td>10000만원</td><td>0.500</td></tr>\n",
              "\t<tr><td> 1</td><td>강경학  </td><td>2014</td><td>한화</td><td>-    </td><td> 4</td><td> 0</td><td> 2</td><td>0</td><td>0</td><td>⋯</td><td>0</td><td>   NA</td><td>   NA</td><td>0</td><td>180cm/72kg </td><td>1992년 08월 11일</td><td>내야수(우투좌타)</td><td>광주대성초-광주동성중-광주동성고         </td><td>10000만원</td><td>   NA</td></tr>\n",
              "\t<tr><td> 1</td><td>강경학  </td><td>2015</td><td>한화</td><td>0.130</td><td>10</td><td>23</td><td> 3</td><td>3</td><td>0</td><td>⋯</td><td>0</td><td>0.130</td><td>0.286</td><td>2</td><td>180cm/72kg </td><td>1992년 08월 11일</td><td>내야수(우투좌타)</td><td>광주대성초-광주동성중-광주동성고         </td><td>10000만원</td><td>0.416</td></tr>\n",
              "\t<tr><td> 1</td><td>강경학  </td><td>2016</td><td>한화</td><td>0.188</td><td>14</td><td>32</td><td> 4</td><td>6</td><td>1</td><td>⋯</td><td>0</td><td>0.281</td><td>0.212</td><td>0</td><td>180cm/72kg </td><td>1992년 08월 11일</td><td>내야수(우투좌타)</td><td>광주대성초-광주동성중-광주동성고         </td><td>10000만원</td><td>0.493</td></tr>\n",
              "\t<tr><td> 1</td><td>강경학  </td><td>2017</td><td>한화</td><td>0.222</td><td>11</td><td>36</td><td>10</td><td>8</td><td>0</td><td>⋯</td><td>0</td><td>0.389</td><td>0.282</td><td>1</td><td>180cm/72kg </td><td>1992년 08월 11일</td><td>내야수(우투좌타)</td><td>광주대성초-광주동성중-광주동성고         </td><td>10000만원</td><td>0.671</td></tr>\n",
              "\t<tr><td> 2</td><td>강구성  </td><td>2013</td><td>NC  </td><td>0.000</td><td> 3</td><td> 4</td><td> 0</td><td>0</td><td>0</td><td>⋯</td><td>1</td><td>0.000</td><td>0.000</td><td>0</td><td>180cm/82kg </td><td>1993년 06월 09일</td><td>외야수(우투좌타)</td><td>관산초-부천중-야탑고-NC-상무             </td><td>9000만원 </td><td>0.000</td></tr>\n",
              "\t<tr><td> 2</td><td>강구성  </td><td>2016</td><td>NC  </td><td>0.000</td><td> 3</td><td> 1</td><td> 0</td><td>0</td><td>0</td><td>⋯</td><td>1</td><td>0.000</td><td>0.500</td><td>0</td><td>180cm/82kg </td><td>1993년 06월 09일</td><td>외야수(우투좌타)</td><td>관산초-부천중-야탑고-NC-상무             </td><td>9000만원 </td><td>0.500</td></tr>\n",
              "\t<tr><td> 2</td><td>강구성  </td><td>2017</td><td>NC  </td><td>1.000</td><td> 2</td><td> 1</td><td> 0</td><td>1</td><td>0</td><td>⋯</td><td>0</td><td>1.000</td><td>1.000</td><td>0</td><td>180cm/82kg </td><td>1993년 06월 09일</td><td>외야수(우투좌타)</td><td>관산초-부천중-야탑고-NC-상무             </td><td>9000만원 </td><td>2.000</td></tr>\n",
              "\t<tr><td>69</td><td>김태완  </td><td>2006</td><td>한화</td><td>0.200</td><td>10</td><td>15</td><td> 0</td><td>3</td><td>0</td><td>⋯</td><td>1</td><td>0.200</td><td>0.278</td><td>0</td><td>189cm/105kg</td><td>1984년 01월 27일</td><td>내야수(우투우타)</td><td>양목초-신월중-중앙고-성균관대-한화       </td><td>11000만원</td><td>0.478</td></tr>\n",
              "</tbody>\n",
              "</table>\n"
            ]
          },
          "metadata": {
            "tags": []
          }
        }
      ]
    },
    {
      "cell_type": "markdown",
      "metadata": {
        "id": "LBt1mLAvUliq",
        "colab_type": "text"
      },
      "source": [
        "* table(is.na()) 를 이용한 결측값 확인"
      ]
    },
    {
      "cell_type": "code",
      "metadata": {
        "id": "96FeUiKtSY13",
        "colab_type": "code",
        "colab": {
          "base_uri": "https://localhost:8080/"
        },
        "outputId": "79773e4a-ccde-489a-8634-ce9dee63124f"
      },
      "source": [
        "table(is.na(airquality)) ## airquality는 R의 내장 데이터"
      ],
      "execution_count": null,
      "outputs": [
        {
          "output_type": "display_data",
          "data": {
            "text/plain": [
              "\n",
              "FALSE  TRUE \n",
              "  874    44 "
            ]
          },
          "metadata": {
            "tags": []
          }
        }
      ]
    },
    {
      "cell_type": "code",
      "metadata": {
        "id": "HlWYZ6s1USCC",
        "colab_type": "code",
        "colab": {
          "base_uri": "https://localhost:8080/"
        },
        "outputId": "39e015ca-030c-4024-9640-268f35e80cd9"
      },
      "source": [
        "# 우리가 받은 실습데이터(Pre_Seson_Battter) 확인해보자!\n",
        "table(is.na(DF))"
      ],
      "execution_count": null,
      "outputs": [
        {
          "output_type": "display_data",
          "data": {
            "text/plain": [
              "\n",
              "FALSE  TRUE \n",
              "40314    83 "
            ]
          },
          "metadata": {
            "tags": []
          }
        }
      ]
    },
    {
      "cell_type": "code",
      "metadata": {
        "id": "RMmx7kavUtn9",
        "colab_type": "code",
        "colab": {
          "base_uri": "https://localhost:8080/"
        },
        "outputId": "c42913e1-6904-4dd2-e2ef-2ba9cd16275b"
      },
      "source": [
        "#DF$SLG ----> 장타율\n",
        "print(table(is.na(DF$SLG)))\n",
        "\n",
        "#DF$OBP ----> 출루율\n",
        "print(table(is.na(DF$OBP)))\n",
        "\n",
        "#DF$E ----> 실책\n",
        "print(table(is.na(DF$E)))\n",
        "\n",
        "#$DF$height/weight -- 키 / 몸무게!\n",
        "print(table(is.na(DF$'height/weight')))"
      ],
      "execution_count": null,
      "outputs": [
        {
          "output_type": "stream",
          "text": [
            "\n",
            "FALSE  TRUE \n",
            " 1364    29 \n",
            "\n",
            "FALSE  TRUE \n",
            " 1368    25 \n",
            "\n",
            "FALSE \n",
            " 1393 \n",
            "\n",
            "FALSE \n",
            " 1393 \n"
          ],
          "name": "stdout"
        }
      ]
    },
    {
      "cell_type": "markdown",
      "metadata": {
        "id": "0MDCC40hY75J",
        "colab_type": "text"
      },
      "source": [
        "* 함수의 속성을 이용한 NA 제외 후 결과 출력"
      ]
    },
    {
      "cell_type": "code",
      "metadata": {
        "id": "4QUGDrnlYIWa",
        "colab_type": "code",
        "colab": {
          "base_uri": "https://localhost:8080/"
        },
        "outputId": "ead83512-f726-4933-e097-1f7d8677e6d4"
      },
      "source": [
        "# mean(평균)\n",
        "mean(DF$SLG)  ## NA가 존재, 결과도 NA!\n",
        "mean(DF$OBP)  ##         \"\"\n",
        "mean(DF$E)    ##         \"\"\n",
        "mean(DF$`height/weight`)  ## chr 형태"
      ],
      "execution_count": null,
      "outputs": [
        {
          "output_type": "display_data",
          "data": {
            "text/plain": [
              "[1] NA"
            ],
            "text/latex": "<NA>",
            "text/markdown": "&lt;NA&gt;",
            "text/html": [
              "&lt;NA&gt;"
            ]
          },
          "metadata": {
            "tags": []
          }
        },
        {
          "output_type": "display_data",
          "data": {
            "text/plain": [
              "[1] NA"
            ],
            "text/latex": "<NA>",
            "text/markdown": "&lt;NA&gt;",
            "text/html": [
              "&lt;NA&gt;"
            ]
          },
          "metadata": {
            "tags": []
          }
        },
        {
          "output_type": "display_data",
          "data": {
            "text/plain": [
              "[1] 0.3819095"
            ],
            "text/latex": "0.381909547738693",
            "text/markdown": "0.381909547738693",
            "text/html": [
              "0.381909547738693"
            ]
          },
          "metadata": {
            "tags": []
          }
        },
        {
          "output_type": "stream",
          "text": [
            "Warning message in mean.default(DF$`height/weight`):\n",
            "“argument is not numeric or logical: returning NA”\n"
          ],
          "name": "stderr"
        },
        {
          "output_type": "display_data",
          "data": {
            "text/plain": [
              "[1] NA"
            ],
            "text/latex": "<NA>",
            "text/markdown": "&lt;NA&gt;",
            "text/html": [
              "&lt;NA&gt;"
            ]
          },
          "metadata": {
            "tags": []
          }
        }
      ]
    },
    {
      "cell_type": "code",
      "metadata": {
        "id": "-vv876hhYU0i",
        "colab_type": "code",
        "colab": {
          "base_uri": "https://localhost:8080/"
        },
        "outputId": "dfce0887-b359-42af-cef3-c827e742eef0"
      },
      "source": [
        "# mean에는 na.rm argument가 존재!!\n",
        "mean(DF$SLG, na.rm = T)  ## NA가 존재, 결과도 NA!\n",
        "mean(DF$OBP, na.rm = T)  ##         \"\"\n",
        "mean(DF$E)    ##         \"\"\n",
        "mean(DF$`height/weight`)  ## chr 형태"
      ],
      "execution_count": null,
      "outputs": [
        {
          "output_type": "display_data",
          "data": {
            "text/plain": [
              "[1] 0.3610125"
            ],
            "text/latex": "0.361012463343108",
            "text/markdown": "0.361012463343108",
            "text/html": [
              "0.361012463343108"
            ]
          },
          "metadata": {
            "tags": []
          }
        },
        {
          "output_type": "display_data",
          "data": {
            "text/plain": [
              "[1] 0.3179115"
            ],
            "text/latex": "0.317911549707602",
            "text/markdown": "0.317911549707602",
            "text/html": [
              "0.317911549707602"
            ]
          },
          "metadata": {
            "tags": []
          }
        },
        {
          "output_type": "display_data",
          "data": {
            "text/plain": [
              "[1] 0.3819095"
            ],
            "text/latex": "0.381909547738693",
            "text/markdown": "0.381909547738693",
            "text/html": [
              "0.381909547738693"
            ]
          },
          "metadata": {
            "tags": []
          }
        },
        {
          "output_type": "stream",
          "text": [
            "Warning message in mean.default(DF$`height/weight`):\n",
            "“argument is not numeric or logical: returning NA”\n"
          ],
          "name": "stderr"
        },
        {
          "output_type": "display_data",
          "data": {
            "text/plain": [
              "[1] NA"
            ],
            "text/latex": "<NA>",
            "text/markdown": "&lt;NA&gt;",
            "text/html": [
              "&lt;NA&gt;"
            ]
          },
          "metadata": {
            "tags": []
          }
        }
      ]
    },
    {
      "cell_type": "code",
      "metadata": {
        "id": "QNRUM_MXZSSf",
        "colab_type": "code",
        "colab": {
          "base_uri": "https://localhost:8080/"
        },
        "outputId": "e2a5f1db-447b-46bd-8a52-f13939cc4fc8"
      },
      "source": [
        "# sum(합계)\n",
        "sum(DF$SLG)  ## NA가 존재, 결과도 NA!\n",
        "sum(DF$OBP)  ##         \"\"\n",
        "sum(DF$E)    ##         \"\"\n",
        "sum(DF$`height/weight`)  ## chr 형태"
      ],
      "execution_count": null,
      "outputs": [
        {
          "output_type": "display_data",
          "data": {
            "text/plain": [
              "[1] NA"
            ],
            "text/latex": "<NA>",
            "text/markdown": "&lt;NA&gt;",
            "text/html": [
              "&lt;NA&gt;"
            ]
          },
          "metadata": {
            "tags": []
          }
        },
        {
          "output_type": "display_data",
          "data": {
            "text/plain": [
              "[1] NA"
            ],
            "text/latex": "<NA>",
            "text/markdown": "&lt;NA&gt;",
            "text/html": [
              "&lt;NA&gt;"
            ]
          },
          "metadata": {
            "tags": []
          }
        },
        {
          "output_type": "display_data",
          "data": {
            "text/plain": [
              "[1] 532"
            ],
            "text/latex": "532",
            "text/markdown": "532",
            "text/html": [
              "532"
            ]
          },
          "metadata": {
            "tags": []
          }
        },
        {
          "output_type": "error",
          "ename": "ERROR",
          "evalue": "ignored",
          "traceback": [
            "Error in sum(DF$`height/weight`): invalid 'type' (character) of argument\nTraceback:\n"
          ]
        }
      ]
    },
    {
      "cell_type": "code",
      "metadata": {
        "id": "Dbqikdn-ZSWs",
        "colab_type": "code",
        "colab": {
          "base_uri": "https://localhost:8080/"
        },
        "outputId": "aa873379-f05f-405e-eac3-4fc043280417"
      },
      "source": [
        "# sum에도 na.rm argument가 존재!!\n",
        "sum(DF$SLG, na.rm = T)  ## NA가 존재, 결과도 NA!\n",
        "sum(DF$OBP, na.rm = T)  ##         \"\"\n",
        "sum(DF$E)    ##         \"\"\n",
        "sum(DF$`height/weight`)  ## chr 형태"
      ],
      "execution_count": null,
      "outputs": [
        {
          "output_type": "display_data",
          "data": {
            "text/plain": [
              "[1] 492.421"
            ],
            "text/latex": "492.421",
            "text/markdown": "492.421",
            "text/html": [
              "492.421"
            ]
          },
          "metadata": {
            "tags": []
          }
        },
        {
          "output_type": "display_data",
          "data": {
            "text/plain": [
              "[1] 434.903"
            ],
            "text/latex": "434.903",
            "text/markdown": "434.903",
            "text/html": [
              "434.903"
            ]
          },
          "metadata": {
            "tags": []
          }
        },
        {
          "output_type": "display_data",
          "data": {
            "text/plain": [
              "[1] 532"
            ],
            "text/latex": "532",
            "text/markdown": "532",
            "text/html": [
              "532"
            ]
          },
          "metadata": {
            "tags": []
          }
        },
        {
          "output_type": "error",
          "ename": "ERROR",
          "evalue": "ignored",
          "traceback": [
            "Error in sum(DF$`height/weight`): invalid 'type' (character) of argument\nTraceback:\n"
          ]
        }
      ]
    },
    {
      "cell_type": "markdown",
      "metadata": {
        "id": "gl3oe5IOZmGd",
        "colab_type": "text"
      },
      "source": [
        "* is.na() -----> NA인 데이터가 있으면, T(TRUE) 아니라면 F(FALSE)"
      ]
    },
    {
      "cell_type": "code",
      "metadata": {
        "id": "rxH-tmoNa3q-",
        "colab_type": "code",
        "colab": {
          "base_uri": "https://localhost:8080/"
        },
        "outputId": "12c1c604-ac2d-4331-ac22-1c6b608ab825"
      },
      "source": [
        "is.na(DF$SLG)"
      ],
      "execution_count": null,
      "outputs": [
        {
          "output_type": "display_data",
          "data": {
            "text/plain": [
              "   [1] FALSE FALSE  TRUE FALSE FALSE FALSE FALSE FALSE FALSE FALSE FALSE FALSE\n",
              "  [13] FALSE FALSE FALSE FALSE FALSE FALSE FALSE FALSE FALSE FALSE FALSE FALSE\n",
              "  [25] FALSE FALSE FALSE FALSE FALSE FALSE FALSE FALSE FALSE FALSE FALSE FALSE\n",
              "  [37] FALSE  TRUE FALSE FALSE FALSE FALSE FALSE FALSE FALSE FALSE FALSE FALSE\n",
              "  [49] FALSE FALSE FALSE FALSE FALSE FALSE FALSE FALSE FALSE FALSE FALSE FALSE\n",
              "  [61] FALSE FALSE FALSE FALSE FALSE FALSE FALSE FALSE FALSE FALSE FALSE FALSE\n",
              "  [73] FALSE FALSE  TRUE FALSE FALSE FALSE FALSE FALSE  TRUE FALSE FALSE FALSE\n",
              "  [85] FALSE FALSE FALSE FALSE FALSE FALSE  TRUE FALSE FALSE FALSE FALSE FALSE\n",
              "  [97] FALSE FALSE FALSE  TRUE FALSE FALSE FALSE FALSE FALSE FALSE FALSE FALSE\n",
              " [109] FALSE FALSE FALSE FALSE FALSE FALSE FALSE FALSE FALSE FALSE FALSE FALSE\n",
              " [121] FALSE FALSE FALSE FALSE FALSE FALSE FALSE FALSE FALSE FALSE FALSE FALSE\n",
              " [133] FALSE FALSE FALSE FALSE FALSE FALSE FALSE  TRUE FALSE FALSE  TRUE FALSE\n",
              " [145] FALSE FALSE FALSE FALSE FALSE FALSE FALSE FALSE FALSE FALSE FALSE FALSE\n",
              " [157] FALSE FALSE FALSE FALSE FALSE FALSE FALSE FALSE FALSE FALSE FALSE FALSE\n",
              " [169] FALSE FALSE FALSE FALSE FALSE FALSE FALSE FALSE FALSE  TRUE FALSE FALSE\n",
              " [181] FALSE FALSE FALSE FALSE FALSE FALSE FALSE  TRUE FALSE FALSE FALSE FALSE\n",
              " [193] FALSE FALSE FALSE FALSE FALSE FALSE FALSE FALSE FALSE FALSE FALSE FALSE\n",
              " [205] FALSE FALSE FALSE FALSE FALSE FALSE FALSE FALSE FALSE FALSE FALSE FALSE\n",
              " [217] FALSE FALSE FALSE FALSE FALSE FALSE FALSE FALSE FALSE FALSE FALSE FALSE\n",
              " [229] FALSE FALSE FALSE FALSE FALSE FALSE FALSE FALSE FALSE FALSE FALSE FALSE\n",
              " [241] FALSE FALSE FALSE FALSE FALSE FALSE FALSE FALSE FALSE FALSE FALSE FALSE\n",
              " [253] FALSE FALSE FALSE FALSE FALSE FALSE FALSE FALSE FALSE FALSE FALSE FALSE\n",
              " [265] FALSE FALSE FALSE FALSE FALSE FALSE FALSE FALSE FALSE FALSE FALSE  TRUE\n",
              " [277] FALSE FALSE FALSE FALSE FALSE FALSE FALSE FALSE FALSE FALSE FALSE FALSE\n",
              " [289] FALSE FALSE FALSE FALSE FALSE FALSE FALSE FALSE FALSE FALSE FALSE FALSE\n",
              " [301] FALSE FALSE FALSE FALSE FALSE FALSE FALSE FALSE FALSE FALSE FALSE  TRUE\n",
              " [313] FALSE FALSE FALSE FALSE FALSE FALSE FALSE FALSE FALSE FALSE FALSE FALSE\n",
              " [325] FALSE FALSE FALSE FALSE FALSE FALSE FALSE FALSE FALSE FALSE FALSE FALSE\n",
              " [337] FALSE FALSE FALSE FALSE FALSE FALSE FALSE FALSE FALSE FALSE FALSE FALSE\n",
              " [349]  TRUE FALSE FALSE FALSE FALSE FALSE FALSE FALSE FALSE FALSE FALSE FALSE\n",
              " [361] FALSE FALSE FALSE FALSE FALSE FALSE FALSE FALSE FALSE FALSE FALSE FALSE\n",
              " [373] FALSE FALSE FALSE FALSE FALSE FALSE FALSE FALSE FALSE FALSE FALSE FALSE\n",
              " [385] FALSE FALSE FALSE FALSE FALSE FALSE FALSE FALSE FALSE FALSE FALSE FALSE\n",
              " [397] FALSE FALSE FALSE FALSE FALSE FALSE FALSE FALSE FALSE FALSE FALSE FALSE\n",
              " [409] FALSE FALSE FALSE FALSE  TRUE FALSE FALSE FALSE FALSE FALSE FALSE FALSE\n",
              " [421] FALSE FALSE FALSE FALSE FALSE FALSE FALSE FALSE FALSE FALSE FALSE FALSE\n",
              " [433] FALSE FALSE FALSE FALSE FALSE FALSE FALSE FALSE FALSE FALSE FALSE FALSE\n",
              " [445] FALSE FALSE FALSE FALSE FALSE FALSE FALSE FALSE FALSE FALSE FALSE FALSE\n",
              " [457] FALSE FALSE FALSE FALSE FALSE FALSE FALSE  TRUE FALSE FALSE FALSE  TRUE\n",
              " [469] FALSE FALSE FALSE FALSE FALSE FALSE FALSE FALSE FALSE FALSE FALSE FALSE\n",
              " [481] FALSE FALSE FALSE FALSE FALSE FALSE FALSE FALSE FALSE FALSE FALSE FALSE\n",
              " [493] FALSE FALSE FALSE FALSE FALSE FALSE FALSE FALSE FALSE FALSE FALSE FALSE\n",
              " [505] FALSE FALSE FALSE FALSE FALSE FALSE FALSE FALSE FALSE FALSE FALSE FALSE\n",
              " [517] FALSE FALSE FALSE FALSE FALSE FALSE FALSE FALSE FALSE FALSE FALSE FALSE\n",
              " [529] FALSE FALSE FALSE FALSE FALSE FALSE FALSE FALSE FALSE FALSE FALSE FALSE\n",
              " [541] FALSE FALSE FALSE  TRUE FALSE FALSE FALSE FALSE FALSE FALSE FALSE FALSE\n",
              " [553] FALSE FALSE FALSE FALSE FALSE FALSE FALSE FALSE FALSE FALSE FALSE FALSE\n",
              " [565] FALSE FALSE FALSE FALSE FALSE FALSE FALSE FALSE FALSE FALSE FALSE FALSE\n",
              " [577] FALSE FALSE FALSE FALSE FALSE FALSE FALSE FALSE FALSE FALSE FALSE FALSE\n",
              " [589] FALSE FALSE FALSE FALSE FALSE FALSE FALSE FALSE FALSE FALSE FALSE FALSE\n",
              " [601] FALSE FALSE FALSE FALSE FALSE FALSE FALSE FALSE FALSE FALSE FALSE FALSE\n",
              " [613] FALSE FALSE FALSE FALSE FALSE FALSE FALSE FALSE FALSE FALSE FALSE FALSE\n",
              " [625] FALSE FALSE FALSE FALSE FALSE FALSE FALSE FALSE FALSE FALSE FALSE FALSE\n",
              " [637] FALSE FALSE FALSE FALSE FALSE FALSE FALSE FALSE FALSE FALSE FALSE FALSE\n",
              " [649] FALSE FALSE FALSE FALSE FALSE FALSE FALSE FALSE FALSE FALSE FALSE FALSE\n",
              " [661] FALSE FALSE FALSE FALSE FALSE FALSE FALSE FALSE FALSE FALSE FALSE FALSE\n",
              " [673] FALSE FALSE FALSE FALSE FALSE FALSE FALSE FALSE FALSE FALSE FALSE FALSE\n",
              " [685] FALSE FALSE FALSE FALSE FALSE FALSE FALSE  TRUE FALSE FALSE FALSE FALSE\n",
              " [697] FALSE FALSE FALSE FALSE FALSE FALSE FALSE FALSE FALSE FALSE FALSE FALSE\n",
              " [709] FALSE FALSE FALSE FALSE FALSE FALSE FALSE FALSE FALSE FALSE FALSE FALSE\n",
              " [721] FALSE FALSE FALSE FALSE FALSE FALSE FALSE FALSE FALSE FALSE FALSE FALSE\n",
              " [733] FALSE FALSE FALSE FALSE FALSE FALSE FALSE FALSE FALSE FALSE FALSE FALSE\n",
              " [745] FALSE FALSE FALSE FALSE FALSE FALSE FALSE FALSE FALSE FALSE FALSE FALSE\n",
              " [757] FALSE FALSE FALSE FALSE FALSE FALSE FALSE FALSE FALSE FALSE FALSE FALSE\n",
              " [769] FALSE FALSE FALSE FALSE FALSE FALSE FALSE FALSE FALSE FALSE FALSE FALSE\n",
              " [781] FALSE FALSE FALSE FALSE FALSE FALSE  TRUE FALSE FALSE FALSE FALSE FALSE\n",
              " [793] FALSE FALSE FALSE FALSE FALSE FALSE FALSE FALSE FALSE FALSE FALSE FALSE\n",
              " [805] FALSE FALSE FALSE FALSE FALSE FALSE FALSE FALSE FALSE FALSE FALSE FALSE\n",
              " [817] FALSE FALSE FALSE FALSE FALSE FALSE FALSE FALSE FALSE FALSE FALSE FALSE\n",
              " [829] FALSE FALSE FALSE FALSE FALSE FALSE FALSE FALSE FALSE FALSE FALSE FALSE\n",
              " [841] FALSE FALSE FALSE FALSE FALSE FALSE FALSE FALSE FALSE FALSE FALSE FALSE\n",
              " [853] FALSE FALSE FALSE FALSE FALSE FALSE FALSE FALSE FALSE FALSE FALSE FALSE\n",
              " [865] FALSE FALSE FALSE FALSE FALSE FALSE FALSE FALSE FALSE FALSE FALSE FALSE\n",
              " [877] FALSE FALSE FALSE FALSE FALSE FALSE FALSE FALSE FALSE FALSE FALSE FALSE\n",
              " [889] FALSE FALSE FALSE FALSE FALSE FALSE FALSE FALSE FALSE FALSE FALSE FALSE\n",
              " [901] FALSE FALSE FALSE FALSE FALSE FALSE FALSE FALSE FALSE FALSE FALSE FALSE\n",
              " [913] FALSE FALSE FALSE FALSE FALSE FALSE FALSE FALSE FALSE FALSE FALSE FALSE\n",
              " [925] FALSE FALSE FALSE FALSE FALSE FALSE FALSE FALSE FALSE FALSE FALSE FALSE\n",
              " [937] FALSE FALSE FALSE FALSE FALSE FALSE FALSE FALSE FALSE FALSE FALSE FALSE\n",
              " [949] FALSE FALSE FALSE FALSE FALSE FALSE FALSE FALSE FALSE FALSE FALSE FALSE\n",
              " [961] FALSE FALSE FALSE FALSE FALSE FALSE FALSE FALSE FALSE FALSE  TRUE FALSE\n",
              " [973]  TRUE FALSE FALSE FALSE FALSE FALSE FALSE FALSE FALSE FALSE FALSE FALSE\n",
              " [985] FALSE FALSE FALSE FALSE FALSE FALSE FALSE FALSE FALSE FALSE FALSE FALSE\n",
              " [997] FALSE FALSE FALSE FALSE FALSE FALSE FALSE FALSE FALSE FALSE FALSE FALSE\n",
              "[1009] FALSE FALSE FALSE FALSE FALSE FALSE FALSE FALSE FALSE FALSE FALSE FALSE\n",
              "[1021] FALSE FALSE FALSE FALSE FALSE FALSE FALSE FALSE FALSE FALSE FALSE FALSE\n",
              "[1033] FALSE FALSE FALSE FALSE FALSE FALSE  TRUE  TRUE FALSE  TRUE FALSE FALSE\n",
              "[1045] FALSE FALSE FALSE FALSE FALSE FALSE FALSE FALSE FALSE FALSE FALSE FALSE\n",
              "[1057] FALSE FALSE FALSE FALSE FALSE FALSE FALSE FALSE FALSE FALSE FALSE FALSE\n",
              "[1069]  TRUE FALSE FALSE FALSE FALSE FALSE FALSE FALSE FALSE FALSE FALSE FALSE\n",
              "[1081] FALSE FALSE  TRUE FALSE FALSE FALSE FALSE FALSE FALSE FALSE FALSE FALSE\n",
              "[1093] FALSE FALSE FALSE FALSE FALSE FALSE FALSE FALSE FALSE FALSE FALSE FALSE\n",
              "[1105] FALSE FALSE FALSE FALSE FALSE FALSE FALSE FALSE FALSE FALSE FALSE FALSE\n",
              "[1117] FALSE FALSE FALSE FALSE  TRUE FALSE FALSE FALSE FALSE FALSE FALSE FALSE\n",
              "[1129] FALSE FALSE FALSE FALSE FALSE FALSE FALSE FALSE FALSE FALSE FALSE FALSE\n",
              "[1141] FALSE FALSE FALSE FALSE FALSE FALSE FALSE FALSE FALSE FALSE FALSE FALSE\n",
              "[1153] FALSE FALSE FALSE FALSE FALSE FALSE FALSE FALSE FALSE FALSE FALSE FALSE\n",
              "[1165]  TRUE FALSE FALSE FALSE FALSE FALSE FALSE FALSE FALSE FALSE FALSE FALSE\n",
              "[1177] FALSE FALSE FALSE FALSE FALSE FALSE FALSE FALSE FALSE FALSE FALSE FALSE\n",
              "[1189] FALSE FALSE FALSE FALSE FALSE FALSE FALSE FALSE FALSE FALSE FALSE FALSE\n",
              "[1201] FALSE FALSE FALSE FALSE FALSE FALSE FALSE FALSE FALSE FALSE FALSE FALSE\n",
              "[1213] FALSE FALSE FALSE FALSE FALSE FALSE FALSE FALSE FALSE FALSE FALSE FALSE\n",
              "[1225] FALSE FALSE FALSE FALSE FALSE FALSE FALSE FALSE FALSE FALSE FALSE FALSE\n",
              "[1237] FALSE FALSE FALSE FALSE FALSE FALSE FALSE FALSE FALSE FALSE FALSE FALSE\n",
              "[1249] FALSE FALSE FALSE FALSE FALSE FALSE FALSE FALSE FALSE FALSE FALSE FALSE\n",
              "[1261] FALSE FALSE FALSE FALSE FALSE FALSE FALSE FALSE FALSE FALSE FALSE FALSE\n",
              "[1273] FALSE FALSE FALSE FALSE FALSE FALSE FALSE FALSE FALSE FALSE FALSE FALSE\n",
              "[1285] FALSE FALSE FALSE FALSE FALSE FALSE FALSE FALSE FALSE FALSE FALSE FALSE\n",
              "[1297] FALSE FALSE FALSE FALSE FALSE FALSE FALSE FALSE FALSE FALSE FALSE FALSE\n",
              "[1309] FALSE FALSE FALSE FALSE FALSE FALSE FALSE FALSE FALSE FALSE FALSE FALSE\n",
              "[1321] FALSE FALSE FALSE FALSE FALSE FALSE FALSE FALSE FALSE FALSE FALSE FALSE\n",
              "[1333] FALSE FALSE FALSE FALSE FALSE FALSE FALSE FALSE FALSE FALSE FALSE FALSE\n",
              "[1345] FALSE FALSE FALSE FALSE FALSE FALSE FALSE FALSE FALSE FALSE FALSE FALSE\n",
              "[1357] FALSE FALSE FALSE FALSE FALSE FALSE FALSE FALSE FALSE FALSE FALSE FALSE\n",
              "[1369] FALSE FALSE FALSE FALSE FALSE FALSE FALSE FALSE FALSE FALSE  TRUE FALSE\n",
              "[1381] FALSE FALSE FALSE FALSE FALSE FALSE FALSE FALSE FALSE FALSE FALSE FALSE\n",
              "[1393] FALSE"
            ],
            "text/latex": "\\begin{enumerate*}\n\\item FALSE\n\\item FALSE\n\\item TRUE\n\\item FALSE\n\\item FALSE\n\\item FALSE\n\\item FALSE\n\\item FALSE\n\\item FALSE\n\\item FALSE\n\\item FALSE\n\\item FALSE\n\\item FALSE\n\\item FALSE\n\\item FALSE\n\\item FALSE\n\\item FALSE\n\\item FALSE\n\\item FALSE\n\\item FALSE\n\\item FALSE\n\\item FALSE\n\\item FALSE\n\\item FALSE\n\\item FALSE\n\\item FALSE\n\\item FALSE\n\\item FALSE\n\\item FALSE\n\\item FALSE\n\\item FALSE\n\\item FALSE\n\\item FALSE\n\\item FALSE\n\\item FALSE\n\\item FALSE\n\\item FALSE\n\\item TRUE\n\\item FALSE\n\\item FALSE\n\\item FALSE\n\\item FALSE\n\\item FALSE\n\\item FALSE\n\\item FALSE\n\\item FALSE\n\\item FALSE\n\\item FALSE\n\\item FALSE\n\\item FALSE\n\\item FALSE\n\\item FALSE\n\\item FALSE\n\\item FALSE\n\\item FALSE\n\\item FALSE\n\\item FALSE\n\\item FALSE\n\\item FALSE\n\\item FALSE\n\\item FALSE\n\\item FALSE\n\\item FALSE\n\\item FALSE\n\\item FALSE\n\\item FALSE\n\\item FALSE\n\\item FALSE\n\\item FALSE\n\\item FALSE\n\\item FALSE\n\\item FALSE\n\\item FALSE\n\\item FALSE\n\\item TRUE\n\\item FALSE\n\\item FALSE\n\\item FALSE\n\\item FALSE\n\\item FALSE\n\\item TRUE\n\\item FALSE\n\\item FALSE\n\\item FALSE\n\\item FALSE\n\\item FALSE\n\\item FALSE\n\\item FALSE\n\\item FALSE\n\\item FALSE\n\\item TRUE\n\\item FALSE\n\\item FALSE\n\\item FALSE\n\\item FALSE\n\\item FALSE\n\\item FALSE\n\\item FALSE\n\\item FALSE\n\\item TRUE\n\\item FALSE\n\\item FALSE\n\\item FALSE\n\\item FALSE\n\\item FALSE\n\\item FALSE\n\\item FALSE\n\\item FALSE\n\\item FALSE\n\\item FALSE\n\\item FALSE\n\\item FALSE\n\\item FALSE\n\\item FALSE\n\\item FALSE\n\\item FALSE\n\\item FALSE\n\\item FALSE\n\\item FALSE\n\\item FALSE\n\\item FALSE\n\\item FALSE\n\\item FALSE\n\\item FALSE\n\\item FALSE\n\\item FALSE\n\\item FALSE\n\\item FALSE\n\\item FALSE\n\\item FALSE\n\\item FALSE\n\\item FALSE\n\\item FALSE\n\\item FALSE\n\\item FALSE\n\\item FALSE\n\\item FALSE\n\\item FALSE\n\\item FALSE\n\\item TRUE\n\\item FALSE\n\\item FALSE\n\\item TRUE\n\\item FALSE\n\\item FALSE\n\\item FALSE\n\\item FALSE\n\\item FALSE\n\\item FALSE\n\\item FALSE\n\\item FALSE\n\\item FALSE\n\\item FALSE\n\\item FALSE\n\\item FALSE\n\\item FALSE\n\\item FALSE\n\\item FALSE\n\\item FALSE\n\\item FALSE\n\\item FALSE\n\\item FALSE\n\\item FALSE\n\\item FALSE\n\\item FALSE\n\\item FALSE\n\\item FALSE\n\\item FALSE\n\\item FALSE\n\\item FALSE\n\\item FALSE\n\\item FALSE\n\\item FALSE\n\\item FALSE\n\\item FALSE\n\\item FALSE\n\\item FALSE\n\\item TRUE\n\\item FALSE\n\\item FALSE\n\\item FALSE\n\\item FALSE\n\\item FALSE\n\\item FALSE\n\\item FALSE\n\\item FALSE\n\\item FALSE\n\\item TRUE\n\\item FALSE\n\\item FALSE\n\\item FALSE\n\\item FALSE\n\\item FALSE\n\\item FALSE\n\\item FALSE\n\\item FALSE\n\\item FALSE\n\\item FALSE\n\\item FALSE\n\\item FALSE\n\\item ⋯\n\\item FALSE\n\\item FALSE\n\\item FALSE\n\\item FALSE\n\\item FALSE\n\\item FALSE\n\\item FALSE\n\\item FALSE\n\\item FALSE\n\\item FALSE\n\\item FALSE\n\\item FALSE\n\\item FALSE\n\\item FALSE\n\\item FALSE\n\\item FALSE\n\\item FALSE\n\\item FALSE\n\\item FALSE\n\\item FALSE\n\\item FALSE\n\\item FALSE\n\\item FALSE\n\\item FALSE\n\\item FALSE\n\\item FALSE\n\\item FALSE\n\\item FALSE\n\\item FALSE\n\\item FALSE\n\\item FALSE\n\\item FALSE\n\\item FALSE\n\\item FALSE\n\\item FALSE\n\\item FALSE\n\\item FALSE\n\\item FALSE\n\\item FALSE\n\\item FALSE\n\\item FALSE\n\\item FALSE\n\\item FALSE\n\\item FALSE\n\\item FALSE\n\\item FALSE\n\\item FALSE\n\\item FALSE\n\\item FALSE\n\\item FALSE\n\\item FALSE\n\\item FALSE\n\\item FALSE\n\\item FALSE\n\\item FALSE\n\\item FALSE\n\\item FALSE\n\\item FALSE\n\\item FALSE\n\\item FALSE\n\\item FALSE\n\\item FALSE\n\\item FALSE\n\\item FALSE\n\\item FALSE\n\\item FALSE\n\\item FALSE\n\\item FALSE\n\\item FALSE\n\\item FALSE\n\\item FALSE\n\\item FALSE\n\\item FALSE\n\\item FALSE\n\\item FALSE\n\\item FALSE\n\\item FALSE\n\\item FALSE\n\\item FALSE\n\\item FALSE\n\\item FALSE\n\\item FALSE\n\\item FALSE\n\\item FALSE\n\\item FALSE\n\\item FALSE\n\\item FALSE\n\\item FALSE\n\\item FALSE\n\\item FALSE\n\\item FALSE\n\\item FALSE\n\\item FALSE\n\\item FALSE\n\\item FALSE\n\\item FALSE\n\\item FALSE\n\\item FALSE\n\\item FALSE\n\\item FALSE\n\\item FALSE\n\\item FALSE\n\\item FALSE\n\\item FALSE\n\\item FALSE\n\\item FALSE\n\\item FALSE\n\\item FALSE\n\\item FALSE\n\\item FALSE\n\\item FALSE\n\\item FALSE\n\\item FALSE\n\\item FALSE\n\\item FALSE\n\\item FALSE\n\\item FALSE\n\\item FALSE\n\\item FALSE\n\\item FALSE\n\\item FALSE\n\\item FALSE\n\\item FALSE\n\\item FALSE\n\\item FALSE\n\\item FALSE\n\\item FALSE\n\\item FALSE\n\\item FALSE\n\\item FALSE\n\\item FALSE\n\\item FALSE\n\\item FALSE\n\\item FALSE\n\\item FALSE\n\\item FALSE\n\\item FALSE\n\\item FALSE\n\\item FALSE\n\\item FALSE\n\\item FALSE\n\\item FALSE\n\\item FALSE\n\\item FALSE\n\\item FALSE\n\\item FALSE\n\\item FALSE\n\\item FALSE\n\\item FALSE\n\\item FALSE\n\\item FALSE\n\\item FALSE\n\\item FALSE\n\\item FALSE\n\\item FALSE\n\\item FALSE\n\\item FALSE\n\\item FALSE\n\\item FALSE\n\\item FALSE\n\\item FALSE\n\\item FALSE\n\\item FALSE\n\\item FALSE\n\\item FALSE\n\\item FALSE\n\\item FALSE\n\\item FALSE\n\\item FALSE\n\\item FALSE\n\\item FALSE\n\\item FALSE\n\\item FALSE\n\\item FALSE\n\\item FALSE\n\\item FALSE\n\\item FALSE\n\\item FALSE\n\\item FALSE\n\\item FALSE\n\\item FALSE\n\\item FALSE\n\\item FALSE\n\\item FALSE\n\\item FALSE\n\\item TRUE\n\\item FALSE\n\\item FALSE\n\\item FALSE\n\\item FALSE\n\\item FALSE\n\\item FALSE\n\\item FALSE\n\\item FALSE\n\\item FALSE\n\\item FALSE\n\\item FALSE\n\\item FALSE\n\\item FALSE\n\\item FALSE\n\\end{enumerate*}\n",
            "text/markdown": "1. FALSE\n2. FALSE\n3. TRUE\n4. FALSE\n5. FALSE\n6. FALSE\n7. FALSE\n8. FALSE\n9. FALSE\n10. FALSE\n11. FALSE\n12. FALSE\n13. FALSE\n14. FALSE\n15. FALSE\n16. FALSE\n17. FALSE\n18. FALSE\n19. FALSE\n20. FALSE\n21. FALSE\n22. FALSE\n23. FALSE\n24. FALSE\n25. FALSE\n26. FALSE\n27. FALSE\n28. FALSE\n29. FALSE\n30. FALSE\n31. FALSE\n32. FALSE\n33. FALSE\n34. FALSE\n35. FALSE\n36. FALSE\n37. FALSE\n38. TRUE\n39. FALSE\n40. FALSE\n41. FALSE\n42. FALSE\n43. FALSE\n44. FALSE\n45. FALSE\n46. FALSE\n47. FALSE\n48. FALSE\n49. FALSE\n50. FALSE\n51. FALSE\n52. FALSE\n53. FALSE\n54. FALSE\n55. FALSE\n56. FALSE\n57. FALSE\n58. FALSE\n59. FALSE\n60. FALSE\n61. FALSE\n62. FALSE\n63. FALSE\n64. FALSE\n65. FALSE\n66. FALSE\n67. FALSE\n68. FALSE\n69. FALSE\n70. FALSE\n71. FALSE\n72. FALSE\n73. FALSE\n74. FALSE\n75. TRUE\n76. FALSE\n77. FALSE\n78. FALSE\n79. FALSE\n80. FALSE\n81. TRUE\n82. FALSE\n83. FALSE\n84. FALSE\n85. FALSE\n86. FALSE\n87. FALSE\n88. FALSE\n89. FALSE\n90. FALSE\n91. TRUE\n92. FALSE\n93. FALSE\n94. FALSE\n95. FALSE\n96. FALSE\n97. FALSE\n98. FALSE\n99. FALSE\n100. TRUE\n101. FALSE\n102. FALSE\n103. FALSE\n104. FALSE\n105. FALSE\n106. FALSE\n107. FALSE\n108. FALSE\n109. FALSE\n110. FALSE\n111. FALSE\n112. FALSE\n113. FALSE\n114. FALSE\n115. FALSE\n116. FALSE\n117. FALSE\n118. FALSE\n119. FALSE\n120. FALSE\n121. FALSE\n122. FALSE\n123. FALSE\n124. FALSE\n125. FALSE\n126. FALSE\n127. FALSE\n128. FALSE\n129. FALSE\n130. FALSE\n131. FALSE\n132. FALSE\n133. FALSE\n134. FALSE\n135. FALSE\n136. FALSE\n137. FALSE\n138. FALSE\n139. FALSE\n140. TRUE\n141. FALSE\n142. FALSE\n143. TRUE\n144. FALSE\n145. FALSE\n146. FALSE\n147. FALSE\n148. FALSE\n149. FALSE\n150. FALSE\n151. FALSE\n152. FALSE\n153. FALSE\n154. FALSE\n155. FALSE\n156. FALSE\n157. FALSE\n158. FALSE\n159. FALSE\n160. FALSE\n161. FALSE\n162. FALSE\n163. FALSE\n164. FALSE\n165. FALSE\n166. FALSE\n167. FALSE\n168. FALSE\n169. FALSE\n170. FALSE\n171. FALSE\n172. FALSE\n173. FALSE\n174. FALSE\n175. FALSE\n176. FALSE\n177. FALSE\n178. TRUE\n179. FALSE\n180. FALSE\n181. FALSE\n182. FALSE\n183. FALSE\n184. FALSE\n185. FALSE\n186. FALSE\n187. FALSE\n188. TRUE\n189. FALSE\n190. FALSE\n191. FALSE\n192. FALSE\n193. FALSE\n194. FALSE\n195. FALSE\n196. FALSE\n197. FALSE\n198. FALSE\n199. FALSE\n200. FALSE\n201. ⋯\n202. FALSE\n203. FALSE\n204. FALSE\n205. FALSE\n206. FALSE\n207. FALSE\n208. FALSE\n209. FALSE\n210. FALSE\n211. FALSE\n212. FALSE\n213. FALSE\n214. FALSE\n215. FALSE\n216. FALSE\n217. FALSE\n218. FALSE\n219. FALSE\n220. FALSE\n221. FALSE\n222. FALSE\n223. FALSE\n224. FALSE\n225. FALSE\n226. FALSE\n227. FALSE\n228. FALSE\n229. FALSE\n230. FALSE\n231. FALSE\n232. FALSE\n233. FALSE\n234. FALSE\n235. FALSE\n236. FALSE\n237. FALSE\n238. FALSE\n239. FALSE\n240. FALSE\n241. FALSE\n242. FALSE\n243. FALSE\n244. FALSE\n245. FALSE\n246. FALSE\n247. FALSE\n248. FALSE\n249. FALSE\n250. FALSE\n251. FALSE\n252. FALSE\n253. FALSE\n254. FALSE\n255. FALSE\n256. FALSE\n257. FALSE\n258. FALSE\n259. FALSE\n260. FALSE\n261. FALSE\n262. FALSE\n263. FALSE\n264. FALSE\n265. FALSE\n266. FALSE\n267. FALSE\n268. FALSE\n269. FALSE\n270. FALSE\n271. FALSE\n272. FALSE\n273. FALSE\n274. FALSE\n275. FALSE\n276. FALSE\n277. FALSE\n278. FALSE\n279. FALSE\n280. FALSE\n281. FALSE\n282. FALSE\n283. FALSE\n284. FALSE\n285. FALSE\n286. FALSE\n287. FALSE\n288. FALSE\n289. FALSE\n290. FALSE\n291. FALSE\n292. FALSE\n293. FALSE\n294. FALSE\n295. FALSE\n296. FALSE\n297. FALSE\n298. FALSE\n299. FALSE\n300. FALSE\n301. FALSE\n302. FALSE\n303. FALSE\n304. FALSE\n305. FALSE\n306. FALSE\n307. FALSE\n308. FALSE\n309. FALSE\n310. FALSE\n311. FALSE\n312. FALSE\n313. FALSE\n314. FALSE\n315. FALSE\n316. FALSE\n317. FALSE\n318. FALSE\n319. FALSE\n320. FALSE\n321. FALSE\n322. FALSE\n323. FALSE\n324. FALSE\n325. FALSE\n326. FALSE\n327. FALSE\n328. FALSE\n329. FALSE\n330. FALSE\n331. FALSE\n332. FALSE\n333. FALSE\n334. FALSE\n335. FALSE\n336. FALSE\n337. FALSE\n338. FALSE\n339. FALSE\n340. FALSE\n341. FALSE\n342. FALSE\n343. FALSE\n344. FALSE\n345. FALSE\n346. FALSE\n347. FALSE\n348. FALSE\n349. FALSE\n350. FALSE\n351. FALSE\n352. FALSE\n353. FALSE\n354. FALSE\n355. FALSE\n356. FALSE\n357. FALSE\n358. FALSE\n359. FALSE\n360. FALSE\n361. FALSE\n362. FALSE\n363. FALSE\n364. FALSE\n365. FALSE\n366. FALSE\n367. FALSE\n368. FALSE\n369. FALSE\n370. FALSE\n371. FALSE\n372. FALSE\n373. FALSE\n374. FALSE\n375. FALSE\n376. FALSE\n377. FALSE\n378. FALSE\n379. FALSE\n380. FALSE\n381. FALSE\n382. FALSE\n383. FALSE\n384. FALSE\n385. FALSE\n386. FALSE\n387. TRUE\n388. FALSE\n389. FALSE\n390. FALSE\n391. FALSE\n392. FALSE\n393. FALSE\n394. FALSE\n395. FALSE\n396. FALSE\n397. FALSE\n398. FALSE\n399. FALSE\n400. FALSE\n401. FALSE\n\n\n",
            "text/html": [
              "<style>\n",
              ".list-inline {list-style: none; margin:0; padding: 0}\n",
              ".list-inline>li {display: inline-block}\n",
              ".list-inline>li:not(:last-child)::after {content: \"\\00b7\"; padding: 0 .5ex}\n",
              "</style>\n",
              "<ol class=list-inline><li>FALSE</li><li>FALSE</li><li>TRUE</li><li>FALSE</li><li>FALSE</li><li>FALSE</li><li>FALSE</li><li>FALSE</li><li>FALSE</li><li>FALSE</li><li>FALSE</li><li>FALSE</li><li>FALSE</li><li>FALSE</li><li>FALSE</li><li>FALSE</li><li>FALSE</li><li>FALSE</li><li>FALSE</li><li>FALSE</li><li>FALSE</li><li>FALSE</li><li>FALSE</li><li>FALSE</li><li>FALSE</li><li>FALSE</li><li>FALSE</li><li>FALSE</li><li>FALSE</li><li>FALSE</li><li>FALSE</li><li>FALSE</li><li>FALSE</li><li>FALSE</li><li>FALSE</li><li>FALSE</li><li>FALSE</li><li>TRUE</li><li>FALSE</li><li>FALSE</li><li>FALSE</li><li>FALSE</li><li>FALSE</li><li>FALSE</li><li>FALSE</li><li>FALSE</li><li>FALSE</li><li>FALSE</li><li>FALSE</li><li>FALSE</li><li>FALSE</li><li>FALSE</li><li>FALSE</li><li>FALSE</li><li>FALSE</li><li>FALSE</li><li>FALSE</li><li>FALSE</li><li>FALSE</li><li>FALSE</li><li>FALSE</li><li>FALSE</li><li>FALSE</li><li>FALSE</li><li>FALSE</li><li>FALSE</li><li>FALSE</li><li>FALSE</li><li>FALSE</li><li>FALSE</li><li>FALSE</li><li>FALSE</li><li>FALSE</li><li>FALSE</li><li>TRUE</li><li>FALSE</li><li>FALSE</li><li>FALSE</li><li>FALSE</li><li>FALSE</li><li>TRUE</li><li>FALSE</li><li>FALSE</li><li>FALSE</li><li>FALSE</li><li>FALSE</li><li>FALSE</li><li>FALSE</li><li>FALSE</li><li>FALSE</li><li>TRUE</li><li>FALSE</li><li>FALSE</li><li>FALSE</li><li>FALSE</li><li>FALSE</li><li>FALSE</li><li>FALSE</li><li>FALSE</li><li>TRUE</li><li>FALSE</li><li>FALSE</li><li>FALSE</li><li>FALSE</li><li>FALSE</li><li>FALSE</li><li>FALSE</li><li>FALSE</li><li>FALSE</li><li>FALSE</li><li>FALSE</li><li>FALSE</li><li>FALSE</li><li>FALSE</li><li>FALSE</li><li>FALSE</li><li>FALSE</li><li>FALSE</li><li>FALSE</li><li>FALSE</li><li>FALSE</li><li>FALSE</li><li>FALSE</li><li>FALSE</li><li>FALSE</li><li>FALSE</li><li>FALSE</li><li>FALSE</li><li>FALSE</li><li>FALSE</li><li>FALSE</li><li>FALSE</li><li>FALSE</li><li>FALSE</li><li>FALSE</li><li>FALSE</li><li>FALSE</li><li>FALSE</li><li>FALSE</li><li>TRUE</li><li>FALSE</li><li>FALSE</li><li>TRUE</li><li>FALSE</li><li>FALSE</li><li>FALSE</li><li>FALSE</li><li>FALSE</li><li>FALSE</li><li>FALSE</li><li>FALSE</li><li>FALSE</li><li>FALSE</li><li>FALSE</li><li>FALSE</li><li>FALSE</li><li>FALSE</li><li>FALSE</li><li>FALSE</li><li>FALSE</li><li>FALSE</li><li>FALSE</li><li>FALSE</li><li>FALSE</li><li>FALSE</li><li>FALSE</li><li>FALSE</li><li>FALSE</li><li>FALSE</li><li>FALSE</li><li>FALSE</li><li>FALSE</li><li>FALSE</li><li>FALSE</li><li>FALSE</li><li>FALSE</li><li>FALSE</li><li>TRUE</li><li>FALSE</li><li>FALSE</li><li>FALSE</li><li>FALSE</li><li>FALSE</li><li>FALSE</li><li>FALSE</li><li>FALSE</li><li>FALSE</li><li>TRUE</li><li>FALSE</li><li>FALSE</li><li>FALSE</li><li>FALSE</li><li>FALSE</li><li>FALSE</li><li>FALSE</li><li>FALSE</li><li>FALSE</li><li>FALSE</li><li>FALSE</li><li>FALSE</li><li>⋯</li><li>FALSE</li><li>FALSE</li><li>FALSE</li><li>FALSE</li><li>FALSE</li><li>FALSE</li><li>FALSE</li><li>FALSE</li><li>FALSE</li><li>FALSE</li><li>FALSE</li><li>FALSE</li><li>FALSE</li><li>FALSE</li><li>FALSE</li><li>FALSE</li><li>FALSE</li><li>FALSE</li><li>FALSE</li><li>FALSE</li><li>FALSE</li><li>FALSE</li><li>FALSE</li><li>FALSE</li><li>FALSE</li><li>FALSE</li><li>FALSE</li><li>FALSE</li><li>FALSE</li><li>FALSE</li><li>FALSE</li><li>FALSE</li><li>FALSE</li><li>FALSE</li><li>FALSE</li><li>FALSE</li><li>FALSE</li><li>FALSE</li><li>FALSE</li><li>FALSE</li><li>FALSE</li><li>FALSE</li><li>FALSE</li><li>FALSE</li><li>FALSE</li><li>FALSE</li><li>FALSE</li><li>FALSE</li><li>FALSE</li><li>FALSE</li><li>FALSE</li><li>FALSE</li><li>FALSE</li><li>FALSE</li><li>FALSE</li><li>FALSE</li><li>FALSE</li><li>FALSE</li><li>FALSE</li><li>FALSE</li><li>FALSE</li><li>FALSE</li><li>FALSE</li><li>FALSE</li><li>FALSE</li><li>FALSE</li><li>FALSE</li><li>FALSE</li><li>FALSE</li><li>FALSE</li><li>FALSE</li><li>FALSE</li><li>FALSE</li><li>FALSE</li><li>FALSE</li><li>FALSE</li><li>FALSE</li><li>FALSE</li><li>FALSE</li><li>FALSE</li><li>FALSE</li><li>FALSE</li><li>FALSE</li><li>FALSE</li><li>FALSE</li><li>FALSE</li><li>FALSE</li><li>FALSE</li><li>FALSE</li><li>FALSE</li><li>FALSE</li><li>FALSE</li><li>FALSE</li><li>FALSE</li><li>FALSE</li><li>FALSE</li><li>FALSE</li><li>FALSE</li><li>FALSE</li><li>FALSE</li><li>FALSE</li><li>FALSE</li><li>FALSE</li><li>FALSE</li><li>FALSE</li><li>FALSE</li><li>FALSE</li><li>FALSE</li><li>FALSE</li><li>FALSE</li><li>FALSE</li><li>FALSE</li><li>FALSE</li><li>FALSE</li><li>FALSE</li><li>FALSE</li><li>FALSE</li><li>FALSE</li><li>FALSE</li><li>FALSE</li><li>FALSE</li><li>FALSE</li><li>FALSE</li><li>FALSE</li><li>FALSE</li><li>FALSE</li><li>FALSE</li><li>FALSE</li><li>FALSE</li><li>FALSE</li><li>FALSE</li><li>FALSE</li><li>FALSE</li><li>FALSE</li><li>FALSE</li><li>FALSE</li><li>FALSE</li><li>FALSE</li><li>FALSE</li><li>FALSE</li><li>FALSE</li><li>FALSE</li><li>FALSE</li><li>FALSE</li><li>FALSE</li><li>FALSE</li><li>FALSE</li><li>FALSE</li><li>FALSE</li><li>FALSE</li><li>FALSE</li><li>FALSE</li><li>FALSE</li><li>FALSE</li><li>FALSE</li><li>FALSE</li><li>FALSE</li><li>FALSE</li><li>FALSE</li><li>FALSE</li><li>FALSE</li><li>FALSE</li><li>FALSE</li><li>FALSE</li><li>FALSE</li><li>FALSE</li><li>FALSE</li><li>FALSE</li><li>FALSE</li><li>FALSE</li><li>FALSE</li><li>FALSE</li><li>FALSE</li><li>FALSE</li><li>FALSE</li><li>FALSE</li><li>FALSE</li><li>FALSE</li><li>FALSE</li><li>FALSE</li><li>FALSE</li><li>FALSE</li><li>FALSE</li><li>FALSE</li><li>FALSE</li><li>TRUE</li><li>FALSE</li><li>FALSE</li><li>FALSE</li><li>FALSE</li><li>FALSE</li><li>FALSE</li><li>FALSE</li><li>FALSE</li><li>FALSE</li><li>FALSE</li><li>FALSE</li><li>FALSE</li><li>FALSE</li><li>FALSE</li></ol>\n"
            ]
          },
          "metadata": {
            "tags": []
          }
        }
      ]
    },
    {
      "cell_type": "code",
      "metadata": {
        "id": "aIYUKehMa9Xi",
        "colab_type": "code",
        "colab": {
          "base_uri": "https://localhost:8080/"
        },
        "outputId": "83c24a43-344d-46d2-d7e0-4bcf12a9dba6"
      },
      "source": [
        "!is.na(DF$SLG)"
      ],
      "execution_count": null,
      "outputs": [
        {
          "output_type": "display_data",
          "data": {
            "text/plain": [
              "   [1]  TRUE  TRUE FALSE  TRUE  TRUE  TRUE  TRUE  TRUE  TRUE  TRUE  TRUE  TRUE\n",
              "  [13]  TRUE  TRUE  TRUE  TRUE  TRUE  TRUE  TRUE  TRUE  TRUE  TRUE  TRUE  TRUE\n",
              "  [25]  TRUE  TRUE  TRUE  TRUE  TRUE  TRUE  TRUE  TRUE  TRUE  TRUE  TRUE  TRUE\n",
              "  [37]  TRUE FALSE  TRUE  TRUE  TRUE  TRUE  TRUE  TRUE  TRUE  TRUE  TRUE  TRUE\n",
              "  [49]  TRUE  TRUE  TRUE  TRUE  TRUE  TRUE  TRUE  TRUE  TRUE  TRUE  TRUE  TRUE\n",
              "  [61]  TRUE  TRUE  TRUE  TRUE  TRUE  TRUE  TRUE  TRUE  TRUE  TRUE  TRUE  TRUE\n",
              "  [73]  TRUE  TRUE FALSE  TRUE  TRUE  TRUE  TRUE  TRUE FALSE  TRUE  TRUE  TRUE\n",
              "  [85]  TRUE  TRUE  TRUE  TRUE  TRUE  TRUE FALSE  TRUE  TRUE  TRUE  TRUE  TRUE\n",
              "  [97]  TRUE  TRUE  TRUE FALSE  TRUE  TRUE  TRUE  TRUE  TRUE  TRUE  TRUE  TRUE\n",
              " [109]  TRUE  TRUE  TRUE  TRUE  TRUE  TRUE  TRUE  TRUE  TRUE  TRUE  TRUE  TRUE\n",
              " [121]  TRUE  TRUE  TRUE  TRUE  TRUE  TRUE  TRUE  TRUE  TRUE  TRUE  TRUE  TRUE\n",
              " [133]  TRUE  TRUE  TRUE  TRUE  TRUE  TRUE  TRUE FALSE  TRUE  TRUE FALSE  TRUE\n",
              " [145]  TRUE  TRUE  TRUE  TRUE  TRUE  TRUE  TRUE  TRUE  TRUE  TRUE  TRUE  TRUE\n",
              " [157]  TRUE  TRUE  TRUE  TRUE  TRUE  TRUE  TRUE  TRUE  TRUE  TRUE  TRUE  TRUE\n",
              " [169]  TRUE  TRUE  TRUE  TRUE  TRUE  TRUE  TRUE  TRUE  TRUE FALSE  TRUE  TRUE\n",
              " [181]  TRUE  TRUE  TRUE  TRUE  TRUE  TRUE  TRUE FALSE  TRUE  TRUE  TRUE  TRUE\n",
              " [193]  TRUE  TRUE  TRUE  TRUE  TRUE  TRUE  TRUE  TRUE  TRUE  TRUE  TRUE  TRUE\n",
              " [205]  TRUE  TRUE  TRUE  TRUE  TRUE  TRUE  TRUE  TRUE  TRUE  TRUE  TRUE  TRUE\n",
              " [217]  TRUE  TRUE  TRUE  TRUE  TRUE  TRUE  TRUE  TRUE  TRUE  TRUE  TRUE  TRUE\n",
              " [229]  TRUE  TRUE  TRUE  TRUE  TRUE  TRUE  TRUE  TRUE  TRUE  TRUE  TRUE  TRUE\n",
              " [241]  TRUE  TRUE  TRUE  TRUE  TRUE  TRUE  TRUE  TRUE  TRUE  TRUE  TRUE  TRUE\n",
              " [253]  TRUE  TRUE  TRUE  TRUE  TRUE  TRUE  TRUE  TRUE  TRUE  TRUE  TRUE  TRUE\n",
              " [265]  TRUE  TRUE  TRUE  TRUE  TRUE  TRUE  TRUE  TRUE  TRUE  TRUE  TRUE FALSE\n",
              " [277]  TRUE  TRUE  TRUE  TRUE  TRUE  TRUE  TRUE  TRUE  TRUE  TRUE  TRUE  TRUE\n",
              " [289]  TRUE  TRUE  TRUE  TRUE  TRUE  TRUE  TRUE  TRUE  TRUE  TRUE  TRUE  TRUE\n",
              " [301]  TRUE  TRUE  TRUE  TRUE  TRUE  TRUE  TRUE  TRUE  TRUE  TRUE  TRUE FALSE\n",
              " [313]  TRUE  TRUE  TRUE  TRUE  TRUE  TRUE  TRUE  TRUE  TRUE  TRUE  TRUE  TRUE\n",
              " [325]  TRUE  TRUE  TRUE  TRUE  TRUE  TRUE  TRUE  TRUE  TRUE  TRUE  TRUE  TRUE\n",
              " [337]  TRUE  TRUE  TRUE  TRUE  TRUE  TRUE  TRUE  TRUE  TRUE  TRUE  TRUE  TRUE\n",
              " [349] FALSE  TRUE  TRUE  TRUE  TRUE  TRUE  TRUE  TRUE  TRUE  TRUE  TRUE  TRUE\n",
              " [361]  TRUE  TRUE  TRUE  TRUE  TRUE  TRUE  TRUE  TRUE  TRUE  TRUE  TRUE  TRUE\n",
              " [373]  TRUE  TRUE  TRUE  TRUE  TRUE  TRUE  TRUE  TRUE  TRUE  TRUE  TRUE  TRUE\n",
              " [385]  TRUE  TRUE  TRUE  TRUE  TRUE  TRUE  TRUE  TRUE  TRUE  TRUE  TRUE  TRUE\n",
              " [397]  TRUE  TRUE  TRUE  TRUE  TRUE  TRUE  TRUE  TRUE  TRUE  TRUE  TRUE  TRUE\n",
              " [409]  TRUE  TRUE  TRUE  TRUE FALSE  TRUE  TRUE  TRUE  TRUE  TRUE  TRUE  TRUE\n",
              " [421]  TRUE  TRUE  TRUE  TRUE  TRUE  TRUE  TRUE  TRUE  TRUE  TRUE  TRUE  TRUE\n",
              " [433]  TRUE  TRUE  TRUE  TRUE  TRUE  TRUE  TRUE  TRUE  TRUE  TRUE  TRUE  TRUE\n",
              " [445]  TRUE  TRUE  TRUE  TRUE  TRUE  TRUE  TRUE  TRUE  TRUE  TRUE  TRUE  TRUE\n",
              " [457]  TRUE  TRUE  TRUE  TRUE  TRUE  TRUE  TRUE FALSE  TRUE  TRUE  TRUE FALSE\n",
              " [469]  TRUE  TRUE  TRUE  TRUE  TRUE  TRUE  TRUE  TRUE  TRUE  TRUE  TRUE  TRUE\n",
              " [481]  TRUE  TRUE  TRUE  TRUE  TRUE  TRUE  TRUE  TRUE  TRUE  TRUE  TRUE  TRUE\n",
              " [493]  TRUE  TRUE  TRUE  TRUE  TRUE  TRUE  TRUE  TRUE  TRUE  TRUE  TRUE  TRUE\n",
              " [505]  TRUE  TRUE  TRUE  TRUE  TRUE  TRUE  TRUE  TRUE  TRUE  TRUE  TRUE  TRUE\n",
              " [517]  TRUE  TRUE  TRUE  TRUE  TRUE  TRUE  TRUE  TRUE  TRUE  TRUE  TRUE  TRUE\n",
              " [529]  TRUE  TRUE  TRUE  TRUE  TRUE  TRUE  TRUE  TRUE  TRUE  TRUE  TRUE  TRUE\n",
              " [541]  TRUE  TRUE  TRUE FALSE  TRUE  TRUE  TRUE  TRUE  TRUE  TRUE  TRUE  TRUE\n",
              " [553]  TRUE  TRUE  TRUE  TRUE  TRUE  TRUE  TRUE  TRUE  TRUE  TRUE  TRUE  TRUE\n",
              " [565]  TRUE  TRUE  TRUE  TRUE  TRUE  TRUE  TRUE  TRUE  TRUE  TRUE  TRUE  TRUE\n",
              " [577]  TRUE  TRUE  TRUE  TRUE  TRUE  TRUE  TRUE  TRUE  TRUE  TRUE  TRUE  TRUE\n",
              " [589]  TRUE  TRUE  TRUE  TRUE  TRUE  TRUE  TRUE  TRUE  TRUE  TRUE  TRUE  TRUE\n",
              " [601]  TRUE  TRUE  TRUE  TRUE  TRUE  TRUE  TRUE  TRUE  TRUE  TRUE  TRUE  TRUE\n",
              " [613]  TRUE  TRUE  TRUE  TRUE  TRUE  TRUE  TRUE  TRUE  TRUE  TRUE  TRUE  TRUE\n",
              " [625]  TRUE  TRUE  TRUE  TRUE  TRUE  TRUE  TRUE  TRUE  TRUE  TRUE  TRUE  TRUE\n",
              " [637]  TRUE  TRUE  TRUE  TRUE  TRUE  TRUE  TRUE  TRUE  TRUE  TRUE  TRUE  TRUE\n",
              " [649]  TRUE  TRUE  TRUE  TRUE  TRUE  TRUE  TRUE  TRUE  TRUE  TRUE  TRUE  TRUE\n",
              " [661]  TRUE  TRUE  TRUE  TRUE  TRUE  TRUE  TRUE  TRUE  TRUE  TRUE  TRUE  TRUE\n",
              " [673]  TRUE  TRUE  TRUE  TRUE  TRUE  TRUE  TRUE  TRUE  TRUE  TRUE  TRUE  TRUE\n",
              " [685]  TRUE  TRUE  TRUE  TRUE  TRUE  TRUE  TRUE FALSE  TRUE  TRUE  TRUE  TRUE\n",
              " [697]  TRUE  TRUE  TRUE  TRUE  TRUE  TRUE  TRUE  TRUE  TRUE  TRUE  TRUE  TRUE\n",
              " [709]  TRUE  TRUE  TRUE  TRUE  TRUE  TRUE  TRUE  TRUE  TRUE  TRUE  TRUE  TRUE\n",
              " [721]  TRUE  TRUE  TRUE  TRUE  TRUE  TRUE  TRUE  TRUE  TRUE  TRUE  TRUE  TRUE\n",
              " [733]  TRUE  TRUE  TRUE  TRUE  TRUE  TRUE  TRUE  TRUE  TRUE  TRUE  TRUE  TRUE\n",
              " [745]  TRUE  TRUE  TRUE  TRUE  TRUE  TRUE  TRUE  TRUE  TRUE  TRUE  TRUE  TRUE\n",
              " [757]  TRUE  TRUE  TRUE  TRUE  TRUE  TRUE  TRUE  TRUE  TRUE  TRUE  TRUE  TRUE\n",
              " [769]  TRUE  TRUE  TRUE  TRUE  TRUE  TRUE  TRUE  TRUE  TRUE  TRUE  TRUE  TRUE\n",
              " [781]  TRUE  TRUE  TRUE  TRUE  TRUE  TRUE FALSE  TRUE  TRUE  TRUE  TRUE  TRUE\n",
              " [793]  TRUE  TRUE  TRUE  TRUE  TRUE  TRUE  TRUE  TRUE  TRUE  TRUE  TRUE  TRUE\n",
              " [805]  TRUE  TRUE  TRUE  TRUE  TRUE  TRUE  TRUE  TRUE  TRUE  TRUE  TRUE  TRUE\n",
              " [817]  TRUE  TRUE  TRUE  TRUE  TRUE  TRUE  TRUE  TRUE  TRUE  TRUE  TRUE  TRUE\n",
              " [829]  TRUE  TRUE  TRUE  TRUE  TRUE  TRUE  TRUE  TRUE  TRUE  TRUE  TRUE  TRUE\n",
              " [841]  TRUE  TRUE  TRUE  TRUE  TRUE  TRUE  TRUE  TRUE  TRUE  TRUE  TRUE  TRUE\n",
              " [853]  TRUE  TRUE  TRUE  TRUE  TRUE  TRUE  TRUE  TRUE  TRUE  TRUE  TRUE  TRUE\n",
              " [865]  TRUE  TRUE  TRUE  TRUE  TRUE  TRUE  TRUE  TRUE  TRUE  TRUE  TRUE  TRUE\n",
              " [877]  TRUE  TRUE  TRUE  TRUE  TRUE  TRUE  TRUE  TRUE  TRUE  TRUE  TRUE  TRUE\n",
              " [889]  TRUE  TRUE  TRUE  TRUE  TRUE  TRUE  TRUE  TRUE  TRUE  TRUE  TRUE  TRUE\n",
              " [901]  TRUE  TRUE  TRUE  TRUE  TRUE  TRUE  TRUE  TRUE  TRUE  TRUE  TRUE  TRUE\n",
              " [913]  TRUE  TRUE  TRUE  TRUE  TRUE  TRUE  TRUE  TRUE  TRUE  TRUE  TRUE  TRUE\n",
              " [925]  TRUE  TRUE  TRUE  TRUE  TRUE  TRUE  TRUE  TRUE  TRUE  TRUE  TRUE  TRUE\n",
              " [937]  TRUE  TRUE  TRUE  TRUE  TRUE  TRUE  TRUE  TRUE  TRUE  TRUE  TRUE  TRUE\n",
              " [949]  TRUE  TRUE  TRUE  TRUE  TRUE  TRUE  TRUE  TRUE  TRUE  TRUE  TRUE  TRUE\n",
              " [961]  TRUE  TRUE  TRUE  TRUE  TRUE  TRUE  TRUE  TRUE  TRUE  TRUE FALSE  TRUE\n",
              " [973] FALSE  TRUE  TRUE  TRUE  TRUE  TRUE  TRUE  TRUE  TRUE  TRUE  TRUE  TRUE\n",
              " [985]  TRUE  TRUE  TRUE  TRUE  TRUE  TRUE  TRUE  TRUE  TRUE  TRUE  TRUE  TRUE\n",
              " [997]  TRUE  TRUE  TRUE  TRUE  TRUE  TRUE  TRUE  TRUE  TRUE  TRUE  TRUE  TRUE\n",
              "[1009]  TRUE  TRUE  TRUE  TRUE  TRUE  TRUE  TRUE  TRUE  TRUE  TRUE  TRUE  TRUE\n",
              "[1021]  TRUE  TRUE  TRUE  TRUE  TRUE  TRUE  TRUE  TRUE  TRUE  TRUE  TRUE  TRUE\n",
              "[1033]  TRUE  TRUE  TRUE  TRUE  TRUE  TRUE FALSE FALSE  TRUE FALSE  TRUE  TRUE\n",
              "[1045]  TRUE  TRUE  TRUE  TRUE  TRUE  TRUE  TRUE  TRUE  TRUE  TRUE  TRUE  TRUE\n",
              "[1057]  TRUE  TRUE  TRUE  TRUE  TRUE  TRUE  TRUE  TRUE  TRUE  TRUE  TRUE  TRUE\n",
              "[1069] FALSE  TRUE  TRUE  TRUE  TRUE  TRUE  TRUE  TRUE  TRUE  TRUE  TRUE  TRUE\n",
              "[1081]  TRUE  TRUE FALSE  TRUE  TRUE  TRUE  TRUE  TRUE  TRUE  TRUE  TRUE  TRUE\n",
              "[1093]  TRUE  TRUE  TRUE  TRUE  TRUE  TRUE  TRUE  TRUE  TRUE  TRUE  TRUE  TRUE\n",
              "[1105]  TRUE  TRUE  TRUE  TRUE  TRUE  TRUE  TRUE  TRUE  TRUE  TRUE  TRUE  TRUE\n",
              "[1117]  TRUE  TRUE  TRUE  TRUE FALSE  TRUE  TRUE  TRUE  TRUE  TRUE  TRUE  TRUE\n",
              "[1129]  TRUE  TRUE  TRUE  TRUE  TRUE  TRUE  TRUE  TRUE  TRUE  TRUE  TRUE  TRUE\n",
              "[1141]  TRUE  TRUE  TRUE  TRUE  TRUE  TRUE  TRUE  TRUE  TRUE  TRUE  TRUE  TRUE\n",
              "[1153]  TRUE  TRUE  TRUE  TRUE  TRUE  TRUE  TRUE  TRUE  TRUE  TRUE  TRUE  TRUE\n",
              "[1165] FALSE  TRUE  TRUE  TRUE  TRUE  TRUE  TRUE  TRUE  TRUE  TRUE  TRUE  TRUE\n",
              "[1177]  TRUE  TRUE  TRUE  TRUE  TRUE  TRUE  TRUE  TRUE  TRUE  TRUE  TRUE  TRUE\n",
              "[1189]  TRUE  TRUE  TRUE  TRUE  TRUE  TRUE  TRUE  TRUE  TRUE  TRUE  TRUE  TRUE\n",
              "[1201]  TRUE  TRUE  TRUE  TRUE  TRUE  TRUE  TRUE  TRUE  TRUE  TRUE  TRUE  TRUE\n",
              "[1213]  TRUE  TRUE  TRUE  TRUE  TRUE  TRUE  TRUE  TRUE  TRUE  TRUE  TRUE  TRUE\n",
              "[1225]  TRUE  TRUE  TRUE  TRUE  TRUE  TRUE  TRUE  TRUE  TRUE  TRUE  TRUE  TRUE\n",
              "[1237]  TRUE  TRUE  TRUE  TRUE  TRUE  TRUE  TRUE  TRUE  TRUE  TRUE  TRUE  TRUE\n",
              "[1249]  TRUE  TRUE  TRUE  TRUE  TRUE  TRUE  TRUE  TRUE  TRUE  TRUE  TRUE  TRUE\n",
              "[1261]  TRUE  TRUE  TRUE  TRUE  TRUE  TRUE  TRUE  TRUE  TRUE  TRUE  TRUE  TRUE\n",
              "[1273]  TRUE  TRUE  TRUE  TRUE  TRUE  TRUE  TRUE  TRUE  TRUE  TRUE  TRUE  TRUE\n",
              "[1285]  TRUE  TRUE  TRUE  TRUE  TRUE  TRUE  TRUE  TRUE  TRUE  TRUE  TRUE  TRUE\n",
              "[1297]  TRUE  TRUE  TRUE  TRUE  TRUE  TRUE  TRUE  TRUE  TRUE  TRUE  TRUE  TRUE\n",
              "[1309]  TRUE  TRUE  TRUE  TRUE  TRUE  TRUE  TRUE  TRUE  TRUE  TRUE  TRUE  TRUE\n",
              "[1321]  TRUE  TRUE  TRUE  TRUE  TRUE  TRUE  TRUE  TRUE  TRUE  TRUE  TRUE  TRUE\n",
              "[1333]  TRUE  TRUE  TRUE  TRUE  TRUE  TRUE  TRUE  TRUE  TRUE  TRUE  TRUE  TRUE\n",
              "[1345]  TRUE  TRUE  TRUE  TRUE  TRUE  TRUE  TRUE  TRUE  TRUE  TRUE  TRUE  TRUE\n",
              "[1357]  TRUE  TRUE  TRUE  TRUE  TRUE  TRUE  TRUE  TRUE  TRUE  TRUE  TRUE  TRUE\n",
              "[1369]  TRUE  TRUE  TRUE  TRUE  TRUE  TRUE  TRUE  TRUE  TRUE  TRUE FALSE  TRUE\n",
              "[1381]  TRUE  TRUE  TRUE  TRUE  TRUE  TRUE  TRUE  TRUE  TRUE  TRUE  TRUE  TRUE\n",
              "[1393]  TRUE"
            ],
            "text/latex": "\\begin{enumerate*}\n\\item TRUE\n\\item TRUE\n\\item FALSE\n\\item TRUE\n\\item TRUE\n\\item TRUE\n\\item TRUE\n\\item TRUE\n\\item TRUE\n\\item TRUE\n\\item TRUE\n\\item TRUE\n\\item TRUE\n\\item TRUE\n\\item TRUE\n\\item TRUE\n\\item TRUE\n\\item TRUE\n\\item TRUE\n\\item TRUE\n\\item TRUE\n\\item TRUE\n\\item TRUE\n\\item TRUE\n\\item TRUE\n\\item TRUE\n\\item TRUE\n\\item TRUE\n\\item TRUE\n\\item TRUE\n\\item TRUE\n\\item TRUE\n\\item TRUE\n\\item TRUE\n\\item TRUE\n\\item TRUE\n\\item TRUE\n\\item FALSE\n\\item TRUE\n\\item TRUE\n\\item TRUE\n\\item TRUE\n\\item TRUE\n\\item TRUE\n\\item TRUE\n\\item TRUE\n\\item TRUE\n\\item TRUE\n\\item TRUE\n\\item TRUE\n\\item TRUE\n\\item TRUE\n\\item TRUE\n\\item TRUE\n\\item TRUE\n\\item TRUE\n\\item TRUE\n\\item TRUE\n\\item TRUE\n\\item TRUE\n\\item TRUE\n\\item TRUE\n\\item TRUE\n\\item TRUE\n\\item TRUE\n\\item TRUE\n\\item TRUE\n\\item TRUE\n\\item TRUE\n\\item TRUE\n\\item TRUE\n\\item TRUE\n\\item TRUE\n\\item TRUE\n\\item FALSE\n\\item TRUE\n\\item TRUE\n\\item TRUE\n\\item TRUE\n\\item TRUE\n\\item FALSE\n\\item TRUE\n\\item TRUE\n\\item TRUE\n\\item TRUE\n\\item TRUE\n\\item TRUE\n\\item TRUE\n\\item TRUE\n\\item TRUE\n\\item FALSE\n\\item TRUE\n\\item TRUE\n\\item TRUE\n\\item TRUE\n\\item TRUE\n\\item TRUE\n\\item TRUE\n\\item TRUE\n\\item FALSE\n\\item TRUE\n\\item TRUE\n\\item TRUE\n\\item TRUE\n\\item TRUE\n\\item TRUE\n\\item TRUE\n\\item TRUE\n\\item TRUE\n\\item TRUE\n\\item TRUE\n\\item TRUE\n\\item TRUE\n\\item TRUE\n\\item TRUE\n\\item TRUE\n\\item TRUE\n\\item TRUE\n\\item TRUE\n\\item TRUE\n\\item TRUE\n\\item TRUE\n\\item TRUE\n\\item TRUE\n\\item TRUE\n\\item TRUE\n\\item TRUE\n\\item TRUE\n\\item TRUE\n\\item TRUE\n\\item TRUE\n\\item TRUE\n\\item TRUE\n\\item TRUE\n\\item TRUE\n\\item TRUE\n\\item TRUE\n\\item TRUE\n\\item TRUE\n\\item FALSE\n\\item TRUE\n\\item TRUE\n\\item FALSE\n\\item TRUE\n\\item TRUE\n\\item TRUE\n\\item TRUE\n\\item TRUE\n\\item TRUE\n\\item TRUE\n\\item TRUE\n\\item TRUE\n\\item TRUE\n\\item TRUE\n\\item TRUE\n\\item TRUE\n\\item TRUE\n\\item TRUE\n\\item TRUE\n\\item TRUE\n\\item TRUE\n\\item TRUE\n\\item TRUE\n\\item TRUE\n\\item TRUE\n\\item TRUE\n\\item TRUE\n\\item TRUE\n\\item TRUE\n\\item TRUE\n\\item TRUE\n\\item TRUE\n\\item TRUE\n\\item TRUE\n\\item TRUE\n\\item TRUE\n\\item TRUE\n\\item FALSE\n\\item TRUE\n\\item TRUE\n\\item TRUE\n\\item TRUE\n\\item TRUE\n\\item TRUE\n\\item TRUE\n\\item TRUE\n\\item TRUE\n\\item FALSE\n\\item TRUE\n\\item TRUE\n\\item TRUE\n\\item TRUE\n\\item TRUE\n\\item TRUE\n\\item TRUE\n\\item TRUE\n\\item TRUE\n\\item TRUE\n\\item TRUE\n\\item TRUE\n\\item ⋯\n\\item TRUE\n\\item TRUE\n\\item TRUE\n\\item TRUE\n\\item TRUE\n\\item TRUE\n\\item TRUE\n\\item TRUE\n\\item TRUE\n\\item TRUE\n\\item TRUE\n\\item TRUE\n\\item TRUE\n\\item TRUE\n\\item TRUE\n\\item TRUE\n\\item TRUE\n\\item TRUE\n\\item TRUE\n\\item TRUE\n\\item TRUE\n\\item TRUE\n\\item TRUE\n\\item TRUE\n\\item TRUE\n\\item TRUE\n\\item TRUE\n\\item TRUE\n\\item TRUE\n\\item TRUE\n\\item TRUE\n\\item TRUE\n\\item TRUE\n\\item TRUE\n\\item TRUE\n\\item TRUE\n\\item TRUE\n\\item TRUE\n\\item TRUE\n\\item TRUE\n\\item TRUE\n\\item TRUE\n\\item TRUE\n\\item TRUE\n\\item TRUE\n\\item TRUE\n\\item TRUE\n\\item TRUE\n\\item TRUE\n\\item TRUE\n\\item TRUE\n\\item TRUE\n\\item TRUE\n\\item TRUE\n\\item TRUE\n\\item TRUE\n\\item TRUE\n\\item TRUE\n\\item TRUE\n\\item TRUE\n\\item TRUE\n\\item TRUE\n\\item TRUE\n\\item TRUE\n\\item TRUE\n\\item TRUE\n\\item TRUE\n\\item TRUE\n\\item TRUE\n\\item TRUE\n\\item TRUE\n\\item TRUE\n\\item TRUE\n\\item TRUE\n\\item TRUE\n\\item TRUE\n\\item TRUE\n\\item TRUE\n\\item TRUE\n\\item TRUE\n\\item TRUE\n\\item TRUE\n\\item TRUE\n\\item TRUE\n\\item TRUE\n\\item TRUE\n\\item TRUE\n\\item TRUE\n\\item TRUE\n\\item TRUE\n\\item TRUE\n\\item TRUE\n\\item TRUE\n\\item TRUE\n\\item TRUE\n\\item TRUE\n\\item TRUE\n\\item TRUE\n\\item TRUE\n\\item TRUE\n\\item TRUE\n\\item TRUE\n\\item TRUE\n\\item TRUE\n\\item TRUE\n\\item TRUE\n\\item TRUE\n\\item TRUE\n\\item TRUE\n\\item TRUE\n\\item TRUE\n\\item TRUE\n\\item TRUE\n\\item TRUE\n\\item TRUE\n\\item TRUE\n\\item TRUE\n\\item TRUE\n\\item TRUE\n\\item TRUE\n\\item TRUE\n\\item TRUE\n\\item TRUE\n\\item TRUE\n\\item TRUE\n\\item TRUE\n\\item TRUE\n\\item TRUE\n\\item TRUE\n\\item TRUE\n\\item TRUE\n\\item TRUE\n\\item TRUE\n\\item TRUE\n\\item TRUE\n\\item TRUE\n\\item TRUE\n\\item TRUE\n\\item TRUE\n\\item TRUE\n\\item TRUE\n\\item TRUE\n\\item TRUE\n\\item TRUE\n\\item TRUE\n\\item TRUE\n\\item TRUE\n\\item TRUE\n\\item TRUE\n\\item TRUE\n\\item TRUE\n\\item TRUE\n\\item TRUE\n\\item TRUE\n\\item TRUE\n\\item TRUE\n\\item TRUE\n\\item TRUE\n\\item TRUE\n\\item TRUE\n\\item TRUE\n\\item TRUE\n\\item TRUE\n\\item TRUE\n\\item TRUE\n\\item TRUE\n\\item TRUE\n\\item TRUE\n\\item TRUE\n\\item TRUE\n\\item TRUE\n\\item TRUE\n\\item TRUE\n\\item TRUE\n\\item TRUE\n\\item TRUE\n\\item TRUE\n\\item TRUE\n\\item TRUE\n\\item TRUE\n\\item TRUE\n\\item TRUE\n\\item TRUE\n\\item TRUE\n\\item TRUE\n\\item FALSE\n\\item TRUE\n\\item TRUE\n\\item TRUE\n\\item TRUE\n\\item TRUE\n\\item TRUE\n\\item TRUE\n\\item TRUE\n\\item TRUE\n\\item TRUE\n\\item TRUE\n\\item TRUE\n\\item TRUE\n\\item TRUE\n\\end{enumerate*}\n",
            "text/markdown": "1. TRUE\n2. TRUE\n3. FALSE\n4. TRUE\n5. TRUE\n6. TRUE\n7. TRUE\n8. TRUE\n9. TRUE\n10. TRUE\n11. TRUE\n12. TRUE\n13. TRUE\n14. TRUE\n15. TRUE\n16. TRUE\n17. TRUE\n18. TRUE\n19. TRUE\n20. TRUE\n21. TRUE\n22. TRUE\n23. TRUE\n24. TRUE\n25. TRUE\n26. TRUE\n27. TRUE\n28. TRUE\n29. TRUE\n30. TRUE\n31. TRUE\n32. TRUE\n33. TRUE\n34. TRUE\n35. TRUE\n36. TRUE\n37. TRUE\n38. FALSE\n39. TRUE\n40. TRUE\n41. TRUE\n42. TRUE\n43. TRUE\n44. TRUE\n45. TRUE\n46. TRUE\n47. TRUE\n48. TRUE\n49. TRUE\n50. TRUE\n51. TRUE\n52. TRUE\n53. TRUE\n54. TRUE\n55. TRUE\n56. TRUE\n57. TRUE\n58. TRUE\n59. TRUE\n60. TRUE\n61. TRUE\n62. TRUE\n63. TRUE\n64. TRUE\n65. TRUE\n66. TRUE\n67. TRUE\n68. TRUE\n69. TRUE\n70. TRUE\n71. TRUE\n72. TRUE\n73. TRUE\n74. TRUE\n75. FALSE\n76. TRUE\n77. TRUE\n78. TRUE\n79. TRUE\n80. TRUE\n81. FALSE\n82. TRUE\n83. TRUE\n84. TRUE\n85. TRUE\n86. TRUE\n87. TRUE\n88. TRUE\n89. TRUE\n90. TRUE\n91. FALSE\n92. TRUE\n93. TRUE\n94. TRUE\n95. TRUE\n96. TRUE\n97. TRUE\n98. TRUE\n99. TRUE\n100. FALSE\n101. TRUE\n102. TRUE\n103. TRUE\n104. TRUE\n105. TRUE\n106. TRUE\n107. TRUE\n108. TRUE\n109. TRUE\n110. TRUE\n111. TRUE\n112. TRUE\n113. TRUE\n114. TRUE\n115. TRUE\n116. TRUE\n117. TRUE\n118. TRUE\n119. TRUE\n120. TRUE\n121. TRUE\n122. TRUE\n123. TRUE\n124. TRUE\n125. TRUE\n126. TRUE\n127. TRUE\n128. TRUE\n129. TRUE\n130. TRUE\n131. TRUE\n132. TRUE\n133. TRUE\n134. TRUE\n135. TRUE\n136. TRUE\n137. TRUE\n138. TRUE\n139. TRUE\n140. FALSE\n141. TRUE\n142. TRUE\n143. FALSE\n144. TRUE\n145. TRUE\n146. TRUE\n147. TRUE\n148. TRUE\n149. TRUE\n150. TRUE\n151. TRUE\n152. TRUE\n153. TRUE\n154. TRUE\n155. TRUE\n156. TRUE\n157. TRUE\n158. TRUE\n159. TRUE\n160. TRUE\n161. TRUE\n162. TRUE\n163. TRUE\n164. TRUE\n165. TRUE\n166. TRUE\n167. TRUE\n168. TRUE\n169. TRUE\n170. TRUE\n171. TRUE\n172. TRUE\n173. TRUE\n174. TRUE\n175. TRUE\n176. TRUE\n177. TRUE\n178. FALSE\n179. TRUE\n180. TRUE\n181. TRUE\n182. TRUE\n183. TRUE\n184. TRUE\n185. TRUE\n186. TRUE\n187. TRUE\n188. FALSE\n189. TRUE\n190. TRUE\n191. TRUE\n192. TRUE\n193. TRUE\n194. TRUE\n195. TRUE\n196. TRUE\n197. TRUE\n198. TRUE\n199. TRUE\n200. TRUE\n201. ⋯\n202. TRUE\n203. TRUE\n204. TRUE\n205. TRUE\n206. TRUE\n207. TRUE\n208. TRUE\n209. TRUE\n210. TRUE\n211. TRUE\n212. TRUE\n213. TRUE\n214. TRUE\n215. TRUE\n216. TRUE\n217. TRUE\n218. TRUE\n219. TRUE\n220. TRUE\n221. TRUE\n222. TRUE\n223. TRUE\n224. TRUE\n225. TRUE\n226. TRUE\n227. TRUE\n228. TRUE\n229. TRUE\n230. TRUE\n231. TRUE\n232. TRUE\n233. TRUE\n234. TRUE\n235. TRUE\n236. TRUE\n237. TRUE\n238. TRUE\n239. TRUE\n240. TRUE\n241. TRUE\n242. TRUE\n243. TRUE\n244. TRUE\n245. TRUE\n246. TRUE\n247. TRUE\n248. TRUE\n249. TRUE\n250. TRUE\n251. TRUE\n252. TRUE\n253. TRUE\n254. TRUE\n255. TRUE\n256. TRUE\n257. TRUE\n258. TRUE\n259. TRUE\n260. TRUE\n261. TRUE\n262. TRUE\n263. TRUE\n264. TRUE\n265. TRUE\n266. TRUE\n267. TRUE\n268. TRUE\n269. TRUE\n270. TRUE\n271. TRUE\n272. TRUE\n273. TRUE\n274. TRUE\n275. TRUE\n276. TRUE\n277. TRUE\n278. TRUE\n279. TRUE\n280. TRUE\n281. TRUE\n282. TRUE\n283. TRUE\n284. TRUE\n285. TRUE\n286. TRUE\n287. TRUE\n288. TRUE\n289. TRUE\n290. TRUE\n291. TRUE\n292. TRUE\n293. TRUE\n294. TRUE\n295. TRUE\n296. TRUE\n297. TRUE\n298. TRUE\n299. TRUE\n300. TRUE\n301. TRUE\n302. TRUE\n303. TRUE\n304. TRUE\n305. TRUE\n306. TRUE\n307. TRUE\n308. TRUE\n309. TRUE\n310. TRUE\n311. TRUE\n312. TRUE\n313. TRUE\n314. TRUE\n315. TRUE\n316. TRUE\n317. TRUE\n318. TRUE\n319. TRUE\n320. TRUE\n321. TRUE\n322. TRUE\n323. TRUE\n324. TRUE\n325. TRUE\n326. TRUE\n327. TRUE\n328. TRUE\n329. TRUE\n330. TRUE\n331. TRUE\n332. TRUE\n333. TRUE\n334. TRUE\n335. TRUE\n336. TRUE\n337. TRUE\n338. TRUE\n339. TRUE\n340. TRUE\n341. TRUE\n342. TRUE\n343. TRUE\n344. TRUE\n345. TRUE\n346. TRUE\n347. TRUE\n348. TRUE\n349. TRUE\n350. TRUE\n351. TRUE\n352. TRUE\n353. TRUE\n354. TRUE\n355. TRUE\n356. TRUE\n357. TRUE\n358. TRUE\n359. TRUE\n360. TRUE\n361. TRUE\n362. TRUE\n363. TRUE\n364. TRUE\n365. TRUE\n366. TRUE\n367. TRUE\n368. TRUE\n369. TRUE\n370. TRUE\n371. TRUE\n372. TRUE\n373. TRUE\n374. TRUE\n375. TRUE\n376. TRUE\n377. TRUE\n378. TRUE\n379. TRUE\n380. TRUE\n381. TRUE\n382. TRUE\n383. TRUE\n384. TRUE\n385. TRUE\n386. TRUE\n387. FALSE\n388. TRUE\n389. TRUE\n390. TRUE\n391. TRUE\n392. TRUE\n393. TRUE\n394. TRUE\n395. TRUE\n396. TRUE\n397. TRUE\n398. TRUE\n399. TRUE\n400. TRUE\n401. TRUE\n\n\n",
            "text/html": [
              "<style>\n",
              ".list-inline {list-style: none; margin:0; padding: 0}\n",
              ".list-inline>li {display: inline-block}\n",
              ".list-inline>li:not(:last-child)::after {content: \"\\00b7\"; padding: 0 .5ex}\n",
              "</style>\n",
              "<ol class=list-inline><li>TRUE</li><li>TRUE</li><li>FALSE</li><li>TRUE</li><li>TRUE</li><li>TRUE</li><li>TRUE</li><li>TRUE</li><li>TRUE</li><li>TRUE</li><li>TRUE</li><li>TRUE</li><li>TRUE</li><li>TRUE</li><li>TRUE</li><li>TRUE</li><li>TRUE</li><li>TRUE</li><li>TRUE</li><li>TRUE</li><li>TRUE</li><li>TRUE</li><li>TRUE</li><li>TRUE</li><li>TRUE</li><li>TRUE</li><li>TRUE</li><li>TRUE</li><li>TRUE</li><li>TRUE</li><li>TRUE</li><li>TRUE</li><li>TRUE</li><li>TRUE</li><li>TRUE</li><li>TRUE</li><li>TRUE</li><li>FALSE</li><li>TRUE</li><li>TRUE</li><li>TRUE</li><li>TRUE</li><li>TRUE</li><li>TRUE</li><li>TRUE</li><li>TRUE</li><li>TRUE</li><li>TRUE</li><li>TRUE</li><li>TRUE</li><li>TRUE</li><li>TRUE</li><li>TRUE</li><li>TRUE</li><li>TRUE</li><li>TRUE</li><li>TRUE</li><li>TRUE</li><li>TRUE</li><li>TRUE</li><li>TRUE</li><li>TRUE</li><li>TRUE</li><li>TRUE</li><li>TRUE</li><li>TRUE</li><li>TRUE</li><li>TRUE</li><li>TRUE</li><li>TRUE</li><li>TRUE</li><li>TRUE</li><li>TRUE</li><li>TRUE</li><li>FALSE</li><li>TRUE</li><li>TRUE</li><li>TRUE</li><li>TRUE</li><li>TRUE</li><li>FALSE</li><li>TRUE</li><li>TRUE</li><li>TRUE</li><li>TRUE</li><li>TRUE</li><li>TRUE</li><li>TRUE</li><li>TRUE</li><li>TRUE</li><li>FALSE</li><li>TRUE</li><li>TRUE</li><li>TRUE</li><li>TRUE</li><li>TRUE</li><li>TRUE</li><li>TRUE</li><li>TRUE</li><li>FALSE</li><li>TRUE</li><li>TRUE</li><li>TRUE</li><li>TRUE</li><li>TRUE</li><li>TRUE</li><li>TRUE</li><li>TRUE</li><li>TRUE</li><li>TRUE</li><li>TRUE</li><li>TRUE</li><li>TRUE</li><li>TRUE</li><li>TRUE</li><li>TRUE</li><li>TRUE</li><li>TRUE</li><li>TRUE</li><li>TRUE</li><li>TRUE</li><li>TRUE</li><li>TRUE</li><li>TRUE</li><li>TRUE</li><li>TRUE</li><li>TRUE</li><li>TRUE</li><li>TRUE</li><li>TRUE</li><li>TRUE</li><li>TRUE</li><li>TRUE</li><li>TRUE</li><li>TRUE</li><li>TRUE</li><li>TRUE</li><li>TRUE</li><li>TRUE</li><li>FALSE</li><li>TRUE</li><li>TRUE</li><li>FALSE</li><li>TRUE</li><li>TRUE</li><li>TRUE</li><li>TRUE</li><li>TRUE</li><li>TRUE</li><li>TRUE</li><li>TRUE</li><li>TRUE</li><li>TRUE</li><li>TRUE</li><li>TRUE</li><li>TRUE</li><li>TRUE</li><li>TRUE</li><li>TRUE</li><li>TRUE</li><li>TRUE</li><li>TRUE</li><li>TRUE</li><li>TRUE</li><li>TRUE</li><li>TRUE</li><li>TRUE</li><li>TRUE</li><li>TRUE</li><li>TRUE</li><li>TRUE</li><li>TRUE</li><li>TRUE</li><li>TRUE</li><li>TRUE</li><li>TRUE</li><li>TRUE</li><li>FALSE</li><li>TRUE</li><li>TRUE</li><li>TRUE</li><li>TRUE</li><li>TRUE</li><li>TRUE</li><li>TRUE</li><li>TRUE</li><li>TRUE</li><li>FALSE</li><li>TRUE</li><li>TRUE</li><li>TRUE</li><li>TRUE</li><li>TRUE</li><li>TRUE</li><li>TRUE</li><li>TRUE</li><li>TRUE</li><li>TRUE</li><li>TRUE</li><li>TRUE</li><li>⋯</li><li>TRUE</li><li>TRUE</li><li>TRUE</li><li>TRUE</li><li>TRUE</li><li>TRUE</li><li>TRUE</li><li>TRUE</li><li>TRUE</li><li>TRUE</li><li>TRUE</li><li>TRUE</li><li>TRUE</li><li>TRUE</li><li>TRUE</li><li>TRUE</li><li>TRUE</li><li>TRUE</li><li>TRUE</li><li>TRUE</li><li>TRUE</li><li>TRUE</li><li>TRUE</li><li>TRUE</li><li>TRUE</li><li>TRUE</li><li>TRUE</li><li>TRUE</li><li>TRUE</li><li>TRUE</li><li>TRUE</li><li>TRUE</li><li>TRUE</li><li>TRUE</li><li>TRUE</li><li>TRUE</li><li>TRUE</li><li>TRUE</li><li>TRUE</li><li>TRUE</li><li>TRUE</li><li>TRUE</li><li>TRUE</li><li>TRUE</li><li>TRUE</li><li>TRUE</li><li>TRUE</li><li>TRUE</li><li>TRUE</li><li>TRUE</li><li>TRUE</li><li>TRUE</li><li>TRUE</li><li>TRUE</li><li>TRUE</li><li>TRUE</li><li>TRUE</li><li>TRUE</li><li>TRUE</li><li>TRUE</li><li>TRUE</li><li>TRUE</li><li>TRUE</li><li>TRUE</li><li>TRUE</li><li>TRUE</li><li>TRUE</li><li>TRUE</li><li>TRUE</li><li>TRUE</li><li>TRUE</li><li>TRUE</li><li>TRUE</li><li>TRUE</li><li>TRUE</li><li>TRUE</li><li>TRUE</li><li>TRUE</li><li>TRUE</li><li>TRUE</li><li>TRUE</li><li>TRUE</li><li>TRUE</li><li>TRUE</li><li>TRUE</li><li>TRUE</li><li>TRUE</li><li>TRUE</li><li>TRUE</li><li>TRUE</li><li>TRUE</li><li>TRUE</li><li>TRUE</li><li>TRUE</li><li>TRUE</li><li>TRUE</li><li>TRUE</li><li>TRUE</li><li>TRUE</li><li>TRUE</li><li>TRUE</li><li>TRUE</li><li>TRUE</li><li>TRUE</li><li>TRUE</li><li>TRUE</li><li>TRUE</li><li>TRUE</li><li>TRUE</li><li>TRUE</li><li>TRUE</li><li>TRUE</li><li>TRUE</li><li>TRUE</li><li>TRUE</li><li>TRUE</li><li>TRUE</li><li>TRUE</li><li>TRUE</li><li>TRUE</li><li>TRUE</li><li>TRUE</li><li>TRUE</li><li>TRUE</li><li>TRUE</li><li>TRUE</li><li>TRUE</li><li>TRUE</li><li>TRUE</li><li>TRUE</li><li>TRUE</li><li>TRUE</li><li>TRUE</li><li>TRUE</li><li>TRUE</li><li>TRUE</li><li>TRUE</li><li>TRUE</li><li>TRUE</li><li>TRUE</li><li>TRUE</li><li>TRUE</li><li>TRUE</li><li>TRUE</li><li>TRUE</li><li>TRUE</li><li>TRUE</li><li>TRUE</li><li>TRUE</li><li>TRUE</li><li>TRUE</li><li>TRUE</li><li>TRUE</li><li>TRUE</li><li>TRUE</li><li>TRUE</li><li>TRUE</li><li>TRUE</li><li>TRUE</li><li>TRUE</li><li>TRUE</li><li>TRUE</li><li>TRUE</li><li>TRUE</li><li>TRUE</li><li>TRUE</li><li>TRUE</li><li>TRUE</li><li>TRUE</li><li>TRUE</li><li>TRUE</li><li>TRUE</li><li>TRUE</li><li>TRUE</li><li>TRUE</li><li>TRUE</li><li>TRUE</li><li>TRUE</li><li>TRUE</li><li>TRUE</li><li>TRUE</li><li>TRUE</li><li>TRUE</li><li>TRUE</li><li>TRUE</li><li>FALSE</li><li>TRUE</li><li>TRUE</li><li>TRUE</li><li>TRUE</li><li>TRUE</li><li>TRUE</li><li>TRUE</li><li>TRUE</li><li>TRUE</li><li>TRUE</li><li>TRUE</li><li>TRUE</li><li>TRUE</li><li>TRUE</li></ol>\n"
            ]
          },
          "metadata": {
            "tags": []
          }
        }
      ]
    },
    {
      "cell_type": "code",
      "metadata": {
        "id": "Zzan_gMhZn1N",
        "colab_type": "code",
        "colab": {
          "base_uri": "https://localhost:8080/"
        },
        "outputId": "e2ecf659-4aa9-405a-c106-2e02bafa556d"
      },
      "source": [
        "DF_not_NA_SLG <- DF[!is.na(DF$SLG), ]\n",
        "nrow(DF_not_NA_SLG)"
      ],
      "execution_count": null,
      "outputs": [
        {
          "output_type": "display_data",
          "data": {
            "text/plain": [
              "[1] 1364"
            ],
            "text/latex": "1364",
            "text/markdown": "1364",
            "text/html": [
              "1364"
            ]
          },
          "metadata": {
            "tags": []
          }
        }
      ]
    },
    {
      "cell_type": "code",
      "metadata": {
        "id": "KwWSgxPUaQle",
        "colab_type": "code",
        "colab": {
          "base_uri": "https://localhost:8080/"
        },
        "outputId": "c29e1e21-d15d-4cba-a063-364055047006"
      },
      "source": [
        "DF_not_NA_SLG <- DF[is.na(DF$SLG) == F, ]\n",
        "nrow(DF_not_NA_SLG)"
      ],
      "execution_count": null,
      "outputs": [
        {
          "output_type": "display_data",
          "data": {
            "text/plain": [
              "[1] 1364"
            ],
            "text/latex": "1364",
            "text/markdown": "1364",
            "text/html": [
              "1364"
            ]
          },
          "metadata": {
            "tags": []
          }
        }
      ]
    },
    {
      "cell_type": "code",
      "metadata": {
        "colab_type": "code",
        "id": "gkDfXrgLcAEW",
        "colab": {
          "base_uri": "https://localhost:8080/"
        },
        "outputId": "1cfee628-deae-4bbc-f700-ac3c283a4c58"
      },
      "source": [
        "# 조건이 여러개라면???\n",
        "# SLG가 NA가 아니고 OBP가 NA가 아닌것! (AND)\n",
        "# SLG가 NA 또는 OBP가 NA가 아닌 것!(OR)\n",
        "\n",
        "nrow(DF[!is.na(DF$SLG) & !is.na(DF$OBP), ])\n",
        "nrow(DF[!is.na(DF$SLG) | !is.na(DF$OBP), ])"
      ],
      "execution_count": null,
      "outputs": [
        {
          "output_type": "display_data",
          "data": {
            "text/plain": [
              "[1] 1364"
            ],
            "text/latex": "1364",
            "text/markdown": "1364",
            "text/html": [
              "1364"
            ]
          },
          "metadata": {
            "tags": []
          }
        },
        {
          "output_type": "display_data",
          "data": {
            "text/plain": [
              "[1] 1368"
            ],
            "text/latex": "1368",
            "text/markdown": "1368",
            "text/html": [
              "1368"
            ]
          },
          "metadata": {
            "tags": []
          }
        }
      ]
    },
    {
      "cell_type": "markdown",
      "metadata": {
        "id": "-CLGkgglcjJk",
        "colab_type": "text"
      },
      "source": [
        "* na.omit() -----> NA인 데이터를 지운다. 주의 NA가 포함된 행 전체를 지운다..."
      ]
    },
    {
      "cell_type": "code",
      "metadata": {
        "id": "U2evK7m2ckDX",
        "colab_type": "code",
        "colab": {
          "base_uri": "https://localhost:8080/"
        },
        "outputId": "c0407f9d-42fd-4efc-a86d-f58df6750658"
      },
      "source": [
        "DF_na_omit <- na.omit(DF)\n",
        "nrow(DF_na_omit)\n",
        "\n",
        "mean(DF_na_omit$OBP)\n",
        "mean(DF$OBP, na.rm = T)"
      ],
      "execution_count": null,
      "outputs": [
        {
          "output_type": "display_data",
          "data": {
            "text/plain": [
              "[1] 1364"
            ],
            "text/latex": "1364",
            "text/markdown": "1364",
            "text/html": [
              "1364"
            ]
          },
          "metadata": {
            "tags": []
          }
        },
        {
          "output_type": "display_data",
          "data": {
            "text/plain": [
              "[1] 0.3159113"
            ],
            "text/latex": "0.315911290322581",
            "text/markdown": "0.315911290322581",
            "text/html": [
              "0.315911290322581"
            ]
          },
          "metadata": {
            "tags": []
          }
        },
        {
          "output_type": "display_data",
          "data": {
            "text/plain": [
              "[1] 0.3179115"
            ],
            "text/latex": "0.317911549707602",
            "text/markdown": "0.317911549707602",
            "text/html": [
              "0.317911549707602"
            ]
          },
          "metadata": {
            "tags": []
          }
        }
      ]
    },
    {
      "cell_type": "code",
      "metadata": {
        "id": "j3_CiequdPHc",
        "colab_type": "code",
        "colab": {
          "base_uri": "https://localhost:8080/"
        },
        "outputId": "936c26a6-84e3-4b65-e406-1341670e5009"
      },
      "source": [
        "head(DF, 10)"
      ],
      "execution_count": null,
      "outputs": [
        {
          "output_type": "display_data",
          "data": {
            "text/plain": [
              "   batter_id batter_name year team avg   G  AB R  H 2B ⋯ GDP SLG   OBP   E\n",
              "1   0        가르시아    2018 LG   0.350  7 20  1 7 1  ⋯ 1   0.550 0.409 1\n",
              "2   1        강경학      2011 한화 0.000  4  2  2 0 0  ⋯ 0   0.000 0.500 0\n",
              "3   1        강경학      2014 한화 -      4  0  2 0 0  ⋯ 0      NA    NA 0\n",
              "4   1        강경학      2015 한화 0.130 10 23  3 3 0  ⋯ 0   0.130 0.286 2\n",
              "5   1        강경학      2016 한화 0.188 14 32  4 6 1  ⋯ 0   0.281 0.212 0\n",
              "6   1        강경학      2017 한화 0.222 11 36 10 8 0  ⋯ 0   0.389 0.282 1\n",
              "7   2        강구성      2013 NC   0.000  3  4  0 0 0  ⋯ 1   0.000 0.000 0\n",
              "8   2        강구성      2016 NC   0.000  3  1  0 0 0  ⋯ 1   0.000 0.500 0\n",
              "9   2        강구성      2017 NC   1.000  2  1  0 1 0  ⋯ 0   1.000 1.000 0\n",
              "10 69        김태완      2006 한화 0.200 10 15  0 3 0  ⋯ 1   0.200 0.278 0\n",
              "   height/weight year_born        position        \n",
              "1  177cm/93kg    1985년 04월 12일 내야수(우투우타)\n",
              "2  180cm/72kg    1992년 08월 11일 내야수(우투좌타)\n",
              "3  180cm/72kg    1992년 08월 11일 내야수(우투좌타)\n",
              "4  180cm/72kg    1992년 08월 11일 내야수(우투좌타)\n",
              "5  180cm/72kg    1992년 08월 11일 내야수(우투좌타)\n",
              "6  180cm/72kg    1992년 08월 11일 내야수(우투좌타)\n",
              "7  180cm/82kg    1993년 06월 09일 외야수(우투좌타)\n",
              "8  180cm/82kg    1993년 06월 09일 외야수(우투좌타)\n",
              "9  180cm/82kg    1993년 06월 09일 외야수(우투좌타)\n",
              "10 189cm/105kg   1984년 01월 27일 내야수(우투우타)\n",
              "   career                                    starting_salary OPS  \n",
              "1  쿠바 Ciego de Avila Maximo Gomez Baez(대)                 0.959\n",
              "2  광주대성초-광주동성중-광주동성고          10000만원       0.500\n",
              "3  광주대성초-광주동성중-광주동성고          10000만원          NA\n",
              "4  광주대성초-광주동성중-광주동성고          10000만원       0.416\n",
              "5  광주대성초-광주동성중-광주동성고          10000만원       0.493\n",
              "6  광주대성초-광주동성중-광주동성고          10000만원       0.671\n",
              "7  관산초-부천중-야탑고-NC-상무              9000만원        0.000\n",
              "8  관산초-부천중-야탑고-NC-상무              9000만원        0.500\n",
              "9  관산초-부천중-야탑고-NC-상무              9000만원        2.000\n",
              "10 양목초-신월중-중앙고-성균관대-한화        11000만원       0.478"
            ],
            "text/latex": "A data.table: 10 × 29\n\\begin{tabular}{lllllllllllllllllllll}\n batter\\_id & batter\\_name & year & team & avg & G & AB & R & H & 2B & ⋯ & GDP & SLG & OBP & E & height/weight & year\\_born & position & career & starting\\_salary & OPS\\\\\n <int> & <chr> & <int> & <chr> & <chr> & <int> & <int> & <int> & <int> & <int> & ⋯ & <int> & <dbl> & <dbl> & <int> & <chr> & <chr> & <chr> & <chr> & <chr> & <dbl>\\\\\n\\hline\n\t  0 & 가르시아 & 2018 & LG   & 0.350 &  7 & 20 &  1 & 7 & 1 & ⋯ & 1 & 0.550 & 0.409 & 1 & 177cm/93kg  & 1985년 04월 12일 & 내야수(우투우타) & 쿠바 Ciego de Avila Maximo Gomez Baez(대) &           & 0.959\\\\\n\t  1 & 강경학   & 2011 & 한화 & 0.000 &  4 &  2 &  2 & 0 & 0 & ⋯ & 0 & 0.000 & 0.500 & 0 & 180cm/72kg  & 1992년 08월 11일 & 내야수(우투좌타) & 광주대성초-광주동성중-광주동성고          & 10000만원 & 0.500\\\\\n\t  1 & 강경학   & 2014 & 한화 & -     &  4 &  0 &  2 & 0 & 0 & ⋯ & 0 &    NA &    NA & 0 & 180cm/72kg  & 1992년 08월 11일 & 내야수(우투좌타) & 광주대성초-광주동성중-광주동성고          & 10000만원 &    NA\\\\\n\t  1 & 강경학   & 2015 & 한화 & 0.130 & 10 & 23 &  3 & 3 & 0 & ⋯ & 0 & 0.130 & 0.286 & 2 & 180cm/72kg  & 1992년 08월 11일 & 내야수(우투좌타) & 광주대성초-광주동성중-광주동성고          & 10000만원 & 0.416\\\\\n\t  1 & 강경학   & 2016 & 한화 & 0.188 & 14 & 32 &  4 & 6 & 1 & ⋯ & 0 & 0.281 & 0.212 & 0 & 180cm/72kg  & 1992년 08월 11일 & 내야수(우투좌타) & 광주대성초-광주동성중-광주동성고          & 10000만원 & 0.493\\\\\n\t  1 & 강경학   & 2017 & 한화 & 0.222 & 11 & 36 & 10 & 8 & 0 & ⋯ & 0 & 0.389 & 0.282 & 1 & 180cm/72kg  & 1992년 08월 11일 & 내야수(우투좌타) & 광주대성초-광주동성중-광주동성고          & 10000만원 & 0.671\\\\\n\t  2 & 강구성   & 2013 & NC   & 0.000 &  3 &  4 &  0 & 0 & 0 & ⋯ & 1 & 0.000 & 0.000 & 0 & 180cm/82kg  & 1993년 06월 09일 & 외야수(우투좌타) & 관산초-부천중-야탑고-NC-상무              & 9000만원  & 0.000\\\\\n\t  2 & 강구성   & 2016 & NC   & 0.000 &  3 &  1 &  0 & 0 & 0 & ⋯ & 1 & 0.000 & 0.500 & 0 & 180cm/82kg  & 1993년 06월 09일 & 외야수(우투좌타) & 관산초-부천중-야탑고-NC-상무              & 9000만원  & 0.500\\\\\n\t  2 & 강구성   & 2017 & NC   & 1.000 &  2 &  1 &  0 & 1 & 0 & ⋯ & 0 & 1.000 & 1.000 & 0 & 180cm/82kg  & 1993년 06월 09일 & 외야수(우투좌타) & 관산초-부천중-야탑고-NC-상무              & 9000만원  & 2.000\\\\\n\t 69 & 김태완   & 2006 & 한화 & 0.200 & 10 & 15 &  0 & 3 & 0 & ⋯ & 1 & 0.200 & 0.278 & 0 & 189cm/105kg & 1984년 01월 27일 & 내야수(우투우타) & 양목초-신월중-중앙고-성균관대-한화        & 11000만원 & 0.478\\\\\n\\end{tabular}\n",
            "text/markdown": "\nA data.table: 10 × 29\n\n| batter_id &lt;int&gt; | batter_name &lt;chr&gt; | year &lt;int&gt; | team &lt;chr&gt; | avg &lt;chr&gt; | G &lt;int&gt; | AB &lt;int&gt; | R &lt;int&gt; | H &lt;int&gt; | 2B &lt;int&gt; | ⋯ ⋯ | GDP &lt;int&gt; | SLG &lt;dbl&gt; | OBP &lt;dbl&gt; | E &lt;int&gt; | height/weight &lt;chr&gt; | year_born &lt;chr&gt; | position &lt;chr&gt; | career &lt;chr&gt; | starting_salary &lt;chr&gt; | OPS &lt;dbl&gt; |\n|---|---|---|---|---|---|---|---|---|---|---|---|---|---|---|---|---|---|---|---|---|\n|  0 | 가르시아 | 2018 | LG   | 0.350 |  7 | 20 |  1 | 7 | 1 | ⋯ | 1 | 0.550 | 0.409 | 1 | 177cm/93kg  | 1985년 04월 12일 | 내야수(우투우타) | 쿠바 Ciego de Avila Maximo Gomez Baez(대) | <!----> | 0.959 |\n|  1 | 강경학   | 2011 | 한화 | 0.000 |  4 |  2 |  2 | 0 | 0 | ⋯ | 0 | 0.000 | 0.500 | 0 | 180cm/72kg  | 1992년 08월 11일 | 내야수(우투좌타) | 광주대성초-광주동성중-광주동성고          | 10000만원 | 0.500 |\n|  1 | 강경학   | 2014 | 한화 | -     |  4 |  0 |  2 | 0 | 0 | ⋯ | 0 |    NA |    NA | 0 | 180cm/72kg  | 1992년 08월 11일 | 내야수(우투좌타) | 광주대성초-광주동성중-광주동성고          | 10000만원 |    NA |\n|  1 | 강경학   | 2015 | 한화 | 0.130 | 10 | 23 |  3 | 3 | 0 | ⋯ | 0 | 0.130 | 0.286 | 2 | 180cm/72kg  | 1992년 08월 11일 | 내야수(우투좌타) | 광주대성초-광주동성중-광주동성고          | 10000만원 | 0.416 |\n|  1 | 강경학   | 2016 | 한화 | 0.188 | 14 | 32 |  4 | 6 | 1 | ⋯ | 0 | 0.281 | 0.212 | 0 | 180cm/72kg  | 1992년 08월 11일 | 내야수(우투좌타) | 광주대성초-광주동성중-광주동성고          | 10000만원 | 0.493 |\n|  1 | 강경학   | 2017 | 한화 | 0.222 | 11 | 36 | 10 | 8 | 0 | ⋯ | 0 | 0.389 | 0.282 | 1 | 180cm/72kg  | 1992년 08월 11일 | 내야수(우투좌타) | 광주대성초-광주동성중-광주동성고          | 10000만원 | 0.671 |\n|  2 | 강구성   | 2013 | NC   | 0.000 |  3 |  4 |  0 | 0 | 0 | ⋯ | 1 | 0.000 | 0.000 | 0 | 180cm/82kg  | 1993년 06월 09일 | 외야수(우투좌타) | 관산초-부천중-야탑고-NC-상무              | 9000만원  | 0.000 |\n|  2 | 강구성   | 2016 | NC   | 0.000 |  3 |  1 |  0 | 0 | 0 | ⋯ | 1 | 0.000 | 0.500 | 0 | 180cm/82kg  | 1993년 06월 09일 | 외야수(우투좌타) | 관산초-부천중-야탑고-NC-상무              | 9000만원  | 0.500 |\n|  2 | 강구성   | 2017 | NC   | 1.000 |  2 |  1 |  0 | 1 | 0 | ⋯ | 0 | 1.000 | 1.000 | 0 | 180cm/82kg  | 1993년 06월 09일 | 외야수(우투좌타) | 관산초-부천중-야탑고-NC-상무              | 9000만원  | 2.000 |\n| 69 | 김태완   | 2006 | 한화 | 0.200 | 10 | 15 |  0 | 3 | 0 | ⋯ | 1 | 0.200 | 0.278 | 0 | 189cm/105kg | 1984년 01월 27일 | 내야수(우투우타) | 양목초-신월중-중앙고-성균관대-한화        | 11000만원 | 0.478 |\n\n",
            "text/html": [
              "<table>\n",
              "<caption>A data.table: 10 × 29</caption>\n",
              "<thead>\n",
              "\t<tr><th scope=col>batter_id</th><th scope=col>batter_name</th><th scope=col>year</th><th scope=col>team</th><th scope=col>avg</th><th scope=col>G</th><th scope=col>AB</th><th scope=col>R</th><th scope=col>H</th><th scope=col>2B</th><th scope=col>⋯</th><th scope=col>GDP</th><th scope=col>SLG</th><th scope=col>OBP</th><th scope=col>E</th><th scope=col>height/weight</th><th scope=col>year_born</th><th scope=col>position</th><th scope=col>career</th><th scope=col>starting_salary</th><th scope=col>OPS</th></tr>\n",
              "\t<tr><th scope=col>&lt;int&gt;</th><th scope=col>&lt;chr&gt;</th><th scope=col>&lt;int&gt;</th><th scope=col>&lt;chr&gt;</th><th scope=col>&lt;chr&gt;</th><th scope=col>&lt;int&gt;</th><th scope=col>&lt;int&gt;</th><th scope=col>&lt;int&gt;</th><th scope=col>&lt;int&gt;</th><th scope=col>&lt;int&gt;</th><th scope=col>⋯</th><th scope=col>&lt;int&gt;</th><th scope=col>&lt;dbl&gt;</th><th scope=col>&lt;dbl&gt;</th><th scope=col>&lt;int&gt;</th><th scope=col>&lt;chr&gt;</th><th scope=col>&lt;chr&gt;</th><th scope=col>&lt;chr&gt;</th><th scope=col>&lt;chr&gt;</th><th scope=col>&lt;chr&gt;</th><th scope=col>&lt;dbl&gt;</th></tr>\n",
              "</thead>\n",
              "<tbody>\n",
              "\t<tr><td> 0</td><td>가르시아</td><td>2018</td><td>LG  </td><td>0.350</td><td> 7</td><td>20</td><td> 1</td><td>7</td><td>1</td><td>⋯</td><td>1</td><td>0.550</td><td>0.409</td><td>1</td><td>177cm/93kg </td><td>1985년 04월 12일</td><td>내야수(우투우타)</td><td>쿠바 Ciego de Avila Maximo Gomez Baez(대)</td><td>         </td><td>0.959</td></tr>\n",
              "\t<tr><td> 1</td><td>강경학  </td><td>2011</td><td>한화</td><td>0.000</td><td> 4</td><td> 2</td><td> 2</td><td>0</td><td>0</td><td>⋯</td><td>0</td><td>0.000</td><td>0.500</td><td>0</td><td>180cm/72kg </td><td>1992년 08월 11일</td><td>내야수(우투좌타)</td><td>광주대성초-광주동성중-광주동성고         </td><td>10000만원</td><td>0.500</td></tr>\n",
              "\t<tr><td> 1</td><td>강경학  </td><td>2014</td><td>한화</td><td>-    </td><td> 4</td><td> 0</td><td> 2</td><td>0</td><td>0</td><td>⋯</td><td>0</td><td>   NA</td><td>   NA</td><td>0</td><td>180cm/72kg </td><td>1992년 08월 11일</td><td>내야수(우투좌타)</td><td>광주대성초-광주동성중-광주동성고         </td><td>10000만원</td><td>   NA</td></tr>\n",
              "\t<tr><td> 1</td><td>강경학  </td><td>2015</td><td>한화</td><td>0.130</td><td>10</td><td>23</td><td> 3</td><td>3</td><td>0</td><td>⋯</td><td>0</td><td>0.130</td><td>0.286</td><td>2</td><td>180cm/72kg </td><td>1992년 08월 11일</td><td>내야수(우투좌타)</td><td>광주대성초-광주동성중-광주동성고         </td><td>10000만원</td><td>0.416</td></tr>\n",
              "\t<tr><td> 1</td><td>강경학  </td><td>2016</td><td>한화</td><td>0.188</td><td>14</td><td>32</td><td> 4</td><td>6</td><td>1</td><td>⋯</td><td>0</td><td>0.281</td><td>0.212</td><td>0</td><td>180cm/72kg </td><td>1992년 08월 11일</td><td>내야수(우투좌타)</td><td>광주대성초-광주동성중-광주동성고         </td><td>10000만원</td><td>0.493</td></tr>\n",
              "\t<tr><td> 1</td><td>강경학  </td><td>2017</td><td>한화</td><td>0.222</td><td>11</td><td>36</td><td>10</td><td>8</td><td>0</td><td>⋯</td><td>0</td><td>0.389</td><td>0.282</td><td>1</td><td>180cm/72kg </td><td>1992년 08월 11일</td><td>내야수(우투좌타)</td><td>광주대성초-광주동성중-광주동성고         </td><td>10000만원</td><td>0.671</td></tr>\n",
              "\t<tr><td> 2</td><td>강구성  </td><td>2013</td><td>NC  </td><td>0.000</td><td> 3</td><td> 4</td><td> 0</td><td>0</td><td>0</td><td>⋯</td><td>1</td><td>0.000</td><td>0.000</td><td>0</td><td>180cm/82kg </td><td>1993년 06월 09일</td><td>외야수(우투좌타)</td><td>관산초-부천중-야탑고-NC-상무             </td><td>9000만원 </td><td>0.000</td></tr>\n",
              "\t<tr><td> 2</td><td>강구성  </td><td>2016</td><td>NC  </td><td>0.000</td><td> 3</td><td> 1</td><td> 0</td><td>0</td><td>0</td><td>⋯</td><td>1</td><td>0.000</td><td>0.500</td><td>0</td><td>180cm/82kg </td><td>1993년 06월 09일</td><td>외야수(우투좌타)</td><td>관산초-부천중-야탑고-NC-상무             </td><td>9000만원 </td><td>0.500</td></tr>\n",
              "\t<tr><td> 2</td><td>강구성  </td><td>2017</td><td>NC  </td><td>1.000</td><td> 2</td><td> 1</td><td> 0</td><td>1</td><td>0</td><td>⋯</td><td>0</td><td>1.000</td><td>1.000</td><td>0</td><td>180cm/82kg </td><td>1993년 06월 09일</td><td>외야수(우투좌타)</td><td>관산초-부천중-야탑고-NC-상무             </td><td>9000만원 </td><td>2.000</td></tr>\n",
              "\t<tr><td>69</td><td>김태완  </td><td>2006</td><td>한화</td><td>0.200</td><td>10</td><td>15</td><td> 0</td><td>3</td><td>0</td><td>⋯</td><td>1</td><td>0.200</td><td>0.278</td><td>0</td><td>189cm/105kg</td><td>1984년 01월 27일</td><td>내야수(우투우타)</td><td>양목초-신월중-중앙고-성균관대-한화       </td><td>11000만원</td><td>0.478</td></tr>\n",
              "</tbody>\n",
              "</table>\n"
            ]
          },
          "metadata": {
            "tags": []
          }
        }
      ]
    },
    {
      "cell_type": "code",
      "metadata": {
        "id": "vA_yAOiMdQDi",
        "colab_type": "code",
        "colab": {}
      },
      "source": [
        "# 결측값을 0으로 바꾸기.\n",
        "DF$SLG <- ifelse(is.na(DF$SLG), -9, DF$SLG)"
      ],
      "execution_count": null,
      "outputs": []
    },
    {
      "cell_type": "code",
      "metadata": {
        "id": "6uNqs_e8duis",
        "colab_type": "code",
        "colab": {
          "base_uri": "https://localhost:8080/"
        },
        "outputId": "8914abe1-98d3-4393-bbaa-3a26a432c1f9"
      },
      "source": [
        "head(DF, 10)"
      ],
      "execution_count": null,
      "outputs": [
        {
          "output_type": "display_data",
          "data": {
            "text/plain": [
              "   batter_id batter_name year team avg   G  AB R  H 2B ⋯ GDP SLG    OBP   E\n",
              "1   0        가르시아    2018 LG   0.350  7 20  1 7 1  ⋯ 1    0.550 0.409 1\n",
              "2   1        강경학      2011 한화 0.000  4  2  2 0 0  ⋯ 0    0.000 0.500 0\n",
              "3   1        강경학      2014 한화 -      4  0  2 0 0  ⋯ 0   -9.000    NA 0\n",
              "4   1        강경학      2015 한화 0.130 10 23  3 3 0  ⋯ 0    0.130 0.286 2\n",
              "5   1        강경학      2016 한화 0.188 14 32  4 6 1  ⋯ 0    0.281 0.212 0\n",
              "6   1        강경학      2017 한화 0.222 11 36 10 8 0  ⋯ 0    0.389 0.282 1\n",
              "7   2        강구성      2013 NC   0.000  3  4  0 0 0  ⋯ 1    0.000 0.000 0\n",
              "8   2        강구성      2016 NC   0.000  3  1  0 0 0  ⋯ 1    0.000 0.500 0\n",
              "9   2        강구성      2017 NC   1.000  2  1  0 1 0  ⋯ 0    1.000 1.000 0\n",
              "10 69        김태완      2006 한화 0.200 10 15  0 3 0  ⋯ 1    0.200 0.278 0\n",
              "   height/weight year_born        position        \n",
              "1  177cm/93kg    1985년 04월 12일 내야수(우투우타)\n",
              "2  180cm/72kg    1992년 08월 11일 내야수(우투좌타)\n",
              "3  180cm/72kg    1992년 08월 11일 내야수(우투좌타)\n",
              "4  180cm/72kg    1992년 08월 11일 내야수(우투좌타)\n",
              "5  180cm/72kg    1992년 08월 11일 내야수(우투좌타)\n",
              "6  180cm/72kg    1992년 08월 11일 내야수(우투좌타)\n",
              "7  180cm/82kg    1993년 06월 09일 외야수(우투좌타)\n",
              "8  180cm/82kg    1993년 06월 09일 외야수(우투좌타)\n",
              "9  180cm/82kg    1993년 06월 09일 외야수(우투좌타)\n",
              "10 189cm/105kg   1984년 01월 27일 내야수(우투우타)\n",
              "   career                                    starting_salary OPS  \n",
              "1  쿠바 Ciego de Avila Maximo Gomez Baez(대)                 0.959\n",
              "2  광주대성초-광주동성중-광주동성고          10000만원       0.500\n",
              "3  광주대성초-광주동성중-광주동성고          10000만원          NA\n",
              "4  광주대성초-광주동성중-광주동성고          10000만원       0.416\n",
              "5  광주대성초-광주동성중-광주동성고          10000만원       0.493\n",
              "6  광주대성초-광주동성중-광주동성고          10000만원       0.671\n",
              "7  관산초-부천중-야탑고-NC-상무              9000만원        0.000\n",
              "8  관산초-부천중-야탑고-NC-상무              9000만원        0.500\n",
              "9  관산초-부천중-야탑고-NC-상무              9000만원        2.000\n",
              "10 양목초-신월중-중앙고-성균관대-한화        11000만원       0.478"
            ],
            "text/latex": "A data.table: 10 × 29\n\\begin{tabular}{lllllllllllllllllllll}\n batter\\_id & batter\\_name & year & team & avg & G & AB & R & H & 2B & ⋯ & GDP & SLG & OBP & E & height/weight & year\\_born & position & career & starting\\_salary & OPS\\\\\n <int> & <chr> & <int> & <chr> & <chr> & <int> & <int> & <int> & <int> & <int> & ⋯ & <int> & <dbl> & <dbl> & <int> & <chr> & <chr> & <chr> & <chr> & <chr> & <dbl>\\\\\n\\hline\n\t  0 & 가르시아 & 2018 & LG   & 0.350 &  7 & 20 &  1 & 7 & 1 & ⋯ & 1 &  0.550 & 0.409 & 1 & 177cm/93kg  & 1985년 04월 12일 & 내야수(우투우타) & 쿠바 Ciego de Avila Maximo Gomez Baez(대) &           & 0.959\\\\\n\t  1 & 강경학   & 2011 & 한화 & 0.000 &  4 &  2 &  2 & 0 & 0 & ⋯ & 0 &  0.000 & 0.500 & 0 & 180cm/72kg  & 1992년 08월 11일 & 내야수(우투좌타) & 광주대성초-광주동성중-광주동성고          & 10000만원 & 0.500\\\\\n\t  1 & 강경학   & 2014 & 한화 & -     &  4 &  0 &  2 & 0 & 0 & ⋯ & 0 & -9.000 &    NA & 0 & 180cm/72kg  & 1992년 08월 11일 & 내야수(우투좌타) & 광주대성초-광주동성중-광주동성고          & 10000만원 &    NA\\\\\n\t  1 & 강경학   & 2015 & 한화 & 0.130 & 10 & 23 &  3 & 3 & 0 & ⋯ & 0 &  0.130 & 0.286 & 2 & 180cm/72kg  & 1992년 08월 11일 & 내야수(우투좌타) & 광주대성초-광주동성중-광주동성고          & 10000만원 & 0.416\\\\\n\t  1 & 강경학   & 2016 & 한화 & 0.188 & 14 & 32 &  4 & 6 & 1 & ⋯ & 0 &  0.281 & 0.212 & 0 & 180cm/72kg  & 1992년 08월 11일 & 내야수(우투좌타) & 광주대성초-광주동성중-광주동성고          & 10000만원 & 0.493\\\\\n\t  1 & 강경학   & 2017 & 한화 & 0.222 & 11 & 36 & 10 & 8 & 0 & ⋯ & 0 &  0.389 & 0.282 & 1 & 180cm/72kg  & 1992년 08월 11일 & 내야수(우투좌타) & 광주대성초-광주동성중-광주동성고          & 10000만원 & 0.671\\\\\n\t  2 & 강구성   & 2013 & NC   & 0.000 &  3 &  4 &  0 & 0 & 0 & ⋯ & 1 &  0.000 & 0.000 & 0 & 180cm/82kg  & 1993년 06월 09일 & 외야수(우투좌타) & 관산초-부천중-야탑고-NC-상무              & 9000만원  & 0.000\\\\\n\t  2 & 강구성   & 2016 & NC   & 0.000 &  3 &  1 &  0 & 0 & 0 & ⋯ & 1 &  0.000 & 0.500 & 0 & 180cm/82kg  & 1993년 06월 09일 & 외야수(우투좌타) & 관산초-부천중-야탑고-NC-상무              & 9000만원  & 0.500\\\\\n\t  2 & 강구성   & 2017 & NC   & 1.000 &  2 &  1 &  0 & 1 & 0 & ⋯ & 0 &  1.000 & 1.000 & 0 & 180cm/82kg  & 1993년 06월 09일 & 외야수(우투좌타) & 관산초-부천중-야탑고-NC-상무              & 9000만원  & 2.000\\\\\n\t 69 & 김태완   & 2006 & 한화 & 0.200 & 10 & 15 &  0 & 3 & 0 & ⋯ & 1 &  0.200 & 0.278 & 0 & 189cm/105kg & 1984년 01월 27일 & 내야수(우투우타) & 양목초-신월중-중앙고-성균관대-한화        & 11000만원 & 0.478\\\\\n\\end{tabular}\n",
            "text/markdown": "\nA data.table: 10 × 29\n\n| batter_id &lt;int&gt; | batter_name &lt;chr&gt; | year &lt;int&gt; | team &lt;chr&gt; | avg &lt;chr&gt; | G &lt;int&gt; | AB &lt;int&gt; | R &lt;int&gt; | H &lt;int&gt; | 2B &lt;int&gt; | ⋯ ⋯ | GDP &lt;int&gt; | SLG &lt;dbl&gt; | OBP &lt;dbl&gt; | E &lt;int&gt; | height/weight &lt;chr&gt; | year_born &lt;chr&gt; | position &lt;chr&gt; | career &lt;chr&gt; | starting_salary &lt;chr&gt; | OPS &lt;dbl&gt; |\n|---|---|---|---|---|---|---|---|---|---|---|---|---|---|---|---|---|---|---|---|---|\n|  0 | 가르시아 | 2018 | LG   | 0.350 |  7 | 20 |  1 | 7 | 1 | ⋯ | 1 |  0.550 | 0.409 | 1 | 177cm/93kg  | 1985년 04월 12일 | 내야수(우투우타) | 쿠바 Ciego de Avila Maximo Gomez Baez(대) | <!----> | 0.959 |\n|  1 | 강경학   | 2011 | 한화 | 0.000 |  4 |  2 |  2 | 0 | 0 | ⋯ | 0 |  0.000 | 0.500 | 0 | 180cm/72kg  | 1992년 08월 11일 | 내야수(우투좌타) | 광주대성초-광주동성중-광주동성고          | 10000만원 | 0.500 |\n|  1 | 강경학   | 2014 | 한화 | -     |  4 |  0 |  2 | 0 | 0 | ⋯ | 0 | -9.000 |    NA | 0 | 180cm/72kg  | 1992년 08월 11일 | 내야수(우투좌타) | 광주대성초-광주동성중-광주동성고          | 10000만원 |    NA |\n|  1 | 강경학   | 2015 | 한화 | 0.130 | 10 | 23 |  3 | 3 | 0 | ⋯ | 0 |  0.130 | 0.286 | 2 | 180cm/72kg  | 1992년 08월 11일 | 내야수(우투좌타) | 광주대성초-광주동성중-광주동성고          | 10000만원 | 0.416 |\n|  1 | 강경학   | 2016 | 한화 | 0.188 | 14 | 32 |  4 | 6 | 1 | ⋯ | 0 |  0.281 | 0.212 | 0 | 180cm/72kg  | 1992년 08월 11일 | 내야수(우투좌타) | 광주대성초-광주동성중-광주동성고          | 10000만원 | 0.493 |\n|  1 | 강경학   | 2017 | 한화 | 0.222 | 11 | 36 | 10 | 8 | 0 | ⋯ | 0 |  0.389 | 0.282 | 1 | 180cm/72kg  | 1992년 08월 11일 | 내야수(우투좌타) | 광주대성초-광주동성중-광주동성고          | 10000만원 | 0.671 |\n|  2 | 강구성   | 2013 | NC   | 0.000 |  3 |  4 |  0 | 0 | 0 | ⋯ | 1 |  0.000 | 0.000 | 0 | 180cm/82kg  | 1993년 06월 09일 | 외야수(우투좌타) | 관산초-부천중-야탑고-NC-상무              | 9000만원  | 0.000 |\n|  2 | 강구성   | 2016 | NC   | 0.000 |  3 |  1 |  0 | 0 | 0 | ⋯ | 1 |  0.000 | 0.500 | 0 | 180cm/82kg  | 1993년 06월 09일 | 외야수(우투좌타) | 관산초-부천중-야탑고-NC-상무              | 9000만원  | 0.500 |\n|  2 | 강구성   | 2017 | NC   | 1.000 |  2 |  1 |  0 | 1 | 0 | ⋯ | 0 |  1.000 | 1.000 | 0 | 180cm/82kg  | 1993년 06월 09일 | 외야수(우투좌타) | 관산초-부천중-야탑고-NC-상무              | 9000만원  | 2.000 |\n| 69 | 김태완   | 2006 | 한화 | 0.200 | 10 | 15 |  0 | 3 | 0 | ⋯ | 1 |  0.200 | 0.278 | 0 | 189cm/105kg | 1984년 01월 27일 | 내야수(우투우타) | 양목초-신월중-중앙고-성균관대-한화        | 11000만원 | 0.478 |\n\n",
            "text/html": [
              "<table>\n",
              "<caption>A data.table: 10 × 29</caption>\n",
              "<thead>\n",
              "\t<tr><th scope=col>batter_id</th><th scope=col>batter_name</th><th scope=col>year</th><th scope=col>team</th><th scope=col>avg</th><th scope=col>G</th><th scope=col>AB</th><th scope=col>R</th><th scope=col>H</th><th scope=col>2B</th><th scope=col>⋯</th><th scope=col>GDP</th><th scope=col>SLG</th><th scope=col>OBP</th><th scope=col>E</th><th scope=col>height/weight</th><th scope=col>year_born</th><th scope=col>position</th><th scope=col>career</th><th scope=col>starting_salary</th><th scope=col>OPS</th></tr>\n",
              "\t<tr><th scope=col>&lt;int&gt;</th><th scope=col>&lt;chr&gt;</th><th scope=col>&lt;int&gt;</th><th scope=col>&lt;chr&gt;</th><th scope=col>&lt;chr&gt;</th><th scope=col>&lt;int&gt;</th><th scope=col>&lt;int&gt;</th><th scope=col>&lt;int&gt;</th><th scope=col>&lt;int&gt;</th><th scope=col>&lt;int&gt;</th><th scope=col>⋯</th><th scope=col>&lt;int&gt;</th><th scope=col>&lt;dbl&gt;</th><th scope=col>&lt;dbl&gt;</th><th scope=col>&lt;int&gt;</th><th scope=col>&lt;chr&gt;</th><th scope=col>&lt;chr&gt;</th><th scope=col>&lt;chr&gt;</th><th scope=col>&lt;chr&gt;</th><th scope=col>&lt;chr&gt;</th><th scope=col>&lt;dbl&gt;</th></tr>\n",
              "</thead>\n",
              "<tbody>\n",
              "\t<tr><td> 0</td><td>가르시아</td><td>2018</td><td>LG  </td><td>0.350</td><td> 7</td><td>20</td><td> 1</td><td>7</td><td>1</td><td>⋯</td><td>1</td><td> 0.550</td><td>0.409</td><td>1</td><td>177cm/93kg </td><td>1985년 04월 12일</td><td>내야수(우투우타)</td><td>쿠바 Ciego de Avila Maximo Gomez Baez(대)</td><td>         </td><td>0.959</td></tr>\n",
              "\t<tr><td> 1</td><td>강경학  </td><td>2011</td><td>한화</td><td>0.000</td><td> 4</td><td> 2</td><td> 2</td><td>0</td><td>0</td><td>⋯</td><td>0</td><td> 0.000</td><td>0.500</td><td>0</td><td>180cm/72kg </td><td>1992년 08월 11일</td><td>내야수(우투좌타)</td><td>광주대성초-광주동성중-광주동성고         </td><td>10000만원</td><td>0.500</td></tr>\n",
              "\t<tr><td> 1</td><td>강경학  </td><td>2014</td><td>한화</td><td>-    </td><td> 4</td><td> 0</td><td> 2</td><td>0</td><td>0</td><td>⋯</td><td>0</td><td>-9.000</td><td>   NA</td><td>0</td><td>180cm/72kg </td><td>1992년 08월 11일</td><td>내야수(우투좌타)</td><td>광주대성초-광주동성중-광주동성고         </td><td>10000만원</td><td>   NA</td></tr>\n",
              "\t<tr><td> 1</td><td>강경학  </td><td>2015</td><td>한화</td><td>0.130</td><td>10</td><td>23</td><td> 3</td><td>3</td><td>0</td><td>⋯</td><td>0</td><td> 0.130</td><td>0.286</td><td>2</td><td>180cm/72kg </td><td>1992년 08월 11일</td><td>내야수(우투좌타)</td><td>광주대성초-광주동성중-광주동성고         </td><td>10000만원</td><td>0.416</td></tr>\n",
              "\t<tr><td> 1</td><td>강경학  </td><td>2016</td><td>한화</td><td>0.188</td><td>14</td><td>32</td><td> 4</td><td>6</td><td>1</td><td>⋯</td><td>0</td><td> 0.281</td><td>0.212</td><td>0</td><td>180cm/72kg </td><td>1992년 08월 11일</td><td>내야수(우투좌타)</td><td>광주대성초-광주동성중-광주동성고         </td><td>10000만원</td><td>0.493</td></tr>\n",
              "\t<tr><td> 1</td><td>강경학  </td><td>2017</td><td>한화</td><td>0.222</td><td>11</td><td>36</td><td>10</td><td>8</td><td>0</td><td>⋯</td><td>0</td><td> 0.389</td><td>0.282</td><td>1</td><td>180cm/72kg </td><td>1992년 08월 11일</td><td>내야수(우투좌타)</td><td>광주대성초-광주동성중-광주동성고         </td><td>10000만원</td><td>0.671</td></tr>\n",
              "\t<tr><td> 2</td><td>강구성  </td><td>2013</td><td>NC  </td><td>0.000</td><td> 3</td><td> 4</td><td> 0</td><td>0</td><td>0</td><td>⋯</td><td>1</td><td> 0.000</td><td>0.000</td><td>0</td><td>180cm/82kg </td><td>1993년 06월 09일</td><td>외야수(우투좌타)</td><td>관산초-부천중-야탑고-NC-상무             </td><td>9000만원 </td><td>0.000</td></tr>\n",
              "\t<tr><td> 2</td><td>강구성  </td><td>2016</td><td>NC  </td><td>0.000</td><td> 3</td><td> 1</td><td> 0</td><td>0</td><td>0</td><td>⋯</td><td>1</td><td> 0.000</td><td>0.500</td><td>0</td><td>180cm/82kg </td><td>1993년 06월 09일</td><td>외야수(우투좌타)</td><td>관산초-부천중-야탑고-NC-상무             </td><td>9000만원 </td><td>0.500</td></tr>\n",
              "\t<tr><td> 2</td><td>강구성  </td><td>2017</td><td>NC  </td><td>1.000</td><td> 2</td><td> 1</td><td> 0</td><td>1</td><td>0</td><td>⋯</td><td>0</td><td> 1.000</td><td>1.000</td><td>0</td><td>180cm/82kg </td><td>1993년 06월 09일</td><td>외야수(우투좌타)</td><td>관산초-부천중-야탑고-NC-상무             </td><td>9000만원 </td><td>2.000</td></tr>\n",
              "\t<tr><td>69</td><td>김태완  </td><td>2006</td><td>한화</td><td>0.200</td><td>10</td><td>15</td><td> 0</td><td>3</td><td>0</td><td>⋯</td><td>1</td><td> 0.200</td><td>0.278</td><td>0</td><td>189cm/105kg</td><td>1984년 01월 27일</td><td>내야수(우투우타)</td><td>양목초-신월중-중앙고-성균관대-한화       </td><td>11000만원</td><td>0.478</td></tr>\n",
              "</tbody>\n",
              "</table>\n"
            ]
          },
          "metadata": {
            "tags": []
          }
        }
      ]
    },
    {
      "cell_type": "code",
      "metadata": {
        "id": "yW9kUjiNdvw4",
        "colab_type": "code",
        "colab": {}
      },
      "source": [
        ""
      ],
      "execution_count": null,
      "outputs": []
    },
    {
      "cell_type": "markdown",
      "metadata": {
        "id": "OJagqAr-eVbT",
        "colab_type": "text"
      },
      "source": [
        "\n",
        "### 2. 이상값 처리"
      ]
    },
    {
      "cell_type": "markdown",
      "metadata": {
        "id": "I6mwGYBfe2jH",
        "colab_type": "text"
      },
      "source": [
        "* 실제 상황에서는 이상값을 정의하기가 모호한 경우가 많다. 예를 들어, 어떤 사람의 나이가 120살이라고 입력이 되어 있다면 이것은 이상값이라고 할지, 정상값이라고 할지 명확히 판단하기 어렵다. !!"
      ]
    },
    {
      "cell_type": "markdown",
      "metadata": {
        "id": "KDRtZNA8k8Kt",
        "colab_type": "text"
      },
      "source": [
        "* 따라서 이상값을 정의하기가 모호하다면,,, 사분위수(quartiles)와 boxplot을 이용해서 이상값을 추론하자.!!"
      ]
    },
    {
      "cell_type": "code",
      "metadata": {
        "id": "WT4KKYDMH0zA",
        "colab_type": "code",
        "colab": {
          "base_uri": "https://localhost:8080/",
          "height": 183
        },
        "outputId": "810ab000-5340-4847-b207-0f086216cf30"
      },
      "source": [
        "head(DF, 5)"
      ],
      "execution_count": null,
      "outputs": [
        {
          "output_type": "display_data",
          "data": {
            "text/plain": [
              "  batter_id batter_name year team avg   G  AB R H 2B ⋯ GDP SLG    OBP   E\n",
              "1 0         가르시아    2018 LG   0.350  7 20 1 7 1  ⋯ 1    0.550 0.409 1\n",
              "2 1         강경학      2011 한화 0.000  4  2 2 0 0  ⋯ 0    0.000 0.500 0\n",
              "3 1         강경학      2014 한화 -      4  0 2 0 0  ⋯ 0   -9.000    NA 0\n",
              "4 1         강경학      2015 한화 0.130 10 23 3 3 0  ⋯ 0    0.130 0.286 2\n",
              "5 1         강경학      2016 한화 0.188 14 32 4 6 1  ⋯ 0    0.281 0.212 0\n",
              "  height/weight year_born        position        \n",
              "1 177cm/93kg    1985년 04월 12일 내야수(우투우타)\n",
              "2 180cm/72kg    1992년 08월 11일 내야수(우투좌타)\n",
              "3 180cm/72kg    1992년 08월 11일 내야수(우투좌타)\n",
              "4 180cm/72kg    1992년 08월 11일 내야수(우투좌타)\n",
              "5 180cm/72kg    1992년 08월 11일 내야수(우투좌타)\n",
              "  career                                    starting_salary OPS  \n",
              "1 쿠바 Ciego de Avila Maximo Gomez Baez(대)                 0.959\n",
              "2 광주대성초-광주동성중-광주동성고          10000만원       0.500\n",
              "3 광주대성초-광주동성중-광주동성고          10000만원          NA\n",
              "4 광주대성초-광주동성중-광주동성고          10000만원       0.416\n",
              "5 광주대성초-광주동성중-광주동성고          10000만원       0.493"
            ],
            "text/latex": "A data.table: 5 × 29\n\\begin{tabular}{lllllllllllllllllllll}\n batter\\_id & batter\\_name & year & team & avg & G & AB & R & H & 2B & ⋯ & GDP & SLG & OBP & E & height/weight & year\\_born & position & career & starting\\_salary & OPS\\\\\n <int> & <chr> & <int> & <chr> & <chr> & <int> & <int> & <int> & <int> & <int> & ⋯ & <int> & <dbl> & <dbl> & <int> & <chr> & <chr> & <chr> & <chr> & <chr> & <dbl>\\\\\n\\hline\n\t 0 & 가르시아 & 2018 & LG   & 0.350 &  7 & 20 & 1 & 7 & 1 & ⋯ & 1 &  0.550 & 0.409 & 1 & 177cm/93kg & 1985년 04월 12일 & 내야수(우투우타) & 쿠바 Ciego de Avila Maximo Gomez Baez(대) &           & 0.959\\\\\n\t 1 & 강경학   & 2011 & 한화 & 0.000 &  4 &  2 & 2 & 0 & 0 & ⋯ & 0 &  0.000 & 0.500 & 0 & 180cm/72kg & 1992년 08월 11일 & 내야수(우투좌타) & 광주대성초-광주동성중-광주동성고          & 10000만원 & 0.500\\\\\n\t 1 & 강경학   & 2014 & 한화 & -     &  4 &  0 & 2 & 0 & 0 & ⋯ & 0 & -9.000 &    NA & 0 & 180cm/72kg & 1992년 08월 11일 & 내야수(우투좌타) & 광주대성초-광주동성중-광주동성고          & 10000만원 &    NA\\\\\n\t 1 & 강경학   & 2015 & 한화 & 0.130 & 10 & 23 & 3 & 3 & 0 & ⋯ & 0 &  0.130 & 0.286 & 2 & 180cm/72kg & 1992년 08월 11일 & 내야수(우투좌타) & 광주대성초-광주동성중-광주동성고          & 10000만원 & 0.416\\\\\n\t 1 & 강경학   & 2016 & 한화 & 0.188 & 14 & 32 & 4 & 6 & 1 & ⋯ & 0 &  0.281 & 0.212 & 0 & 180cm/72kg & 1992년 08월 11일 & 내야수(우투좌타) & 광주대성초-광주동성중-광주동성고          & 10000만원 & 0.493\\\\\n\\end{tabular}\n",
            "text/markdown": "\nA data.table: 5 × 29\n\n| batter_id &lt;int&gt; | batter_name &lt;chr&gt; | year &lt;int&gt; | team &lt;chr&gt; | avg &lt;chr&gt; | G &lt;int&gt; | AB &lt;int&gt; | R &lt;int&gt; | H &lt;int&gt; | 2B &lt;int&gt; | ⋯ ⋯ | GDP &lt;int&gt; | SLG &lt;dbl&gt; | OBP &lt;dbl&gt; | E &lt;int&gt; | height/weight &lt;chr&gt; | year_born &lt;chr&gt; | position &lt;chr&gt; | career &lt;chr&gt; | starting_salary &lt;chr&gt; | OPS &lt;dbl&gt; |\n|---|---|---|---|---|---|---|---|---|---|---|---|---|---|---|---|---|---|---|---|---|\n| 0 | 가르시아 | 2018 | LG   | 0.350 |  7 | 20 | 1 | 7 | 1 | ⋯ | 1 |  0.550 | 0.409 | 1 | 177cm/93kg | 1985년 04월 12일 | 내야수(우투우타) | 쿠바 Ciego de Avila Maximo Gomez Baez(대) | <!----> | 0.959 |\n| 1 | 강경학   | 2011 | 한화 | 0.000 |  4 |  2 | 2 | 0 | 0 | ⋯ | 0 |  0.000 | 0.500 | 0 | 180cm/72kg | 1992년 08월 11일 | 내야수(우투좌타) | 광주대성초-광주동성중-광주동성고          | 10000만원 | 0.500 |\n| 1 | 강경학   | 2014 | 한화 | -     |  4 |  0 | 2 | 0 | 0 | ⋯ | 0 | -9.000 |    NA | 0 | 180cm/72kg | 1992년 08월 11일 | 내야수(우투좌타) | 광주대성초-광주동성중-광주동성고          | 10000만원 |    NA |\n| 1 | 강경학   | 2015 | 한화 | 0.130 | 10 | 23 | 3 | 3 | 0 | ⋯ | 0 |  0.130 | 0.286 | 2 | 180cm/72kg | 1992년 08월 11일 | 내야수(우투좌타) | 광주대성초-광주동성중-광주동성고          | 10000만원 | 0.416 |\n| 1 | 강경학   | 2016 | 한화 | 0.188 | 14 | 32 | 4 | 6 | 1 | ⋯ | 0 |  0.281 | 0.212 | 0 | 180cm/72kg | 1992년 08월 11일 | 내야수(우투좌타) | 광주대성초-광주동성중-광주동성고          | 10000만원 | 0.493 |\n\n",
            "text/html": [
              "<table>\n",
              "<caption>A data.table: 5 × 29</caption>\n",
              "<thead>\n",
              "\t<tr><th scope=col>batter_id</th><th scope=col>batter_name</th><th scope=col>year</th><th scope=col>team</th><th scope=col>avg</th><th scope=col>G</th><th scope=col>AB</th><th scope=col>R</th><th scope=col>H</th><th scope=col>2B</th><th scope=col>⋯</th><th scope=col>GDP</th><th scope=col>SLG</th><th scope=col>OBP</th><th scope=col>E</th><th scope=col>height/weight</th><th scope=col>year_born</th><th scope=col>position</th><th scope=col>career</th><th scope=col>starting_salary</th><th scope=col>OPS</th></tr>\n",
              "\t<tr><th scope=col>&lt;int&gt;</th><th scope=col>&lt;chr&gt;</th><th scope=col>&lt;int&gt;</th><th scope=col>&lt;chr&gt;</th><th scope=col>&lt;chr&gt;</th><th scope=col>&lt;int&gt;</th><th scope=col>&lt;int&gt;</th><th scope=col>&lt;int&gt;</th><th scope=col>&lt;int&gt;</th><th scope=col>&lt;int&gt;</th><th scope=col>⋯</th><th scope=col>&lt;int&gt;</th><th scope=col>&lt;dbl&gt;</th><th scope=col>&lt;dbl&gt;</th><th scope=col>&lt;int&gt;</th><th scope=col>&lt;chr&gt;</th><th scope=col>&lt;chr&gt;</th><th scope=col>&lt;chr&gt;</th><th scope=col>&lt;chr&gt;</th><th scope=col>&lt;chr&gt;</th><th scope=col>&lt;dbl&gt;</th></tr>\n",
              "</thead>\n",
              "<tbody>\n",
              "\t<tr><td>0</td><td>가르시아</td><td>2018</td><td>LG  </td><td>0.350</td><td> 7</td><td>20</td><td>1</td><td>7</td><td>1</td><td>⋯</td><td>1</td><td> 0.550</td><td>0.409</td><td>1</td><td>177cm/93kg</td><td>1985년 04월 12일</td><td>내야수(우투우타)</td><td>쿠바 Ciego de Avila Maximo Gomez Baez(대)</td><td>         </td><td>0.959</td></tr>\n",
              "\t<tr><td>1</td><td>강경학  </td><td>2011</td><td>한화</td><td>0.000</td><td> 4</td><td> 2</td><td>2</td><td>0</td><td>0</td><td>⋯</td><td>0</td><td> 0.000</td><td>0.500</td><td>0</td><td>180cm/72kg</td><td>1992년 08월 11일</td><td>내야수(우투좌타)</td><td>광주대성초-광주동성중-광주동성고         </td><td>10000만원</td><td>0.500</td></tr>\n",
              "\t<tr><td>1</td><td>강경학  </td><td>2014</td><td>한화</td><td>-    </td><td> 4</td><td> 0</td><td>2</td><td>0</td><td>0</td><td>⋯</td><td>0</td><td>-9.000</td><td>   NA</td><td>0</td><td>180cm/72kg</td><td>1992년 08월 11일</td><td>내야수(우투좌타)</td><td>광주대성초-광주동성중-광주동성고         </td><td>10000만원</td><td>   NA</td></tr>\n",
              "\t<tr><td>1</td><td>강경학  </td><td>2015</td><td>한화</td><td>0.130</td><td>10</td><td>23</td><td>3</td><td>3</td><td>0</td><td>⋯</td><td>0</td><td> 0.130</td><td>0.286</td><td>2</td><td>180cm/72kg</td><td>1992년 08월 11일</td><td>내야수(우투좌타)</td><td>광주대성초-광주동성중-광주동성고         </td><td>10000만원</td><td>0.416</td></tr>\n",
              "\t<tr><td>1</td><td>강경학  </td><td>2016</td><td>한화</td><td>0.188</td><td>14</td><td>32</td><td>4</td><td>6</td><td>1</td><td>⋯</td><td>0</td><td> 0.281</td><td>0.212</td><td>0</td><td>180cm/72kg</td><td>1992년 08월 11일</td><td>내야수(우투좌타)</td><td>광주대성초-광주동성중-광주동성고         </td><td>10000만원</td><td>0.493</td></tr>\n",
              "</tbody>\n",
              "</table>\n"
            ]
          },
          "metadata": {
            "tags": []
          }
        }
      ]
    },
    {
      "cell_type": "code",
      "metadata": {
        "id": "mEUgXv6WeeI6",
        "colab_type": "code",
        "colab": {
          "base_uri": "https://localhost:8080/",
          "height": 289
        },
        "outputId": "2f41284c-810d-43e7-f07e-22a4614f1f1f"
      },
      "source": [
        "# 모든 열의 4분위수 구하기!!!!\n",
        "summary(airquality)"
      ],
      "execution_count": null,
      "outputs": [
        {
          "output_type": "display_data",
          "data": {
            "text/plain": [
              "     Ozone           Solar.R           Wind             Temp      \n",
              " Min.   :  1.00   Min.   :  7.0   Min.   : 1.700   Min.   :56.00  \n",
              " 1st Qu.: 18.00   1st Qu.:115.8   1st Qu.: 7.400   1st Qu.:72.00  \n",
              " Median : 31.50   Median :205.0   Median : 9.700   Median :79.00  \n",
              " Mean   : 42.13   Mean   :185.9   Mean   : 9.958   Mean   :77.88  \n",
              " 3rd Qu.: 63.25   3rd Qu.:258.8   3rd Qu.:11.500   3rd Qu.:85.00  \n",
              " Max.   :168.00   Max.   :334.0   Max.   :20.700   Max.   :97.00  \n",
              " NA's   :37       NA's   :7                                       \n",
              "     Month            Day      \n",
              " Min.   :5.000   Min.   : 1.0  \n",
              " 1st Qu.:6.000   1st Qu.: 8.0  \n",
              " Median :7.000   Median :16.0  \n",
              " Mean   :6.993   Mean   :15.8  \n",
              " 3rd Qu.:8.000   3rd Qu.:23.0  \n",
              " Max.   :9.000   Max.   :31.0  \n",
              "                               "
            ]
          },
          "metadata": {
            "tags": []
          }
        }
      ]
    },
    {
      "cell_type": "code",
      "metadata": {
        "id": "rxFWdpWPlc8i",
        "colab_type": "code",
        "colab": {
          "base_uri": "https://localhost:8080/",
          "height": 85
        },
        "outputId": "5ef2e15f-eb64-479b-f2ec-1dc68132c6a7"
      },
      "source": [
        "quar <- summary(airquality)\n",
        "str(quar)"
      ],
      "execution_count": null,
      "outputs": [
        {
          "output_type": "stream",
          "text": [
            " 'table' chr [1:7, 1:6] \"Min.   :  1.00  \" \"1st Qu.: 18.00  \" ...\n",
            " - attr(*, \"dimnames\")=List of 2\n",
            "  ..$ : chr [1:7] \"\" \"\" \"\" \"\" ...\n",
            "  ..$ : chr [1:6] \"    Ozone\" \"   Solar.R\" \"     Wind\" \"     Temp\" ...\n"
          ],
          "name": "stdout"
        }
      ]
    },
    {
      "cell_type": "code",
      "metadata": {
        "id": "EvjukLY3ouKe",
        "colab_type": "code",
        "colab": {
          "base_uri": "https://localhost:8080/",
          "height": 34
        },
        "outputId": "1deb3a10-177e-4124-a67b-4ec4f0540a98"
      },
      "source": [
        "quar[, 1] # 첫 번째 열, Ozone"
      ],
      "execution_count": null,
      "outputs": [
        {
          "output_type": "display_data",
          "data": {
            "text/plain": [
              "                                                                            \n",
              "\"Min.   :  1.00  \" \"1st Qu.: 18.00  \" \"Median : 31.50  \" \"Mean   : 42.13  \" \n",
              "                                                         \n",
              "\"3rd Qu.: 63.25  \" \"Max.   :168.00  \"     \"NA's   :37  \" "
            ],
            "text/latex": "\\begin{description*}\n\\item[1] 'Min.   :  1.00  '\n\\item[2] '1st Qu.: 18.00  '\n\\item[3] 'Median : 31.50  '\n\\item[4] 'Mean   : 42.13  '\n\\item[5] '3rd Qu.: 63.25  '\n\\item[6] 'Max.   :168.00  '\n\\item[7] 'NA\\textbackslash{}'s   :37  '\n\\end{description*}\n",
            "text/markdown": "1\n:   <span style=white-space:pre-wrap>'Min.   :  1.00  '</span>2\n:   <span style=white-space:pre-wrap>'1st Qu.: 18.00  '</span>3\n:   <span style=white-space:pre-wrap>'Median : 31.50  '</span>4\n:   <span style=white-space:pre-wrap>'Mean   : 42.13  '</span>5\n:   <span style=white-space:pre-wrap>'3rd Qu.: 63.25  '</span>6\n:   <span style=white-space:pre-wrap>'Max.   :168.00  '</span>7\n:   <span style=white-space:pre-wrap>'NA\\'s   :37  '</span>\n\n",
            "text/html": [
              "<style>\n",
              ".dl-inline {width: auto; margin:0; padding: 0}\n",
              ".dl-inline>dt, .dl-inline>dd {float: none; width: auto; display: inline-block}\n",
              ".dl-inline>dt::after {content: \":\\0020\"; padding-right: .5ex}\n",
              ".dl-inline>dt:not(:first-of-type) {padding-left: .5ex}\n",
              "</style><dl class=dl-inline><dt>1</dt><dd><span style=white-space:pre-wrap>'Min.   :  1.00  '</span></dd><dt>2</dt><dd><span style=white-space:pre-wrap>'1st Qu.: 18.00  '</span></dd><dt>3</dt><dd><span style=white-space:pre-wrap>'Median : 31.50  '</span></dd><dt>4</dt><dd><span style=white-space:pre-wrap>'Mean   : 42.13  '</span></dd><dt>5</dt><dd><span style=white-space:pre-wrap>'3rd Qu.: 63.25  '</span></dd><dt>6</dt><dd><span style=white-space:pre-wrap>'Max.   :168.00  '</span></dd><dt>7</dt><dd><span style=white-space:pre-wrap>'NA\\'s   :37  '</span></dd></dl>\n"
            ]
          },
          "metadata": {
            "tags": []
          }
        }
      ]
    },
    {
      "cell_type": "code",
      "metadata": {
        "id": "xFkdyxLsoCGU",
        "colab_type": "code",
        "colab": {
          "base_uri": "https://localhost:8080/",
          "height": 1000
        },
        "outputId": "31150796-6b20-4fd2-8bbe-b55134e8172d"
      },
      "source": [
        "# 또한, boxplot으로 그래프와 수치까지 확인할 수 있다\n",
        "boxplot(airquality$Ozone)$stats ## 1개만 그린다면\n",
        "boxplot(airquality[, c(1:4)])$stats\n",
        "\n",
        "# min, 1사분위수, 중앙값, 3사분위수, 최대값(초과시 이상값 분류 가능)"
      ],
      "execution_count": null,
      "outputs": [
        {
          "output_type": "display_data",
          "data": {
            "text/plain": [
              "      [,1]\n",
              "[1,]   1.0\n",
              "[2,]  18.0\n",
              "[3,]  31.5\n",
              "[4,]  63.5\n",
              "[5,] 122.0\n",
              "attr(,\"class\")\n",
              "        1 \n",
              "\"integer\" "
            ],
            "text/latex": "\\begin{enumerate*}\n\\item 1\n\\item 18\n\\item 31.5\n\\item 63.5\n\\item 122\n\\end{enumerate*}\n",
            "text/markdown": "1. 1\n2. 18\n3. 31.5\n4. 63.5\n5. 122\n\n\n",
            "text/html": [
              "<style>\n",
              ".list-inline {list-style: none; margin:0; padding: 0}\n",
              ".list-inline>li {display: inline-block}\n",
              ".list-inline>li:not(:last-child)::after {content: \"\\00b7\"; padding: 0 .5ex}\n",
              "</style>\n",
              "<ol class=list-inline><li>1</li><li>18</li><li>31.5</li><li>63.5</li><li>122</li></ol>\n"
            ]
          },
          "metadata": {
            "tags": []
          }
        },
        {
          "output_type": "display_data",
          "data": {
            "image/png": "[encoded data removed]",
            "text/plain": [
              "plot without title"
            ]
          },
          "metadata": {
            "tags": [],
            "image/png": {
              "width": 420,
              "height": 420
            },
            "text/plain": {
              "width": 420,
              "height": 420
            }
          }
        },
        {
          "output_type": "display_data",
          "data": {
            "text/plain": [
              "     [,1]  [,2] [,3] [,4]\n",
              "[1,]   1.0   7   1.7 56  \n",
              "[2,]  18.0 115   7.4 72  \n",
              "[3,]  31.5 205   9.7 79  \n",
              "[4,]  63.5 259  11.5 85  \n",
              "[5,] 122.0 334  16.6 97  "
            ],
            "text/latex": "A matrix: 5 × 4 of type dbl\n\\begin{tabular}{llll}\n\t   1.0 &   7 &  1.7 & 56\\\\\n\t  18.0 & 115 &  7.4 & 72\\\\\n\t  31.5 & 205 &  9.7 & 79\\\\\n\t  63.5 & 259 & 11.5 & 85\\\\\n\t 122.0 & 334 & 16.6 & 97\\\\\n\\end{tabular}\n",
            "text/markdown": "\nA matrix: 5 × 4 of type dbl\n\n|   1.0 |   7 |  1.7 | 56 |\n|  18.0 | 115 |  7.4 | 72 |\n|  31.5 | 205 |  9.7 | 79 |\n|  63.5 | 259 | 11.5 | 85 |\n| 122.0 | 334 | 16.6 | 97 |\n\n",
            "text/html": [
              "<table>\n",
              "<caption>A matrix: 5 × 4 of type dbl</caption>\n",
              "<tbody>\n",
              "\t<tr><td>  1.0</td><td>  7</td><td> 1.7</td><td>56</td></tr>\n",
              "\t<tr><td> 18.0</td><td>115</td><td> 7.4</td><td>72</td></tr>\n",
              "\t<tr><td> 31.5</td><td>205</td><td> 9.7</td><td>79</td></tr>\n",
              "\t<tr><td> 63.5</td><td>259</td><td>11.5</td><td>85</td></tr>\n",
              "\t<tr><td>122.0</td><td>334</td><td>16.6</td><td>97</td></tr>\n",
              "</tbody>\n",
              "</table>\n"
            ]
          },
          "metadata": {
            "tags": []
          }
        },
        {
          "output_type": "display_data",
          "data": {
            "image/png": "[encoded data removed]",
            "text/plain": [
              "plot without title"
            ]
          },
          "metadata": {
            "tags": [],
            "image/png": {
              "width": 420,
              "height": 420
            },
            "text/plain": {
              "width": 420,
              "height": 420
            }
          }
        }
      ]
    },
    {
      "cell_type": "code",
      "metadata": {
        "id": "kHOlqe4enrTI",
        "colab_type": "code",
        "colab": {
          "base_uri": "https://localhost:8080/",
          "height": 51
        },
        "outputId": "cf0fb25a-1a31-40c9-c5e2-a3530399779d"
      },
      "source": [
        "IQR(airquality$Ozone, na.rm = T)\n",
        "IQR(airquality$Day)"
      ],
      "execution_count": null,
      "outputs": [
        {
          "output_type": "display_data",
          "data": {
            "text/plain": [
              "[1] 45.25"
            ],
            "text/latex": "45.25",
            "text/markdown": "45.25",
            "text/html": [
              "45.25"
            ]
          },
          "metadata": {
            "tags": []
          }
        },
        {
          "output_type": "display_data",
          "data": {
            "text/plain": [
              "[1] 15"
            ],
            "text/latex": "15",
            "text/markdown": "15",
            "text/html": [
              "15"
            ]
          },
          "metadata": {
            "tags": []
          }
        }
      ]
    },
    {
      "cell_type": "markdown",
      "metadata": {
        "id": "GxLVKo2wo4xP",
        "colab_type": "text"
      },
      "source": [
        "####실습 데이터를 가지고 확인해보자!"
      ]
    },
    {
      "cell_type": "code",
      "metadata": {
        "id": "TYTpO5HTo7md",
        "colab_type": "code",
        "colab": {
          "base_uri": "https://localhost:8080/",
          "height": 1000
        },
        "outputId": "11b8bbb7-6148-4165-e173-7e0bd15641ab"
      },
      "source": [
        "DF <- fread(\"ftp://210.115.229.94/2020_datascience/6th_data/Pre_Season_Batter.csv\", encoding = \"UTF-8\")\n",
        "summary(DF)"
      ],
      "execution_count": null,
      "outputs": [
        {
          "output_type": "display_data",
          "data": {
            "text/plain": [
              "   batter_id     batter_name             year          team          \n",
              " Min.   :  0.0   Length:1393        Min.   :2002   Length:1393       \n",
              " 1st Qu.: 99.0   Class :character   1st Qu.:2010   Class :character  \n",
              " Median :178.0   Mode  :character   Median :2014   Mode  :character  \n",
              " Mean   :173.4                      Mean   :2013                     \n",
              " 3rd Qu.:254.0                      3rd Qu.:2017                     \n",
              " Max.   :344.0                      Max.   :2018                     \n",
              "                                                                     \n",
              "     avg                  G                 AB              R        \n",
              " Length:1393        Min.   :  1.000   Min.   :  0.0   Min.   : 0.00  \n",
              " Class :character   1st Qu.:  6.000   1st Qu.:  9.0   1st Qu.: 1.00  \n",
              " Mode  :character   Median :  9.000   Median : 18.0   Median : 2.00  \n",
              "                    Mean   :  8.706   Mean   : 19.2   Mean   : 2.68  \n",
              "                    3rd Qu.: 11.000   3rd Qu.: 28.0   3rd Qu.: 4.00  \n",
              "                    Max.   :119.000   Max.   :183.0   Max.   :35.00  \n",
              "                                                                     \n",
              "       H                2B                3B               HR       \n",
              " Min.   : 0.000   Min.   : 0.0000   Min.   :0.0000   Min.   :0.000  \n",
              " 1st Qu.: 2.000   1st Qu.: 0.0000   1st Qu.:0.0000   1st Qu.:0.000  \n",
              " Median : 4.000   Median : 1.0000   Median :0.0000   Median :0.000  \n",
              " Mean   : 5.022   Mean   : 0.9548   Mean   :0.1199   Mean   :0.392  \n",
              " 3rd Qu.: 8.000   3rd Qu.: 2.0000   3rd Qu.:0.0000   3rd Qu.:1.000  \n",
              " Max.   :51.000   Max.   :11.0000   Max.   :4.0000   Max.   :5.000  \n",
              "                                                                    \n",
              "       TB              RBI               SB               CS        \n",
              " Min.   : 0.000   Min.   : 0.000   Min.   :0.0000   Min.   :0.0000  \n",
              " 1st Qu.: 2.000   1st Qu.: 0.000   1st Qu.:0.0000   1st Qu.:0.0000  \n",
              " Median : 6.000   Median : 2.000   Median :0.0000   Median :0.0000  \n",
              " Mean   : 7.392   Mean   : 2.431   Mean   :0.6296   Mean   :0.2915  \n",
              " 3rd Qu.:11.000   3rd Qu.: 4.000   3rd Qu.:1.0000   3rd Qu.:0.0000  \n",
              " Max.   :68.000   Max.   :24.000   Max.   :9.0000   Max.   :4.0000  \n",
              "                                                                    \n",
              "       BB              HBP               SO              GDP        \n",
              " Min.   : 0.000   Min.   :0.0000   Min.   : 0.000   Min.   :0.0000  \n",
              " 1st Qu.: 0.000   1st Qu.:0.0000   1st Qu.: 1.000   1st Qu.:0.0000  \n",
              " Median : 1.000   Median :0.0000   Median : 3.000   Median :0.0000  \n",
              " Mean   : 1.878   Mean   :0.3302   Mean   : 3.714   Mean   :0.4472  \n",
              " 3rd Qu.: 3.000   3rd Qu.:1.0000   3rd Qu.: 5.000   3rd Qu.:1.0000  \n",
              " Max.   :21.000   Max.   :4.0000   Max.   :36.000   Max.   :5.0000  \n",
              "                                                                    \n",
              "      SLG              OBP               E          height/weight     \n",
              " Min.   :0.0000   Min.   :0.0000   Min.   :0.0000   Length:1393       \n",
              " 1st Qu.:0.2170   1st Qu.:0.2500   1st Qu.:0.0000   Class :character  \n",
              " Median :0.3445   Median :0.3330   Median :0.0000   Mode  :character  \n",
              " Mean   :0.3610   Mean   :0.3179   Mean   :0.3819                     \n",
              " 3rd Qu.:0.4780   3rd Qu.:0.4000   3rd Qu.:1.0000                     \n",
              " Max.   :4.0000   Max.   :1.0000   Max.   :5.0000                     \n",
              " NA's   :29       NA's   :25                                          \n",
              "  year_born           position            career          starting_salary   \n",
              " Length:1393        Length:1393        Length:1393        Length:1393       \n",
              " Class :character   Class :character   Class :character   Class :character  \n",
              " Mode  :character   Mode  :character   Mode  :character   Mode  :character  \n",
              "                                                                            \n",
              "                                                                            \n",
              "                                                                            \n",
              "                                                                            \n",
              "      OPS        \n",
              " Min.   :0.0000  \n",
              " 1st Qu.:0.4720  \n",
              " Median :0.6750  \n",
              " Mean   :0.6769  \n",
              " 3rd Qu.:0.8670  \n",
              " Max.   :5.0000  \n",
              " NA's   :29      "
            ]
          },
          "metadata": {
            "tags": []
          }
        }
      ]
    },
    {
      "cell_type": "code",
      "metadata": {
        "id": "-Is3wToypBX2",
        "colab_type": "code",
        "colab": {
          "base_uri": "https://localhost:8080/",
          "height": 595
        },
        "outputId": "9ced4406-526a-4703-dc12-c47cc8d8385b"
      },
      "source": [
        "boxplot(DF$SLG)$stats "
      ],
      "execution_count": null,
      "outputs": [
        {
          "output_type": "display_data",
          "data": {
            "text/plain": [
              "     [,1]  \n",
              "[1,] 0.0000\n",
              "[2,] 0.2170\n",
              "[3,] 0.3445\n",
              "[4,] 0.4780\n",
              "[5,] 0.8640"
            ],
            "text/latex": "A matrix: 5 × 1 of type dbl\n\\begin{tabular}{l}\n\t 0.0000\\\\\n\t 0.2170\\\\\n\t 0.3445\\\\\n\t 0.4780\\\\\n\t 0.8640\\\\\n\\end{tabular}\n",
            "text/markdown": "\nA matrix: 5 × 1 of type dbl\n\n| 0.0000 |\n| 0.2170 |\n| 0.3445 |\n| 0.4780 |\n| 0.8640 |\n\n",
            "text/html": [
              "<table>\n",
              "<caption>A matrix: 5 × 1 of type dbl</caption>\n",
              "<tbody>\n",
              "\t<tr><td>0.0000</td></tr>\n",
              "\t<tr><td>0.2170</td></tr>\n",
              "\t<tr><td>0.3445</td></tr>\n",
              "\t<tr><td>0.4780</td></tr>\n",
              "\t<tr><td>0.8640</td></tr>\n",
              "</tbody>\n",
              "</table>\n"
            ]
          },
          "metadata": {
            "tags": []
          }
        },
        {
          "output_type": "display_data",
          "data": {
            "image/png": "[encoded data removed]",
            "text/plain": [
              "plot without title"
            ]
          },
          "metadata": {
            "tags": [],
            "image/png": {
              "width": 420,
              "height": 420
            },
            "text/plain": {
              "width": 420,
              "height": 420
            }
          }
        }
      ]
    },
    {
      "cell_type": "code",
      "metadata": {
        "id": "RTW6kI5pqxmx",
        "colab_type": "code",
        "colab": {
          "base_uri": "https://localhost:8080/",
          "height": 629
        },
        "outputId": "d75c8812-ef7f-45ff-ff67-1217e86381bf"
      },
      "source": [
        "boxplot(DF$OBP)$stats "
      ],
      "execution_count": null,
      "outputs": [
        {
          "output_type": "display_data",
          "data": {
            "text/plain": [
              "     [,1] \n",
              "[1,] 0.063\n",
              "[2,] 0.250\n",
              "[3,] 0.333\n",
              "[4,] 0.400\n",
              "[5,] 0.625"
            ],
            "text/latex": "A matrix: 5 × 1 of type dbl\n\\begin{tabular}{l}\n\t 0.063\\\\\n\t 0.250\\\\\n\t 0.333\\\\\n\t 0.400\\\\\n\t 0.625\\\\\n\\end{tabular}\n",
            "text/markdown": "\nA matrix: 5 × 1 of type dbl\n\n| 0.063 |\n| 0.250 |\n| 0.333 |\n| 0.400 |\n| 0.625 |\n\n",
            "text/html": [
              "<table>\n",
              "<caption>A matrix: 5 × 1 of type dbl</caption>\n",
              "<tbody>\n",
              "\t<tr><td>0.063</td></tr>\n",
              "\t<tr><td>0.250</td></tr>\n",
              "\t<tr><td>0.333</td></tr>\n",
              "\t<tr><td>0.400</td></tr>\n",
              "\t<tr><td>0.625</td></tr>\n",
              "</tbody>\n",
              "</table>\n"
            ]
          },
          "metadata": {
            "tags": []
          }
        },
        {
          "output_type": "display_data",
          "data": {
            "image/png": "[encoded data removed]",
            "text/plain": [
              "plot without title"
            ]
          },
          "metadata": {
            "tags": [],
            "image/png": {
              "width": 420,
              "height": 420
            },
            "text/plain": {
              "width": 420,
              "height": 420
            }
          }
        }
      ]
    },
    {
      "cell_type": "code",
      "metadata": {
        "id": "1FX12r1vq5QO",
        "colab_type": "code",
        "colab": {
          "base_uri": "https://localhost:8080/",
          "height": 437
        },
        "outputId": "349d729e-ed22-4283-ee55-5f9b7d80707d"
      },
      "source": [
        "boxplot(DF[, 6:14])"
      ],
      "execution_count": null,
      "outputs": [
        {
          "output_type": "display_data",
          "data": {
            "image/png": "[encoded data removed]",
            "text/plain": [
              "plot without title"
            ]
          },
          "metadata": {
            "tags": [],
            "image/png": {
              "width": 420,
              "height": 420
            },
            "text/plain": {
              "width": 420,
              "height": 420
            }
          }
        }
      ]
    },
    {
      "cell_type": "code",
      "metadata": {
        "id": "DHYvUTFVrJBP",
        "colab_type": "code",
        "colab": {}
      },
      "source": [
        "## 모든 열의 IQR구하기!!\n",
        "## IQR = Q3 - Q1\n",
        "## 하지만 우리는 이미 존재하는 함수, IQR를 이용한다\n",
        "\n",
        "IQRs <- function(DF){\n",
        "  iqrs <- lapply(X = DF, function(col){\n",
        "    return_value <- NULL\n",
        "    if(class(col) != 'character'){\n",
        "      return_value <- IQR(col, na.rm = T)\n",
        "    } else {\n",
        "      return_value <- -999\n",
        "    }\n",
        "    return(return_value)\n",
        "  })\n",
        "  return(iqrs)\n",
        "}\n",
        "\n"
      ],
      "execution_count": null,
      "outputs": []
    },
    {
      "cell_type": "markdown",
      "metadata": {
        "id": "wfwaSBAiU5h-",
        "colab_type": "text"
      },
      "source": [
        "What is lower and upper fence?\n",
        "\n",
        "The Lower fence is the \"lower limit\" and the Upper fence is the \"upper limit\" of data, and any data lying outside this defined bounds can be considered an outlier.\n",
        "\n",
        "\n",
        "\n",
        "```\n",
        "LF = Q1 - 1.5 * IQR\n",
        "UF = Q3 + 1.5 * IQR\n",
        "```\n",
        "\n",
        "\n"
      ]
    },
    {
      "cell_type": "code",
      "metadata": {
        "id": "AThkjg4gVIgx",
        "colab_type": "code",
        "colab": {}
      },
      "source": [
        ""
      ],
      "execution_count": null,
      "outputs": []
    },
    {
      "cell_type": "code",
      "metadata": {
        "id": "8ia0IXhKr2jk",
        "colab_type": "code",
        "colab": {
          "base_uri": "https://localhost:8080/",
          "height": 272
        },
        "outputId": "34aba9e1-8a06-4395-a950-1a3d9a6856d3"
      },
      "source": [
        "library(tidyverse)"
      ],
      "execution_count": null,
      "outputs": [
        {
          "output_type": "stream",
          "text": [
            "── \u001b[1mAttaching packages\u001b[22m ─────────────────────────────────────── tidyverse 1.3.0 ──\n",
            "\n",
            "\u001b[32m✔\u001b[39m \u001b[34mggplot2\u001b[39m 3.3.0     \u001b[32m✔\u001b[39m \u001b[34mpurrr  \u001b[39m 0.3.3\n",
            "\u001b[32m✔\u001b[39m \u001b[34mtibble \u001b[39m 3.0.0     \u001b[32m✔\u001b[39m \u001b[34mdplyr  \u001b[39m 0.8.5\n",
            "\u001b[32m✔\u001b[39m \u001b[34mtidyr  \u001b[39m 1.0.2     \u001b[32m✔\u001b[39m \u001b[34mstringr\u001b[39m 1.4.0\n",
            "\u001b[32m✔\u001b[39m \u001b[34mreadr  \u001b[39m 1.3.1     \u001b[32m✔\u001b[39m \u001b[34mforcats\u001b[39m 0.5.0\n",
            "\n",
            "── \u001b[1mConflicts\u001b[22m ────────────────────────────────────────── tidyverse_conflicts() ──\n",
            "\u001b[31m✖\u001b[39m \u001b[34mdplyr\u001b[39m::\u001b[32mbetween()\u001b[39m   masks \u001b[34mdata.table\u001b[39m::between()\n",
            "\u001b[31m✖\u001b[39m \u001b[34mdplyr\u001b[39m::\u001b[32mfilter()\u001b[39m    masks \u001b[34mstats\u001b[39m::filter()\n",
            "\u001b[31m✖\u001b[39m \u001b[34mdplyr\u001b[39m::\u001b[32mfirst()\u001b[39m     masks \u001b[34mdata.table\u001b[39m::first()\n",
            "\u001b[31m✖\u001b[39m \u001b[34mdplyr\u001b[39m::\u001b[32mlag()\u001b[39m       masks \u001b[34mstats\u001b[39m::lag()\n",
            "\u001b[31m✖\u001b[39m \u001b[34mdplyr\u001b[39m::\u001b[32mlast()\u001b[39m      masks \u001b[34mdata.table\u001b[39m::last()\n",
            "\u001b[31m✖\u001b[39m \u001b[34mpurrr\u001b[39m::\u001b[32mtranspose()\u001b[39m masks \u001b[34mdata.table\u001b[39m::transpose()\n",
            "\n"
          ],
          "name": "stderr"
        }
      ]
    },
    {
      "cell_type": "code",
      "metadata": {
        "id": "QJDGoMV-srGk",
        "colab_type": "code",
        "colab": {
          "base_uri": "https://localhost:8080/",
          "height": 99
        },
        "outputId": "407205f7-4225-48c6-8fb2-9a19ae74c153"
      },
      "source": [
        "IQRs(DF) %>% bind_cols()"
      ],
      "execution_count": null,
      "outputs": [
        {
          "output_type": "display_data",
          "data": {
            "text/plain": [
              "  batter_id batter_name year team avg  G AB R H 2B ⋯ GDP SLG   OBP  E\n",
              "1 155       -999        7    -999 -999 5 19 3 6 2  ⋯ 1   0.276 0.15 1\n",
              "  height/weight year_born position career starting_salary OPS  \n",
              "1 -999          -999      -999     -999   -999            0.395"
            ],
            "text/latex": "A tibble: 1 × 29\n\\begin{tabular}{lllllllllllllllllllll}\n batter\\_id & batter\\_name & year & team & avg & G & AB & R & H & 2B & ⋯ & GDP & SLG & OBP & E & height/weight & year\\_born & position & career & starting\\_salary & OPS\\\\\n <dbl> & <dbl> & <dbl> & <dbl> & <dbl> & <dbl> & <dbl> & <dbl> & <dbl> & <dbl> & ⋯ & <dbl> & <dbl> & <dbl> & <dbl> & <dbl> & <dbl> & <dbl> & <dbl> & <dbl> & <dbl>\\\\\n\\hline\n\t 155 & -999 & 7 & -999 & -999 & 5 & 19 & 3 & 6 & 2 & ⋯ & 1 & 0.276 & 0.15 & 1 & -999 & -999 & -999 & -999 & -999 & 0.395\\\\\n\\end{tabular}\n",
            "text/markdown": "\nA tibble: 1 × 29\n\n| batter_id &lt;dbl&gt; | batter_name &lt;dbl&gt; | year &lt;dbl&gt; | team &lt;dbl&gt; | avg &lt;dbl&gt; | G &lt;dbl&gt; | AB &lt;dbl&gt; | R &lt;dbl&gt; | H &lt;dbl&gt; | 2B &lt;dbl&gt; | ⋯ ⋯ | GDP &lt;dbl&gt; | SLG &lt;dbl&gt; | OBP &lt;dbl&gt; | E &lt;dbl&gt; | height/weight &lt;dbl&gt; | year_born &lt;dbl&gt; | position &lt;dbl&gt; | career &lt;dbl&gt; | starting_salary &lt;dbl&gt; | OPS &lt;dbl&gt; |\n|---|---|---|---|---|---|---|---|---|---|---|---|---|---|---|---|---|---|---|---|---|\n| 155 | -999 | 7 | -999 | -999 | 5 | 19 | 3 | 6 | 2 | ⋯ | 1 | 0.276 | 0.15 | 1 | -999 | -999 | -999 | -999 | -999 | 0.395 |\n\n",
            "text/html": [
              "<table>\n",
              "<caption>A tibble: 1 × 29</caption>\n",
              "<thead>\n",
              "\t<tr><th scope=col>batter_id</th><th scope=col>batter_name</th><th scope=col>year</th><th scope=col>team</th><th scope=col>avg</th><th scope=col>G</th><th scope=col>AB</th><th scope=col>R</th><th scope=col>H</th><th scope=col>2B</th><th scope=col>⋯</th><th scope=col>GDP</th><th scope=col>SLG</th><th scope=col>OBP</th><th scope=col>E</th><th scope=col>height/weight</th><th scope=col>year_born</th><th scope=col>position</th><th scope=col>career</th><th scope=col>starting_salary</th><th scope=col>OPS</th></tr>\n",
              "\t<tr><th scope=col>&lt;dbl&gt;</th><th scope=col>&lt;dbl&gt;</th><th scope=col>&lt;dbl&gt;</th><th scope=col>&lt;dbl&gt;</th><th scope=col>&lt;dbl&gt;</th><th scope=col>&lt;dbl&gt;</th><th scope=col>&lt;dbl&gt;</th><th scope=col>&lt;dbl&gt;</th><th scope=col>&lt;dbl&gt;</th><th scope=col>&lt;dbl&gt;</th><th scope=col>⋯</th><th scope=col>&lt;dbl&gt;</th><th scope=col>&lt;dbl&gt;</th><th scope=col>&lt;dbl&gt;</th><th scope=col>&lt;dbl&gt;</th><th scope=col>&lt;dbl&gt;</th><th scope=col>&lt;dbl&gt;</th><th scope=col>&lt;dbl&gt;</th><th scope=col>&lt;dbl&gt;</th><th scope=col>&lt;dbl&gt;</th><th scope=col>&lt;dbl&gt;</th></tr>\n",
              "</thead>\n",
              "<tbody>\n",
              "\t<tr><td>155</td><td>-999</td><td>7</td><td>-999</td><td>-999</td><td>5</td><td>19</td><td>3</td><td>6</td><td>2</td><td>⋯</td><td>1</td><td>0.276</td><td>0.15</td><td>1</td><td>-999</td><td>-999</td><td>-999</td><td>-999</td><td>-999</td><td>0.395</td></tr>\n",
              "</tbody>\n",
              "</table>\n"
            ]
          },
          "metadata": {
            "tags": []
          }
        }
      ]
    }
  ]
}