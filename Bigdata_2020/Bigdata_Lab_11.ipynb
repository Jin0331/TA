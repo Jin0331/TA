{
  "nbformat": 4,
  "nbformat_minor": 0,
  "metadata": {
    "colab": {
      "name": "Bigdata_Lab_11.ipynb",
      "provenance": [],
      "collapsed_sections": [
        "kY2B7MApvE-w"
      ],
      "include_colab_link": true
    },
    "kernelspec": {
      "name": "ir",
      "display_name": "R"
    }
  },
  "cells": [
    {
      "cell_type": "markdown",
      "metadata": {
        "id": "view-in-github",
        "colab_type": "text"
      },
      "source": [
        "<a href=\"https://colab.research.google.com/github/Jin0331/TA/blob/master/Bigdata_2020/Bigdata_Lab_11.ipynb\" target=\"_parent\"><img src=\"https://colab.research.google.com/assets/colab-badge.svg\" alt=\"Open In Colab\"/></a>"
      ]
    },
    {
      "cell_type": "markdown",
      "metadata": {
        "id": "NqwIc2xhQqLu"
      },
      "source": [
        "# **빅데이터 개론 Lab 11 - 교차분석, 데이터베이스 연동**\n",
        "\n",
        "참고자료 : https://www.notion.so/TA-2689a38b5289413a82671d3956fea103\n",
        "\n",
        "- - -\n",
        "\n",
        "\n"
      ]
    },
    {
      "cell_type": "markdown",
      "metadata": {
        "id": "kY2B7MApvE-w"
      },
      "source": [
        "### **<교차분석>**\n",
        "\n",
        "* 두 범주형 변수 간에 연관관계(association)가 있는지의 여부를 판단하고자 하는 경우 교차표를 작성하여 변수들 간의 관계를 분석한다.\n",
        "\n",
        " - 이를 교차분석 혹은 χ2(chi-square) 검정(test)이라고 한다. 교차분석은 두 변수의 빈도표를 교차 시킨다는 의미로 해석되며, 교차분석에 사용되는 검정 통계량이 ``χ2 -분포를 따르므로 χ2 - 검정``으로 부른다.\n",
        "\n",
        " - 교차표(cross tabulation), 분할표(contingency table): 각 범주형 변수에 대한 빈도표를 행과 열로 결합시켜 놓은 형태이다. 일반적으로 행에는 설명(독립)변수에 해당 하는 변수를 할당하고, 열에는 반응(종속)변수를 할당한다. \n"
      ]
    },
    {
      "cell_type": "code",
      "metadata": {
        "id": "_UOM2LM4BcfH"
      },
      "source": [
        "install.packages(c(\"tidyverse\", \"data.table\", \"gmodels\"))\n",
        "library(tidyverse)\n",
        "library(data.table)\n",
        "library(gmodels)\n",
        "options(repr.plot.width=13, repr.plot.height=13)"
      ],
      "execution_count": null,
      "outputs": []
    },
    {
      "cell_type": "markdown",
      "metadata": {
        "id": "tiAN-wIRwuJ9"
      },
      "source": [
        "#### **A. 예제 1**\n",
        "\n",
        "---\n"
      ]
    },
    {
      "cell_type": "markdown",
      "metadata": {
        "id": "7NjIVZzqc1N5"
      },
      "source": [
        "1. **HR(Human Resource, 인사관리)_연습데이터([링크](https://www.dropbox.com/sh/xx1w2syi768kfu0/AACZgxgo1fcxyDMgv9U-iTz8a?dl=0))**\n",
        "\n",
        "* 변수 설명\n",
        "\n",
        "```\n",
        "satisfaction_level : 직무 만족도\n",
        "last_evaluation : 마지막 평가점수\n",
        "number_project : 진행 프로젝트 수\n",
        "average_monthly_hours : 월평균 근무시간\n",
        "time_spend_company : 근속년수\n",
        "work_accident : 사건사고 여부(0: 없음, 1: 있음, 범주형)\n",
        "left : 이직 여부(0: 잔류, 1: 이직, 범주형)\n",
        "promotion_last_5years: 최근 5년간 승진여부(0: 승진 x, 1: 승진, 범주형)\n",
        "sales : 부서(범주형)\n",
        "salary : 임금 수준(범주형)\n",
        "```\n"
      ]
    },
    {
      "cell_type": "code",
      "metadata": {
        "id": "M0LVsaGdcbDm"
      },
      "source": [
        "hr_DF <- fread(\"https://raw.githubusercontent.com/Jin0331/TA/master/data/HR_comma_sep.csv\", sep = \",\") %>% as_tibble()"
      ],
      "execution_count": null,
      "outputs": []
    },
    {
      "cell_type": "code",
      "metadata": {
        "id": "DROEyYyPUj1C"
      },
      "source": [
        "hr_DF %>% str()"
      ],
      "execution_count": null,
      "outputs": []
    },
    {
      "cell_type": "code",
      "metadata": {
        "id": "NSJx9ofMv1Ba"
      },
      "source": [
        "hr_DF %>% summary()"
      ],
      "execution_count": null,
      "outputs": []
    },
    {
      "cell_type": "markdown",
      "metadata": {
        "id": "TSSxKvv8k4fP"
      },
      "source": [
        "* 범주형 변수 확인"
      ]
    },
    {
      "cell_type": "code",
      "metadata": {
        "id": "cGQoIIMqkcUt"
      },
      "source": [
        "hr_DF$sales %>% unique()"
      ],
      "execution_count": null,
      "outputs": []
    },
    {
      "cell_type": "code",
      "metadata": {
        "id": "PFpOLqmTkzxo"
      },
      "source": [
        "hr_DF$salary %>% unique()"
      ],
      "execution_count": null,
      "outputs": []
    },
    {
      "cell_type": "code",
      "metadata": {
        "id": "YsxyhuWYlEoQ"
      },
      "source": [
        "hr_DF$Work_accident %>% unique()"
      ],
      "execution_count": null,
      "outputs": []
    },
    {
      "cell_type": "code",
      "metadata": {
        "id": "8WXLnVpNlNTT"
      },
      "source": [
        "hr_DF$left %>% unique()"
      ],
      "execution_count": null,
      "outputs": []
    },
    {
      "cell_type": "code",
      "metadata": {
        "id": "4dCZbI5XlR1y"
      },
      "source": [
        "hr_DF$promotion_last_5years %>% unique()"
      ],
      "execution_count": null,
      "outputs": []
    },
    {
      "cell_type": "markdown",
      "metadata": {
        "id": "S-bSCMrklzuc"
      },
      "source": [
        "* mutate를 이용한 데이터 타입 변경(int or chr ---> factor)"
      ]
    },
    {
      "cell_type": "code",
      "metadata": {
        "id": "CnhUVUaLlzL5"
      },
      "source": [
        "hr_DF <- hr_DF %>% mutate_at(`.vars` = c(\"sales\", \"salary\", \"Work_accident\", \"left\", \"promotion_last_5years\"), `.funs` = as.factor)\n",
        "hr_DF %>% str()"
      ],
      "execution_count": null,
      "outputs": []
    },
    {
      "cell_type": "markdown",
      "metadata": {
        "id": "fbe9EK_axqeu"
      },
      "source": [
        "* left(이직여부)와 salary(연봉수준)의 연관성 검사"
      ]
    },
    {
      "cell_type": "code",
      "metadata": {
        "id": "HgWD4GCLwtcy"
      },
      "source": [
        "gmodels::CrossTable(hr_DF$left, hr_DF$salary, \n",
        "                    chisq = T, # 카이제곱 검정\n",
        "                    expected = T, # 기대값(E) 표시\n",
        "                    prop.r = F, prop.c = F) # 각 셀의 비율표시(F)"
      ],
      "execution_count": null,
      "outputs": []
    },
    {
      "cell_type": "markdown",
      "metadata": {
        "id": "LSb2-mSLzFYh"
      },
      "source": [
        "* left(이직여부)와 promotion_last_5years(5년간 승진여부)의 연관성 검사"
      ]
    },
    {
      "cell_type": "code",
      "metadata": {
        "id": "373EJNxYzLJQ"
      },
      "source": [
        "gmodels::CrossTable(hr_DF$left, hr_DF$promotion_last_5years, \n",
        "                    chisq = T, # 카이제곱 검정\n",
        "                    expected = T, # 기대값(E) 표시\n",
        "                    prop.r = F, prop.c = F) # 각 셀의 비율표시(F)"
      ],
      "execution_count": null,
      "outputs": []
    },
    {
      "cell_type": "markdown",
      "metadata": {
        "id": "xyATkQ9pzY7d"
      },
      "source": [
        "* left(이직여부)와 Work_accident(사건사고 여부)의 연관성 검사"
      ]
    },
    {
      "cell_type": "code",
      "metadata": {
        "id": "Dp7LykEvzfI4"
      },
      "source": [
        "gmodels::CrossTable(hr_DF$left, hr_DF$Work_accident, \n",
        "                    chisq = T, # 카이제곱 검정\n",
        "                    expected = T, # 기대값(E) 표시\n",
        "                    prop.r = F, prop.c = F) # 각 셀의 비율표시(F)"
      ],
      "execution_count": null,
      "outputs": []
    },
    {
      "cell_type": "markdown",
      "metadata": {
        "id": "s3Lq2-rtz0Zs"
      },
      "source": [
        "* left(이직여부)와 sales(부서)의 연관성 검사"
      ]
    },
    {
      "cell_type": "code",
      "metadata": {
        "id": "1Jf7hputz37F"
      },
      "source": [
        "gmodels::CrossTable(hr_DF$left, hr_DF$sales, \n",
        "                    chisq = T, # 카이제곱 검정\n",
        "                    expected = T, # 기대값(E) 표시\n",
        "                    prop.r = F, prop.c = F) # 각 셀의 비율표시(F)"
      ],
      "execution_count": null,
      "outputs": []
    },
    {
      "cell_type": "markdown",
      "metadata": {
        "id": "-OPTbmkK2Ndh"
      },
      "source": [
        "* promotion_last_5years(5년간 승진여부)와 Work_accident(사건사고 여부)의 연관성 검사"
      ]
    },
    {
      "cell_type": "code",
      "metadata": {
        "id": "KzORMCvN2S9H"
      },
      "source": [
        "gmodels::CrossTable(hr_DF$promotion_last_5years, hr_DF$Work_accident, \n",
        "                    chisq = T, # 카이제곱 검정\n",
        "                    expected = T, # 기대값(E) 표시\n",
        "                    prop.r = F, prop.c = F) # 각 셀의 비율표시(F)"
      ],
      "execution_count": null,
      "outputs": []
    },
    {
      "cell_type": "markdown",
      "metadata": {
        "id": "EWCuw3ax18hL"
      },
      "source": [
        "* Work_accident(사건사고 여부)와 sales(부서)의 연관성 검사"
      ]
    },
    {
      "cell_type": "code",
      "metadata": {
        "id": "TikC3FsG2Bvh"
      },
      "source": [
        "gmodels::CrossTable(hr_DF$Work_accident, hr_DF$sales, \n",
        "                    chisq = T, # 카이제곱 검정\n",
        "                    expected = T, # 기대값(E) 표시\n",
        "                    prop.r = F, prop.c = F) # 각 셀의 비율표시(F)"
      ],
      "execution_count": null,
      "outputs": []
    },
    {
      "cell_type": "markdown",
      "metadata": {
        "id": "IRh6yJRY2boN"
      },
      "source": [
        "* salary(연봉)과 sales(부서)의 연관성 검사\n"
      ]
    },
    {
      "cell_type": "code",
      "metadata": {
        "id": "1ChT1LGU2ge5"
      },
      "source": [
        "gmodels::CrossTable(hr_DF$salary, hr_DF$sales, \n",
        "                    chisq = T, # 카이제곱 검정\n",
        "                    expected = T, # 기대값(E) 표시\n",
        "                    prop.r = F, prop.c = F) # 각 셀의 비율표시(F)"
      ],
      "execution_count": null,
      "outputs": []
    },
    {
      "cell_type": "markdown",
      "metadata": {
        "id": "ql4dltKU0PQT"
      },
      "source": [
        "#### **B. 예제 2**\n",
        "\n",
        "---\n"
      ]
    },
    {
      "cell_type": "markdown",
      "metadata": {
        "id": "zcYMe7wV0W-H"
      },
      "source": [
        "* https://www.kaggle.com/c/titanic/data\n",
        "\n",
        "**<kaggle의 타이타닉 data>**\n",
        "\n",
        "  * survived : 생존=1, 죽음=0\n",
        "  * pclass : 승객 등급. 1등급=1, 2등급=2, 3등급=3\n",
        "  * sibsp : 함께 탑승한 형제 또는 배우자 수\n",
        "  * parch : 함께 탑승한 부모 또는 자녀 수\n",
        "  * ticket : 티켓 번호\n",
        "  * cabin : 선실 번호\n",
        "  * embarked : 탑승장소 S=Southhampton, C=Cherbourg, Q=Queenstown"
      ]
    },
    {
      "cell_type": "code",
      "metadata": {
        "id": "nWoKtbMKrJ_O",
        "cellView": "both"
      },
      "source": [
        "DF <- fread(\"https://raw.githubusercontent.com/Jin0331/TA/master/data/titanic/train.csv\") %>%\n",
        " as_tibble()"
      ],
      "execution_count": null,
      "outputs": []
    },
    {
      "cell_type": "code",
      "metadata": {
        "id": "FoUcmHWIxf8A",
        "cellView": "both"
      },
      "source": [
        "str(DF)"
      ],
      "execution_count": null,
      "outputs": []
    },
    {
      "cell_type": "code",
      "metadata": {
        "id": "cY1odydB16zG",
        "cellView": "both"
      },
      "source": [
        "DF %>% summary()"
      ],
      "execution_count": null,
      "outputs": []
    },
    {
      "cell_type": "markdown",
      "metadata": {
        "id": "hg-bZnUDozhW"
      },
      "source": [
        "* 범주형 변수 확인"
      ]
    },
    {
      "cell_type": "code",
      "metadata": {
        "id": "i7VgPnfmpX1L",
        "cellView": "both"
      },
      "source": [
        "DF$Survived %>% unique()"
      ],
      "execution_count": null,
      "outputs": []
    },
    {
      "cell_type": "code",
      "metadata": {
        "id": "_FWo2ChPpIez",
        "cellView": "both"
      },
      "source": [
        "DF$Pclass %>% unique()"
      ],
      "execution_count": null,
      "outputs": []
    },
    {
      "cell_type": "code",
      "metadata": {
        "id": "GstNJw_Soybd",
        "cellView": "both"
      },
      "source": [
        "DF$Sex %>% unique()"
      ],
      "execution_count": null,
      "outputs": []
    },
    {
      "cell_type": "code",
      "metadata": {
        "id": "pBhJRwiOo-HA",
        "cellView": "both"
      },
      "source": [
        "DF$Ticket %>% unique()"
      ],
      "execution_count": null,
      "outputs": []
    },
    {
      "cell_type": "code",
      "metadata": {
        "id": "gTws_XTvpC7R",
        "cellView": "both"
      },
      "source": [
        "DF$Embarked %>% unique()"
      ],
      "execution_count": null,
      "outputs": []
    },
    {
      "cell_type": "code",
      "metadata": {
        "id": "D440rnZU2JSb",
        "cellView": "both"
      },
      "source": [
        "DF <- DF %>% \n",
        " select(-PassengerId, -Name, -Cabin, -Ticket) %>% mutate_at(c(\"Pclass\",\"Survived\",\"Sex\",\"Embarked\"), factor)\n",
        "str(DF)"
      ],
      "execution_count": null,
      "outputs": []
    },
    {
      "cell_type": "markdown",
      "metadata": {
        "id": "MjC7WbOe0xG4"
      },
      "source": [
        "* Survived(생존여부)와 Pclass(승객 등급)의 연관관계 조사"
      ]
    },
    {
      "cell_type": "code",
      "metadata": {
        "id": "LErL0B190TuP"
      },
      "source": [
        "gmodels::CrossTable(DF$Survived, DF$Pclass, \n",
        "                    chisq = T, # 카이제곱 검정\n",
        "                    expected = T, # 기대값(E) 표시\n",
        "                    prop.r = F, prop.c = F) # 각 셀의 비율표시(F)"
      ],
      "execution_count": null,
      "outputs": []
    },
    {
      "cell_type": "markdown",
      "metadata": {
        "id": "ypxg04OC1agi"
      },
      "source": [
        "* Survived(생존여부)와 Sex(성별)의 연관관계 조사"
      ]
    },
    {
      "cell_type": "code",
      "metadata": {
        "id": "WTw8noit1agl"
      },
      "source": [
        "gmodels::CrossTable(DF$Survived, DF$Sex, \n",
        "                    chisq = T, # 카이제곱 검정\n",
        "                    expected = T, # 기대값(E) 표시\n",
        "                    prop.r = F, prop.c = F) # 각 셀의 비율표시(F)"
      ],
      "execution_count": null,
      "outputs": []
    },
    {
      "cell_type": "markdown",
      "metadata": {
        "id": "WQloCvwi1htx"
      },
      "source": [
        "* Survived(생존여부)와 Embarked(탑승 장소)의 연관관계 조사"
      ]
    },
    {
      "cell_type": "code",
      "metadata": {
        "id": "Sygip05I1htz"
      },
      "source": [
        "gmodels::CrossTable(DF$Survived, DF$Embarked, \n",
        "                    chisq = T, # 카이제곱 검정\n",
        "                    expected = T, # 기대값(E) 표시\n",
        "                    prop.r = F, prop.c = F) # 각 셀의 비율표시(F)"
      ],
      "execution_count": null,
      "outputs": []
    },
    {
      "cell_type": "markdown",
      "metadata": {
        "id": "fC0qCb4x2qGT"
      },
      "source": [
        "* Pclass(승객 등급)과 Sex(성별)의 연관관계 조사"
      ]
    },
    {
      "cell_type": "code",
      "metadata": {
        "id": "nKoE1Gd-2vVQ"
      },
      "source": [
        "gmodels::CrossTable(DF$Pclass, DF$Sex, \n",
        "                    chisq = T, # 카이제곱 검정\n",
        "                    expected = T, # 기대값(E) 표시\n",
        "                    prop.r = F, prop.c = F) # 각 셀의 비율표시(F)"
      ],
      "execution_count": null,
      "outputs": []
    },
    {
      "cell_type": "markdown",
      "metadata": {
        "id": "dzUDWt0N2qLy"
      },
      "source": [
        "* Sex(성별)과 Embarked(탑승 장소)의 연관관계 조사"
      ]
    },
    {
      "cell_type": "code",
      "metadata": {
        "id": "nWMAVvlS3D2F"
      },
      "source": [
        "gmodels::CrossTable(DF$Sex, DF$Embarked, \n",
        "                    chisq = T, # 카이제곱 검정\n",
        "                    expected = T, # 기대값(E) 표시\n",
        "                    prop.r = F, prop.c = F) # 각 셀의 비율표시(F)"
      ],
      "execution_count": null,
      "outputs": []
    },
    {
      "cell_type": "code",
      "metadata": {
        "id": "mt4AsNXfZykX"
      },
      "source": [
        ""
      ],
      "execution_count": null,
      "outputs": []
    },
    {
      "cell_type": "markdown",
      "metadata": {
        "id": "-RQN7M1OBb52"
      },
      "source": [
        "### **<데이터베이스 연동>**\n",
        "\n",
        "* 데이터베이스란?\n",
        "  - 데이터베이스는 체계화된 데이터의 모임이다. 즉, 작성된 목록으로서 여러 응용시스템들의 통합된 정보들을 저장하여 운영할 수 있는 공용데이터들의 묶음이다. 여러 사람들이 공유하고 사용할 목적으로 통합 관리되는 정보의 집합이다. 논리적으로 연관된 하나 이상의 자료의 모음으로 그 내용을 고도로 구조화함으로써 검색과 갱신의 효율화를 꾀한 것이다. 즉, 몇 개의 자료 파일을 조직적으로 통합하여 자료 항목의 중복을 없애고 자료를 구조화하여 기억시켜 놓은 자료의 집합체라고 할 수 있다.\n",
        "\n",
        "출처: https://neos518.tistory.com/122 [As I've always been]\n",
        "\n"
      ]
    },
    {
      "cell_type": "code",
      "metadata": {
        "id": "zL-ERaX7ihe6",
        "cellView": "both"
      },
      "source": [
        "#install.packages(\"tidyverse\")\n",
        "library(tidyverse)"
      ],
      "execution_count": null,
      "outputs": []
    },
    {
      "cell_type": "markdown",
      "metadata": {
        "id": "Bid1xhS0r9OH"
      },
      "source": [
        "#### **A. SQLite**\n",
        "\n",
        "https://ehdvudee.tistory.com/23\n",
        "\n",
        "---\n"
      ]
    },
    {
      "cell_type": "code",
      "metadata": {
        "id": "DQ1nMZ6wwrOJ",
        "cellView": "both"
      },
      "source": [
        "install.packages(c(\"DBI\", \"RSQLite\"))"
      ],
      "execution_count": null,
      "outputs": []
    },
    {
      "cell_type": "code",
      "metadata": {
        "id": "1M9IJu9cwwWS",
        "cellView": "both"
      },
      "source": [
        "library(DBI)\n",
        "library(RSQLite)"
      ],
      "execution_count": null,
      "outputs": []
    },
    {
      "cell_type": "markdown",
      "metadata": {
        "id": "4f0K1D28yYcq"
      },
      "source": [
        "* connection 생성"
      ]
    },
    {
      "cell_type": "code",
      "metadata": {
        "id": "kDZ9t2ZQxxZy",
        "cellView": "both"
      },
      "source": [
        "con <- RSQLite::dbConnect(drv = SQLite(), dbname = \"/sqlite/height_weight.sqlite\")"
      ],
      "execution_count": null,
      "outputs": []
    },
    {
      "cell_type": "code",
      "metadata": {
        "id": "rZuMncRZfHS7",
        "cellView": "both"
      },
      "source": [
        "# 현재 디렉토리\n",
        "getwd()"
      ],
      "execution_count": null,
      "outputs": []
    },
    {
      "cell_type": "code",
      "metadata": {
        "id": "--hzOjZxfNml",
        "cellView": "both"
      },
      "source": [
        "dir.create(\"sqlite\")"
      ],
      "execution_count": null,
      "outputs": []
    },
    {
      "cell_type": "code",
      "metadata": {
        "id": "Fg2ajI0SfShn",
        "cellView": "both"
      },
      "source": [
        "list.dirs()"
      ],
      "execution_count": null,
      "outputs": []
    },
    {
      "cell_type": "code",
      "metadata": {
        "id": "auDWMq-mfAV-",
        "cellView": "both"
      },
      "source": [
        "# sqlite 폴더가 없음. 따라서 생성\n",
        "con <- RSQLite::dbConnect(drv = RSQLite::SQLite(), dbname = \"sqlite/height_weight.sqlite\")"
      ],
      "execution_count": null,
      "outputs": []
    },
    {
      "cell_type": "code",
      "metadata": {
        "id": "RfFAHAKiqEE5",
        "cellView": "both"
      },
      "source": [
        "# RSQLite::dbDisconnect(con) # connection 끊기"
      ],
      "execution_count": null,
      "outputs": []
    },
    {
      "cell_type": "code",
      "metadata": {
        "id": "qlJx2Nuex5dm",
        "cellView": "both"
      },
      "source": [
        "list.files(\"sqlite/\")"
      ],
      "execution_count": null,
      "outputs": []
    },
    {
      "cell_type": "code",
      "metadata": {
        "id": "PRH_T3gAgUQt",
        "cellView": "both"
      },
      "source": [
        "dbGetInfo(dbObj = con)"
      ],
      "execution_count": null,
      "outputs": []
    },
    {
      "cell_type": "markdown",
      "metadata": {
        "id": "M4OBrw8hjNqL"
      },
      "source": [
        "* 테이블 생성하기\n",
        "\n",
        "```\n",
        "ID : 사람의 고유한 ID(primary key), integer\n",
        "HEIGHT : 키(cm), numeric\n",
        "WEIGHT : 몸무게(kg), numeric\n",
        "\n",
        "### PRIMARY KEY ??? --> https://jins-dev.tistory.com/entry/RDB-MySQL-%EC%97%90%EC%84%9C%EC%9D%98-Primary-Key-%EB%9E%80\n",
        "```\n",
        "\n"
      ]
    },
    {
      "cell_type": "code",
      "metadata": {
        "id": "cCuAJ_Ag8gJu"
      },
      "source": [
        "dbListTables(con)"
      ],
      "execution_count": null,
      "outputs": []
    },
    {
      "cell_type": "markdown",
      "metadata": {
        "id": "Kyrys-Autdn_"
      },
      "source": [
        "- ``dbSendQuery``는 DB에 쿼리를 보낼 때 사용. 단, 데이터를 가지고 오지는 못함. \n",
        "\n",
        "- 또한, ``dbSendQuery``의 경우 ``dbClearResult`` 함수를 이용하여 보낸 쿼리의 처리결과를 제거해주어야 함"
      ]
    },
    {
      "cell_type": "code",
      "metadata": {
        "id": "k10jnqO4leIz",
        "cellView": "both"
      },
      "source": [
        "table_query <- dbSendQuery(conn = con, \n",
        "                           statement = \"CREATE TABLE HW_table(\n",
        "                                          ID INTEGER PRIMARY KEY,\n",
        "                                          HEIGHT NUMERIC,\n",
        "                                          WEIGHT NUMERIC)\")"
      ],
      "execution_count": null,
      "outputs": []
    },
    {
      "cell_type": "code",
      "metadata": {
        "id": "Lxi7Tij8lf8u",
        "cellView": "both"
      },
      "source": [
        "dbClearResult(table_query)"
      ],
      "execution_count": null,
      "outputs": []
    },
    {
      "cell_type": "markdown",
      "metadata": {
        "id": "xJ2fCMEAtxpa"
      },
      "source": [
        "* 생성된 table 확인"
      ]
    },
    {
      "cell_type": "code",
      "metadata": {
        "id": "puCWb8Vq9uoH"
      },
      "source": [
        "dbListTables(con)"
      ],
      "execution_count": null,
      "outputs": []
    },
    {
      "cell_type": "code",
      "metadata": {
        "id": "C7-vBzyotXHz",
        "cellView": "both"
      },
      "source": [
        "dbExistsTable(con, \"HW_table\") # False 일 경우, 생성이 안 된 것."
      ],
      "execution_count": null,
      "outputs": []
    },
    {
      "cell_type": "code",
      "metadata": {
        "id": "IdNAzycpgh7s",
        "cellView": "both"
      },
      "source": [
        "dbListFields(con, \"HW_table\")"
      ],
      "execution_count": null,
      "outputs": []
    },
    {
      "cell_type": "markdown",
      "metadata": {
        "id": "PghM_SC8fldn"
      },
      "source": [
        "* 생성된 `HW_table`에 데이터 넣기 - 한번에 1행(row)"
      ]
    },
    {
      "cell_type": "code",
      "metadata": {
        "id": "3U0mSVY6g1uN",
        "cellView": "both"
      },
      "source": [
        "row_add_query  <- dbSendQuery(con, \n",
        "                                  \"INSERT INTO HW_table (ID, HEIGHT, WEIGHT) VALUES (1, 183, 85)\")\n",
        "dbClearResult(row_add_query)"
      ],
      "execution_count": null,
      "outputs": []
    },
    {
      "cell_type": "code",
      "metadata": {
        "id": "XL1dAB-GhwTM",
        "cellView": "both"
      },
      "source": [
        "# error\n",
        "row_add_query  <- dbSendQuery(con, \n",
        "                                  \"INSERT INTO HW_table (ID, HEIGHT, WEIGHT) VALUES (1, 182, 67)\")\n",
        "dbClearResult(row_add_query)"
      ],
      "execution_count": null,
      "outputs": []
    },
    {
      "cell_type": "code",
      "metadata": {
        "id": "4ewwWAvIh1zs",
        "cellView": "both"
      },
      "source": [
        "row_add_query  <- dbSendQuery(con, \n",
        "                                  \"INSERT INTO HW_table (ID, HEIGHT, WEIGHT) VALUES (2, 170, 68)\")\n",
        "dbClearResult(row_add_query)"
      ],
      "execution_count": null,
      "outputs": []
    },
    {
      "cell_type": "code",
      "metadata": {
        "id": "yGBQdEqpiNcf",
        "cellView": "both"
      },
      "source": [
        "row_add_query  <- dbSendQuery(con, \n",
        "                                  \"INSERT INTO HW_table (ID, HEIGHT, WEIGHT) VALUES (3, 165, 65)\")\n",
        "dbClearResult(row_add_query)"
      ],
      "execution_count": null,
      "outputs": []
    },
    {
      "cell_type": "code",
      "metadata": {
        "id": "tg8dhEjtikgr",
        "cellView": "both"
      },
      "source": [
        "row_add_query  <- dbSendQuery(con, \n",
        "                                  \"INSERT INTO HW_table (ID, HEIGHT, WEIGHT) VALUES (5, 202, 100)\")\n",
        "dbClearResult(row_add_query)"
      ],
      "execution_count": null,
      "outputs": []
    },
    {
      "cell_type": "markdown",
      "metadata": {
        "id": "kvh-5m81iDWz"
      },
      "source": [
        "* 테이블에서 데이터 가져오기"
      ]
    },
    {
      "cell_type": "code",
      "metadata": {
        "id": "u5_c2SIviApX",
        "cellView": "both"
      },
      "source": [
        "dbGetQuery(con, \"SELECT * FROM HW_table\")"
      ],
      "execution_count": null,
      "outputs": []
    },
    {
      "cell_type": "code",
      "metadata": {
        "id": "ZiZsAOmhjbOR",
        "cellView": "both"
      },
      "source": [
        "DF <- dbGetQuery(con, \"SELECT * FROM HW_table\")\n",
        "DF %>% str()"
      ],
      "execution_count": null,
      "outputs": []
    },
    {
      "cell_type": "code",
      "metadata": {
        "id": "D4KKhccUkUXq",
        "cellView": "both"
      },
      "source": [
        "lm(HEIGHT ~ WEIGHT, data = DF) %>% summary()"
      ],
      "execution_count": null,
      "outputs": []
    },
    {
      "cell_type": "code",
      "metadata": {
        "id": "xNqyxsMEizli",
        "cellView": "both"
      },
      "source": [
        "dbGetQuery(con, \"SELECT ID, HEIGHT FROM HW_table\")"
      ],
      "execution_count": null,
      "outputs": []
    },
    {
      "cell_type": "code",
      "metadata": {
        "id": "0VJAI6PCkdKW",
        "cellView": "both"
      },
      "source": [
        "dbGetQuery(con, \"SELECT * FROM HW_table WHERE HEIGHT >= 180\")"
      ],
      "execution_count": null,
      "outputs": []
    },
    {
      "cell_type": "code",
      "metadata": {
        "id": "_aYPZvalkkFB",
        "cellView": "both"
      },
      "source": [
        "dbGetQuery(con, \"SELECT * FROM HW_table WHERE HEIGHT >= 180 or WEIGHT >= 68\")"
      ],
      "execution_count": null,
      "outputs": []
    },
    {
      "cell_type": "markdown",
      "metadata": {
        "id": "kkQWwU4JT_13"
      },
      "source": [
        "* 생성된 `HW_table`에 데이터 넣기 - 한번에 여러행"
      ]
    },
    {
      "cell_type": "code",
      "metadata": {
        "id": "-QntpVOtlnZ2",
        "cellView": "both"
      },
      "source": [
        "temp <- tibble(height = sample(150:210, 500, replace = T), weight = sample(45:120, 500, replace = T)) # 복원 추출(중복 허용)\n",
        "temp %>% show()"
      ],
      "execution_count": null,
      "outputs": []
    },
    {
      "cell_type": "code",
      "metadata": {
        "id": "vwfr1uqSmHPU",
        "cellView": "both"
      },
      "source": [
        "# 해당 Table의 column 명과 동일해야 함. error\n",
        "dbWriteTable(con, \"HW_table\", temp, row.names = F, append = T)"
      ],
      "execution_count": null,
      "outputs": []
    },
    {
      "cell_type": "code",
      "metadata": {
        "id": "-4IpnQt6mUvr",
        "cellView": "both"
      },
      "source": [
        "temp <- tibble(HEIGHT = sample(150:210, 500, replace = T), WEIGHT = sample(45:120, 500, replace = T)) # 복원 추출(중복 허용)\n",
        "temp %>% show()"
      ],
      "execution_count": null,
      "outputs": []
    },
    {
      "cell_type": "code",
      "metadata": {
        "id": "WYSQn7PnmgI3",
        "cellView": "both"
      },
      "source": [
        "# 해당 Table의 column 명과 동일해야 함.\n",
        "dbWriteTable(con, \"HW_table\", temp, row.names = F, append = T)"
      ],
      "execution_count": null,
      "outputs": []
    },
    {
      "cell_type": "code",
      "metadata": {
        "id": "HM4wQtibmkF_",
        "cellView": "both"
      },
      "source": [
        "# ID의 경우 PRIMARY KEY이므로 자동적으로 중복되지 않은 값이 채워짐.\n",
        "dbGetQuery(con, \"SELECT * FROM HW_table\")"
      ],
      "execution_count": null,
      "outputs": []
    },
    {
      "cell_type": "markdown",
      "metadata": {
        "id": "Dykj2YgmotpE"
      },
      "source": [
        "* 테이블에 있는 데이터 삭제하기(DELETE FROM ~ WHERE)"
      ]
    },
    {
      "cell_type": "code",
      "metadata": {
        "id": "vjoKEwqCowcL",
        "cellView": "both"
      },
      "source": [
        "query <- dbSendQuery(con, \"DELETE FROM HW_table WHERE HEIGHT >= 200\")\n",
        "dbClearResult(query)"
      ],
      "execution_count": null,
      "outputs": []
    },
    {
      "cell_type": "code",
      "metadata": {
        "id": "WEH7v_o-pyqx",
        "cellView": "both"
      },
      "source": [
        "dbGetQuery(con, \"SELECT * FROM HW_table WHERE HEIGHT >= 200\")"
      ],
      "execution_count": null,
      "outputs": []
    },
    {
      "cell_type": "code",
      "metadata": {
        "id": "84IonW1BqLMs",
        "cellView": "both"
      },
      "source": [
        "# 전체 데이터 삭제(table 삭제가 아님!!)\n",
        "query <- dbSendQuery(con, \"DELETE FROM HW_table\")\n",
        "dbClearResult(query)"
      ],
      "execution_count": null,
      "outputs": []
    },
    {
      "cell_type": "code",
      "metadata": {
        "id": "q1sXD7ggqRZb",
        "cellView": "both"
      },
      "source": [
        "dbGetQuery(con, \"SELECT * FROM HW_table\")"
      ],
      "execution_count": null,
      "outputs": []
    },
    {
      "cell_type": "markdown",
      "metadata": {
        "id": "SsA41uj3T_4p"
      },
      "source": [
        "* table 삭제(DROP TABLE)"
      ]
    },
    {
      "cell_type": "code",
      "metadata": {
        "id": "kEq0xtcGqhEe",
        "cellView": "both"
      },
      "source": [
        "query <- dbSendQuery(con, \"DROP TABLE HW_table\")\n",
        "dbClearResult(query)"
      ],
      "execution_count": null,
      "outputs": []
    },
    {
      "cell_type": "code",
      "metadata": {
        "id": "CgoN4-uCqqLk",
        "cellView": "both"
      },
      "source": [
        "dbGetQuery(con, \"SELECT * FROM HW_table\")"
      ],
      "execution_count": null,
      "outputs": []
    },
    {
      "cell_type": "code",
      "metadata": {
        "id": "ItPgXlxzqxoQ",
        "cellView": "both"
      },
      "source": [
        "dbListTables(con, \"HW_table\")"
      ],
      "execution_count": null,
      "outputs": []
    },
    {
      "cell_type": "code",
      "metadata": {
        "id": "a0wMSh7QqsQd",
        "cellView": "both"
      },
      "source": [
        "dbExistsTable(con, \"HW_table\")"
      ],
      "execution_count": null,
      "outputs": []
    },
    {
      "cell_type": "markdown",
      "metadata": {
        "id": "DqUurFNArHen"
      },
      "source": [
        "* connection 종료"
      ]
    },
    {
      "cell_type": "code",
      "metadata": {
        "id": "gWBrFYMrrJFQ",
        "cellView": "both"
      },
      "source": [
        "dbDisconnect(con)"
      ],
      "execution_count": null,
      "outputs": []
    },
    {
      "cell_type": "markdown",
      "metadata": {
        "id": "0yTasUiQrMdb"
      },
      "source": [
        "* SQLite의 이식성(!?)"
      ]
    },
    {
      "cell_type": "code",
      "metadata": {
        "id": "cI-nBm8YxV2F",
        "cellView": "both"
      },
      "source": [
        "# Lab 9 참고\n",
        "#https://archive.ics.uci.edu/ml/datasets.php?format=&task=reg&att=&area=&numAtt=&numIns=&type=&sort=dateDown&view=table\n",
        "#https://datascience.stackexchange.com/questions/8922/removing-strings-after-a-certain-character-in-a-given-text\n",
        "#https://stackoverflow.com/questions/5992082/how-to-remove-all-whitespace-from-a-string\n",
        "\n",
        "Sys.setlocale('LC_ALL','C') # 이부분 무시해도 됨.\n",
        "DF <- fread(\"https://raw.githubusercontent.com/Jin0331/TA/master/data/SeoulBikeData.csv\", sep = \",\", stringsAsFactors = F) %>%\n",
        " as_tibble()\n",
        "\n",
        "colnames(DF) <- colnames(DF) %>% lapply(X = ., FUN = function(value){\n",
        "  stringr::str_remove(string = value, pattern = \"\\\\(.*\") %>%\n",
        "  stringr::str_replace_all(string = ., pattern = \"[[:space:]]\", replace = \"_\")\n",
        "}) %>% unlist()\n",
        "\n",
        "DF %>% str()"
      ],
      "execution_count": null,
      "outputs": []
    },
    {
      "cell_type": "code",
      "metadata": {
        "id": "ut98V6emrPKE",
        "cellView": "both"
      },
      "source": [
        "con <- RSQLite::dbConnect(drv = RSQLite::SQLite(), dbname = \"sqlite/seoul_bike.sqlite\")"
      ],
      "execution_count": null,
      "outputs": []
    },
    {
      "cell_type": "code",
      "metadata": {
        "id": "vii5WN8_xlkS",
        "cellView": "both"
      },
      "source": [
        "dbWriteTable(con, \"seoul_bike\", DF, row.names = F, append = F)"
      ],
      "execution_count": null,
      "outputs": []
    },
    {
      "cell_type": "code",
      "metadata": {
        "id": "tEADnh_wyj5C",
        "cellView": "both"
      },
      "source": [
        "dbListTables(con)"
      ],
      "execution_count": null,
      "outputs": []
    },
    {
      "cell_type": "code",
      "metadata": {
        "id": "SEeee-o7y3Qm",
        "cellView": "both"
      },
      "source": [
        "dbListFields(con, \"seoul_bike\")"
      ],
      "execution_count": null,
      "outputs": []
    },
    {
      "cell_type": "code",
      "metadata": {
        "id": "IjUS72LKy8vC",
        "cellView": "both"
      },
      "source": [
        "dbGetQuery(con, \"SELECT * FROM seoul_bike\") %>%\n",
        " as_tibble() %>% str()"
      ],
      "execution_count": null,
      "outputs": []
    },
    {
      "cell_type": "code",
      "metadata": {
        "id": "hOztdhcrNKBN"
      },
      "source": [
        "dbDisconnect(con)"
      ],
      "execution_count": null,
      "outputs": []
    },
    {
      "cell_type": "markdown",
      "metadata": {
        "id": "vukkkBeNT_-M"
      },
      "source": [
        "#### **B. dbplyr**\n",
        "\n",
        "https://dbplyr.tidyverse.org/index.html\n",
        "\n",
        "https://dbplyr.tidyverse.org/articles/sql-translation.html\n",
        "\n",
        "```\n",
        "dbplyr is the database backend for dplyr. \n",
        "It allows you to use remote database tables as if they are in-memory data frames by automatically converting dplyr code into SQL.\n",
        "```\n",
        "\n",
        "---\n"
      ]
    },
    {
      "cell_type": "code",
      "metadata": {
        "id": "zzQj8tzc5CNB",
        "cellView": "both"
      },
      "source": [
        "con <- RSQLite::dbConnect(drv = RSQLite::SQLite(), dbname = \"sqlite/seoul_bike.sqlite\")"
      ],
      "execution_count": null,
      "outputs": []
    },
    {
      "cell_type": "markdown",
      "metadata": {
        "id": "yIS4qS7V5V6B"
      },
      "source": [
        "* copy_to를 local 데이터를 database에 복제"
      ]
    },
    {
      "cell_type": "code",
      "metadata": {
        "id": "DeeYLB22QOyx"
      },
      "source": [
        "dbListTables(con)"
      ],
      "execution_count": null,
      "outputs": []
    },
    {
      "cell_type": "code",
      "metadata": {
        "id": "E9yWlcWe5FmN",
        "cellView": "both"
      },
      "source": [
        "dplyr::copy_to(con, iris)"
      ],
      "execution_count": null,
      "outputs": []
    },
    {
      "cell_type": "code",
      "metadata": {
        "id": "daGzdaiF5y6h",
        "cellView": "both"
      },
      "source": [
        "dbListTables(con)"
      ],
      "execution_count": null,
      "outputs": []
    },
    {
      "cell_type": "markdown",
      "metadata": {
        "id": "kUMe0_gGq5LN"
      },
      "source": [
        "* tbl을 이용한 database의 table 사용(dataframe)"
      ]
    },
    {
      "cell_type": "code",
      "metadata": {
        "id": "5kYyUNlF6J6L",
        "cellView": "both"
      },
      "source": [
        "iris_2 <- tbl(con, \"iris\")\n",
        "iris_2"
      ],
      "execution_count": null,
      "outputs": []
    },
    {
      "cell_type": "code",
      "metadata": {
        "id": "5vv2jAECQm5t"
      },
      "source": [
        "iris %>% show()"
      ],
      "execution_count": null,
      "outputs": []
    },
    {
      "cell_type": "code",
      "metadata": {
        "id": "fOQIU7zU6bxX",
        "cellView": "both"
      },
      "source": [
        "seoul_bike_2 <- tbl(con, \"seoul_bike\")\n",
        "seoul_bike_2"
      ],
      "execution_count": null,
      "outputs": []
    },
    {
      "cell_type": "markdown",
      "metadata": {
        "id": "DHzoKUVMybOX"
      },
      "source": [
        "* dplyr 문법을 이용한 SQL 번역"
      ]
    },
    {
      "cell_type": "code",
      "metadata": {
        "id": "FxA-a1YN7-H5",
        "cellView": "both"
      },
      "source": [
        "seoul_bike_2 %>% select(Date, Hour)"
      ],
      "execution_count": null,
      "outputs": []
    },
    {
      "cell_type": "code",
      "metadata": {
        "id": "_DEjqRmC-XKw",
        "cellView": "both"
      },
      "source": [
        "seoul_bike_2 %>% filter(Humidity >= 40)"
      ],
      "execution_count": null,
      "outputs": []
    },
    {
      "cell_type": "code",
      "metadata": {
        "id": "36TdQeqb_GjO",
        "cellView": "both"
      },
      "source": [
        "seoul_bike_2 %>% group_by(Date) %>% summarise(daily_humidity = mean(Humidity, na.rm = T))"
      ],
      "execution_count": null,
      "outputs": []
    },
    {
      "cell_type": "markdown",
      "metadata": {
        "id": "AHWmQ9m__bCG"
      },
      "source": [
        "* Show Query"
      ]
    },
    {
      "cell_type": "code",
      "metadata": {
        "id": "yki9_VXk_coj",
        "cellView": "both"
      },
      "source": [
        "daily_h <- seoul_bike_2 %>% filter(Humidity >= 40) %>% \n",
        " group_by(Date) %>% summarise(daily_humidity = mean(Humidity, na.rm = T))"
      ],
      "execution_count": null,
      "outputs": []
    },
    {
      "cell_type": "code",
      "metadata": {
        "id": "jQFi322H_hdN",
        "cellView": "both"
      },
      "source": [
        "show_query(daily_h)"
      ],
      "execution_count": null,
      "outputs": []
    },
    {
      "cell_type": "code",
      "metadata": {
        "id": "MP_J1kde_mJn",
        "cellView": "both"
      },
      "source": [
        "explain(daily_h)"
      ],
      "execution_count": null,
      "outputs": []
    },
    {
      "cell_type": "markdown",
      "metadata": {
        "id": "QjLgsfXxq5VC"
      },
      "source": [
        "* Collect Data\n",
        "\n",
        "```\n",
        "Now, some interesting facts. When working with databases, dplyr never pulls data into R unless you explicitly ask for it. \n",
        "In the previous example, dplyr will not do anything until you ask for the mileages data. \n",
        "\n",
        "It generates the SQL and only pulls down a few rows when you try to print mileages. So how do we pull all the data and store it for further analysis? \n",
        "collect() will pull all the data and store it in a tibble and you can use it for any further analysis.\n",
        "```"
      ]
    },
    {
      "cell_type": "code",
      "metadata": {
        "id": "C3Ml1LEy_2rP",
        "cellView": "both"
      },
      "source": [
        "daily_h %>% collect() %>% show()"
      ],
      "execution_count": null,
      "outputs": []
    },
    {
      "cell_type": "markdown",
      "metadata": {
        "id": "IhC4KXi0q5Od"
      },
      "source": [
        "#### **C. Google Cloud Platform(GCP)를 이용한 DB 서버 생성 및 이용**\n",
        "\n",
        "https://blog-rogan.tistory.com/entry/Cloud-Platform%EC%9D%B4%EB%9E%80\n",
        "\n",
        "https://cloud.google.com/free/docs/gcp-free-tier?hl=ko\n",
        "\n",
        "---\n"
      ]
    },
    {
      "cell_type": "code",
      "metadata": {
        "id": "alkHyaaMUAiO",
        "cellView": "both"
      },
      "source": [
        "system(\"sudo apt-get install libmysql++-dev\")"
      ],
      "execution_count": null,
      "outputs": []
    },
    {
      "cell_type": "code",
      "metadata": {
        "id": "Y-I1VdE-t2YP",
        "cellView": "both"
      },
      "source": [
        "install.packages(\"RMariaDB\")"
      ],
      "execution_count": null,
      "outputs": []
    },
    {
      "cell_type": "code",
      "metadata": {
        "id": "4YwKe5w4GIB0",
        "cellView": "both"
      },
      "source": [
        "#dbDisconnect(con)"
      ],
      "execution_count": null,
      "outputs": []
    },
    {
      "cell_type": "code",
      "metadata": {
        "id": "ay93vA9AUSA1",
        "cellView": "both"
      },
      "source": [
        "con <- dbConnect(RMariaDB::MariaDB(), user = \"root\", password = \"spark123!\",\n",
        "                          host = \"34.123.12.131\", dbname = \"test\")"
      ],
      "execution_count": null,
      "outputs": []
    },
    {
      "cell_type": "markdown",
      "metadata": {
        "id": "oQ0bDP7DmHu6"
      },
      "source": [
        "* 예제 데이터"
      ]
    },
    {
      "cell_type": "code",
      "metadata": {
        "id": "hZLbxSMFGf6j",
        "cellView": "both"
      },
      "source": [
        "#install.packages(\"nycflights13\")\n",
        "nycflights13::flights %>% str()"
      ],
      "execution_count": null,
      "outputs": []
    },
    {
      "cell_type": "code",
      "metadata": {
        "id": "8sNmdtxuF_DD",
        "cellView": "both"
      },
      "source": [
        "copy_to(con, nycflights13::flights, \"flights\")"
      ],
      "execution_count": null,
      "outputs": []
    },
    {
      "cell_type": "markdown",
      "metadata": {
        "id": "qr_B5QGkmcRE"
      },
      "source": [
        "* 예제 데이터"
      ]
    },
    {
      "cell_type": "code",
      "metadata": {
        "id": "WINDR-radZ_3",
        "cellView": "both"
      },
      "source": [
        "Sys.setlocale('LC_ALL','C') # 이부분 무시해도 됨.\n",
        "DF <- fread(\"https://raw.githubusercontent.com/Jin0331/TA/master/data/SeoulBikeData.csv\", sep = \",\", stringsAsFactors = F) %>%\n",
        " as_tibble()\n",
        "\n",
        "colnames(DF) <- colnames(DF) %>% lapply(X = ., FUN = function(value){\n",
        "  stringr::str_remove(string = value, pattern = \"\\\\(.*\") %>%\n",
        "  stringr::str_replace_all(string = ., pattern = \"[[:space:]]\", replace = \"_\")\n",
        "}) %>% unlist()"
      ],
      "execution_count": null,
      "outputs": []
    },
    {
      "cell_type": "code",
      "metadata": {
        "id": "r2_0fzDaURqt"
      },
      "source": [
        "copy_to(con, DF, \"seoul_bike\")"
      ],
      "execution_count": null,
      "outputs": []
    },
    {
      "cell_type": "markdown",
      "metadata": {
        "id": "8yM6EzpZZ1-l"
      },
      "source": [
        "- - -\n",
        "\n",
        "## **실습 과제 <11주차 과제 - 100점>**\n",
        "\n",
        "### **(1) 아래의 조건에 맞는 ```학번_이름.sqlite 파일```을 생성한 후, 한림SmartLEAD에 제출할 것(ex.D20514_이진우.sqlite)**\n",
        "### **(2) 제출 데드라인 : 2020.11.9(월요일) ~ 2020.11.15(일요일) 23:59 까지**\n",
        "\n",
        "\n",
        "- - -\n"
      ]
    },
    {
      "cell_type": "markdown",
      "metadata": {
        "id": "tmf-hIy_c2Vq"
      },
      "source": [
        "### **1. SQLite를 이용하여 학번_이름.sqlite 데이터베이스를 생성**\n",
        "\n",
        "### **2. dbplyr를 이용하여 학번_이름(영어)인 테이블 생성 (ex. D20514_jinoo)**\n",
        "\n",
        "```\n",
        "<테이블의 구조>\n",
        "\n",
        "ID : 자신의 학번\n",
        "GRADE : 자신의 학년\n",
        "NAME : 자신의 이름\n",
        "RESIDENCE : 자신의 거주 지역\n",
        "```\n",
        "\n",
        "\n",
        "### **3. dbplyr를 이용하여 각 열에 맞는 데이터 삽입(1행만)**\n",
        "\n"
      ]
    },
    {
      "cell_type": "markdown",
      "metadata": {
        "id": "47qdZ9lfdxb4"
      },
      "source": [
        "* 예시 코드"
      ]
    },
    {
      "cell_type": "code",
      "metadata": {
        "id": "G51lijGbZ6cq"
      },
      "source": [
        "install.packages(c(\"DBI\", \"RSQLite\", \"tidyverse\", \"dbplyr\"))\n",
        "library(DBI)\n",
        "library(RSQLite)\n",
        "library(tidyverse)\n",
        "library(dbplyr)"
      ],
      "execution_count": null,
      "outputs": []
    },
    {
      "cell_type": "code",
      "metadata": {
        "id": "DngSCJ47ecem",
        "outputId": "8879e179-2db7-442a-b470-0efb075a6fb5",
        "colab": {
          "base_uri": "https://localhost:8080/",
          "height": 50
        }
      },
      "source": [
        "getwd()\n",
        "dir.create(\"test\")\n",
        "list.dirs()"
      ],
      "execution_count": 27,
      "outputs": [
        {
          "output_type": "display_data",
          "data": {
            "text/plain": [
              "[1] \"/content\""
            ],
            "text/latex": "'/content'",
            "text/markdown": "'/content'",
            "text/html": [
              "'/content'"
            ]
          },
          "metadata": {
            "tags": []
          }
        },
        {
          "output_type": "display_data",
          "data": {
            "text/plain": [
              "[1] \".\"                         \"./.config\"                \n",
              "[3] \"./.config/configurations\"  \"./.config/logs\"           \n",
              "[5] \"./.config/logs/2020.10.28\" \"./.ipynb_checkpoints\"     \n",
              "[7] \"./sample_data\"             \"./test\"                   "
            ],
            "text/latex": "\\begin{enumerate*}\n\\item '.'\n\\item './.config'\n\\item './.config/configurations'\n\\item './.config/logs'\n\\item './.config/logs/2020.10.28'\n\\item './.ipynb\\_checkpoints'\n\\item './sample\\_data'\n\\item './test'\n\\end{enumerate*}\n",
            "text/markdown": "1. '.'\n2. './.config'\n3. './.config/configurations'\n4. './.config/logs'\n5. './.config/logs/2020.10.28'\n6. './.ipynb_checkpoints'\n7. './sample_data'\n8. './test'\n\n\n",
            "text/html": [
              "<style>\n",
              ".list-inline {list-style: none; margin:0; padding: 0}\n",
              ".list-inline>li {display: inline-block}\n",
              ".list-inline>li:not(:last-child)::after {content: \"\\00b7\"; padding: 0 .5ex}\n",
              "</style>\n",
              "<ol class=list-inline><li>'.'</li><li>'./.config'</li><li>'./.config/configurations'</li><li>'./.config/logs'</li><li>'./.config/logs/2020.10.28'</li><li>'./.ipynb_checkpoints'</li><li>'./sample_data'</li><li>'./test'</li></ol>\n"
            ]
          },
          "metadata": {
            "tags": []
          }
        }
      ]
    },
    {
      "cell_type": "code",
      "metadata": {
        "id": "a_7AjrddeNaO"
      },
      "source": [
        "con <- RSQLite::dbConnect(drv = RSQLite::SQLite(), dbname = \"test/D20514_이진우.sqlite\") # 자신의 이름과 학번으로 설정할 것"
      ],
      "execution_count": 28,
      "outputs": []
    },
    {
      "cell_type": "markdown",
      "metadata": {
        "id": "u0FjSSGQfyrs"
      },
      "source": [
        "* local dataframe 생성"
      ]
    },
    {
      "cell_type": "code",
      "metadata": {
        "id": "JJe83vhFezAO",
        "outputId": "931523ac-4990-4557-9a5a-cc2e6e030156",
        "colab": {
          "base_uri": "https://localhost:8080/"
        }
      },
      "source": [
        "DF <- tibble(ID = c(\"D20514\"), GRADE = c(\"1\"), NAME = c(\"이진우\"), RESIDENCE = c(\"서울 성북구/강원 춘천..\"))\n",
        "DF %>% show()"
      ],
      "execution_count": 29,
      "outputs": [
        {
          "output_type": "stream",
          "text": [
            "\u001b[90m# A tibble: 1 x 4\u001b[39m\n",
            "  ID     GRADE NAME   RESIDENCE              \n",
            "  \u001b[3m\u001b[90m<chr>\u001b[39m\u001b[23m  \u001b[3m\u001b[90m<chr>\u001b[39m\u001b[23m \u001b[3m\u001b[90m<chr>\u001b[39m\u001b[23m  \u001b[3m\u001b[90m<chr>\u001b[39m\u001b[23m                  \n",
            "\u001b[90m1\u001b[39m D20514 1     이진우 서울 성북구/강원 춘천..\n"
          ],
          "name": "stdout"
        }
      ]
    },
    {
      "cell_type": "markdown",
      "metadata": {
        "id": "lDjMcNvbf041"
      },
      "source": [
        "* copy_to를 이용하여 local dataframe을 SQLite의 테이블로 생성"
      ]
    },
    {
      "cell_type": "code",
      "metadata": {
        "id": "1FXiv7S7etW1"
      },
      "source": [
        "dplyr::copy_to(con, DF, \"D20514_JinwooLee\", temporary = F) # connection, 생성한 dataframe, 테이블 명, 일시적인 테이블 해제"
      ],
      "execution_count": 30,
      "outputs": []
    },
    {
      "cell_type": "markdown",
      "metadata": {
        "id": "ufHzPzRWf-hj"
      },
      "source": [
        "* 생성한 테이블 확인"
      ]
    },
    {
      "cell_type": "code",
      "metadata": {
        "id": "1vapKRvTfwte",
        "outputId": "ad373cf4-393e-4db7-cc21-e0847031a763",
        "colab": {
          "base_uri": "https://localhost:8080/",
          "height": 33
        }
      },
      "source": [
        "dbListTables(con)"
      ],
      "execution_count": 31,
      "outputs": [
        {
          "output_type": "display_data",
          "data": {
            "text/plain": [
              "[1] \"D20514_JinwooLee\" \"sqlite_stat1\"     \"sqlite_stat4\"    "
            ],
            "text/latex": "\\begin{enumerate*}\n\\item 'D20514\\_JinwooLee'\n\\item 'sqlite\\_stat1'\n\\item 'sqlite\\_stat4'\n\\end{enumerate*}\n",
            "text/markdown": "1. 'D20514_JinwooLee'\n2. 'sqlite_stat1'\n3. 'sqlite_stat4'\n\n\n",
            "text/html": [
              "<style>\n",
              ".list-inline {list-style: none; margin:0; padding: 0}\n",
              ".list-inline>li {display: inline-block}\n",
              ".list-inline>li:not(:last-child)::after {content: \"\\00b7\"; padding: 0 .5ex}\n",
              "</style>\n",
              "<ol class=list-inline><li>'D20514_JinwooLee'</li><li>'sqlite_stat1'</li><li>'sqlite_stat4'</li></ol>\n"
            ]
          },
          "metadata": {
            "tags": []
          }
        }
      ]
    },
    {
      "cell_type": "code",
      "metadata": {
        "id": "MT8aziLkgCXr",
        "outputId": "1f7df6c0-2ecb-439e-b7df-7859e4599085",
        "colab": {
          "base_uri": "https://localhost:8080/"
        }
      },
      "source": [
        "tbl(con, \"D20514_JinwooLee\") %>% collect() %>% show()"
      ],
      "execution_count": 32,
      "outputs": [
        {
          "output_type": "stream",
          "text": [
            "\u001b[90m# A tibble: 1 x 4\u001b[39m\n",
            "  ID     GRADE NAME   RESIDENCE              \n",
            "  \u001b[3m\u001b[90m<chr>\u001b[39m\u001b[23m  \u001b[3m\u001b[90m<chr>\u001b[39m\u001b[23m \u001b[3m\u001b[90m<chr>\u001b[39m\u001b[23m  \u001b[3m\u001b[90m<chr>\u001b[39m\u001b[23m                  \n",
            "\u001b[90m1\u001b[39m D20514 1     이진우 서울 성북구/강원 춘천..\n"
          ],
          "name": "stdout"
        }
      ]
    },
    {
      "cell_type": "code",
      "metadata": {
        "id": "RN4ckzz3gIYK"
      },
      "source": [
        "dbDisconnect(con)"
      ],
      "execution_count": 33,
      "outputs": []
    },
    {
      "cell_type": "code",
      "metadata": {
        "id": "gsBIURpcgLgb"
      },
      "source": [
        ""
      ],
      "execution_count": null,
      "outputs": []
    }
  ]
}