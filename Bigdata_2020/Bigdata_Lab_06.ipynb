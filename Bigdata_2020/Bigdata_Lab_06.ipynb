{
  "nbformat": 4,
  "nbformat_minor": 0,
  "metadata": {
    "colab": {
      "name": "Bigdata Lab 6.ipynb",
      "provenance": [],
      "collapsed_sections": [
        "gZEFUyZ5kRtb",
        "VVJ0ffaqteua",
        "0-H8EiDF6YL8",
        "bd3hrE6LEfW4"
      ],
      "include_colab_link": true
    },
    "kernelspec": {
      "name": "ir",
      "display_name": "R"
    }
  },
  "cells": [
    {
      "cell_type": "markdown",
      "metadata": {
        "id": "view-in-github",
        "colab_type": "text"
      },
      "source": [
        "<a href=\"https://colab.research.google.com/github/Jin0331/TA/blob/master/Bigdata_Lab_6.ipynb\" target=\"_parent\"><img src=\"https://colab.research.google.com/assets/colab-badge.svg\" alt=\"Open In Colab\"/></a>"
      ]
    },
    {
      "cell_type": "markdown",
      "metadata": {
        "id": "NqwIc2xhQqLu"
      },
      "source": [
        "# **빅데이터개론 6주차 실습**\n",
        "## **- 히스토그램, 박스 플롯, 상관계수**\n",
        "\n",
        "수업 관련 자료 notion :\n",
        "\n",
        "https://www.notion.so/1e83a70a95474931beb46e23b8289b70\n",
        "\n",
        "https://github.com/Jin0331/TA\n",
        "\n",
        "- - -"
      ]
    },
    {
      "cell_type": "markdown",
      "metadata": {
        "id": "gZEFUyZ5kRtb"
      },
      "source": [
        "## **1. 히스토그램(histogram)**\n",
        "\n",
        "* 데이터의 전체적인 특징을 파악 가능. 양적 데이터의 분포를 나타내는 그래프로서 데이터의 값들이 어떻게 흩어져 있는지에 대한 경향을 살펴볼 수 있다.\n",
        "\n",
        "* 각 구간들에 포함되는 데이터의 개수(도수, 빈도)를 막대의 길이로 표현한다.\n",
        "\n",
        "* 막대의 길이는 상대빈도(빈도의 총합에 대한 각 구간의 빈도의 비율, 즉, 빈도/빈도의 총합 계)를 나타내는 경우도 있음\n",
        "\n",
        "* 연속 데이터의 히스토그램은 각각의 막대들을 간격없이 나열하여 표현한다.\n",
        "\n",
        "<br>\n",
        "\n",
        "\n",
        "\n",
        "### **<예시>**\n",
        "\n",
        "![png](https://www.syncfusion.com/blogs/wp-content/uploads/2019/11/Bar-chart-versus-histogram-chart-elements-representation.png)\n",
        "\n",
        "https://www.syncfusion.com/blogs/post/histogram-vs-bar-chart.aspx"
      ]
    },
    {
      "cell_type": "markdown",
      "metadata": {
        "id": "hlF3LuIC8NdE"
      },
      "source": [
        "* ggplot2를 이용한 히스토그램 --> **geom_histogram**\n",
        "\n",
        "\n",
        "```\n",
        "ggplot(data = [data], mapping = aes(x = [column]) \n",
        " + geom_hisogram()                                                \n",
        "```"
      ]
    },
    {
      "cell_type": "code",
      "metadata": {
        "id": "JAP4AGoOXf1i"
      },
      "source": [
        "install.packages(c(\"tidyverse\", \"data.table\"))\n",
        "library(tidyverse);library(data.table)"
      ],
      "execution_count": null,
      "outputs": []
    },
    {
      "cell_type": "code",
      "metadata": {
        "id": "aIRgU0bWy634"
      },
      "source": [
        "# data\n",
        "DF <- fread(\"ftp://210.115.229.94/2020_datascience/6th_data/Regular_Season_Batter.csv\") %>% \n",
        " as_tibble()"
      ],
      "execution_count": null,
      "outputs": []
    },
    {
      "cell_type": "code",
      "metadata": {
        "id": "ixBsbDYjzaTt"
      },
      "source": [
        "DF %>% show()"
      ],
      "execution_count": null,
      "outputs": []
    },
    {
      "cell_type": "code",
      "metadata": {
        "id": "pS3CrOiCYf73"
      },
      "source": [
        "# 2018년도 선수별 OPS(on base plus slugging)\n",
        "# OPS = 출루율(OBP) + 장타율(SLG)\n",
        "# 일반적으로 ops가 .900 이상이면, 좋은 타자, 1.000 이상이면 리그에서 손 꼽히는 타자!\n",
        "\n",
        "OPS_2018 <- DF %>% filter(year == 2018) %>% select(year, batter_name, OPS) %>% na.omit()\n",
        "OPS_2018 %>% show()"
      ],
      "execution_count": null,
      "outputs": []
    },
    {
      "cell_type": "code",
      "metadata": {
        "id": "tsKuwDdPzc5Q"
      },
      "source": [
        "#히스토그램\n",
        "g_hist <- ggplot(data = OPS_2018, mapping = aes(x = OPS)) # ggplot 객체를 g_hist에 저장\n",
        "g_hist"
      ],
      "execution_count": null,
      "outputs": []
    },
    {
      "cell_type": "code",
      "metadata": {
        "id": "2dB9NmrzaV96"
      },
      "source": [
        "g_hist + geom_histogram()"
      ],
      "execution_count": null,
      "outputs": []
    },
    {
      "cell_type": "markdown",
      "metadata": {
        "id": "2K5q9viKafTa"
      },
      "source": [
        "* geom_histogram() 함수에서 사용되는 주요 인자\n",
        "\n",
        " 1. binwidth : 막대의 너비 설정. 구간을 나누는 기준이 되므로 막대의 개수가 결정.\n",
        " 2. bins : 막대의 개수 설정\n",
        " 3. breaks : 막대의 구간을 숫자 벡터로 할당할 때 사용(bins와 동일한 기능)"
      ]
    },
    {
      "cell_type": "code",
      "metadata": {
        "id": "i3HilYPZzpwr"
      },
      "source": [
        "# binwidth 조절(막대의 너비)\n",
        "for(binwidth_value in seq(from = 0, to = 1, by = 0.05)){\n",
        "  temp <- g_hist + geom_histogram(binwidth = binwidth_value) + \n",
        "           ggtitle(paste0(\"binwidth = \", binwidth_value))\n",
        "  plot(temp)\n",
        "  Sys.sleep(1.5)\n",
        "}\n"
      ],
      "execution_count": null,
      "outputs": []
    },
    {
      "cell_type": "code",
      "metadata": {
        "id": "zy7VlbRXeYYd"
      },
      "source": [
        "# bins 조절 (막대의 개수)\n",
        "for(bins_value in seq(from = 0, to = 50, by = 5)){\n",
        "  temp <- g_hist + geom_histogram(bins = bins_value) + \n",
        "           ggtitle(paste0(\"bins = \", bins_value))\n",
        "  plot(temp)\n",
        "  Sys.sleep(1.5)\n",
        "}"
      ],
      "execution_count": null,
      "outputs": []
    },
    {
      "cell_type": "code",
      "metadata": {
        "id": "GUkAt5toAnor"
      },
      "source": [
        "breaks <- seq(from = 0.4, to = 1.15, by = 0.05)\n",
        "breaks"
      ],
      "execution_count": null,
      "outputs": []
    },
    {
      "cell_type": "code",
      "metadata": {
        "id": "r1fcWWYVjyAC"
      },
      "source": [
        "# break 조절 \n",
        "breaks <- seq(from = 0.4, to = 1.15, by = 0.05)\n",
        "print(breaks)\n",
        "g_hist + geom_histogram(breaks = breaks) "
      ],
      "execution_count": null,
      "outputs": []
    },
    {
      "cell_type": "code",
      "metadata": {
        "id": "2NqRnczjgO7A"
      },
      "source": [
        "# color와 fill\n",
        "breaks <- seq(from = 0.4, to = 1.15, by = 0.05)\n",
        "g_hist + geom_histogram(breaks = breaks, color = \"black\", fill = \"white\")"
      ],
      "execution_count": null,
      "outputs": []
    },
    {
      "cell_type": "code",
      "metadata": {
        "id": "4dC6MArKgO44"
      },
      "source": [
        "# geom_vline, 수직 선 추가\n",
        "g_hist + geom_histogram(breaks = breaks, color = \"black\", fill = \"white\") +\n",
        "geom_vline(xintercept = 0.9, color = \"blue\") +\n",
        " geom_vline(xintercept = 1, color = \"red\") "
      ],
      "execution_count": null,
      "outputs": []
    },
    {
      "cell_type": "code",
      "metadata": {
        "id": "8UF4EzXhhaEi"
      },
      "source": [
        "# 막대 라벨링\n",
        "g_hist + geom_histogram(breaks = breaks, color = \"black\", fill = \"white\") +\n",
        " geom_vline(xintercept = 0.9, color = \"blue\") +\n",
        " stat_bin(breaks = breaks, geom = \"text\", aes(label = ..count..), vjust = -1.5)  +\n",
        " scale_y_continuous(limits = c(0, 30))"
      ],
      "execution_count": null,
      "outputs": []
    },
    {
      "cell_type": "code",
      "metadata": {
        "id": "Wt1BsEeLiJ81"
      },
      "source": [
        "# ggthemes\n",
        "#install.packages(\"ggthemes\")\n",
        "library(ggthemes)\n",
        "\n",
        "g_hist + geom_histogram(breaks = breaks, color = \"black\", fill = \"white\") +\n",
        " geom_vline(xintercept = 0.9, color = \"blue\") +\n",
        " stat_bin(breaks = breaks, geom = \"text\", aes(label = ..count..), vjust = -1.5)  +\n",
        " scale_y_continuous(limits = c(0, 30)) + \n",
        " theme_hc() +\n",
        " ggtitle(\"2018 KBO OPS Histogram\")"
      ],
      "execution_count": null,
      "outputs": []
    },
    {
      "cell_type": "markdown",
      "metadata": {
        "id": "VVJ0ffaqteua"
      },
      "source": [
        "## **2. 박스 플롯(boxplot)**\n",
        "\n",
        "* 자료로부터 얻어낸 여러가지 요약수치들를 한 눈에 표현\n",
        "\n",
        "* bloxplot 지표\n",
        "  1. 최솟값 (minumum)\n",
        "  2. 최댓값 (Maximum)\n",
        "  3. 중앙값 (Median)\n",
        "  4. 1사분범위 (1Q, 즉 하위 25% 지점)\n",
        "  5. 3사분범위 (3Q, 즉 상위 25% 지점)\n",
        "  6. IQR (inter-quartile range) : IQR은 1Q~3Q 구간\n",
        "  7. 이상치 (Outlier) : 1Q, 3Q, IQR을 통해 하위 이상치(= 1Q - 1.5 * IQR)와 상위 이상치(= 3Q + 1.5 * IQR)\n",
        "\n",
        "<br>\n",
        "\n",
        "\n",
        "\n",
        "### **<예시>**\n",
        "\n",
        "![png](https://media.vlpt.us/images/suzin/post/2668cebc-ab74-4964-bfcc-3d68fbe63adb/20200211_112113.png)"
      ]
    },
    {
      "cell_type": "markdown",
      "metadata": {
        "id": "q-DgreRzuU6a"
      },
      "source": [
        "* ggplot2를 이용한 박스플롯 --> **geom_boxplot**\n",
        "\n",
        "\n",
        "```\n",
        "ggplot(data = [data], mapping = aes(x = [column], y = [colum]) \n",
        " + geom_boxplot()   \n",
        "```"
      ]
    },
    {
      "cell_type": "code",
      "metadata": {
        "id": "fgfCH1PlvY4d"
      },
      "source": [
        "install.packages(c(\"tidyverse\", \"data.table\"))\n",
        "library(tidyverse);library(data.table)\n",
        "\n",
        "DF <- fread(\"ftp://210.115.229.94/2020_datascience/6th_data/Regular_Season_Batter.csv\") %>% \n",
        " as_tibble()"
      ],
      "execution_count": null,
      "outputs": []
    },
    {
      "cell_type": "code",
      "metadata": {
        "id": "JRU4P55r6jih"
      },
      "source": [
        "# 이 부분 설정은 lab 5 참고할 것\n",
        "install.packages(\"extrafont\")\n",
        "library(extrafont)\n",
        "system(\"sudo apt-get install fonts-nanum-coding\")\n",
        "font_import(pattern = \"Nanum\") "
      ],
      "execution_count": null,
      "outputs": []
    },
    {
      "cell_type": "code",
      "metadata": {
        "id": "GBP39Tv6xtNl"
      },
      "source": [
        "library(extrafont)\n",
        "fonts()"
      ],
      "execution_count": null,
      "outputs": []
    },
    {
      "cell_type": "code",
      "metadata": {
        "id": "SRX4mkcevZtv"
      },
      "source": [
        "# 2017 팀별 홈런\n",
        "HR_2017 <- DF %>% filter(year == 2017) %>% select(year, team, batter_name, HR, OPS) %>% na.omit()\n",
        "HR_2017 %>% show()\n",
        "\n",
        "\n",
        "g_box <- ggplot(data = HR_2017, mapping = aes(x = team, y = HR)) \n",
        "g_box"
      ],
      "execution_count": null,
      "outputs": []
    },
    {
      "cell_type": "markdown",
      "metadata": {
        "id": "B4pMOn5gy8CU"
      },
      "source": [
        "* geom_boxplot()에서 outlier 관련 인자들\n",
        "  * outlier.color : 아웃라이어의 테두리 색을 지정합니다.\n",
        "  * outlier.fill : 아웃라이어의 채우기 색을 지정합니다.\n",
        "  * outlier.shape : 아웃라이어의 형태를 지정합니다.\n",
        "  * outlier.size : 아웃라이어의 크기를 지정합니다.\n",
        "  * outlier.stroke : 아웃라이어의 테두리 두께를 지정합니다.\n",
        "  * outlier.alpha : 아웃라이어의 투명도를 지정합니다."
      ]
    },
    {
      "cell_type": "code",
      "metadata": {
        "id": "tAykiu9Rymv8"
      },
      "source": [
        "#install.packages(\"ggthemes\")\n",
        "library(ggthemes)\n",
        "\n",
        "g_box + geom_boxplot() +\n",
        " theme(axis.title.x = element_text(family = fonts()[1])) +  # 한글 설정. \n",
        " theme_gdocs() # ggthemes"
      ],
      "execution_count": null,
      "outputs": []
    },
    {
      "cell_type": "code",
      "metadata": {
        "id": "y5IJZzLg0Szx"
      },
      "source": [
        "# outler 표기 삭제\n",
        "g_box + geom_boxplot(outlier.shape = NA) +\n",
        " theme(axis.title.x = element_text(family = fonts()[1])) +  # 한글 설정. \n",
        " theme_gdocs() # ggthemes"
      ],
      "execution_count": null,
      "outputs": []
    },
    {
      "cell_type": "code",
      "metadata": {
        "id": "B8sCwJomzwME"
      },
      "source": [
        "# 인자 변경을 통한 outlier 꾸미기\n",
        "g_box + geom_boxplot(outlier.color = \"red\", outlier.shape = \"★\", outlier.size = 7) +\n",
        " theme(axis.title.x = element_text(family = fonts()[1])) +  # 한글 설정. \n",
        " theme_wsj() # ggthemes"
      ],
      "execution_count": null,
      "outputs": []
    },
    {
      "cell_type": "code",
      "metadata": {
        "id": "KbatT29z0cWl"
      },
      "source": [
        "# fill 옵션 변경\n",
        "g_box + geom_boxplot(mapping = aes(fill = team), outlier.color = \"red\", outlier.shape = \"★\", outlier.size = 7) +\n",
        " theme(axis.title.x = element_text(family = fonts()[1])) +  # 한글 설정. \n",
        " theme_wsj() # ggthemes"
      ],
      "execution_count": null,
      "outputs": []
    },
    {
      "cell_type": "code",
      "metadata": {
        "id": "YMxcYRas2tEv"
      },
      "source": [
        "# outlier에 라벨링\n",
        "is_outlier <- function(x) { # x는 숫자형 벡터\n",
        "  return(x < quantile(x, 0.25) - 1.5 * IQR(x) | x > quantile(x, 0.75) + 1.5 * IQR(x))\n",
        "}"
      ],
      "execution_count": null,
      "outputs": []
    },
    {
      "cell_type": "code",
      "metadata": {
        "id": "IwKMiQI-M8nb"
      },
      "source": [
        "dat <- HR_2017 %>%\n",
        " group_by(team) %>% \n",
        " mutate(is_outlier = ifelse(is_outlier(HR), batter_name, NA))\n",
        "\n",
        " dat %>% show()\n",
        " dat %>% filter(!is.na(is_outlier))"
      ],
      "execution_count": null,
      "outputs": []
    },
    {
      "cell_type": "code",
      "metadata": {
        "id": "QUIcybAj4PiB"
      },
      "source": [
        "ggplot(data = dat, mapping = aes(x = team, y = HR)) + \n",
        " geom_boxplot(mapping = aes(fill = team), outlier.color = \"red\", outlier.shape = \"★\", outlier.size = 7) +\n",
        " geom_text(mapping = aes(label = is_outlier), na.rm = T, vjust = -1) +\n",
        " theme(axis.title.x = element_text(family = fonts()[1])) +  # 한글 설정. \n",
        " theme_wsj()\n"
      ],
      "execution_count": null,
      "outputs": []
    },
    {
      "cell_type": "markdown",
      "metadata": {
        "id": "0-H8EiDF6YL8"
      },
      "source": [
        "## **3. 평균, 분산, 표준편차**\n",
        "\n",
        "* apply \n",
        "\n",
        "* base::summary()\n",
        "\n",
        "* pastecs::stat.desc()\n",
        "\n",
        "* psych::describe()\n",
        "- - -"
      ]
    },
    {
      "cell_type": "code",
      "metadata": {
        "id": "VzEjosjd80Al"
      },
      "source": [
        "DF <- fread(\"ftp://210.115.229.94/2020_datascience/6th_data/Regular_Season_Batter.csv\") %>% \n",
        " as_tibble()"
      ],
      "execution_count": null,
      "outputs": []
    },
    {
      "cell_type": "code",
      "metadata": {
        "id": "L-3EOqov9zlL"
      },
      "source": [
        " DF%>%show()"
      ],
      "execution_count": null,
      "outputs": []
    },
    {
      "cell_type": "code",
      "metadata": {
        "id": "g2o7h14C9M2a"
      },
      "source": [
        "# apply를 이용한 방법, error 발생, apply는 반드시 array\n",
        "apply(DF, 2, mean, na.rm = T)"
      ],
      "execution_count": null,
      "outputs": []
    },
    {
      "cell_type": "code",
      "metadata": {
        "id": "P3RYeD27_hx3"
      },
      "source": [
        "# lapply를 이용한 방법\n",
        "lapply(X = DF, FUN = function(col){\n",
        "   mean(col, na.rm = T)\n",
        "}) %>% unlist() %>% print()"
      ],
      "execution_count": null,
      "outputs": []
    },
    {
      "cell_type": "markdown",
      "metadata": {
        "id": "i7zjff8lDGPf"
      },
      "source": [
        "* summary"
      ]
    },
    {
      "cell_type": "code",
      "metadata": {
        "id": "uKTuQ-AP_skm"
      },
      "source": [
        "# base::summary() : min, 1Q, median, mean, 3Q, max\n",
        "\n",
        "summary(DF)"
      ],
      "execution_count": null,
      "outputs": []
    },
    {
      "cell_type": "markdown",
      "metadata": {
        "id": "_1D6TmXTDIGL"
      },
      "source": [
        "* pastecs\n",
        "\n",
        "```\n",
        "basic = TRUE : 관측치 개수, null 개수, NA 개수, 최소값, 최대값, 범위, 합\n",
        "desc = TRUE : 중앙값, 평균, 분산, 표준편차, 변이계수\n",
        "norm = TRUE : 왜도, 첨도, 정규성 검정통계량, 정규성 검정 P-value\n",
        "p = 0.90 :  신뢰계수 90% (유의수준 10%) 값 => 90% 신뢰구간은 평균 ± CI.mean.0.9 값\n",
        "(위의 예 Price의 90% 신뢰구간은 19.51 ± 1.66)\n",
        "```"
      ]
    },
    {
      "cell_type": "code",
      "metadata": {
        "id": "IINqBB5XBIsf"
      },
      "source": [
        "install.packages(\"pastecs\")\n",
        "library(pastecs)"
      ],
      "execution_count": null,
      "outputs": []
    },
    {
      "cell_type": "code",
      "metadata": {
        "id": "3OgGpxVcBdIN"
      },
      "source": [
        "stat.desc(DF)"
      ],
      "execution_count": null,
      "outputs": []
    },
    {
      "cell_type": "code",
      "metadata": {
        "id": "3iNeAraeBq5n"
      },
      "source": [
        "DF %>% select_if(is.numeric) %>% stat.desc(.) %>% round(., 2)"
      ],
      "execution_count": null,
      "outputs": []
    },
    {
      "cell_type": "markdown",
      "metadata": {
        "id": "1PG79z2FDPbn"
      },
      "source": [
        "* psych\n",
        "\n",
        "```\n",
        "관측값 개수(n), 평균(mean), 표준편차(sd), 중앙값(median), \n",
        "절삭평균(10% 절삭평균), 중위값절대편차(from 중위값) (MAD, median absolute deviation), \n",
        "최소값(min), 최대값(max), 범위(range), 왜도(skew), 첨도(kurtosis), 표준오차(SE, standard error)\n",
        "```"
      ]
    },
    {
      "cell_type": "code",
      "metadata": {
        "id": "MjDs9qv2CIYd"
      },
      "source": [
        "install.packages(\"psych\")\n",
        "library(\"psych\")"
      ],
      "execution_count": null,
      "outputs": []
    },
    {
      "cell_type": "code",
      "metadata": {
        "id": "KTPFPPuiDaS5"
      },
      "source": [
        "describe(DF)"
      ],
      "execution_count": null,
      "outputs": []
    },
    {
      "cell_type": "markdown",
      "metadata": {
        "id": "bd3hrE6LEfW4"
      },
      "source": [
        "## **4. 산점도(Scatter plot), 공분산(Covariance), 상관계수(Correlation Coefficient)**\n",
        "\n",
        "- - -\n",
        "\n",
        "#### **A. 산점도(Scatter plot)**\n",
        "\n",
        "산점도는 두 개 변수 간의 관계를 나타내는 방법. 상관계수를 파악하지 전에 두 변수 간 관련성을 시각적으로 파악할 수 있음.\n",
        "\n",
        "![png](https://camo.githubusercontent.com/47464af03eda69bcf450e701b7e4dd84af4d2538/68747470733a2f2f737465656d6974696d616765732e636f6d2f702f4333545a5231673831554e61507337767a4e5848756557355a4d3736445348574559376f6e6d664c78634b3269515837616b34353770534668783367527442724d6d4c477554535462725935706d6b44327a79337743377962315059464a387544466d785147505373796b467272317a516a4e593356593f666f726d61743d6d61746368266d6f64653d6669742677696474683d363430)\n",
        "\n"
      ]
    },
    {
      "cell_type": "code",
      "metadata": {
        "id": "UcpKE4E-Fhyl"
      },
      "source": [
        "DF <- fread(\"ftp://210.115.229.94/2020_datascience/6th_data/Regular_Season_Batter.csv\") %>% as_tibble()"
      ],
      "execution_count": null,
      "outputs": []
    },
    {
      "cell_type": "code",
      "metadata": {
        "id": "b2sFVwqSF-2Z"
      },
      "source": [
        "DF %>% show()"
      ],
      "execution_count": null,
      "outputs": []
    },
    {
      "cell_type": "code",
      "metadata": {
        "id": "jRVPu4K-F_2k"
      },
      "source": [
        "# https://dacon.io/competitions/official/235546/data/\n",
        "plot(x = DF$G, y = DF$avg)"
      ],
      "execution_count": null,
      "outputs": []
    },
    {
      "cell_type": "code",
      "metadata": {
        "id": "SEpjPKghGIYW"
      },
      "source": [
        "plot(DF$avg ~ DF$R )"
      ],
      "execution_count": null,
      "outputs": []
    },
    {
      "cell_type": "code",
      "metadata": {
        "id": "pdU_TGPeGI_5"
      },
      "source": [
        "DF[, 5:12] %>% plot()"
      ],
      "execution_count": null,
      "outputs": []
    },
    {
      "cell_type": "markdown",
      "metadata": {
        "id": "q4WWG96kGfOV"
      },
      "source": [
        "#### **B. 공분산(Covariance), 상관계수(Correlation Coefficient)**\n",
        "\n",
        "- - -\n",
        "\n",
        "산점도를 이용하면 두 변수간의 직선적인 관계를 개략적으로 파악할 수 있지만, 두 변수 사이의 관계를 보다 정확히 숫자로 나타낼 수 없다.\n",
        "\n",
        "``공분산과 상관계수``를 활용하여 관계를 수치로 파악한다.\n",
        "\n",
        "* **공분산**(``cov()`` 사용)\n",
        "\n",
        "공분산은 2개의 확률변수의 상관정도를 나타내는 값인데, 만약 2개의 변수 중 ``하나의 값이 상승하는 경향을 보일 때 다른 값도 상승하면 공분산의 값은 양수, 반대의 경우에는 음수``가 나온다.\n",
        "\n"
      ]
    },
    {
      "cell_type": "code",
      "metadata": {
        "id": "HdzpPYicGgBu"
      },
      "source": [
        "# cov()\n",
        "cov(DF$G, DF$avg)"
      ],
      "execution_count": null,
      "outputs": []
    },
    {
      "cell_type": "code",
      "metadata": {
        "id": "epcmRR1FGiaw"
      },
      "source": [
        "# 결측값 처리, na.omit을 이용해 행 전체를 날릴 것인가... 아니면 NA를 0으로 바꿀 것인가!! 선택의 자유~\n",
        "\n",
        "DF_NA <- DF %>% replace(is.na(.), 0) # tidyr replace 이용"
      ],
      "execution_count": null,
      "outputs": []
    },
    {
      "cell_type": "code",
      "metadata": {
        "id": "RWLRZRlkGjQ7"
      },
      "source": [
        "cov(DF_NA$G, DF_NA$avg) # G(경기수), avg(타율)"
      ],
      "execution_count": null,
      "outputs": []
    },
    {
      "cell_type": "code",
      "metadata": {
        "id": "R3ams-Y-GkRt"
      },
      "source": [
        "cov(DF_NA$avg, DF_NA$HR) # avg(타율), HR(홈런)"
      ],
      "execution_count": null,
      "outputs": []
    },
    {
      "cell_type": "code",
      "metadata": {
        "id": "Ig-975S9GlBW"
      },
      "source": [
        "cov(DF_NA$G, DF_NA$AB) # G(경기수), AB(타수)"
      ],
      "execution_count": null,
      "outputs": []
    },
    {
      "cell_type": "code",
      "metadata": {
        "id": "aLv1G3g1GmUS"
      },
      "source": [
        "DF_NA[, 5:12] %>% cov()"
      ],
      "execution_count": null,
      "outputs": []
    },
    {
      "cell_type": "markdown",
      "metadata": {
        "id": "nlxsBfQzGpwK"
      },
      "source": [
        "* **상관계수**(``cor()`` 사용)\n",
        "\n",
        "공분산은 상관관계의 상승 혹은 하강하는 경향을 이해할 수 있으나, 2개 변수의 측정 단위의 따라 값이 달라지므로 절대적 정도를 파악하는데 한계가 존재.\n",
        "\n",
        "이때 상관계수를 활용하면, 절대적 정도를 파악할 수 있다.!!!\n",
        "```\n",
        " ex) 2B와 G -> 371.111798\n",
        "     2B와 R -> 257.777680 \n",
        "     ...??\n",
        "```\n",
        "\n",
        "![png](https://camo.githubusercontent.com/47464af03eda69bcf450e701b7e4dd84af4d2538/68747470733a2f2f737465656d6974696d616765732e636f6d2f702f4333545a5231673831554e61507337767a4e5848756557355a4d3736445348574559376f6e6d664c78634b3269515837616b34353770534668783367527442724d6d4c477554535462725935706d6b44327a79337743377962315059464a387544466d785147505373796b467272317a516a4e593356593f666f726d61743d6d61746368266d6f64653d6669742677696474683d363430)\n"
      ]
    },
    {
      "cell_type": "code",
      "metadata": {
        "id": "gqSUqYN5GvVl"
      },
      "source": [
        "avg_HR_cor_M <- DF_NA[, 5:12] %>% cor()\n",
        "avg_HR_cor_M"
      ],
      "execution_count": null,
      "outputs": []
    },
    {
      "cell_type": "code",
      "metadata": {
        "id": "8syrKN-yHBUq"
      },
      "source": [
        "# 상관계수 plotting 패키지 (https://rpubs.com/cardiomoon/27080)\n",
        "install.packages(\"corrplot\")\n",
        "library(corrplot)"
      ],
      "execution_count": null,
      "outputs": []
    },
    {
      "cell_type": "code",
      "metadata": {
        "id": "1hVJ6SYsHFr6"
      },
      "source": [
        "?corrplot"
      ],
      "execution_count": null,
      "outputs": []
    },
    {
      "cell_type": "code",
      "metadata": {
        "id": "kuhQVoY5HXcL"
      },
      "source": [
        "corrplot(avg_HR_cor_M)"
      ],
      "execution_count": null,
      "outputs": []
    },
    {
      "cell_type": "code",
      "metadata": {
        "id": "7NFNdrCCHaf4"
      },
      "source": [
        "# method 변경\n",
        "# method = square\n",
        "corrplot(avg_HR_cor_M, method=\"square\")"
      ],
      "execution_count": null,
      "outputs": []
    },
    {
      "cell_type": "code",
      "metadata": {
        "id": "5cwwqVf8HdeO"
      },
      "source": [
        "# method 변경\n",
        "# method = number\n",
        "corrplot(avg_HR_cor_M, method=\"number\")"
      ],
      "execution_count": null,
      "outputs": []
    },
    {
      "cell_type": "code",
      "metadata": {
        "id": "aaA87vFUHeni"
      },
      "source": [
        "# type 변경\n",
        "# type = upper\n",
        "corrplot(avg_HR_cor_M,type=\"upper\")"
      ],
      "execution_count": null,
      "outputs": []
    },
    {
      "cell_type": "code",
      "metadata": {
        "id": "zjnzcr_nHgmh"
      },
      "source": [
        "# type 변경\n",
        "# type = lower\n",
        "corrplot(avg_HR_cor_M,type=\"lower\")"
      ],
      "execution_count": null,
      "outputs": []
    },
    {
      "cell_type": "code",
      "metadata": {
        "id": "R7ge_p5BHh4p"
      },
      "source": [
        "# corrplot.mixed\n",
        "corrplot.mixed(avg_HR_cor_M)"
      ],
      "execution_count": null,
      "outputs": []
    },
    {
      "cell_type": "code",
      "metadata": {
        "id": "wdPxXhzFcNBB"
      },
      "source": [
        ""
      ],
      "execution_count": null,
      "outputs": []
    }
  ]
}