{
  "nbformat": 4,
  "nbformat_minor": 0,
  "metadata": {
    "colab": {
      "name": "Big data Lab 9.ipynb",
      "provenance": [],
      "collapsed_sections": [
        "XUaaa7ISStc_",
        "sDBQ_h58uIvl",
        "5zS_sDbHBBzt",
        "opwcTi3wFQbK",
        "RzD5eFNSHG0q"
      ],
      "toc_visible": true,
      "include_colab_link": true
    },
    "kernelspec": {
      "name": "ir",
      "display_name": "R"
    }
  },
  "cells": [
    {
      "cell_type": "markdown",
      "metadata": {
        "id": "view-in-github",
        "colab_type": "text"
      },
      "source": [
        "<a href=\"https://colab.research.google.com/github/Jin0331/TA/blob/master/Big_data_Lab_9.ipynb\" target=\"_parent\"><img src=\"https://colab.research.google.com/assets/colab-badge.svg\" alt=\"Open In Colab\"/></a>"
      ]
    },
    {
      "cell_type": "markdown",
      "metadata": {
        "id": "NqwIc2xhQqLu"
      },
      "source": [
        "# **빅데이터개론 Lab 9 - 다중회귀분석(Multiple Linear Regression)**\n",
        "\n",
        "- - -\n",
        "\n",
        "참고자료 : https://www.notion.so/1e83a70a95474931beb46e23b8289b70\n",
        "\n",
        "\n"
      ]
    },
    {
      "cell_type": "markdown",
      "metadata": {
        "id": "bvjPzcZroydM"
      },
      "source": [
        "### **<다중선형회귀분석>**\n",
        "\n",
        "<img src=\"https://img1.daumcdn.net/thumb/R1280x0/?scode=mtistory2&fname=http%3A%2F%2Fcfile1.uf.tistory.com%2Fimage%2F99A0813C5E1D430625C52A\" width=\"500\" height=\"300\">\n",
        "\n",
        "* **Multiple linear regression (다중회귀분석)**\n",
        "\n",
        "  : 다중회귀분석은 설명변수(독립변수)가 2개 이상인 회귀분석\n",
        "\n",
        "  : 다중회귀분석에서 설명변수 개수가 많을 경우, 적절한 회귀모형 선택이 필요함\n",
        "\n",
        "  : 회귀모형에 포함되는 설명변수의 선정 기준\n",
        "      ㄱ) 반응변수(종속변수)와 높은 상관관계\n",
        "      ㄴ) 선택된 설명변수들은 서로 낮은 상관관계를 보임(다중공선성 문제)\n",
        "      ㄷ) 설명변수의 개수는 적을수록 유리\n",
        "\n",
        "      * 다중공선성 관련 링크 : https://learnx.tistory.com/entry/%EB%8B%A4%EC%A4%91%EA%B3%B5%EC%84%A0%EC%84%B1Multicollinearity%EC%9D%B4%EB%9E%80\n",
        "\n",
        "<br>\n",
        "\n",
        "* **Feature selection (변수 선택법)**\n",
        "\n",
        "  1) All possible regressions\n",
        "\n",
        "  - 변수들의 가능한 모든 조합들로부터 최적의 모형을 찾아냄\n",
        "\n",
        "  - 유의한 변수가 누락되지 않는 안전한 방법\n",
        "\n",
        "  - 변수가 많을수록 탐색 시간이 급증함\n",
        "\n",
        "  2) Forward stepwise selection (Forward selection)\n",
        "\n",
        "  - 기여도가 높은 유의한 변수부터 하나씩 추가하는 기법\n",
        "\n",
        "  - 빠른 계산이 장점\n",
        "\n",
        "  - 이미 선택된 변수는 다시 제거되지 않음\n",
        "\n",
        "  3) Backward stepwise selection (Backward elimination)\n",
        "\n",
        "  - 모든 변수를 포함한 상태에서 불필요한 변수를 제거해나가는 방법\n",
        "\n",
        "  - 중요한 변수가 제외될 가능성이 매우 적음\n",
        "\n",
        "  - 이미 제외된 변수는 다시 선택되지 않음\n",
        "  \n",
        "  <br>\n",
        "\n",
        "<img src=\"https://img1.daumcdn.net/thumb/R1280x0/?scode=mtistory2&fname=http%3A%2F%2Fcfile23.uf.tistory.com%2Fimage%2F999339425E1D4A5626C373\" width=\"600\" height=\"500\">\n",
        "\n",
        "<img src=\"https://img1.daumcdn.net/thumb/R1280x0/?scode=mtistory2&fname=http%3A%2F%2Fcfile5.uf.tistory.com%2Fimage%2F993971425E1D4A572FB764\" width=\"600\" height=\"500\">\n"
      ]
    },
    {
      "cell_type": "code",
      "metadata": {
        "id": "zL-ERaX7ihe6"
      },
      "source": [
        "install.packages(c(\"tidyverse\", \"data.table\", \"devtools\", \"scatterplot3d\", \"plotly\",\"PerformanceAnalytics\"))\n",
        "library(tidyverse)\n",
        "library(data.table)\n",
        "library(devtools)\n",
        "options(repr.plot.width=13, repr.plot.height=13)"
      ],
      "execution_count": null,
      "outputs": []
    },
    {
      "cell_type": "markdown",
      "metadata": {
        "id": "XUaaa7ISStc_"
      },
      "source": [
        "- - -\n",
        "\n",
        "#### **A. 예제 1**\n",
        "\n",
        "https://github.com/kassambara/datarium"
      ]
    },
    {
      "cell_type": "code",
      "metadata": {
        "id": "V3XHopJhqx5a"
      },
      "source": [
        "install_github(\"kassambara/datarium\")\n",
        "library(datarium)"
      ],
      "execution_count": null,
      "outputs": []
    },
    {
      "cell_type": "code",
      "metadata": {
        "id": "nWoKtbMKrJ_O"
      },
      "source": [
        "data(\"marketing\", package = \"datarium\")\n",
        "marketing %>% as_tibble() %>% show()"
      ],
      "execution_count": null,
      "outputs": []
    },
    {
      "cell_type": "code",
      "metadata": {
        "id": "C67E1Tb4GQt0"
      },
      "source": [
        "str(marketing)"
      ],
      "execution_count": null,
      "outputs": []
    },
    {
      "cell_type": "markdown",
      "metadata": {
        "id": "APosYm_2JtPz"
      },
      "source": [
        "* boxplot"
      ]
    },
    {
      "cell_type": "code",
      "metadata": {
        "id": "LDwsTs90GoVh"
      },
      "source": [
        "# boxplot을 이용한 outlier 확인 및 제거(?)\n",
        "boxplot(marketing)"
      ],
      "execution_count": null,
      "outputs": []
    },
    {
      "cell_type": "code",
      "metadata": {
        "id": "EEkSHQe_H2zs"
      },
      "source": [
        "str(boxplot(marketing, plot = F))"
      ],
      "execution_count": null,
      "outputs": []
    },
    {
      "cell_type": "markdown",
      "metadata": {
        "id": "JlEmDzwwJuyM"
      },
      "source": [
        "* scatter plot"
      ]
    },
    {
      "cell_type": "code",
      "metadata": {
        "id": "cRIojjdmr4J_"
      },
      "source": [
        "library(PerformanceAnalytics)\n",
        "chart.Correlation(marketing, histogram=TRUE, pch=19)"
      ],
      "execution_count": null,
      "outputs": []
    },
    {
      "cell_type": "code",
      "metadata": {
        "id": "W4DWtPCinEmM"
      },
      "source": [
        "library(scatterplot3d)\n",
        "scatterplot3d(marketing$youtube, marketing$facebook, marketing$sales, angle = 40)"
      ],
      "execution_count": null,
      "outputs": []
    },
    {
      "cell_type": "code",
      "metadata": {
        "id": "E3ZuZs6fixHI"
      },
      "source": [
        "# plotly를 이용한 3d Sactterplot(https://plotly.com/r/3d-scatter-plots/)\n",
        "# https://m.blog.naver.com/PostView.nhn?blogId=pmw9440&logNo=221590897819&proxyReferer=https:%2F%2Fwww.google.com%2F\n",
        "# ftp://210.115.229.94/plotly_3d_scatter.html\n",
        "library(plotly)\n",
        "fig <- plot_ly(marketing, x = ~youtube, y = ~facebook, z = ~sales, color = ~sales)\n",
        "fig <- fig %>% add_markers()\n",
        "fig <- fig %>% layout(scene = list(xaxis = list(title = 'YOUTUBE'),\n",
        "                                   yaxis = list(title = 'FACEBOOK'),\n",
        "                                   zaxis = list(title = 'SALES')))\n",
        "                        \n",
        "htmlwidgets::saveWidget(fig, file = \"3d_scatter.html\")"
      ],
      "execution_count": null,
      "outputs": []
    },
    {
      "cell_type": "markdown",
      "metadata": {
        "id": "43nZRbj1ixGm"
      },
      "source": [
        "* **회귀식 추정**\n",
        "``sales = b0 + b1 * youtube + b2 * facebook + b3 * newspaper ``\n"
      ]
    },
    {
      "cell_type": "code",
      "metadata": {
        "id": "Dhar3NaDixGo"
      },
      "source": [
        "model <- lm(sales ~ youtube + facebook + newspaper, data = marketing)\n",
        "model"
      ],
      "execution_count": null,
      "outputs": []
    },
    {
      "cell_type": "markdown",
      "metadata": {
        "id": "NKVCwI_uixGr"
      },
      "source": [
        "* 회귀식 도출\n",
        "* ```\n",
        "b0 = 3.52667, b1 = 0.045765, b2 = 0.188530, b3 = -0.001037 으로부터 \n",
        "sales = 3.52667 + 0.045765 * youtube + 0.188530 * facebook + -0.001037 * newspaper\n",
        "```\n",
        "\n",
        "\n",
        "* youtube, facebook, newspaper이 각각 1 증가할 때, sales가 0.045765, 0.188530, -0.001037이 증가"
      ]
    },
    {
      "cell_type": "code",
      "metadata": {
        "id": "mW1QNwvvixGs"
      },
      "source": [
        "summary(model)"
      ],
      "execution_count": null,
      "outputs": []
    },
    {
      "cell_type": "markdown",
      "metadata": {
        "id": "3p5fImsIixGv"
      },
      "source": [
        "<결과의 해석>\n",
        "```\n",
        "** m1 모델 **\n",
        "1. 제일 밑에 F-statistic의 p-value 값은 2.2e-16 로 0.05보다 작기에 이 회귀식은 회귀분석 모델 전체에 대해 통계적으로 의미가 있다고 볼 수 있다.\n",
        "\n",
        "2. 중간의 Coefficients:에는 y절편 값(Intercept) 및 변수들의 p-value 값이 나와있다. \n",
        "newspaper 변수의 경우 0.86으로 0.05보다 크기에 sales를 설명하는데 유의하지 않다.\n",
        "\n",
        "3. 밑 부분의 Adjusted R-squared 값은 0.8956로, 89%만큼의 설명력을 가진다고 판단할 수 있다.\n",
        "```"
      ]
    },
    {
      "cell_type": "markdown",
      "metadata": {
        "id": "LuM9aB5yixGv"
      },
      "source": [
        "**<유의하지 않은 변수 제거>**\n",
        "\n",
        "  * 위 다중회귀분석 결과에서 age와 ptl 변수가 유의하지 않은 것으로 확인됨\n",
        "\n",
        "  * 아래의 3가지 방법 중 하나로, 유의하지 않은 변수를 제거할 수 있음\n",
        "\n",
        "```\n",
        "1) 유의하지 않은 변수를 누락하고 회귀모형을 새롭게 정의\n",
        "model_2 <- lm(sales ~ youtube + facebook, data = marketing)\n",
        "\n",
        "2) update 함수를 사용하여, 기존 회귀모형에서 유의하지 않은 변수 제거\n",
        "model_2 <- update(model, .~. -newspaper)\n",
        "\n",
        "3) step 함수를 사용하여, 기존 회귀모형에서 유의하지 않은 변수를 제거해나감\n",
        "model_2 <- step(model, direction = \"backward\")\n",
        "```"
      ]
    },
    {
      "cell_type": "code",
      "metadata": {
        "id": "wGXngpA9ixGw"
      },
      "source": [
        "# 1 번 방법\n",
        "lm(sales ~ youtube + facebook, data = marketing)"
      ],
      "execution_count": null,
      "outputs": []
    },
    {
      "cell_type": "code",
      "metadata": {
        "id": "zSElJlehixGz"
      },
      "source": [
        "# 2 번 방법(update 사용)\n",
        "update(model, .~. -newspaper)"
      ],
      "execution_count": null,
      "outputs": []
    },
    {
      "cell_type": "code",
      "metadata": {
        "id": "ft9g0W65ixG2"
      },
      "source": [
        "# 3 번 방법(step)\n",
        "step(model, direction = \"backward\")"
      ],
      "execution_count": null,
      "outputs": []
    },
    {
      "cell_type": "code",
      "metadata": {
        "id": "N7kSWj82gra5"
      },
      "source": [
        "# 변수의 상대적 중요도 파악\n",
        "# https://rpubs.com/cardiomoon/152770\n",
        "factor2number=function(df){\n",
        "    select=sapply(df,function(x) {is.factor(x)})\n",
        "    if(sum(select)==1) df[[which(select)]]<-as.numeric(df[[which(select)]])\n",
        "    else if(sum(select)>1) df[,select]<-lapply(df[,select],as.numeric)\n",
        "    df\n",
        "}\n",
        "\n",
        "chr2factor=function(df){\n",
        "    select=sapply(df,function(x) {is.character(x)})\n",
        "    df[,select]<-lapply(df[,select],factor)\n",
        "    df\n",
        "}\n",
        "\n",
        "relweights <- function(fit,plot=FALSE,...){\n",
        "    df<-fit$model\n",
        "    df1<-chr2factor(df)\n",
        "    df2<-factor2number(df1)\n",
        "    \n",
        "    R <- cor(df2)\n",
        "    nvar <- ncol(R)\n",
        "    rxx <- R[2:nvar, 2:nvar]\n",
        "    rxy <- R[2:nvar, 1]\n",
        "    svd <- eigen(rxx)\n",
        "    evec <- svd$vectors\n",
        "    ev <- svd$values\n",
        "    delta <- diag(sqrt(ev))\n",
        "    lambda <- evec %*% delta %*% t(evec)\n",
        "    lambdasq <- lambda ^ 2\n",
        "    beta <- solve(lambda) %*% rxy\n",
        "    rsquare <- colSums(beta ^ 2)\n",
        "    rawwgt <- lambdasq %*% beta ^ 2\n",
        "    import <- (rawwgt / rsquare) * 100\n",
        "    import <- as.data.frame(import)\n",
        "    row.names(import) <- names(fit$model[2:nvar])\n",
        "    names(import) <- \"Weights\"\n",
        "    import <- import[order(import),1, drop=FALSE]\n",
        "    if(plot) {\n",
        "        dotchart(import$Weights, labels=row.names(import),\n",
        "                 xlab=\"% of R-Square\", pch=19,\n",
        "                 main=\"Relative Importance of Predictor Variables\",\n",
        "                 sub=paste(\"Total R-Square=\", round(rsquare, digits=3)),\n",
        "                 ...)\n",
        "    }  \n",
        "    attr(import,\"R-square\")<-round(rsquare, digits=3)\n",
        "    return(import)\n",
        "}\n",
        "\n",
        "plotRelWeights=function(fit){\n",
        "       data<-relweights(fit)\n",
        "       data$Predictors<-rownames(data)\n",
        "       p<-ggplot(data=data,aes(x=reorder(Predictors,Weights),y=Weights,fill=Predictors))+ \n",
        "           geom_bar(stat=\"identity\",width=0.5)+\n",
        "           ggtitle(\"Relative Importance of Predictor Variables\")+\n",
        "           ylab(paste0(\"% of R-square \\n(Total R-Square=\",attr(data,\"R-square\"),\")\"))+\n",
        "           geom_text(aes(y=Weights-0.1,label=paste(round(Weights,1),\"%\")),hjust=1)+\n",
        "           guides(fill=FALSE)+\n",
        "           coord_flip()\n",
        "       p\n",
        "   }\n",
        "\n"
      ],
      "execution_count": null,
      "outputs": []
    },
    {
      "cell_type": "code",
      "metadata": {
        "id": "dqKkuV_ktlU5"
      },
      "source": [
        "plotRelWeights(model)"
      ],
      "execution_count": null,
      "outputs": []
    },
    {
      "cell_type": "code",
      "metadata": {
        "id": "prgvypLWixHD"
      },
      "source": [
        "model_2 <- step(model, direction = \"backward\")\n",
        "plotRelWeights(model_2)"
      ],
      "execution_count": null,
      "outputs": []
    },
    {
      "cell_type": "code",
      "metadata": {
        "id": "h05h78XHixHG"
      },
      "source": [
        "# 3d 산점도\n",
        "library(scatterplot3d)\n",
        "\n",
        "s <- scatterplot3d(marketing$youtube, marketing$facebook, marketing$sales, pch = 20, type = 'h', angle = 55, color = \"tomato\")\n",
        "s$plane3d(model_2)"
      ],
      "execution_count": null,
      "outputs": []
    },
    {
      "cell_type": "markdown",
      "metadata": {
        "id": "bIYWHRsJixHL"
      },
      "source": [
        "* **예측**"
      ]
    },
    {
      "cell_type": "code",
      "metadata": {
        "id": "QKLZquA6ixHM"
      },
      "source": [
        "# test 데이터 생성\n",
        "set.seed(51)\n",
        "youtube_r <- sample(min(marketing$youtube):max(marketing$youtube), 60, replace = F)\n",
        "facebook_r <- sample(min(marketing$facebook):max(marketing$facebook), 60, replace = F)\n",
        "\n",
        "new_data <- tibble(youtube = youtube_r, facebook = facebook_r)\n",
        "new_data"
      ],
      "execution_count": null,
      "outputs": []
    },
    {
      "cell_type": "code",
      "metadata": {
        "id": "1jx3EEsxkPmk"
      },
      "source": [
        "# predict\n",
        "sales_r <- predict(model_2, new_data)\n",
        "new_data <- new_data %>% bind_cols(tibble(sales_predict = sales_r))\n",
        "new_data %>% show()"
      ],
      "execution_count": null,
      "outputs": []
    },
    {
      "cell_type": "code",
      "metadata": {
        "id": "jErN9dFsixHP"
      },
      "source": [
        "# Add supplementary points\n",
        "s <- scatterplot3d(marketing$youtube, marketing$facebook, marketing$sales, pch = 20, type = 'h', angle = 50, color = \"grey\")\n",
        "s$plane3d(model_2)\n",
        "s$points3d(new_data$youtube, new_data$facebook, new_data$sales_predict, col = \"red\", type = \"h\", pch = 16, cex = 1.5)"
      ],
      "execution_count": null,
      "outputs": []
    },
    {
      "cell_type": "code",
      "metadata": {
        "id": "HLcrwEefixHS"
      },
      "source": [
        "s <- scatterplot3d(marketing$youtube, marketing$facebook, marketing$sales, pch = 20, type = 'h', angle = 25, color = \"grey\")\n",
        "s$plane3d(model_2)\n",
        "s$points3d(new_data$youtube, new_data$facebook, new_data$sales_predict, col = \"red\", type = \"h\", pch = 16, cex = 1.5)"
      ],
      "execution_count": null,
      "outputs": []
    },
    {
      "cell_type": "markdown",
      "metadata": {
        "id": "sDBQ_h58uIvl"
      },
      "source": [
        "- - -\n",
        "\n",
        "#### **B. 예제 2**\n",
        "\n",
        "https://archive.ics.uci.edu/ml/datasets.php?format=&task=reg&att=&area=&numAtt=&numIns=&type=&sort=dateDown&view=table"
      ]
    },
    {
      "cell_type": "code",
      "metadata": {
        "id": "d982ZjQMuJ1P"
      },
      "source": [
        "library(data.table)\n",
        "library(tidyverse)\n",
        "\n",
        "Sys.setlocale('LC_ALL','C') # 이부분 무시해도 됨.\n",
        "DF <- fread(\"ftp://210.115.229.94/2020_datascience/BikeSeoul/SeoulBikeData.csv\", sep = \",\", stringsAsFactors = F) %>%\n",
        " as_tibble()"
      ],
      "execution_count": null,
      "outputs": []
    },
    {
      "cell_type": "code",
      "metadata": {
        "id": "iEFd_5KbzFeE"
      },
      "source": [
        "DF %>% show()"
      ],
      "execution_count": null,
      "outputs": []
    },
    {
      "cell_type": "code",
      "metadata": {
        "id": "mhTYAI3UOeqo"
      },
      "source": [
        "DF %>% str()"
      ],
      "execution_count": null,
      "outputs": []
    },
    {
      "cell_type": "markdown",
      "metadata": {
        "id": "cqXqqIzUbZF0"
      },
      "source": [
        "* 열(column) 이름 변경"
      ]
    },
    {
      "cell_type": "code",
      "metadata": {
        "id": "hGXxWvvtYMx_"
      },
      "source": [
        "#https://datascience.stackexchange.com/questions/8922/removing-strings-after-a-certain-character-in-a-given-text\n",
        "#https://stackoverflow.com/questions/5992082/how-to-remove-all-whitespace-from-a-string\n",
        "\n",
        "colnames(DF) <- colnames(DF) %>% lapply(X = ., FUN = function(value){\n",
        "  stringr::str_remove(string = value, pattern = \"\\\\(.*\") %>%\n",
        "  stringr::str_replace_all(string = ., pattern = \"[[:space:]]\", replace = \"_\")\n",
        "}) %>% unlist()\n",
        "\n",
        "DF %>% str()"
      ],
      "execution_count": null,
      "outputs": []
    },
    {
      "cell_type": "code",
      "metadata": {
        "id": "-epPZN03zH8x"
      },
      "source": [
        "DF %>% summary()"
      ],
      "execution_count": null,
      "outputs": []
    },
    {
      "cell_type": "markdown",
      "metadata": {
        "id": "ENZ-tNnyjE_U"
      },
      "source": [
        "* 문자형 데이터를 범주형 데이터로 변환"
      ]
    },
    {
      "cell_type": "code",
      "metadata": {
        "id": "jd1OEEh3K7jp"
      },
      "source": [
        "DF %>% boxplot()"
      ],
      "execution_count": null,
      "outputs": []
    },
    {
      "cell_type": "code",
      "metadata": {
        "id": "EroyJKPhL3WS"
      },
      "source": [
        "DF <- DF %>% mutate_if(is.character, factor)\n",
        "str(DF)\n",
        "\n",
        "DF %>% boxplot(las=2)\n",
        "DF %>% boxplot(plot = F) %>% str()"
      ],
      "execution_count": null,
      "outputs": []
    },
    {
      "cell_type": "code",
      "metadata": {
        "id": "ALB_6OGx0OBQ"
      },
      "source": [
        "# GGally의 ggpairs를 이용한 산점도 및 상관관계 확인\n",
        "install.packages(\"GGally\")\n",
        "DF %>% select_at(-1) %>% GGally::ggpairs()"
      ],
      "execution_count": null,
      "outputs": []
    },
    {
      "cell_type": "markdown",
      "metadata": {
        "id": "QX61j0-DtcEC"
      },
      "source": [
        "* train / test 분리"
      ]
    },
    {
      "cell_type": "code",
      "metadata": {
        "id": "OXyEOtbPteY0"
      },
      "source": [
        "install.packages(c(\"caTools\", \"caret\"))"
      ],
      "execution_count": null,
      "outputs": []
    },
    {
      "cell_type": "code",
      "metadata": {
        "id": "spu0oGh2C9Y3"
      },
      "source": [
        "library(caret)\n",
        "library(caTools)"
      ],
      "execution_count": null,
      "outputs": []
    },
    {
      "cell_type": "code",
      "metadata": {
        "id": "bYPGEf5dta-T"
      },
      "source": [
        "# caret을 이용한 train / test data 분리\n",
        "?createDataPartition\n",
        "trainIndex <- caret::createDataPartition(1:nrow(DF), p = 0.80, list = F)\n",
        "head(trainIndex)"
      ],
      "execution_count": null,
      "outputs": []
    },
    {
      "cell_type": "code",
      "metadata": {
        "id": "7td7AsemHRRp"
      },
      "source": [
        "DF_train <- DF[trainIndex, ] # 0.8\n",
        "DF_test <- DF[-trainIndex, ] # 0.2\n",
        "\n",
        "DF %>% nrow()\n",
        "DF_train %>% show()\n",
        "DF_test %>% show()"
      ],
      "execution_count": null,
      "outputs": []
    },
    {
      "cell_type": "code",
      "metadata": {
        "id": "vlDcC81xKs2V"
      },
      "source": [
        "# caTools 이용한 train / test data 분리\n",
        "?sample.split\n",
        "trainIndex <- caTools::sample.split(1:nrow(DF), SplitRatio = 0.80)\n",
        "trainIndex"
      ],
      "execution_count": null,
      "outputs": []
    },
    {
      "cell_type": "code",
      "metadata": {
        "id": "BInTBBviLrgr"
      },
      "source": [
        "DF_train <- filter(DF, trainIndex == T)\n",
        "DF_test <- filter(DF, trainIndex == F)\n",
        "\n",
        "DF_train %>% show()\n",
        "DF_test %>% show()"
      ],
      "execution_count": null,
      "outputs": []
    },
    {
      "cell_type": "markdown",
      "metadata": {
        "id": "fE7ged3WHOz5"
      },
      "source": [
        "* **회귀식 추정**"
      ]
    },
    {
      "cell_type": "code",
      "metadata": {
        "id": "jL5CAUSBdpeR"
      },
      "source": [
        "str(DF_train)"
      ],
      "execution_count": null,
      "outputs": []
    },
    {
      "cell_type": "code",
      "metadata": {
        "id": "ayEW70QdmmL9"
      },
      "source": [
        "summary(lm(Rented_Bike_Count  ~ Seasons + Holiday, data = DF_train))\n",
        "model.matrix(lm(Rented_Bike_Count  ~ Seasons + Holiday, data = DF_train)) %>% as_tibble() %>% show()"
      ],
      "execution_count": null,
      "outputs": []
    },
    {
      "cell_type": "markdown",
      "metadata": {
        "id": "71_1reFdR1pK"
      },
      "source": [
        "* Date(날짜)를 제외한 모든 설명변수를 이용한 회귀분석"
      ]
    },
    {
      "cell_type": "code",
      "metadata": {
        "id": "121CVqGnSQi_"
      },
      "source": [
        "# Hour --> 오전(0 ~ 12), 오후(13 ~24)으로 그룹화(0 == 오전, 1 == 오후)\n",
        "DF_train <- DF_train %>% mutate(Hour = ifelse(Hour <= 12, 0, 1)) %>%\n",
        " mutate(Hour = factor(Hour))\n",
        "DF_test <- DF_test %>% mutate(Hour = ifelse(Hour <= 12, 0, 1)) %>%\n",
        " mutate(Hour = factor(Hour))"
      ],
      "execution_count": null,
      "outputs": []
    },
    {
      "cell_type": "code",
      "metadata": {
        "id": "y7Yacr6jSged"
      },
      "source": [
        "DF_train %>% select(Hour) %>% show()"
      ],
      "execution_count": null,
      "outputs": []
    },
    {
      "cell_type": "code",
      "metadata": {
        "id": "onnv6ApyR1GD"
      },
      "source": [
        "model <- lm(Rented_Bike_Count ~ . -Date , data = DF_train)\n",
        "summary(model)"
      ],
      "execution_count": null,
      "outputs": []
    },
    {
      "cell_type": "code",
      "metadata": {
        "id": "3gJjjqw1czu0"
      },
      "source": [
        "plotRelWeights(model)"
      ],
      "execution_count": null,
      "outputs": []
    },
    {
      "cell_type": "markdown",
      "metadata": {
        "id": "2DGCGC_WcIq2"
      },
      "source": [
        "* step을 이용한 방법"
      ]
    },
    {
      "cell_type": "code",
      "metadata": {
        "id": "WrogaVvVgYhX"
      },
      "source": [
        "model_2 <- step(model, direction = \"backward\")\n",
        "summary(model_2)"
      ],
      "execution_count": null,
      "outputs": []
    },
    {
      "cell_type": "code",
      "metadata": {
        "id": "zkC-4O5JhFKp"
      },
      "source": [
        "plotRelWeights(model_2)"
      ],
      "execution_count": null,
      "outputs": []
    },
    {
      "cell_type": "markdown",
      "metadata": {
        "id": "7PWwgm8ycLbx"
      },
      "source": [
        "* Wind_speed_ 제거"
      ]
    },
    {
      "cell_type": "code",
      "metadata": {
        "id": "inh0LfCNTv36"
      },
      "source": [
        "model_3 <- update(model_2, .~. -Wind_speed_)\n",
        "summary(model_3)\n",
        "plotRelWeights(model_3)"
      ],
      "execution_count": null,
      "outputs": []
    },
    {
      "cell_type": "markdown",
      "metadata": {
        "id": "zc7Ql-YtnOcw"
      },
      "source": [
        "* Observed/fitted values and residuals"
      ]
    },
    {
      "cell_type": "code",
      "metadata": {
        "id": "L5N_cEscnPp7"
      },
      "source": [
        "install.packages(\"moderndive\")"
      ],
      "execution_count": null,
      "outputs": []
    },
    {
      "cell_type": "code",
      "metadata": {
        "id": "-xDrhfsInL2S"
      },
      "source": [
        "set.seed(30)\n",
        "moderndive::get_regression_points(model_3) %>%\n",
        " sample_n(size = 40) %>% select(ID, Rented_Bike_Count, Rented_Bike_Count_hat, residual)"
      ],
      "execution_count": null,
      "outputs": []
    },
    {
      "cell_type": "markdown",
      "metadata": {
        "id": "OzGZ0Ux9jxBn"
      },
      "source": [
        "* 사용되는 설명변수의 수가 많을 수록 결정계수는 상승한다..!"
      ]
    },
    {
      "cell_type": "code",
      "metadata": {
        "id": "vs2zMgFdcPtX"
      },
      "source": [
        "summary(lm(Rented_Bike_Count ~ Dew_point_temperature + Hour + Humidity, data = DF_train))"
      ],
      "execution_count": null,
      "outputs": []
    },
    {
      "cell_type": "markdown",
      "metadata": {
        "id": "9oUiTu2mlM86"
      },
      "source": [
        "* test를 이용한 예측"
      ]
    },
    {
      "cell_type": "code",
      "metadata": {
        "id": "J9t074DfcaEO"
      },
      "source": [
        "predict(model_3, DF_test)"
      ],
      "execution_count": null,
      "outputs": []
    },
    {
      "cell_type": "markdown",
      "metadata": {
        "id": "uAGgvta7qDuU"
      },
      "source": [
        "* Observed/fitted values and residuals"
      ]
    },
    {
      "cell_type": "code",
      "metadata": {
        "id": "njutDBjkl621"
      },
      "source": [
        "set.seed(50)\n",
        "DF_test %>% select(Rented_Bike_Count) %>% \n",
        " bind_cols(., tibble(Rented_Bike_Count_test_hat = predict(model_3, DF_test))) %>%\n",
        " mutate(residual = Rented_Bike_Count - Rented_Bike_Count_test_hat) %>%\n",
        " sample_n(size = 50)"
      ],
      "execution_count": null,
      "outputs": []
    },
    {
      "cell_type": "markdown",
      "metadata": {
        "id": "5zS_sDbHBBzt"
      },
      "source": [
        "- - -\n",
        "\n",
        "## **C. 실습 과제 <9주차 과제 - 100점>**\n",
        "\n",
        "### **(1) 각각의 문제 바로 아래에 답을 작성 후, Big_data_Lab9.ipynb 파일을 한림SmartLEAD에 제출할 것**\n",
        "### **(2) 제출 데드라인 : 2020.10.26(월요일) ~ 2020.11.1(일요일) 23:59 까지**\n",
        "### **(3) 부정행위 적발 시, 원본(보여준 사람)과 복사본(베낀 사람) 모두 0점 처리**\n",
        "### **(4) !!해당 문제의 코드와 출력 결과를 반드시 기록할 것(둘 중 하나라도 없으면 해당 문제 0점처리)!!**\n",
        "\n",
        "\n",
        "- - -\n"
      ]
    },
    {
      "cell_type": "markdown",
      "metadata": {
        "id": "7AdV7vOICPo_"
      },
      "source": [
        "### **1. 다음의 [링크(클릭)](https://archive.ics.uci.edu/ml/datasets.php?format=&task=reg&att=&area=&numAtt=&numIns=&type=&sort=nameUp&view=table)에서 Default Task가 ``\tRegression ``인 데이터를 적절히 선택하여, ``단순회귀분석(Simple Linear Regression)``과 ``다중회귀분석(Multiple Linear Regression)``을 실습자료의 ``예제1과 예제2 유사한 방식``으로 진행하시오.**\n",
        "\n",
        "``* 단순회귀분석 50점, 다중회귀분석 50점``\n",
        "\n",
        "<br>\n",
        "\n",
        "#### **다음의 조건을 만족해야 함**\n",
        "\n",
        "```\n",
        "## 조건\n",
        "1. 선택한 데이터의 Attribute(속성 또는 열)에 대한 설명\n",
        "2. scatter plot(산점도), boxplot 등 시각화하여 각 Attribute의 값에 대한 설명\n",
        "3. 적절한 반응변수와 설명변수의 섫정\n",
        "4. Train / Test set 분리 후 회귀식 추정\n",
        "5. 회귀분석 결과 해석\n",
        "6. Feature selection(변수 선택)\n",
        "7. Test set을 이용한 Predict(예측)\n",
        "```\n",
        "\n"
      ]
    },
    {
      "cell_type": "markdown",
      "metadata": {
        "id": "opwcTi3wFQbK"
      },
      "source": [
        "### **1-1. 단순회귀분석 (50점)**"
      ]
    },
    {
      "cell_type": "markdown",
      "metadata": {
        "id": "YBJFVbRJFcUm"
      },
      "source": [
        "* 선택한 데이터의 Attribute(속성 또는 열)에 대한 설명\n",
        "\n",
        "```\n",
        "(여기에 작성!!!)\n",
        "(여기에 작성!!!)\n",
        "(여기에 작성!!!)\n",
        "(여기에 작성!!!)\n",
        "(여기에 작성!!!)\n",
        "```"
      ]
    },
    {
      "cell_type": "markdown",
      "metadata": {
        "id": "z3EVc4uzFjMW"
      },
      "source": [
        "* scatter plot(산점도), boxplot 등 시각화하여 각 Attribute의 값에 대한 설명"
      ]
    },
    {
      "cell_type": "code",
      "metadata": {
        "id": "tBkq-4yDmB6y"
      },
      "source": [
        "# \"scatterplot3d\", \"plotly\",\"PerformanceAnalytics\", \"boxplot\" 활용\n"
      ],
      "execution_count": null,
      "outputs": []
    },
    {
      "cell_type": "markdown",
      "metadata": {
        "id": "6H3MRytIF6uX"
      },
      "source": [
        "* 적절한 반응변수와 설명변수의 설정\n",
        "\n",
        "```\n",
        "반응변수 :\n",
        "설명변수 :\n",
        "설정한 이유 : \n",
        "```"
      ]
    },
    {
      "cell_type": "markdown",
      "metadata": {
        "id": "IbVqZGKWF68A"
      },
      "source": [
        "* Train / Test set 분리 후 회귀식 추정"
      ]
    },
    {
      "cell_type": "code",
      "metadata": {
        "id": "1-Ukb4REGCyA"
      },
      "source": [
        "# \"caTools::sample.split\", \"caret:\"sample.split\", \"lm\" 활용\n"
      ],
      "execution_count": null,
      "outputs": []
    },
    {
      "cell_type": "markdown",
      "metadata": {
        "id": "Wc_XZCsMGWaZ"
      },
      "source": [
        "* 회귀분석 결과 해석(이론 강의 참고)\n"
      ]
    },
    {
      "cell_type": "code",
      "metadata": {
        "id": "z3Mt32bgGVdX"
      },
      "source": [
        "# \"summary\", \"plotRelWeights\" 활용\n"
      ],
      "execution_count": null,
      "outputs": []
    },
    {
      "cell_type": "markdown",
      "metadata": {
        "id": "zUVubIWGGtxi"
      },
      "source": [
        "* Feature selection(변수 선택)"
      ]
    },
    {
      "cell_type": "code",
      "metadata": {
        "id": "xkm8n1wvGrS-"
      },
      "source": [
        "# \"lm\", \"update\", \"step\" 활용\n"
      ],
      "execution_count": null,
      "outputs": []
    },
    {
      "cell_type": "markdown",
      "metadata": {
        "id": "00kDyn9JG_il"
      },
      "source": [
        "* Test set을 이용한 Predict(예측)"
      ]
    },
    {
      "cell_type": "code",
      "metadata": {
        "id": "mgx1EyxlHA0J"
      },
      "source": [
        "# \"predict\" 활용\n"
      ],
      "execution_count": null,
      "outputs": []
    },
    {
      "cell_type": "markdown",
      "metadata": {
        "id": "RzD5eFNSHG0q"
      },
      "source": [
        "### **1-2. 다중회귀분석 (50점)**"
      ]
    },
    {
      "cell_type": "markdown",
      "metadata": {
        "id": "WnalEjehHG0s"
      },
      "source": [
        "* 선택한 데이터의 Attribute(속성 또는 열)에 대한 설명\n",
        "```\n",
        "(여기에 작성!!!)\n",
        "(여기에 작성!!!)\n",
        "(여기에 작성!!!)\n",
        "(여기에 작성!!!)\n",
        "(여기에 작성!!!)\n",
        "```"
      ]
    },
    {
      "cell_type": "markdown",
      "metadata": {
        "id": "uETmwRj7HG0s"
      },
      "source": [
        "* scatter plot(산점도), boxplot 등 시각화하여 각 Attribute의 값에 대한 설명"
      ]
    },
    {
      "cell_type": "code",
      "metadata": {
        "id": "RuucCJQ7HG0t"
      },
      "source": [
        "# \"scatterplot3d\", \"plotly\",\"PerformanceAnalytics\", \"boxplot\" 활용\n"
      ],
      "execution_count": null,
      "outputs": []
    },
    {
      "cell_type": "markdown",
      "metadata": {
        "id": "lmie8VCcHG0v"
      },
      "source": [
        "* 적절한 반응변수와 설명변수의 설정\n",
        "\n",
        "```\n",
        "반응변수 :\n",
        "설명변수 :\n",
        "설정한 이유 : \n",
        "```"
      ]
    },
    {
      "cell_type": "markdown",
      "metadata": {
        "id": "J9qf5rWDHG0v"
      },
      "source": [
        "* Train / Test set 분리 후 회귀식 추정"
      ]
    },
    {
      "cell_type": "code",
      "metadata": {
        "id": "HkTRRK7bHG0w"
      },
      "source": [
        "# \"caTools::sample.split\", \"caret:\"sample.split\", \"lm\" 활용\n"
      ],
      "execution_count": null,
      "outputs": []
    },
    {
      "cell_type": "markdown",
      "metadata": {
        "id": "QNth34QwHG0x"
      },
      "source": [
        "* 회귀분석 결과 해석(이론 강의 참고)\n"
      ]
    },
    {
      "cell_type": "code",
      "metadata": {
        "id": "msTpp7OoHG0x"
      },
      "source": [
        "# \"summary\", \"plotRelWeights\" 활용\n"
      ],
      "execution_count": null,
      "outputs": []
    },
    {
      "cell_type": "markdown",
      "metadata": {
        "id": "bQM2NQyjHG0z"
      },
      "source": [
        "* Feature selection(변수 선택)"
      ]
    },
    {
      "cell_type": "code",
      "metadata": {
        "id": "8Yn8G4HBHG0z"
      },
      "source": [
        "# \"lm\", \"update\", \"step\" 활용\n"
      ],
      "execution_count": null,
      "outputs": []
    },
    {
      "cell_type": "markdown",
      "metadata": {
        "id": "bPAJmtfhHG02"
      },
      "source": [
        "* Test set을 이용한 Predict(예측)"
      ]
    },
    {
      "cell_type": "code",
      "metadata": {
        "id": "l_9xi-0WHG02"
      },
      "source": [
        "# \"predict\" 활용\n"
      ],
      "execution_count": null,
      "outputs": []
    }
  ]
}