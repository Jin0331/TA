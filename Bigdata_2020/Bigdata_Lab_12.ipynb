{
  "nbformat": 4,
  "nbformat_minor": 0,
  "metadata": {
    "colab": {
      "name": "Bigdata_Lab_12.ipynb",
      "provenance": [],
      "collapsed_sections": [
        "C0Wty8CYu_l_"
      ],
      "include_colab_link": true
    },
    "kernelspec": {
      "name": "ir",
      "display_name": "R"
    }
  },
  "cells": [
    {
      "cell_type": "markdown",
      "metadata": {
        "id": "view-in-github",
        "colab_type": "text"
      },
      "source": [
        "<a href=\"https://colab.research.google.com/github/Jin0331/TA/blob/master/Bigdata_2020/Bigdata_Lab_12.ipynb\" target=\"_parent\"><img src=\"https://colab.research.google.com/assets/colab-badge.svg\" alt=\"Open In Colab\"/></a>"
      ]
    },
    {
      "cell_type": "markdown",
      "metadata": {
        "id": "NqwIc2xhQqLu"
      },
      "source": [
        "# **빅데이터 개론 Lab 12 - 의사 결정 트리(Decision Tree)**\n",
        "\n",
        "참고자료 : https://www.notion.so/TA-2689a38b5289413a82671d3956fea103\n",
        "\n",
        "- - -\n",
        "\n",
        "\n"
      ]
    },
    {
      "cell_type": "markdown",
      "metadata": {
        "id": "bvjPzcZroydM"
      },
      "source": [
        "### **<의사 결정 트리(Decision Tree>**\n",
        "\n",
        "* 기계학습 중 하나로 특정 항목에 대한 의사 결정 규칙 (Decision rule)을 나무 형태로 분류해 나가는 분석 기법\n",
        "\n",
        "* 예를 들어, 타이타닉 호 탑승자의 성별, 나이, 자녀의 수를 이용해서 생존 확률을 아래와 같이 구분해 나가는 것\n",
        "\n",
        "<img src=\"https://i0.wp.com/www.dodomira.com/wp-content/uploads/2016/04/CART_tree_titanic_survivors_KOR.png?w=350\" width=\"600\" height=\"450\">\n",
        "\n",
        "* 가장 큰 장점은 분석 과정이 직관적이고 이해하기 쉬움\n",
        "\n",
        "* 인공신경망 분석의 경우 결과에 대한 설명을 이해하기 어려운 대표적인 블랙박스 모델인 반면, 의사결정나무 기법은 분석 과정을 실제로 눈으로 관측할 수 있기 때문에 대표적인 ``화이트박스 모델``.\n",
        "\n",
        "* 수치형(Numeric, Integer)/범주형(Factor) 변수를 모두 사용할 수 있다는 점, 계산 비용이 낮아 대규모의 데이터 셋에서도 비교적 빠르게 연산이 가능하다는 점이 장점.\n",
        "\n",
        "* 분석 방법에는 통계학에 기반한 (카이스퀘어, T검정, F검정 등을 사용한) CART 및 CHAID 알고리즘이나, 기계학습 계열인(엔트로피, 정보 이득 등을 사용한) ID3, C4.5, C5.0 등의 알고리즘이 존재"
      ]
    },
    {
      "cell_type": "markdown",
      "metadata": {
        "id": "nkQHyK9l-X_R"
      },
      "source": [
        "### **R의 의사결정나무 분석 패키지 비교 (Packages for Decision Tree in R)**\n",
        "\n",
        "* tree, rpart, party\n",
        "\n",
        "* 각각의 패키지는 의사결정나무를 만들 때 가지치기(pruning)를 하는 방법에 차이가 존재\n",
        "\n",
        "1. tree 패키지는 binary recursive partitioning을,  rpart 패키지는 CART(classification and regression trees) 사용\n",
        "\n",
        "  * 엔트로피(entropy, tree 패키지), 지니계수(gini index, rpart 패키지)를 기준으로 가지치기를 할 변수를 결정하기 때문에 상대적으로 연산 속도는 빠르지만 과적합화의 위험성 존재. ``따라서 두 패키지를 사용할 경우에는 Pruning 과정을 거쳐서 의사결정트리를 최적화 하는 과정이 필요``\n",
        "\n",
        "2. party 패키지는 Unbiased recursive partitioning based on permutation tests 방법론을 사용\n",
        "\n",
        "  * p-test를 거친 Significance를 기준으로 가지치기를 할 변수를 결정하기 때문에 biased 될 위험이 없어 별도로 Pruning할 필요가 없다는 장점 존재. ``하지만, 입력 변수의 레벨이 31개 까지로 제한되어 있다는 단점이 있음``\n",
        "\n",
        "* **알고리즘 비교**\n",
        "\n",
        "<img src=\"https://github.com/Jin0331/TA/blob/master/image/algorithm_dt.png?raw=true\" width=\"600\" height=\"450\">\n",
        "\n",
        "출처 : https://m.blog.naver.com/PostView.nhn?blogId=tjdudwo93&logNo=221041168345&proxyReferer=https:%2F%2Fwww.google.com%2F\n"
      ]
    },
    {
      "cell_type": "code",
      "metadata": {
        "id": "zL-ERaX7ihe6"
      },
      "source": [
        "install.packages(c(\"tidyverse\", \"data.table\", \"caret\", \"e1071\", \"rpart\", \"tree\", \"party\"))\n",
        "library(tidyverse)\n",
        "library(data.table)\n",
        "library(caret)\n",
        "library(rpart)\n",
        "library(tree)\n",
        "library(party)\n",
        "\n",
        "options(repr.plot.width=10, repr.plot.height=10)"
      ],
      "execution_count": null,
      "outputs": []
    },
    {
      "cell_type": "markdown",
      "metadata": {
        "id": "Bid1xhS0r9OH"
      },
      "source": [
        "#### **A. 예제 1 - rpart 패키지 이용**\n",
        "\n",
        "---\n"
      ]
    },
    {
      "cell_type": "markdown",
      "metadata": {
        "id": "7NjIVZzqc1N5"
      },
      "source": [
        "1. **Heart Disease Data** [http://archive.ics.uci.edu/ml/datasets/heart+Disease]\n",
        "\n",
        "* 변수 설명\n",
        "\n",
        "```\n",
        "Age : age in years\n",
        "Sex: sex (1 = male; 0 = female) # Factor\n",
        "ChestPain : (typical angina, atypical angina, non-anginal pain, asymptomatic # Factor\n",
        "RestBP(혈압) : resting blood pressure\n",
        "Chol(콜레스테롤 수치) : serum cholestoral in mg/dl\n",
        "Fbs(혈당) : (fasting blood sugar > 120 mg/dl) (1 = true; 0 = false) # Factor\n",
        "Restecg(심전도) : (0 = normal, 1 = having ST-T wave abnormality, 2 =  showing probable or definite left ventricular hypertrophy by Estes' criteria) # Factor\n",
        "MaxHR : maximum heart rate achieved\n",
        "ExAng(협심증?): exercise induced angina (1 = yes; 0 = no) # Factor\n",
        "Oldpeak = ST depression induced by exercise relative to rest\n",
        "Slope: the slope of the peak exercise ST segment(1 = upsloping, 2 = flat, 3 = downsloping) # Factor\n",
        "Ca: number of major vessels (0-3) colored by flourosopy # Factor\n",
        "Thal: 3 = normal; 6 = fixed defect; 7 = reversable defect # Factor\n",
        "\n",
        "# the predicted attribute(반응변수)\n",
        "\n",
        "AHD : diagnosis of heart disease (angiographic disease status)(0 = < 50% diameter narrowing, 1 =  > 50% diameter narrowing)\n",
        "\n",
        "# http://archive.ics.uci.edu/ml/datasets/heart+Disease\n"
      ]
    },
    {
      "cell_type": "code",
      "metadata": {
        "id": "M0LVsaGdcbDm"
      },
      "source": [
        "heart_df <- fread(\"https://raw.githubusercontent.com/Jin0331/TA/master/data/heart/Heart.csv\") %>% \n",
        "  as_tibble()\n",
        "\n",
        "str(heart_df)"
      ],
      "execution_count": null,
      "outputs": []
    },
    {
      "cell_type": "code",
      "metadata": {
        "id": "DROEyYyPUj1C"
      },
      "source": [
        "heart_df %>% str()"
      ],
      "execution_count": null,
      "outputs": []
    },
    {
      "cell_type": "code",
      "metadata": {
        "id": "NSJx9ofMv1Ba"
      },
      "source": [
        "heart_df %>% summary()"
      ],
      "execution_count": null,
      "outputs": []
    },
    {
      "cell_type": "markdown",
      "metadata": {
        "id": "TSSxKvv8k4fP"
      },
      "source": [
        "* Sex, ChestPain, Fbs, RestECG, ExAng, Slope, Ca, Thal, AHD ---> Factor"
      ]
    },
    {
      "cell_type": "code",
      "metadata": {
        "id": "cGQoIIMqkcUt"
      },
      "source": [
        "heart_df$ChestPain %>% unique() "
      ],
      "execution_count": null,
      "outputs": []
    },
    {
      "cell_type": "code",
      "metadata": {
        "id": "E-RA8cP5FhtX"
      },
      "source": [
        "heart_df$Fbs %>% unique()"
      ],
      "execution_count": null,
      "outputs": []
    },
    {
      "cell_type": "code",
      "metadata": {
        "id": "3aOfZDQQINY2"
      },
      "source": [
        "heart_df$RestECG %>% unique()"
      ],
      "execution_count": null,
      "outputs": []
    },
    {
      "cell_type": "code",
      "metadata": {
        "id": "BMsSLOSqIV9h"
      },
      "source": [
        "heart_df$ExAng %>% unique()"
      ],
      "execution_count": null,
      "outputs": []
    },
    {
      "cell_type": "code",
      "metadata": {
        "id": "tGSXf9bLIZxA"
      },
      "source": [
        "heart_df$Slope %>% unique()"
      ],
      "execution_count": null,
      "outputs": []
    },
    {
      "cell_type": "code",
      "metadata": {
        "id": "DxzG_nbUIbsU"
      },
      "source": [
        "heart_df$Ca %>% unique()"
      ],
      "execution_count": null,
      "outputs": []
    },
    {
      "cell_type": "code",
      "metadata": {
        "id": "ntKZIQ6rId6I"
      },
      "source": [
        "heart_df$Thal %>% unique()"
      ],
      "execution_count": null,
      "outputs": []
    },
    {
      "cell_type": "code",
      "metadata": {
        "id": "3F12oLH2Iuqm"
      },
      "source": [
        "heart_df$AHD %>% unique()"
      ],
      "execution_count": null,
      "outputs": []
    },
    {
      "cell_type": "markdown",
      "metadata": {
        "id": "S-bSCMrklzuc"
      },
      "source": [
        "* mutate를 이용한 데이터 타입 변경(int or chr ---> factor)"
      ]
    },
    {
      "cell_type": "code",
      "metadata": {
        "id": "CnhUVUaLlzL5"
      },
      "source": [
        "heart_df <- heart_df %>% \n",
        " mutate_at(`.vars` = c(\"Sex\", \"ChestPain\", \"Fbs\", \"RestECG\", \"ExAng\", \"Slope\", \"Ca\", \"Thal\", \"AHD\"), `.funs` = as.factor)\n",
        "heart_df %>% str()"
      ],
      "execution_count": null,
      "outputs": []
    },
    {
      "cell_type": "markdown",
      "metadata": {
        "id": "-0KBnrAtsHJI"
      },
      "source": [
        "* **train-test split**"
      ]
    },
    {
      "cell_type": "code",
      "metadata": {
        "id": "V-MB6B_IsOiM"
      },
      "source": [
        "library(caret) \n",
        "set.seed(31)\n",
        "\n",
        "index <- createDataPartition(y = heart_df$AHD, p = 0.7, list = FALSE) \n",
        "head(index, 20)"
      ],
      "execution_count": null,
      "outputs": []
    },
    {
      "cell_type": "code",
      "metadata": {
        "id": "HJHG3dZntVUo"
      },
      "source": [
        "train <- heart_df[index, ]\n",
        "test <- heart_df[-index, ]\n",
        "\n",
        "train %>% show()\n",
        "test %>% show()"
      ],
      "execution_count": null,
      "outputs": []
    },
    {
      "cell_type": "markdown",
      "metadata": {
        "id": "ciEOgrkNrH73"
      },
      "source": [
        "* **train 데이터 및 rpart를 이용한 의사결정트리(Decision Tree) 모델 생성**\n",
        "\n",
        "![png](https://github.com/Jin0331/TA/blob/master/image/rpart_help.png?raw=true)"
      ]
    },
    {
      "cell_type": "code",
      "metadata": {
        "id": "j7FJFHFCdr4X"
      },
      "source": [
        "library(rpart)\n",
        "AHD_detection <- rpart(formula = AHD ~ ., data = train, method = \"class\")\n"
      ],
      "execution_count": null,
      "outputs": []
    },
    {
      "cell_type": "markdown",
      "metadata": {
        "id": "SLy66QB_sMDa"
      },
      "source": [
        "* plotting"
      ]
    },
    {
      "cell_type": "code",
      "metadata": {
        "id": "J4PTwoj4sLmV"
      },
      "source": [
        "plot(AHD_detection)\n",
        "text(AHD_detection)"
      ],
      "execution_count": null,
      "outputs": []
    },
    {
      "cell_type": "markdown",
      "metadata": {
        "id": "NYcOXGe8LfJu"
      },
      "source": [
        "* 심미적 plotting(?)"
      ]
    },
    {
      "cell_type": "code",
      "metadata": {
        "id": "dcDPcpuGLkag"
      },
      "source": [
        "install.packages(c(\"rattle\", \"rpart.plot\"))\n",
        "\n",
        "library(rattle)\n",
        "library(rpart.plot)\n",
        "library(RColorBrewer)"
      ],
      "execution_count": null,
      "outputs": []
    },
    {
      "cell_type": "code",
      "metadata": {
        "id": "T4Acq2ytMDOa"
      },
      "source": [
        "fancyRpartPlot(AHD_detection)"
      ],
      "execution_count": null,
      "outputs": []
    },
    {
      "cell_type": "markdown",
      "metadata": {
        "id": "a8EKN670cyxY"
      },
      "source": [
        "A. node의 성질\n",
        "\n",
        "* 박스 가장 위의 “No”라는 구분자는 해당 node는 “no”(음성)라고 구분될 수 있다는 것을 의미. 같은 원리로 가장 아랫줄의 제일 오른쪽  node(7번)를 보면 \"yes\". 해당 node에 속하는 관측치(여기서는 환자들)은 양성그룹으로 분류\n",
        "\n",
        "B. node의 순도\n",
        "\n",
        "* node의 순도(지니 불순도)는 node의 색상(진하기) 및 두번째 열의 숫자로 확인. 7번 node는 0.04, 0.96으로 표시되어 있음. 이 의미는 이 node에 속하는 관측치 중 4%는 no 96%는 yes에 속한다는 의미. \n",
        "\n",
        "C. node가 전체에서 차지하는 비중\n",
        "\n",
        "* 7번 node로 돌아가서, 가장 아랫쪽의 숫자 25%가 의미하는 것은 해당 node가 전체 데이터 셋에서 차지하는 비중. 전체의 25%의 관측치(환자)가 이 node에 속한다고 볼 수 있음.\n",
        "\n",
        "```\n",
        "종합적으로 해석해 보면 7번 node로 분류된 환자는 전체의 25%로,\n",
        "ChestPain이 'typical''nonanginal''nontypical'이 아니면서, \n",
        "Ca가 0이 아닌 환자들로 구성된 이 그룹은 96%의 확률로 심장병 양성에 속한다는 해석을 할 수 있다. \n",
        "\n",
        "```\n",
        "\n",
        "\n"
      ]
    },
    {
      "cell_type": "markdown",
      "metadata": {
        "id": "2S0TPaVba4Qv"
      },
      "source": [
        "* rpart::printcp을 이용한 가지치기(pruning)"
      ]
    },
    {
      "cell_type": "code",
      "metadata": {
        "id": "kubL4yYja6aH"
      },
      "source": [
        "rpart::printcp(AHD_detection)"
      ],
      "execution_count": null,
      "outputs": []
    },
    {
      "cell_type": "code",
      "metadata": {
        "id": "aGZBGmNWR9rZ"
      },
      "source": [
        "plotcp(AHD_detection)"
      ],
      "execution_count": null,
      "outputs": []
    },
    {
      "cell_type": "markdown",
      "metadata": {
        "id": "TZ8KwKxRgaSW"
      },
      "source": [
        "  - xerror(cross validation error)가 최소가 되는 CP를 선택"
      ]
    },
    {
      "cell_type": "code",
      "metadata": {
        "id": "-mAEUH59fGS-"
      },
      "source": [
        "AHD_detection$cptable %>% as_tibble() %>%\n",
        "  filter(xerror == min(xerror))\n",
        "\n",
        "min_xerror_cp <- AHD_detection$cptable %>% as_tibble() %>%\n",
        "  filter(xerror == min(xerror)) %>% pull(CP)"
      ],
      "execution_count": null,
      "outputs": []
    },
    {
      "cell_type": "markdown",
      "metadata": {
        "id": "gWI-G2-rhQSg"
      },
      "source": [
        "* prune"
      ]
    },
    {
      "cell_type": "code",
      "metadata": {
        "id": "y_CtSC87hMoA"
      },
      "source": [
        "AHD_detection_pr <- rpart::prune(AHD_detection, cp = min_xerror_cp)\n",
        "\n",
        "fancyRpartPlot(AHD_detection_pr)"
      ],
      "execution_count": null,
      "outputs": []
    },
    {
      "cell_type": "code",
      "metadata": {
        "id": "SwyzuQTGiO-3"
      },
      "source": [
        "# 이전 그래프\n",
        "fancyRpartPlot(AHD_detection)"
      ],
      "execution_count": null,
      "outputs": []
    },
    {
      "cell_type": "markdown",
      "metadata": {
        "id": "fbbSbvVlrydd"
      },
      "source": [
        "* **test를 이용한 예측 및 평가**"
      ]
    },
    {
      "cell_type": "code",
      "metadata": {
        "id": "FtVJ2ezqrowr"
      },
      "source": [
        "test %>% show()"
      ],
      "execution_count": null,
      "outputs": []
    },
    {
      "cell_type": "code",
      "metadata": {
        "id": "-d4UoeSOuiK7"
      },
      "source": [
        "predict_value <- predict(AHD_detection_pr, test, type = \"class\") %>% \n",
        " tibble(predict_value = .)\n",
        "predict_value %>% show()"
      ],
      "execution_count": null,
      "outputs": []
    },
    {
      "cell_type": "code",
      "metadata": {
        "id": "JuWZiiMiaYmw"
      },
      "source": [
        "predict_check <- test %>% select(AHD) %>% dplyr::bind_cols(., predict_value) \n",
        "predict_check %>% show()"
      ],
      "execution_count": null,
      "outputs": []
    },
    {
      "cell_type": "markdown",
      "metadata": {
        "id": "PMn8vY5LbnhB"
      },
      "source": [
        "* Confusion Matrix(실제값과 모델에 의한 분류값을 비교하는 테이블)\n",
        "\n",
        "![png](https://github.com/Jin0331/TA/blob/master/image/confusion_m.png?raw=true)\n",
        "\n",
        "https://yamalab.tistory.com/50"
      ]
    },
    {
      "cell_type": "code",
      "metadata": {
        "id": "HBEngM7DcmMb"
      },
      "source": [
        "cm <- caret::confusionMatrix(predict_value$predict_value, test$AHD)\n",
        "cm"
      ],
      "execution_count": null,
      "outputs": []
    },
    {
      "cell_type": "code",
      "metadata": {
        "id": "xwHgLeFJky5d"
      },
      "source": [
        "draw_confusion_matrix(cm)"
      ],
      "execution_count": null,
      "outputs": []
    },
    {
      "cell_type": "markdown",
      "metadata": {
        "id": "XUaaa7ISStc_"
      },
      "source": [
        "- - -\n",
        "\n",
        "#### **B. 예제 2**"
      ]
    },
    {
      "cell_type": "markdown",
      "metadata": {
        "id": "mK3ksBrkxgc_"
      },
      "source": [
        "* https://www.kaggle.com/c/titanic/data\n",
        "\n",
        "**<kaggle의 타이타닉 data>**\n",
        "\n",
        "  * survived : 생존=1, 죽음=0\n",
        "  * pclass : 승객 등급. 1등급=1, 2등급=2, 3등급=3\n",
        "  * sibsp : 함께 탑승한 형제 또는 배우자 수\n",
        "  * parch : 함께 탑승한 부모 또는 자녀 수\n",
        "  * ticket : 티켓 번호\n",
        "  * cabin : 선실 번호\n",
        "  * embarked : 탑승장소 S=Southhampton, C=Cherbourg, Q=Queenstown"
      ]
    },
    {
      "cell_type": "code",
      "metadata": {
        "id": "nWoKtbMKrJ_O",
        "cellView": "both"
      },
      "source": [
        "train <- fread(\"https://raw.githubusercontent.com/Jin0331/TA/master/data/titanic/train.csv\") %>%\n",
        " as_tibble()"
      ],
      "execution_count": null,
      "outputs": []
    },
    {
      "cell_type": "code",
      "metadata": {
        "id": "FoUcmHWIxf8A",
        "cellView": "both"
      },
      "source": [
        "str(train)"
      ],
      "execution_count": null,
      "outputs": []
    },
    {
      "cell_type": "code",
      "metadata": {
        "id": "cY1odydB16zG",
        "cellView": "both"
      },
      "source": [
        "train %>% summary()"
      ],
      "execution_count": null,
      "outputs": []
    },
    {
      "cell_type": "markdown",
      "metadata": {
        "id": "hg-bZnUDozhW"
      },
      "source": [
        "* 범주형 변수 확인"
      ]
    },
    {
      "cell_type": "code",
      "metadata": {
        "id": "i7VgPnfmpX1L",
        "cellView": "both"
      },
      "source": [
        "train$Survived %>% unique()"
      ],
      "execution_count": null,
      "outputs": []
    },
    {
      "cell_type": "code",
      "metadata": {
        "id": "_FWo2ChPpIez",
        "cellView": "both"
      },
      "source": [
        "train$Pclass %>% unique()"
      ],
      "execution_count": null,
      "outputs": []
    },
    {
      "cell_type": "code",
      "metadata": {
        "id": "GstNJw_Soybd",
        "cellView": "both"
      },
      "source": [
        "train$Sex %>% unique()"
      ],
      "execution_count": null,
      "outputs": []
    },
    {
      "cell_type": "code",
      "metadata": {
        "id": "pBhJRwiOo-HA",
        "cellView": "both"
      },
      "source": [
        "train$Ticket %>% unique()"
      ],
      "execution_count": null,
      "outputs": []
    },
    {
      "cell_type": "code",
      "metadata": {
        "id": "gTws_XTvpC7R",
        "cellView": "both"
      },
      "source": [
        "train$Embarked %>% unique()"
      ],
      "execution_count": null,
      "outputs": []
    },
    {
      "cell_type": "code",
      "metadata": {
        "id": "D440rnZU2JSb",
        "cellView": "both"
      },
      "source": [
        "train <- train %>% \n",
        " select(-PassengerId, -Name, -Cabin, -Ticket) %>% mutate_at(c(\"Survived\",\"Sex\",\"Embarked\", \"Pclass\"), factor)\n",
        "summary(train)"
      ],
      "execution_count": null,
      "outputs": []
    },
    {
      "cell_type": "markdown",
      "metadata": {
        "id": "ntcsCge-tBt-"
      },
      "source": [
        "* Hmisc::impute을 이용한 NA 값 대체(평균, 중앙값, 특정 숫자)\n",
        "\n",
        "* https://m.blog.naver.com/PostView.nhn?blogId=tjdudwo93&logNo=221142961499&proxyReferer=https:%2F%2Fwww.google.com%2F"
      ]
    },
    {
      "cell_type": "code",
      "metadata": {
        "id": "rQa6PCWisH1y"
      },
      "source": [
        "install.packages(\"Hmisc\")"
      ],
      "execution_count": null,
      "outputs": []
    },
    {
      "cell_type": "code",
      "metadata": {
        "id": "P6QTZq24vNGz"
      },
      "source": [
        "library(Hmisc)\n",
        "train$Age <- impute(train$Age, median)"
      ],
      "execution_count": null,
      "outputs": []
    },
    {
      "cell_type": "code",
      "metadata": {
        "id": "4VYjGpBq0dbo"
      },
      "source": [
        "train %>% summary()"
      ],
      "execution_count": null,
      "outputs": []
    },
    {
      "cell_type": "markdown",
      "metadata": {
        "id": "MuMWArUy_sAw"
      },
      "source": [
        "* **train을 이용한 Decision Tree 모델 생성**"
      ]
    },
    {
      "cell_type": "code",
      "metadata": {
        "id": "mDJZEgS7dox6"
      },
      "source": [
        "library(rpart)\n",
        "Survived_detection <- rpart(formula = Survived ~ ., data = train, method = \"class\")"
      ],
      "execution_count": null,
      "outputs": []
    },
    {
      "cell_type": "code",
      "metadata": {
        "id": "jbnQ-4-Zs21t"
      },
      "source": [
        "# plotting\n",
        "fancyRpartPlot(Survived_detection)"
      ],
      "execution_count": null,
      "outputs": []
    },
    {
      "cell_type": "markdown",
      "metadata": {
        "id": "c104J11DtURT"
      },
      "source": [
        "* pruning"
      ]
    },
    {
      "cell_type": "code",
      "metadata": {
        "id": "6dCMP2UqtWRI"
      },
      "source": [
        "printcp(Survived_detection)"
      ],
      "execution_count": null,
      "outputs": []
    },
    {
      "cell_type": "code",
      "metadata": {
        "id": "CLxsA0aVtksM"
      },
      "source": [
        "plotcp(Survived_detection)"
      ],
      "execution_count": null,
      "outputs": []
    },
    {
      "cell_type": "code",
      "metadata": {
        "id": "FZIO_UOQtr3n"
      },
      "source": [
        "min_xerror_cp <- Survived_detection$cptable %>% as_tibble() %>%\n",
        "  filter(xerror == min(xerror)) %>% pull(CP)\n",
        "min_xerror_cp"
      ],
      "execution_count": null,
      "outputs": []
    },
    {
      "cell_type": "code",
      "metadata": {
        "id": "aL-P9hBWt_U5"
      },
      "source": [
        "Survived_detection_pr <- rpart::prune(Survived_detection, cp = 0.017)\n",
        "\n",
        "fancyRpartPlot(Survived_detection_pr)"
      ],
      "execution_count": null,
      "outputs": []
    },
    {
      "cell_type": "code",
      "metadata": {
        "id": "1i9UpvRiuRBI"
      },
      "source": [
        "fancyRpartPlot(Survived_detection)"
      ],
      "execution_count": null,
      "outputs": []
    },
    {
      "cell_type": "markdown",
      "metadata": {
        "id": "vHdOojum5ttT"
      },
      "source": [
        "* 생성한 2개의 Decision Tree 모델을 이용하여 kaggle에 제출해보기 ㅎ"
      ]
    },
    {
      "cell_type": "code",
      "metadata": {
        "id": "DPOdsGeF5hc_"
      },
      "source": [
        "test <- fread(\"https://raw.githubusercontent.com/Jin0331/TA/master/data/titanic/test.csv\", sep = \",\") %>% as_tibble()\n",
        "test %>% summary()"
      ],
      "execution_count": null,
      "outputs": []
    },
    {
      "cell_type": "markdown",
      "metadata": {
        "id": "QVF_LY_m6Z2G"
      },
      "source": [
        "* NA 값 추정(median)"
      ]
    },
    {
      "cell_type": "code",
      "metadata": {
        "id": "D_R839Dq5_x3"
      },
      "source": [
        "test$Age <- impute(test$Age, median)\n",
        "test$Fare <- impute(test$Age, median)\n",
        "test %>% summary()"
      ],
      "execution_count": null,
      "outputs": []
    },
    {
      "cell_type": "markdown",
      "metadata": {
        "id": "7Zg-lDK96c87"
      },
      "source": [
        "* 범주형 변수"
      ]
    },
    {
      "cell_type": "code",
      "metadata": {
        "id": "DsOkG9zS6Lbn"
      },
      "source": [
        "test <- test %>% \n",
        " select(-Name, -Cabin, -Ticket) %>% mutate_at(c(\"Sex\",\"Embarked\", \"Pclass\"), factor)\n",
        "summary(test)"
      ],
      "execution_count": null,
      "outputs": []
    },
    {
      "cell_type": "markdown",
      "metadata": {
        "id": "edngjPnL68t_"
      },
      "source": [
        "* 예측(Survived_detection_pr, Survived_detection 모델)"
      ]
    },
    {
      "cell_type": "code",
      "metadata": {
        "id": "CT6XoDZj6hvO"
      },
      "source": [
        "# pruning 모델\n",
        "predict_value <- predict(Survived_detection_pr, test, type = \"class\") %>% tibble(Survived = .)\n",
        "submission_pr <- test %>% select(PassengerId) %>% dplyr::bind_cols(., predict_value)\n",
        "\n",
        "# 기존 모델\n",
        "predict_value <- predict(Survived_detection, test, type = \"class\") %>% tibble(Survived = .)\n",
        "submission <- test %>% select(PassengerId) %>% dplyr::bind_cols(., predict_value)"
      ],
      "execution_count": null,
      "outputs": []
    },
    {
      "cell_type": "code",
      "metadata": {
        "id": "XUr0DLPPwBiu"
      },
      "source": [
        "# id 900 차이\n",
        "submission_pr %>% head(20)"
      ],
      "execution_count": null,
      "outputs": []
    },
    {
      "cell_type": "code",
      "metadata": {
        "id": "ITDHpGH0wOcF"
      },
      "source": [
        "submission %>% head(20)"
      ],
      "execution_count": null,
      "outputs": []
    },
    {
      "cell_type": "code",
      "metadata": {
        "id": "1otSG2CI7sji"
      },
      "source": [
        " # write\n",
        " submission_pr %>% write_csv(path = \"submission_pr.csv\")\n",
        " submission %>% write_csv(path = \"submission.csv\")"
      ],
      "execution_count": null,
      "outputs": []
    },
    {
      "cell_type": "markdown",
      "metadata": {
        "id": "C0Wty8CYu_l_"
      },
      "source": [
        "### Confusion Matrix plot code"
      ]
    },
    {
      "cell_type": "code",
      "metadata": {
        "id": "8qQti-1UkTLM"
      },
      "source": [
        "#https://stackoverflow.com/questions/23891140/r-how-to-visualize-confusion-matrix-using-the-caret-package\n",
        "draw_confusion_matrix <- function(cm) {\n",
        "\n",
        "  total <- sum(cm$table)\n",
        "  res <- as.numeric(cm$table)\n",
        "\n",
        "  # Generate color gradients. Palettes come from RColorBrewer.\n",
        "  greenPalette <- c(\"#F7FCF5\",\"#E5F5E0\",\"#C7E9C0\",\"#A1D99B\",\"#74C476\",\"#41AB5D\",\"#238B45\",\"#006D2C\",\"#00441B\")\n",
        "  redPalette <- c(\"#FFF5F0\",\"#FEE0D2\",\"#FCBBA1\",\"#FC9272\",\"#FB6A4A\",\"#EF3B2C\",\"#CB181D\",\"#A50F15\",\"#67000D\")\n",
        "  getColor <- function (greenOrRed = \"green\", amount = 0) {\n",
        "    if (amount == 0)\n",
        "      return(\"#FFFFFF\")\n",
        "    palette <- greenPalette\n",
        "    if (greenOrRed == \"red\")\n",
        "      palette <- redPalette\n",
        "    colorRampPalette(palette)(100)[10 + ceiling(90 * amount / total)]\n",
        "  }\n",
        "\n",
        "  # set the basic layout\n",
        "  layout(matrix(c(1,1,2)))\n",
        "  par(mar=c(2,2,2,2))\n",
        "  plot(c(100, 345), c(300, 450), type = \"n\", xlab=\"\", ylab=\"\", xaxt='n', yaxt='n')\n",
        "  title('CONFUSION MATRIX', cex.main=2)\n",
        "\n",
        "  # create the matrix \n",
        "  classes = colnames(cm$table)\n",
        "  rect(150, 430, 240, 370, col=getColor(\"green\", res[1]))\n",
        "  text(195, 435, classes[1], cex=1.2)\n",
        "  rect(250, 430, 340, 370, col=getColor(\"red\", res[3]))\n",
        "  text(295, 435, classes[2], cex=1.2)\n",
        "  text(125, 370, 'Predicted', cex=1.3, srt=90, font=2)\n",
        "  text(245, 450, 'Actual', cex=1.3, font=2)\n",
        "  rect(150, 305, 240, 365, col=getColor(\"red\", res[2]))\n",
        "  rect(250, 305, 340, 365, col=getColor(\"green\", res[4]))\n",
        "  text(140, 400, classes[1], cex=1.2, srt=90)\n",
        "  text(140, 335, classes[2], cex=1.2, srt=90)\n",
        "\n",
        "  # add in the cm results\n",
        "  text(195, 400, res[1], cex=1.6, font=2, col='white')\n",
        "  text(195, 335, res[2], cex=1.6, font=2, col='white')\n",
        "  text(295, 400, res[3], cex=1.6, font=2, col='white')\n",
        "  text(295, 335, res[4], cex=1.6, font=2, col='white')\n",
        "\n",
        "  # add in the specifics \n",
        "  plot(c(100, 0), c(100, 0), type = \"n\", xlab=\"\", ylab=\"\", main = \"DETAILS\", xaxt='n', yaxt='n')\n",
        "  text(10, 85, names(cm$byClass[1]), cex=1.2, font=2)\n",
        "  text(10, 70, round(as.numeric(cm$byClass[1]), 3), cex=1.2)\n",
        "  text(30, 85, names(cm$byClass[2]), cex=1.2, font=2)\n",
        "  text(30, 70, round(as.numeric(cm$byClass[2]), 3), cex=1.2)\n",
        "  text(50, 85, names(cm$byClass[5]), cex=1.2, font=2)\n",
        "  text(50, 70, round(as.numeric(cm$byClass[5]), 3), cex=1.2)\n",
        "  text(70, 85, names(cm$byClass[6]), cex=1.2, font=2)\n",
        "  text(70, 70, round(as.numeric(cm$byClass[6]), 3), cex=1.2)\n",
        "  text(90, 85, names(cm$byClass[7]), cex=1.2, font=2)\n",
        "  text(90, 70, round(as.numeric(cm$byClass[7]), 3), cex=1.2)\n",
        "\n",
        "  # add in the accuracy information \n",
        "  text(30, 35, names(cm$overall[1]), cex=1.5, font=2)\n",
        "  text(30, 20, round(as.numeric(cm$overall[1]), 3), cex=1.4)\n",
        "  text(70, 35, names(cm$overall[2]), cex=1.5, font=2)\n",
        "  text(70, 20, round(as.numeric(cm$overall[2]), 3), cex=1.4)\n",
        "}"
      ],
      "execution_count": null,
      "outputs": []
    },
    {
      "cell_type": "code",
      "metadata": {
        "id": "HTKWRGzVlFQ2"
      },
      "source": [
        ""
      ],
      "execution_count": null,
      "outputs": []
    }
  ]
}